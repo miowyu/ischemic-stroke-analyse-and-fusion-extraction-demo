{
 "cells": [
  {
   "cell_type": "markdown",
   "id": "895594d2",
   "metadata": {},
   "source": [
    "# atlas divied"
   ]
  },
  {
   "cell_type": "code",
   "execution_count": null,
   "id": "385123c9",
   "metadata": {},
   "outputs": [],
   "source": [
    "#為了後續特徵提取方便，把170個腦區圖譜分開存為單獨紀錄一個腦區的nii.gz檔，小於10voxel的腦區會列出來並於特徵提取時忽略。\n",
    "label_name = './data_final/MNI/AAL3_MNI.nii.gz'\n",
    "output_name = './data_final/MNI/AAL3/AAL3_'\n",
    "label_nii = nib.load(label_name)\n",
    "label_img = np.asarray(label_nii.dataobj)\n",
    "print(label_img.shape)\n",
    "print(label_img.max())\n",
    "for i in range(1,int(label_img.max())+1):\n",
    "    modified_img = label_img.copy()\n",
    "    modified_img[modified_img!=i] = 0\n",
    "    modified_img[modified_img==i] = 1\n",
    "    if(sum(sum(sum(modified_img))))<10:\n",
    "        print(i,\"has only\",sum(sum(sum(modified_img))),\"voxel\")\n",
    "        \n",
    "    modified_img = nib.Nifti1Image(modified_img, label_nii.affine, label_nii.header)\n",
    "    nib.save(modified_img, output_name+'{:03d}'.format(i)+\".nii.gz\")"
   ]
  },
  {
   "cell_type": "markdown",
   "id": "dfd49a73",
   "metadata": {},
   "source": [
    "# radiomics feature extration(fusion)"
   ]
  },
  {
   "cell_type": "code",
   "execution_count": null,
   "id": "872a54fe",
   "metadata": {},
   "outputs": [],
   "source": [
    "import radiomics\n",
    "from radiomics import featureextractor\n",
    "import os\n",
    "import nibabel as nib\n",
    "import numpy as np\n",
    "import pandas as pd"
   ]
  },
  {
   "cell_type": "code",
   "execution_count": null,
   "id": "97abc65a",
   "metadata": {},
   "outputs": [],
   "source": [
    "import logging\n",
    "# close waring from radiomics(it will imporve speed)\n",
    "logger = logging.getLogger(\"radiomics\")\n",
    "logger.setLevel(logging.ERROR)"
   ]
  },
  {
   "cell_type": "code",
   "execution_count": null,
   "id": "14dc931a",
   "metadata": {},
   "outputs": [],
   "source": [
    "file_name = \"../data_final/origin data/\"\n",
    "datalist = os.listdir(file_name)\n",
    "skip = [157]\n",
    "len(datalist)"
   ]
  },
  {
   "cell_type": "code",
   "execution_count": null,
   "id": "ed8c3b14",
   "metadata": {},
   "outputs": [],
   "source": [
    "lable_file_name = \"../data_final/MNI/AAL3/\"\n",
    "lable_datalist = os.listdir(lable_file_name)\n",
    "#35,36,81,82腦區被分割成更細的子腦區因此在我們的AAL3圖譜內voxel為0，133,134,160,167,168,170則是voxel太小因此忽略計算。\n",
    "lable_skip=[35,36,81,82,133,134,160,167,168,170]\n",
    "len(lable_datalist)"
   ]
  },
  {
   "cell_type": "code",
   "execution_count": null,
   "id": "7b091a47",
   "metadata": {},
   "outputs": [],
   "source": [
    "extractor = featureextractor.RadiomicsFeatureExtractor(correctMask=True)\n",
    "extractor.enableImageTypeByName(imageType=\"Wavelet\")\n",
    "extractor.enableImageTypeByName(imageType=\"LoG\")\n",
    "extractor.enableImageTypeByName(imageType=\"Square\")\n",
    "extractor.enableImageTypeByName(imageType=\"SquareRoot\")\n",
    "extractor.enableImageTypeByName(imageType=\"Logarithm\")\n",
    "extractor.enableImageTypeByName(imageType=\"Exponential\")\n",
    "extractor.enableImageTypeByName(imageType=\"Gradient\")\n",
    "extractor.enableImageTypeByName(imageType=\"LBP2D\")"
   ]
  },
  {
   "cell_type": "code",
   "execution_count": null,
   "id": "e67bd383",
   "metadata": {},
   "outputs": [],
   "source": [
    "#pyradiomics跑出來的結果中，這幾個欄位是紀錄文字資訊(如版本號)，因此刪除。\n",
    "radiomics_del_ls = [0,1,2,3,4,5,6,7,8,9,10,14,15,16,17,20,21]\n",
    "imgname = []\n",
    "df = pd.DataFrame()\n",
    "for i in range(len(datalist)):\n",
    "    print(\"now dealing i=\",i,\", name is\",datalist[i])\n",
    "    DWI_name = file_name+datalist[i]+'/diff2MNI.nii.gz'\n",
    "    \n",
    "\n",
    "    DWI_nii = nib.load(DWI_name)\n",
    "    DWI_img = np.asarray(DWI_nii.dataobj)\n",
    "    \n",
    "    if(i not in skip):\n",
    "        imgname.append(datalist[i])\n",
    "        temp = pd.DataFrame()\n",
    "        for j in range(len(lable_datalist)):\n",
    "            if j+1 not in lable_skip:\n",
    "                label_name = lable_file_name+lable_datalist[j]\n",
    "                #print(label_name)\n",
    "                features = extractor.execute(DWI_name,label_name)\n",
    "                df_new = pd.DataFrame.from_dict(features.values()).T\n",
    "                df_new.columns = features.keys()\n",
    "                df_new = df_new.drop(df_new.columns[radiomics_del_ls],axis = 1)\n",
    "                df_new = df_new.rename(columns=lambda x: x +'_'+ '{:03d}'.format(j+1))\n",
    "                temp = pd.concat([temp,df_new],axis=1)\n",
    "\n",
    "        df = pd.concat([df,temp])\n",
    "    else:\n",
    "        print(datalist[i],\" is skiped.\")\n",
    "df.insert(0, \"ID\", imgname)\n",
    "df"
   ]
  },
  {
   "cell_type": "code",
   "execution_count": null,
   "id": "65c2478d",
   "metadata": {
    "scrolled": false
   },
   "outputs": [],
   "source": [
    "#save features to csv file\n",
    "df.to_csv(\"data_final/0416_fuse_radiomics_output.csv\",index=False)"
   ]
  }
 ],
 "metadata": {
  "kernelspec": {
   "display_name": "Python 3 (ipykernel)",
   "language": "python",
   "name": "python3"
  },
  "language_info": {
   "codemirror_mode": {
    "name": "ipython",
    "version": 3
   },
   "file_extension": ".py",
   "mimetype": "text/x-python",
   "name": "python",
   "nbconvert_exporter": "python",
   "pygments_lexer": "ipython3",
   "version": "3.7.16"
  }
 },
 "nbformat": 4,
 "nbformat_minor": 5
}
