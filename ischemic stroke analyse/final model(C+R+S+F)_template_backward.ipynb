{
 "cells": [
  {
   "cell_type": "code",
   "execution_count": null,
   "id": "39797b90",
   "metadata": {},
   "outputs": [],
   "source": [
    "#https://github.com/dreamquark-ai/tabnet\n",
    "#pip install pytorch-tabnet\n",
    "\n",
    "#https://github.com/automl/TabPFN\n",
    "#pip install tabpfn\n",
    "\n",
    "#pip install lightgbm"
   ]
  },
  {
   "cell_type": "code",
   "execution_count": null,
   "id": "78e6c0df",
   "metadata": {},
   "outputs": [],
   "source": [
    "import os\n",
    "import numpy as np\n",
    "import pandas as pd\n",
    "import matplotlib.pyplot as plt\n",
    "import random\n",
    "from sklearn.decomposition import PCA\n",
    "import seaborn as sns\n",
    "import matplotlib.pyplot as plt"
   ]
  },
  {
   "cell_type": "code",
   "execution_count": null,
   "id": "fe723b48",
   "metadata": {},
   "outputs": [],
   "source": [
    "clinical = pd.read_excel(\"../data/20231124is0155-500NIHSSfinal.xlsx\",sheet_name=0)\n",
    "clinical.rename(columns = {'Unnamed: 0':\"ID\"}, inplace = True)\n",
    "\n",
    "clinical = clinical.iloc[:,:-33]\n",
    "#2D-EF 、 BUN 、iFS 、 HbA1c \n",
    "del_ls = [1,2,3,11,12,13,14,15,16,17]\n",
    "print(\"delete\",clinical.columns[del_ls])\n",
    "clinical = clinical.drop(clinical.columns[del_ls],axis = 1)\n",
    "clinical = clinical.rename(columns={\"LVO-index>50%\": \"LVO-index\", \"Tx (1tPA, 2IA)\": \"Tx\"})\n",
    "clinical.iloc[[5,155,171],35]  = np.NaN\n",
    "clinical.iloc[86,19] = 1\n",
    "clinical.iloc[89,23] = 1\n",
    "clinical.iloc[:,12:] = clinical.iloc[:,12:].apply(pd.to_numeric)\n",
    "\n",
    "\n",
    "clinical.iloc[:,11:12] = clinical.iloc[:,11:12].fillna(clinical.iloc[:,11:12].quantile(0.5))\n",
    "clinical.iloc[:,7:8] = clinical.iloc[:,7:8].fillna(clinical.iloc[:,7:8].quantile(0.5))\n",
    "clinical.iloc[:,23:] = clinical.iloc[:,23:].fillna(clinical.iloc[:,23:].quantile(0.5))\n",
    "\n",
    "clinical = clinical.drop(157,axis=0)\n",
    "clinical"
   ]
  },
  {
   "cell_type": "code",
   "execution_count": null,
   "id": "dac11e78",
   "metadata": {},
   "outputs": [],
   "source": [
    "#1441\n",
    "radiomics = pd.read_csv(\"../data/1107_radiomics_output.csv\")\n",
    "#1424\n",
    "del_ls = [1,2,3,4,5,6,7,8,9,10,11,15,16,17,18,21,22]\n",
    "print(\"delete\",radiomics.columns[del_ls])\n",
    "radiomics = radiomics.drop(radiomics.columns[del_ls],axis = 1)\n",
    "#1414+\n",
    "radiomics = radiomics.dropna(axis=1)\n",
    "radiomics\n",
    "#1375\n",
    "target = list(radiomics.var().index[radiomics.var()!=0])\n",
    "target.insert(0,\"ID\")\n",
    "radiomics = radiomics[target]\n",
    "radiomics"
   ]
  },
  {
   "cell_type": "code",
   "execution_count": null,
   "id": "b88f9586",
   "metadata": {},
   "outputs": [],
   "source": [
    "semantic = pd.read_csv(\"../data/0918_semantic_output.csv\")\n",
    "semantic"
   ]
  },
  {
   "cell_type": "code",
   "execution_count": null,
   "id": "70b110a0",
   "metadata": {},
   "outputs": [],
   "source": [
    "fuse = pd.read_csv(\"../data/0416_fuse_radiomics_output.csv\")\n",
    "fuse = fuse.dropna(axis=1)\n",
    "target = list(fuse.var().index[fuse.var()!=0])\n",
    "target.insert(0,\"ID\")\n",
    "fuse = fuse[target]\n",
    "fuse"
   ]
  },
  {
   "cell_type": "code",
   "execution_count": null,
   "id": "3298002a",
   "metadata": {},
   "outputs": [],
   "source": [
    "from sklearn.utils import shuffle\n",
    "from catboost import CatBoostRegressor\n",
    "from catboost import CatBoostClassifier\n",
    "from sklearn.ensemble import RandomForestClassifier\n",
    "from sklearn.ensemble import RandomForestRegressor\n",
    "\n",
    "from sklearn.model_selection import train_test_split\n",
    "from sklearn.metrics import classification_report\n",
    "from sklearn.metrics import confusion_matrix\n",
    "from imblearn.over_sampling import SMOTE\n",
    "\n",
    "\n",
    "from sklearn.linear_model import LinearRegression\n",
    "from xgboost import XGBClassifier\n",
    "\n",
    "import shap"
   ]
  },
  {
   "cell_type": "code",
   "execution_count": null,
   "id": "42626bcd",
   "metadata": {},
   "outputs": [],
   "source": [
    "def get_data(clinical,target_ls,target_num,info_ls=[],radiomics=None,semantic=None,fuse=None):\n",
    "    y_name = clinical.columns[target_num]\n",
    "    \n",
    "    print(\"target is\",list(clinical.columns[target_ls]))\n",
    "    if radiomics is not None:\n",
    "        merge = pd.merge(clinical[clinical.columns[target_ls+info_ls]], radiomics, left_on=\"ID\", right_on=\"ID\", how=\"inner\")\n",
    "    else:\n",
    "        merge = clinical[clinical.columns[target_ls+info_ls]]\n",
    "    if semantic is not None:\n",
    "        merge = pd.merge(merge, semantic, left_on=\"ID\", right_on=\"ID\", how=\"inner\")\n",
    "    if fuse is not None:\n",
    "        merge = pd.merge(merge, fuse, left_on=\"ID\", right_on=\"ID\", how=\"inner\")\n",
    "    print(merge.shape)\n",
    "    merge = merge.dropna(axis=0)\n",
    "    print(merge.shape)\n",
    "    merge = merge.drop(clinical.columns[info_ls], axis=1)\n",
    "    ylab = merge[y_name]\n",
    "    data = merge.drop([\"ID\",y_name],axis = 1)\n",
    "    data = data.astype('float64')\n",
    "    print(\"shape of data is :\",data.shape)\n",
    "    return(data,ylab)\n",
    "def featureIMP(data,model,modeltype=\"forest\"):\n",
    "    featureimp = pd.DataFrame()\n",
    "    featureimp[\"feature\"] = data.columns\n",
    "    if modeltype in [\"forest\",\"lgbm\",\"TabPFN\",\"xgb\"]:\n",
    "        featureimp[\"imp\"] = model.feature_importances_\n",
    "    elif modeltype in [\"catboost\"]:\n",
    "        featureimp[\"imp\"] = model.get_feature_importance()\n",
    "    featureimp = featureimp.sort_values(by='imp', ascending=False)\n",
    "    featureimp = featureimp.reset_index(drop=True)\n",
    "    return(featureimp)"
   ]
  },
  {
   "cell_type": "code",
   "execution_count": null,
   "id": "7f00ecca",
   "metadata": {},
   "outputs": [],
   "source": [
    "from sklearn import metrics\n",
    "def where(df,l):\n",
    "    return_list = []\n",
    "    for i in range(len(df.columns)):\n",
    "        if df.columns[i] in l:\n",
    "            return_list.append(i)\n",
    "    return(return_list)\n",
    "def listgenerate(k,catnum,catremain):\n",
    "    temp = []\n",
    "    for i in range(k):\n",
    "        for j in range(catnum):\n",
    "            temp.append(i)\n",
    "    for i in range(catremain):\n",
    "        temp.append(i)\n",
    "    temp = np.array(temp)\n",
    "    random.shuffle(temp)\n",
    "    return(temp)\n",
    "        \n",
    "        \n",
    "def cv(data,y,k=5,cate=True):\n",
    "    if(cate):\n",
    "        datat = data[y==0]\n",
    "        yt = y[y==0]\n",
    "        catnum = sum(y==0)// k\n",
    "        catremain = sum(y==0) % k\n",
    "        listt = listgenerate(k,catnum,catremain)\n",
    "       \n",
    "        \n",
    "        dataf = data[y==1]\n",
    "        yf = y[y==1]        \n",
    "        catnum = sum(y==1)// k\n",
    "        catremain = sum(y==1) % k\n",
    "        listf = listgenerate(k,catnum,catremain)\n",
    "        \n",
    "        outputdata = []\n",
    "        outputy = []\n",
    "        for i in range(k):\n",
    "            kdata = pd.concat([datat[listt==i],dataf[listf==i]])\n",
    "            outputdata.append(kdata)\n",
    "            ky = pd.concat([yt[listt==i],yf[listf==i]])\n",
    "            outputy.append(ky)\n",
    "\n",
    "    else:\n",
    "        catnum = len(y)// k\n",
    "        catremain = len(y) % k\n",
    "        lista = listgenerate(k,catnum,catremain)\n",
    "        outputdata = []\n",
    "        outputy = []\n",
    "        for i in range(k):\n",
    "            outputdata.append(data[lista==i])\n",
    "            outputy.append(y[lista==i])\n",
    "        \n",
    "    return(outputdata,outputy)\n",
    "def analyse(kdata,ky,model,smote=False,cat=False,sampling_strategy=0.56,modeltype=\"forest\"):\n",
    "\n",
    "    \n",
    "    reshape_k_y = np.array([])\n",
    "    reshape_k_predict = np.array([])\n",
    "    reshape_k_prob = np.array([])\n",
    "    shape = kdata[0].shape\n",
    "    \n",
    "    reshape_k_data = pd.DataFrame(columns = kdata[0].columns)\n",
    "    reshape_k_shap = np.zeros((0, shape[1]))\n",
    "    featureimp = pd.DataFrame({\"feature\":kdata[0].columns})\n",
    "\n",
    "        \n",
    "    for i in range(len(kdata)):\n",
    "        traindata = pd.DataFrame([],columns = kdata[0].columns)\n",
    "        trainy = pd.Series([],dtype=float)\n",
    "        for j in range(len(kdata)):\n",
    "            if i!=j:\n",
    "                traindata = pd.concat([traindata,kdata[j]])\n",
    "                trainy = pd.concat([trainy,ky[j]])\n",
    "            else:\n",
    "                testdata = kdata[j]\n",
    "                testy = ky[j]\n",
    "        \n",
    "        if smote:\n",
    "            cat=True\n",
    "            sm = SMOTE(random_state=42,sampling_strategy=sampling_strategy,k_neighbors=3)\n",
    "            traindata, trainy = sm.fit_resample(traindata, trainy)\n",
    "            traindata = traindata.astype('float64')\n",
    "\n",
    "        tempmodel = model\n",
    "        if modeltype in [\"forest\",\"xgb\",\"lgbm\",\"TabPFN\"]:\n",
    "            tempmodel.fit(traindata, trainy)\n",
    "            predict = tempmodel.predict(testdata)\n",
    "            predict_porb = tempmodel.predict_proba(testdata)[:,1]\n",
    "            \n",
    "            #predict_train = tempmodel.predict(traindata)\n",
    "        elif modeltype in [\"catboost\"]:\n",
    "            tempmodel.fit(traindata, trainy, eval_set=(testdata, testy), verbose=0, plot=False)\n",
    "            predict = tempmodel.predict(testdata)\n",
    "            predict_porb = tempmodel.predict_proba(testdata)[:,1]\n",
    "            \n",
    "            #predict_train = tempmodel.predict(traindata)\n",
    "        elif modeltype in [\"TabNet\"]:\n",
    "            tempmodel.fit(traindata.values, trainy,eval_set=[(testdata.values, testy)])\n",
    "            predict = tempmodel.predict(testdata.values)\n",
    "            predict_porb = tempmodel.predict_proba(testdata)[:,1]\n",
    "            #predict_train = tempmodel.predict(traindata.values)\n",
    "        else:\n",
    "            print(\"warning,modeltype error.\")\n",
    "\n",
    "        explainer = shap.Explainer(tempmodel)\n",
    "        shap_values = explainer.shap_values(testdata)\n",
    "        reshape_k_data = pd.concat((reshape_k_data,kdata[i]))\n",
    "        \n",
    "        if modeltype in [\"forest\",\"lgbm\"]:\n",
    "            reshape_k_shap = np.concatenate((reshape_k_shap,shap_values[1]))\n",
    "        elif modeltype in [\"xgb\",\"catboost\"]:\n",
    "            reshape_k_shap = np.concatenate((reshape_k_shap,shap_values))\n",
    "        \n",
    "        temp_featureimp = featureIMP(testdata,tempmodel,modeltype=modeltype)\n",
    "        reshape_k_y = np.concatenate((reshape_k_y,testy))\n",
    "        reshape_k_predict = np.concatenate((reshape_k_predict,predict))\n",
    "        reshape_k_prob = np.concatenate((reshape_k_prob,predict_porb))\n",
    "        featureimp = featureimp.merge(temp_featureimp, how='inner', on='feature')\n",
    "\n",
    "    return(reshape_k_y,reshape_k_predict,reshape_k_prob,featureimp,reshape_k_data,reshape_k_shap)\n",
    "\n",
    "\n",
    "def CI_analyse(data,y,model,modeltype,k=3,cate=True,time=21,smote=True,record=False,plotname=\"\"):\n",
    "\n",
    "    all_data = pd.DataFrame(columns = data.columns)\n",
    "    shape = data.shape\n",
    "    all_shap = np.zeros((0, shape[1]))\n",
    "    \n",
    "    acc = []\n",
    "    sen = []\n",
    "    spe = []\n",
    "    auc = []\n",
    "    auprc = []\n",
    "    l_fpr = []\n",
    "    l_tpr = []\n",
    "    l_precision = []\n",
    "    l_recall = []\n",
    "    CI_featureimp = pd.DataFrame({\"feature\":data.columns})\n",
    "    for i in range(21):\n",
    "        \n",
    "        kdata,ky = cv(data,y,k=k,cate=cate)\n",
    "        model_temp = model\n",
    "        \n",
    "        reshape_k_y,reshape_k_predict,reshape_k_prob,featureimp,reshape_k_data,reshape_k_shap = analyse(kdata,ky,model_temp,smote=smote,cat=True,sampling_strategy=1,modeltype=modeltype)\n",
    "        \n",
    "        all_data = pd.concat((all_data,reshape_k_data))\n",
    "        all_shap = np.concatenate((all_shap,reshape_k_shap))\n",
    "        \n",
    "        \n",
    "        CI_featureimp = CI_featureimp.merge(featureimp, how='inner', on='feature')\n",
    "        ans_test=confusion_matrix(reshape_k_y, reshape_k_predict)\n",
    "        fpr, tpr, thresholds = metrics.roc_curve(reshape_k_y, reshape_k_prob)\n",
    "        precision , recall, thresholds = metrics.precision_recall_curve(reshape_k_y, reshape_k_prob , pos_label=1)\n",
    "        \n",
    "        acc.append(round((ans_test[0,0]+ans_test[1,1])/(ans_test[0,0]+ans_test[0,1]+ans_test[1,0]+ans_test[1,1]),3))\n",
    "        sen.append(round(ans_test[1,1]/(ans_test[1,0]+ans_test[1,1]),3))\n",
    "        spe.append(round(ans_test[0,0]/(ans_test[0,0]+ans_test[0,1]),3))\n",
    "        auc.append(round(metrics.auc(fpr, tpr),3))\n",
    "        auprc.append(round(metrics.auc(recall , precision),3))\n",
    "        l_fpr.append(fpr)\n",
    "        l_tpr.append(tpr)\n",
    "        l_precision.append(precision)\n",
    "        l_recall.append(recall)\n",
    "\n",
    "    CI_featureimp[\"avg of imp\"] = CI_featureimp.sum(axis=1, numeric_only=True)/63\n",
    "    CI_featureimp = CI_featureimp[[\"feature\",\"avg of imp\"]]\n",
    "    CI_featureimp = CI_featureimp.sort_values(by=['avg of imp'],ascending=False)\n",
    "    CI_featureimp = CI_featureimp.reset_index(drop=True)\n",
    "    CI_featureimp = CI_featureimp[:min(20,len(CI_featureimp))]\n",
    "    print(CI_featureimp)    \n",
    "    \n",
    "    print(\"#=============all===============\")\n",
    "    shap.summary_plot(all_shap, all_data)\n",
    "    print(\"#=============all===============\")\n",
    "    \n",
    "    index_list = where(all_data,CI_featureimp[\"feature\"].values)\n",
    "\n",
    "    \n",
    "    print(\"#=============part===============\")\n",
    "    plt.figure()\n",
    "    shap.summary_plot(all_shap[:,index_list], all_data.iloc[:,index_list], show=False)\n",
    "    if record:\n",
    "        plt.savefig(plotname+'_shap_summary_plot.jpg', format='jpg', dpi=300, bbox_inches='tight')\n",
    "    plt.show()\n",
    "    print(\"#=============part===============\")    \n",
    "    \n",
    "    if record:\n",
    "        condition = record_table.iloc[:, 2:].isnull().all(axis=1)\n",
    "        condition = record_table.iloc[:, 2:].isnull().all(axis=1)\n",
    "        if condition.any():\n",
    "            empty_row_index = record_table[condition].index[0]\n",
    "            record_table.iloc[empty_row_index, 2:] = [len(data.columns), \n",
    "                                      str(np.quantile(acc,0.5))+\" ( \"+str(np.quantile(acc,0.05))+\" ~ \"+str(np.quantile(acc,0.95))+\" )\",\n",
    "                                      str(np.quantile(sen,0.5))+\" ( \"+str(np.quantile(sen,0.05))+\" ~ \"+str(np.quantile(sen,0.95))+\" )\",\n",
    "                                      str(np.quantile(spe,0.5))+\" ( \"+str(np.quantile(spe,0.05))+\" ~ \"+str(np.quantile(spe,0.95))+\" )\",\n",
    "                                      str(np.quantile(auc,0.5))+\" ( \"+str(np.quantile(auc,0.05))+\" ~ \"+str(np.quantile(auc,0.95))+\" )\",\n",
    "                                      str(np.quantile(auprc,0.5))+\" ( \"+str(np.quantile(auprc,0.05))+\" ~ \"+str(np.quantile(auprc,0.95))+\" )\"]\n",
    "    \n",
    "    n = np.where(auc == np.quantile(auc,0.05))\n",
    "    \n",
    "    m_fpr = l_fpr[n[0][0]]\n",
    "    m_tpr = l_tpr[n[0][0]]\n",
    "    plt.plot(m_fpr,m_tpr)\n",
    "    #plt.legend(loc=4)\n",
    "    plt.xlabel(\"false positive rate\")\n",
    "    plt.ylabel(\"true positive rate\")\n",
    "    \n",
    "    if record:\n",
    "        plt.savefig(plotname+'_auroc.jpg', format='jpg', dpi=300, bbox_inches='tight')\n",
    "    \n",
    "    plt.show()\n",
    "        \n",
    "        \n",
    "    m_precision = l_fpr[n[0][0]]\n",
    "    m_recall = l_tpr[n[0][0]]\n",
    "    plt.plot(m_precision,m_recall)\n",
    "    #plt.legend(loc=4)\n",
    "    plt.xlabel(\"precision\")\n",
    "    plt.ylabel(\"recall\")\n",
    "    \n",
    "    if record:\n",
    "        plt.savefig(plotname+'_auprc.jpg', format='jpg', dpi=300, bbox_inches='tight')\n",
    "    plt.show()\n",
    "    \n",
    "    print(\"sen:\",np.quantile(sen,0.5),\"(\",np.quantile(sen,0.05),\"~\",np.quantile(sen,0.95),\")\")\n",
    "    print(\"spe:\",np.quantile(spe,0.5),\"(\",np.quantile(spe,0.05),\"~\",np.quantile(spe,0.95),\")\")\n",
    "    print(\"auprc:\",np.quantile(auprc,0.5),\"(\",np.quantile(auprc,0.05),\"~\",np.quantile(auprc,0.95),\")\")\n",
    "    print(\"acc:\",np.quantile(acc,0.5),\"(\",np.quantile(acc,0.05),\"~\",np.quantile(acc,0.95),\")\")\n",
    "    print(\"auc:\",np.quantile(auc,0.5),\"(\",np.quantile(auc,0.05),\"~\",np.quantile(auc,0.95),\")\")\n",
    "    "
   ]
  },
  {
   "cell_type": "code",
   "execution_count": null,
   "id": "dfc10f51",
   "metadata": {},
   "outputs": [],
   "source": [
    "def RFE(data,y,model,n_features_to_select,step):\n",
    "    while True:\n",
    "        if len(data.columns)>n_features_to_select:\n",
    "            model.fit(data, y)\n",
    "            table = featureIMP(data,model,modeltype=modeltype)\n",
    "            num = max(n_features_to_select,len(data.columns)-step)\n",
    "            imp_feature = table[\"feature\"][0:num]\n",
    "            data = data[imp_feature]\n",
    "            print(\"RFE select \",len(data.columns),\" features.\")\n",
    "        else:\n",
    "            break\n",
    "    return(data)\n",
    "\n",
    "def backward(data,y,model,n_features_to_select):\n",
    "    model.fit(data, y)\n",
    "    table = featureIMP(data,model,modeltype=modeltype)\n",
    "    imp_feature = table[\"feature\"][0:n_features_to_select]\n",
    "    data = data[imp_feature]\n",
    "    print(\"Backward select \",len(data.columns),\" features.\")\n",
    "    return(data)"
   ]
  },
  {
   "cell_type": "code",
   "execution_count": null,
   "id": "0b89fab0",
   "metadata": {},
   "outputs": [],
   "source": [
    "from sklearn.utils import shuffle\n",
    "from catboost import CatBoostRegressor\n",
    "from catboost import CatBoostClassifier\n",
    "from sklearn.ensemble import RandomForestClassifier\n",
    "from sklearn.ensemble import RandomForestRegressor\n",
    "\n",
    "from sklearn.model_selection import train_test_split\n",
    "from sklearn.metrics import classification_report\n",
    "from sklearn.metrics import confusion_matrix\n",
    "from imblearn.over_sampling import SMOTE\n",
    "\n",
    "\n",
    "from sklearn.linear_model import LinearRegression\n",
    "from xgboost import XGBClassifier\n",
    "\n",
    "import lightgbm as lgb\n",
    "\n",
    "import shap"
   ]
  },
  {
   "cell_type": "code",
   "execution_count": null,
   "id": "c37d46fb",
   "metadata": {},
   "outputs": [],
   "source": [
    "#basemodel =RandomForestClassifier(max_depth=4)\n",
    "#modeltype = \"forest\"\n",
    "#\n",
    "#basemodel =XGBClassifier(n_estimators=100, learning_rate= 0.015)\n",
    "#modeltype = \"xgb\"\n",
    "\n",
    "#basemodel = CatBoostClassifier(loss_function=\"Logloss\",\n",
    "#                           eval_metric=\"AUC\",\n",
    "#                           task_type=\"GPU\",\n",
    "#                           learning_rate=0.01,\n",
    "#                           iterations=30,\n",
    "#                           random_seed=42,\n",
    "#                           od_type=\"Iter\",\n",
    "#                           depth=9,\n",
    "#                           early_stopping_rounds=10)\n",
    "#modeltype = \"catboost\"\n",
    "\n",
    "#basemodel = lgb.LGBMClassifier(learning_rate=0.04,max_depth=3,num_leaves=6,reg_alpha=0.1,reg_lambda=1,colsample_bytree=0.5)\n",
    "#modeltype = \"lgbm\""
   ]
  },
  {
   "cell_type": "markdown",
   "id": "f96f142b",
   "metadata": {},
   "source": [
    "## catboost"
   ]
  },
  {
   "cell_type": "code",
   "execution_count": null,
   "id": "b2577765",
   "metadata": {},
   "outputs": [],
   "source": [
    "#catboost會消耗大量記憶體，因此fusion前期需用簡單的模型跑，後期再改回較大的模型\n",
    "#basemodel2 = CatBoostClassifier(loss_function=\"Logloss\",\n",
    "#                           eval_metric=\"AUC\",\n",
    "#                           task_type=\"CPU\",\n",
    "#                           learning_rate=0.01,\n",
    "#                           iterations=30,\n",
    "#                           random_seed=42,\n",
    "#                           od_type=\"Iter\",\n",
    "#                           depth=3,\n",
    "#                           early_stopping_rounds=10,\n",
    "#                            used_ram_limit=\"20gb\",\n",
    "#                            leaf_estimation_method='Newton',\n",
    "#                           thread_count=5,\n",
    "#                            pinned_memory_size=\"20gb\")\n",
    "#modeltype = \"catboost\"\n",
    "#clinical_target = [0,1,2,3,6,11,12,13,14,15,16,17,18,19,20,21,22,23,24,25,26,27,28,29,30,31,32,33,34,35,36,37,38,39,40,41,42,43,44,45,46,47,48]\n",
    "#target_num = 6"
   ]
  },
  {
   "cell_type": "code",
   "execution_count": null,
   "id": "6f4711de",
   "metadata": {},
   "outputs": [],
   "source": [
    "selecter_basemodel =RandomForestClassifier(max_depth=4)\n",
    "CI_basemodel =RandomForestClassifier(max_depth=4)\n",
    "modeltype = \"forest\"\n",
    "clinical_target = [0,1,2,3,6,11,12,13,14,15,16,17,18,19,20,21,22,23,24,25,26,27,28,29,30,31,32,33,34,35,36,37,38,39,40,41,42,43,44,45,46,47,48]\n",
    "target_num = 6\n",
    "selecter = backward"
   ]
  },
  {
   "cell_type": "code",
   "execution_count": null,
   "id": "5c09ce6a",
   "metadata": {},
   "outputs": [],
   "source": [
    "record = False\n",
    "folder_path = './record/'\n",
    "csv_folder_path = './record table/'\n",
    "if not os.path.exists(folder_path):\n",
    "    os.makedirs(folder_path)\n",
    "if not os.path.exists(folder_path):\n",
    "    os.makedirs(folder_path)\n",
    "#建立空的pandas，自訂欄位並讓後去資料放進去    \n",
    "record_table = pd.DataFrame(columns=['target','combination','feature number', 'accuracy', 'sensitivity', 'specificity', 'auroc' , 'auprc'], index=range(36))\n",
    "record_table['target'] = ['mRS']*9+['NIHSS']*9+['LVO']*9+['T/E']*9\n",
    "record_table['combination'] = [\"C\",\"R\",\"S\",\"F\",\"F+C\",\"F+R\",\"F+S\",\"F+C+R\",\"F+C+R+S\"]*4\n",
    "record_table"
   ]
  },
  {
   "cell_type": "markdown",
   "id": "14494ff7",
   "metadata": {},
   "source": [
    "## mRS"
   ]
  },
  {
   "cell_type": "markdown",
   "id": "1e0b473a",
   "metadata": {},
   "source": [
    "### only C"
   ]
  },
  {
   "cell_type": "code",
   "execution_count": null,
   "id": "b4f90686",
   "metadata": {},
   "outputs": [],
   "source": [
    "plotname = folder_path+modeltype+\"_mRS_backward_C\"\n",
    "target = clinical_target\n",
    "data,y = get_data(clinical,target_ls=target,target_num=target_num)\n",
    "y = (y>2)*1"
   ]
  },
  {
   "cell_type": "code",
   "execution_count": null,
   "id": "4fcb2145",
   "metadata": {},
   "outputs": [],
   "source": [
    "selecter_model = selecter_basemodel\n",
    "selected_data = selecter(data,y,selecter_model,n_features_to_select=40)\n",
    "CI_model = CI_basemodel\n",
    "CI_analyse(selected_data,y,CI_model,modeltype=modeltype,record=record,plotname = plotname)"
   ]
  },
  {
   "cell_type": "code",
   "execution_count": null,
   "id": "faac80ec",
   "metadata": {},
   "outputs": [],
   "source": [
    "selecter_model = selecter_basemodel\n",
    "selected_data = selecter(data,y,selecter_model,n_features_to_select=35)\n",
    "CI_model = CI_basemodel\n",
    "CI_analyse(selected_data,y,CI_model,modeltype=modeltype,record=record,plotname = plotname)"
   ]
  },
  {
   "cell_type": "code",
   "execution_count": null,
   "id": "05ddf6b8",
   "metadata": {},
   "outputs": [],
   "source": [
    "selecter_model = selecter_basemodel\n",
    "selected_data = selecter(data,y,selecter_model,n_features_to_select=30)\n",
    "CI_model = CI_basemodel\n",
    "CI_analyse(selected_data,y,CI_model,modeltype=modeltype,record=record,plotname = plotname)"
   ]
  },
  {
   "cell_type": "code",
   "execution_count": null,
   "id": "a2fb7467",
   "metadata": {},
   "outputs": [],
   "source": [
    "selecter_model = selecter_basemodel\n",
    "selected_data = selecter(data,y,selecter_model,n_features_to_select=25)\n",
    "CI_model = CI_basemodel\n",
    "CI_analyse(selected_data,y,CI_model,modeltype=modeltype,record=record,plotname = plotname)"
   ]
  },
  {
   "cell_type": "code",
   "execution_count": null,
   "id": "d252e6f8",
   "metadata": {},
   "outputs": [],
   "source": [
    "selecter_model = selecter_basemodel\n",
    "selected_data = selecter(data,y,selecter_model,n_features_to_select=20)\n",
    "CI_model = CI_basemodel\n",
    "CI_analyse(selected_data,y,CI_model,modeltype=modeltype,record=record,plotname = plotname)"
   ]
  },
  {
   "cell_type": "code",
   "execution_count": null,
   "id": "44353a0a",
   "metadata": {},
   "outputs": [],
   "source": [
    "selecter_model = selecter_basemodel\n",
    "selected_data = selecter(data,y,selecter_model,n_features_to_select=15)\n",
    "CI_model = CI_basemodel\n",
    "CI_analyse(selected_data,y,CI_model,modeltype=modeltype,record=record,plotname = plotname)"
   ]
  },
  {
   "cell_type": "code",
   "execution_count": null,
   "id": "0ef5b4de",
   "metadata": {},
   "outputs": [],
   "source": [
    "selecter_model = selecter_basemodel\n",
    "selected_data = selecter(data,y,selecter_model,n_features_to_select=10)\n",
    "CI_model = CI_basemodel\n",
    "CI_analyse(selected_data,y,CI_model,modeltype=modeltype,record=record,plotname = plotname)"
   ]
  },
  {
   "cell_type": "code",
   "execution_count": null,
   "id": "8965d4ed",
   "metadata": {},
   "outputs": [],
   "source": [
    "imp_feature = pd.concat([pd.Series([\"ID\",\"mRS_discharge\"]), pd.Series(selected_data.columns.values)])\n",
    "clinical_after_selection = [clinical.columns.get_loc(label) for label in imp_feature]"
   ]
  },
  {
   "cell_type": "markdown",
   "id": "43d6f7bc",
   "metadata": {},
   "source": [
    "### only R"
   ]
  },
  {
   "cell_type": "code",
   "execution_count": null,
   "id": "af0f6dc2",
   "metadata": {},
   "outputs": [],
   "source": [
    "plotname = folder_path+modeltype+\"_mRS_backward_R\"\n",
    "target = [0,target_num]\n",
    "data,y = get_data(clinical,target_ls=target,target_num=target_num,radiomics=radiomics)\n",
    "y = (y>2)*1"
   ]
  },
  {
   "cell_type": "code",
   "execution_count": null,
   "id": "0660c823",
   "metadata": {},
   "outputs": [],
   "source": [
    "selecter_model = selecter_basemodel\n",
    "selected_data = selecter(data,y,selecter_model,n_features_to_select=50)\n",
    "CI_model = CI_basemodel\n",
    "CI_analyse(selected_data,y,CI_model,modeltype=modeltype,record=record,plotname = plotname)"
   ]
  },
  {
   "cell_type": "code",
   "execution_count": null,
   "id": "ea3b40f3",
   "metadata": {},
   "outputs": [],
   "source": [
    "selecter_model = selecter_basemodel\n",
    "selected_data = selecter(data,y,selecter_model,n_features_to_select=45)\n",
    "CI_model = CI_basemodel\n",
    "CI_analyse(selected_data,y,CI_model,modeltype=modeltype,record=record,plotname = plotname)"
   ]
  },
  {
   "cell_type": "code",
   "execution_count": null,
   "id": "f99601c3",
   "metadata": {},
   "outputs": [],
   "source": [
    "selecter_model = selecter_basemodel\n",
    "selected_data = selecter(data,y,selecter_model,n_features_to_select=40)\n",
    "CI_model = CI_basemodel\n",
    "CI_analyse(selected_data,y,CI_model,modeltype=modeltype,record=record,plotname = plotname)"
   ]
  },
  {
   "cell_type": "code",
   "execution_count": null,
   "id": "96cdfd8f",
   "metadata": {},
   "outputs": [],
   "source": [
    "selecter_model = selecter_basemodel\n",
    "selected_data = selecter(data,y,selecter_model,n_features_to_select=35)\n",
    "CI_model = CI_basemodel\n",
    "CI_analyse(selected_data,y,CI_model,modeltype=modeltype,record=record,plotname = plotname)"
   ]
  },
  {
   "cell_type": "code",
   "execution_count": null,
   "id": "4d389cc5",
   "metadata": {},
   "outputs": [],
   "source": [
    "selecter_model = selecter_basemodel\n",
    "selected_data = selecter(data,y,selecter_model,n_features_to_select=30)\n",
    "CI_model = CI_basemodel\n",
    "CI_analyse(selected_data,y,CI_model,modeltype=modeltype,record=record,plotname = plotname)"
   ]
  },
  {
   "cell_type": "code",
   "execution_count": null,
   "id": "2b714d82",
   "metadata": {},
   "outputs": [],
   "source": [
    "selecter_model = selecter_basemodel\n",
    "selected_data = selecter(data,y,selecter_model,n_features_to_select=25)\n",
    "CI_model = CI_basemodel\n",
    "CI_analyse(selected_data,y,CI_model,modeltype=modeltype,record=record,plotname = plotname)"
   ]
  },
  {
   "cell_type": "code",
   "execution_count": null,
   "id": "dfe6a2e3",
   "metadata": {},
   "outputs": [],
   "source": [
    "selecter_model = selecter_basemodel\n",
    "selected_data = selecter(data,y,selecter_model,n_features_to_select=20)\n",
    "CI_model = CI_basemodel\n",
    "CI_analyse(selected_data,y,CI_model,modeltype=modeltype,record=record,plotname = plotname)"
   ]
  },
  {
   "cell_type": "code",
   "execution_count": null,
   "id": "d4b4c23d",
   "metadata": {},
   "outputs": [],
   "source": [
    "selecter_model = selecter_basemodel\n",
    "selected_data = selecter(data,y,selecter_model,n_features_to_select=15)\n",
    "CI_model = CI_basemodel\n",
    "CI_analyse(selected_data,y,CI_model,modeltype=modeltype,record=record,plotname = plotname)"
   ]
  },
  {
   "cell_type": "code",
   "execution_count": null,
   "id": "93a24556",
   "metadata": {},
   "outputs": [],
   "source": [
    "selecter_model = selecter_basemodel\n",
    "selected_data = selecter(data,y,selecter_model,n_features_to_select=10)\n",
    "CI_model = CI_basemodel\n",
    "CI_analyse(selected_data,y,CI_model,modeltype=modeltype,record=record,plotname = plotname)"
   ]
  },
  {
   "cell_type": "code",
   "execution_count": null,
   "id": "0e2faea4",
   "metadata": {},
   "outputs": [],
   "source": [
    "imp_feature = pd.concat([pd.Series([\"ID\"]), pd.Series(selected_data.columns.values)])\n",
    "selected_radiomics = radiomics[imp_feature]"
   ]
  },
  {
   "cell_type": "markdown",
   "id": "777d1717",
   "metadata": {},
   "source": [
    "### only S"
   ]
  },
  {
   "cell_type": "code",
   "execution_count": null,
   "id": "514b895b",
   "metadata": {},
   "outputs": [],
   "source": [
    "plotname = folder_path+modeltype+\"_mRS_backward_S\"\n",
    "target = [0,target_num]\n",
    "data,y = get_data(clinical,target_ls=target,target_num=target_num,semantic=semantic)\n",
    "y = (y>2)*1"
   ]
  },
  {
   "cell_type": "code",
   "execution_count": null,
   "id": "6adccd6b",
   "metadata": {},
   "outputs": [],
   "source": [
    "selecter_model = selecter_basemodel\n",
    "selected_data = selecter(data,y,selecter_model,n_features_to_select=50)\n",
    "CI_model = CI_basemodel\n",
    "CI_analyse(selected_data,y,CI_model,modeltype=modeltype,record=record,plotname = plotname)"
   ]
  },
  {
   "cell_type": "code",
   "execution_count": null,
   "id": "6014dee9",
   "metadata": {},
   "outputs": [],
   "source": [
    "selecter_model = selecter_basemodel\n",
    "selected_data = selecter(data,y,selecter_model,n_features_to_select=45)\n",
    "CI_model = CI_basemodel\n",
    "CI_analyse(selected_data,y,CI_model,modeltype=modeltype,record=record,plotname = plotname)"
   ]
  },
  {
   "cell_type": "code",
   "execution_count": null,
   "id": "8a3363e0",
   "metadata": {},
   "outputs": [],
   "source": [
    "selecter_model = selecter_basemodel\n",
    "selected_data = selecter(data,y,selecter_model,n_features_to_select=40)\n",
    "CI_model = CI_basemodel\n",
    "CI_analyse(selected_data,y,CI_model,modeltype=modeltype,record=record,plotname = plotname)"
   ]
  },
  {
   "cell_type": "code",
   "execution_count": null,
   "id": "261f2e20",
   "metadata": {},
   "outputs": [],
   "source": [
    "selecter_model = selecter_basemodel\n",
    "selected_data = selecter(data,y,selecter_model,n_features_to_select=35)\n",
    "CI_model = CI_basemodel\n",
    "CI_analyse(selected_data,y,CI_model,modeltype=modeltype,record=record,plotname = plotname)"
   ]
  },
  {
   "cell_type": "code",
   "execution_count": null,
   "id": "af0865f1",
   "metadata": {},
   "outputs": [],
   "source": [
    "selecter_model = selecter_basemodel\n",
    "selected_data = selecter(data,y,selecter_model,n_features_to_select=30)\n",
    "CI_model = CI_basemodel\n",
    "CI_analyse(selected_data,y,CI_model,modeltype=modeltype,record=record,plotname = plotname)"
   ]
  },
  {
   "cell_type": "code",
   "execution_count": null,
   "id": "56446357",
   "metadata": {},
   "outputs": [],
   "source": [
    "selecter_model = selecter_basemodel\n",
    "selected_data = selecter(data,y,selecter_model,n_features_to_select=25)\n",
    "CI_model = CI_basemodel\n",
    "CI_analyse(selected_data,y,CI_model,modeltype=modeltype,record=record,plotname = plotname)"
   ]
  },
  {
   "cell_type": "code",
   "execution_count": null,
   "id": "598c5dc9",
   "metadata": {},
   "outputs": [],
   "source": [
    "selecter_model = selecter_basemodel\n",
    "selected_data = selecter(data,y,selecter_model,n_features_to_select=20)\n",
    "CI_model = CI_basemodel\n",
    "CI_analyse(selected_data,y,CI_model,modeltype=modeltype,record=record,plotname = plotname)"
   ]
  },
  {
   "cell_type": "code",
   "execution_count": null,
   "id": "bca4428c",
   "metadata": {},
   "outputs": [],
   "source": [
    "selecter_model = selecter_basemodel\n",
    "selected_data = selecter(data,y,selecter_model,n_features_to_select=15)\n",
    "CI_model = CI_basemodel\n",
    "CI_analyse(selected_data,y,CI_model,modeltype=modeltype,record=record,plotname = plotname)"
   ]
  },
  {
   "cell_type": "code",
   "execution_count": null,
   "id": "f65e159d",
   "metadata": {},
   "outputs": [],
   "source": [
    "selecter_model = selecter_basemodel\n",
    "selected_data = selecter(data,y,selecter_model,n_features_to_select=10)\n",
    "CI_model = CI_basemodel\n",
    "CI_analyse(selected_data,y,CI_model,modeltype=modeltype,record=record,plotname = plotname)"
   ]
  },
  {
   "cell_type": "code",
   "execution_count": null,
   "id": "ef69cece",
   "metadata": {},
   "outputs": [],
   "source": [
    "imp_feature = pd.concat([pd.Series([\"ID\"]), pd.Series(selected_data.columns.values)])\n",
    "selected_semantic = semantic[imp_feature]"
   ]
  },
  {
   "cell_type": "markdown",
   "id": "c65fb0cd",
   "metadata": {},
   "source": [
    "### only F"
   ]
  },
  {
   "cell_type": "code",
   "execution_count": null,
   "id": "1cebfcf6",
   "metadata": {},
   "outputs": [],
   "source": [
    "plotname = folder_path+modeltype+\"_mRS_backward_F\"\n",
    "target = [0,target_num]\n",
    "data,y = get_data(clinical,target_ls=target,target_num=target_num,fuse=fuse)\n",
    "y = (y>2)*1"
   ]
  },
  {
   "cell_type": "code",
   "execution_count": null,
   "id": "ee81c52f",
   "metadata": {},
   "outputs": [],
   "source": [
    "selecter_model = selecter_basemodel\n",
    "selected_data = selecter(data,y,selecter_model,n_features_to_select=50)\n",
    "CI_model = CI_basemodel\n",
    "CI_analyse(selected_data,y,CI_model,modeltype=modeltype,record=record,plotname = plotname)"
   ]
  },
  {
   "cell_type": "code",
   "execution_count": null,
   "id": "5b77163e",
   "metadata": {},
   "outputs": [],
   "source": [
    "selecter_model = selecter_basemodel\n",
    "selected_data = selecter(data,y,selecter_model,n_features_to_select=45)\n",
    "CI_model = CI_basemodel\n",
    "CI_analyse(selected_data,y,CI_model,modeltype=modeltype,record=record,plotname = plotname)"
   ]
  },
  {
   "cell_type": "code",
   "execution_count": null,
   "id": "427c1538",
   "metadata": {},
   "outputs": [],
   "source": [
    "selecter_model = selecter_basemodel\n",
    "selected_data = selecter(data,y,selecter_model,n_features_to_select=40)\n",
    "CI_model = CI_basemodel\n",
    "CI_analyse(selected_data,y,CI_model,modeltype=modeltype,record=record,plotname = plotname)"
   ]
  },
  {
   "cell_type": "code",
   "execution_count": null,
   "id": "e68403d0",
   "metadata": {},
   "outputs": [],
   "source": [
    "selecter_model = selecter_basemodel\n",
    "selected_data = selecter(data,y,selecter_model,n_features_to_select=35)\n",
    "CI_model = CI_basemodel\n",
    "CI_analyse(selected_data,y,CI_model,modeltype=modeltype,record=record,plotname = plotname)"
   ]
  },
  {
   "cell_type": "code",
   "execution_count": null,
   "id": "687fda76",
   "metadata": {},
   "outputs": [],
   "source": [
    "selecter_model = selecter_basemodel\n",
    "selected_data = selecter(data,y,selecter_model,n_features_to_select=30)\n",
    "CI_model = CI_basemodel\n",
    "CI_analyse(selected_data,y,CI_model,modeltype=modeltype,record=record,plotname = plotname)"
   ]
  },
  {
   "cell_type": "code",
   "execution_count": null,
   "id": "986faaf7",
   "metadata": {},
   "outputs": [],
   "source": [
    "selecter_model = selecter_basemodel\n",
    "selected_data = selecter(data,y,selecter_model,n_features_to_select=25)\n",
    "CI_model = CI_basemodel\n",
    "CI_analyse(selected_data,y,CI_model,modeltype=modeltype,record=record,plotname = plotname)"
   ]
  },
  {
   "cell_type": "code",
   "execution_count": null,
   "id": "ab276a36",
   "metadata": {},
   "outputs": [],
   "source": [
    "selecter_model = selecter_basemodel\n",
    "selected_data = selecter(data,y,selecter_model,n_features_to_select=20)\n",
    "CI_model = CI_basemodel\n",
    "CI_analyse(selected_data,y,CI_model,modeltype=modeltype,record=record,plotname = plotname)"
   ]
  },
  {
   "cell_type": "code",
   "execution_count": null,
   "id": "a45067ca",
   "metadata": {},
   "outputs": [],
   "source": [
    "selecter_model = selecter_basemodel\n",
    "selected_data = selecter(data,y,selecter_model,n_features_to_select=15)\n",
    "CI_model = CI_basemodel\n",
    "CI_analyse(selected_data,y,CI_model,modeltype=modeltype,record=record,plotname = plotname)"
   ]
  },
  {
   "cell_type": "code",
   "execution_count": null,
   "id": "ebf0abe4",
   "metadata": {},
   "outputs": [],
   "source": [
    "selecter_model = selecter_basemodel\n",
    "selected_data = selecter(data,y,selecter_model,n_features_to_select=10)\n",
    "CI_model = CI_basemodel\n",
    "CI_analyse(selected_data,y,CI_model,modeltype=modeltype,record=record,plotname = plotname)"
   ]
  },
  {
   "cell_type": "code",
   "execution_count": null,
   "id": "f37044d7",
   "metadata": {},
   "outputs": [],
   "source": [
    "imp_feature = pd.concat([pd.Series([\"ID\"]), pd.Series(selected_data.columns.values)])\n",
    "selected_fuse = fuse[imp_feature]"
   ]
  },
  {
   "cell_type": "markdown",
   "id": "9b8a26da",
   "metadata": {},
   "source": [
    "### F+C"
   ]
  },
  {
   "cell_type": "code",
   "execution_count": null,
   "id": "890adcd1",
   "metadata": {
    "scrolled": true
   },
   "outputs": [],
   "source": [
    "plotname = folder_path+modeltype+\"_mRS_backward_F+C\"\n",
    "target = clinical_after_selection\n",
    "data,y = get_data(clinical,target_ls=target,target_num=target_num,fuse=selected_fuse)\n",
    "y = (y>2)*1"
   ]
  },
  {
   "cell_type": "code",
   "execution_count": null,
   "id": "8d647106",
   "metadata": {},
   "outputs": [],
   "source": [
    "selecter_model = selecter_basemodel\n",
    "selected_data = selecter(data,y,selecter_model,n_features_to_select=50)\n",
    "CI_model = CI_basemodel\n",
    "CI_analyse(selected_data,y,CI_model,modeltype=modeltype,record=record,plotname = plotname)"
   ]
  },
  {
   "cell_type": "code",
   "execution_count": null,
   "id": "128d1127",
   "metadata": {},
   "outputs": [],
   "source": [
    "selecter_model = selecter_basemodel\n",
    "selected_data = selecter(data,y,selecter_model,n_features_to_select=45)\n",
    "CI_model = CI_basemodel\n",
    "CI_analyse(selected_data,y,CI_model,modeltype=modeltype,record=record,plotname = plotname)"
   ]
  },
  {
   "cell_type": "code",
   "execution_count": null,
   "id": "620316ce",
   "metadata": {},
   "outputs": [],
   "source": [
    "selecter_model = selecter_basemodel\n",
    "selected_data = selecter(data,y,selecter_model,n_features_to_select=40)\n",
    "CI_model = CI_basemodel\n",
    "CI_analyse(selected_data,y,CI_model,modeltype=modeltype,record=record,plotname = plotname)"
   ]
  },
  {
   "cell_type": "code",
   "execution_count": null,
   "id": "e5442050",
   "metadata": {},
   "outputs": [],
   "source": [
    "selecter_model = selecter_basemodel\n",
    "selected_data = selecter(data,y,selecter_model,n_features_to_select=35)\n",
    "CI_model = CI_basemodel\n",
    "CI_analyse(selected_data,y,CI_model,modeltype=modeltype,record=record,plotname = plotname)"
   ]
  },
  {
   "cell_type": "code",
   "execution_count": null,
   "id": "c94e1e6e",
   "metadata": {},
   "outputs": [],
   "source": [
    "selecter_model = selecter_basemodel\n",
    "selected_data = selecter(data,y,selecter_model,n_features_to_select=30)\n",
    "CI_model = CI_basemodel\n",
    "CI_analyse(selected_data,y,CI_model,modeltype=modeltype,record=record,plotname = plotname)"
   ]
  },
  {
   "cell_type": "code",
   "execution_count": null,
   "id": "99d07a24",
   "metadata": {},
   "outputs": [],
   "source": [
    "selecter_model = selecter_basemodel\n",
    "selected_data = selecter(data,y,selecter_model,n_features_to_select=25)\n",
    "CI_model = CI_basemodel\n",
    "CI_analyse(selected_data,y,CI_model,modeltype=modeltype,record=record,plotname = plotname)"
   ]
  },
  {
   "cell_type": "code",
   "execution_count": null,
   "id": "5f251258",
   "metadata": {},
   "outputs": [],
   "source": [
    "selecter_model = selecter_basemodel\n",
    "selected_data = selecter(data,y,selecter_model,n_features_to_select=20)\n",
    "CI_model = CI_basemodel\n",
    "CI_analyse(selected_data,y,CI_model,modeltype=modeltype,record=record,plotname = plotname)"
   ]
  },
  {
   "cell_type": "code",
   "execution_count": null,
   "id": "fc506975",
   "metadata": {},
   "outputs": [],
   "source": [
    "selecter_model = selecter_basemodel\n",
    "selected_data = selecter(data,y,selecter_model,n_features_to_select=15)\n",
    "CI_model = CI_basemodel\n",
    "CI_analyse(selected_data,y,CI_model,modeltype=modeltype,record=record,plotname = plotname)"
   ]
  },
  {
   "cell_type": "code",
   "execution_count": null,
   "id": "1fcc31c5",
   "metadata": {},
   "outputs": [],
   "source": [
    "selecter_model = selecter_basemodel\n",
    "selected_data = selecter(data,y,selecter_model,n_features_to_select=10)\n",
    "CI_model = CI_basemodel\n",
    "CI_analyse(selected_data,y,CI_model,modeltype=modeltype,record=record,plotname = plotname)"
   ]
  },
  {
   "cell_type": "markdown",
   "id": "22579a4b",
   "metadata": {},
   "source": [
    "### F+R"
   ]
  },
  {
   "cell_type": "code",
   "execution_count": null,
   "id": "efe23a9b",
   "metadata": {
    "scrolled": true
   },
   "outputs": [],
   "source": [
    "plotname = folder_path+modeltype+\"_mRS_backward_F+R\"\n",
    "target = [0,target_num]\n",
    "data,y = get_data(clinical,target_ls=target,target_num=target_num,radiomics=selected_radiomics,fuse=selected_fuse)\n",
    "y = (y>2)*1"
   ]
  },
  {
   "cell_type": "code",
   "execution_count": null,
   "id": "c6429baa",
   "metadata": {},
   "outputs": [],
   "source": [
    "selecter_model = selecter_basemodel\n",
    "selected_data = selecter(data,y,selecter_model,n_features_to_select=50)\n",
    "CI_model = CI_basemodel\n",
    "CI_analyse(selected_data,y,CI_model,modeltype=modeltype,record=record,plotname = plotname)"
   ]
  },
  {
   "cell_type": "code",
   "execution_count": null,
   "id": "746bd222",
   "metadata": {},
   "outputs": [],
   "source": [
    "selecter_model = selecter_basemodel\n",
    "selected_data = selecter(data,y,selecter_model,n_features_to_select=45)\n",
    "CI_model = CI_basemodel\n",
    "CI_analyse(selected_data,y,CI_model,modeltype=modeltype,record=record,plotname = plotname)"
   ]
  },
  {
   "cell_type": "code",
   "execution_count": null,
   "id": "84a878a7",
   "metadata": {},
   "outputs": [],
   "source": [
    "selecter_model = selecter_basemodel\n",
    "selected_data = selecter(data,y,selecter_model,n_features_to_select=40)\n",
    "CI_model = CI_basemodel\n",
    "CI_analyse(selected_data,y,CI_model,modeltype=modeltype,record=record,plotname = plotname)"
   ]
  },
  {
   "cell_type": "code",
   "execution_count": null,
   "id": "760a52e4",
   "metadata": {},
   "outputs": [],
   "source": [
    "selecter_model = selecter_basemodel\n",
    "selected_data = selecter(data,y,selecter_model,n_features_to_select=35)\n",
    "CI_model = CI_basemodel\n",
    "CI_analyse(selected_data,y,CI_model,modeltype=modeltype,record=record,plotname = plotname)"
   ]
  },
  {
   "cell_type": "code",
   "execution_count": null,
   "id": "aeb6cdd4",
   "metadata": {},
   "outputs": [],
   "source": [
    "selecter_model = selecter_basemodel\n",
    "selected_data = selecter(data,y,selecter_model,n_features_to_select=30)\n",
    "CI_model = CI_basemodel\n",
    "CI_analyse(selected_data,y,CI_model,modeltype=modeltype,record=record,plotname = plotname)"
   ]
  },
  {
   "cell_type": "code",
   "execution_count": null,
   "id": "c972207b",
   "metadata": {},
   "outputs": [],
   "source": [
    "selecter_model = selecter_basemodel\n",
    "selected_data = selecter(data,y,selecter_model,n_features_to_select=25)\n",
    "CI_model = CI_basemodel\n",
    "CI_analyse(selected_data,y,CI_model,modeltype=modeltype,record=record,plotname = plotname)"
   ]
  },
  {
   "cell_type": "code",
   "execution_count": null,
   "id": "bf95b457",
   "metadata": {},
   "outputs": [],
   "source": [
    "selecter_model = selecter_basemodel\n",
    "selected_data = selecter(data,y,selecter_model,n_features_to_select=20)\n",
    "CI_model = CI_basemodel\n",
    "CI_analyse(selected_data,y,CI_model,modeltype=modeltype,record=record,plotname = plotname)"
   ]
  },
  {
   "cell_type": "code",
   "execution_count": null,
   "id": "b6aeda43",
   "metadata": {},
   "outputs": [],
   "source": [
    "selecter_model = selecter_basemodel\n",
    "selected_data = selecter(data,y,selecter_model,n_features_to_select=15)\n",
    "CI_model = CI_basemodel\n",
    "CI_analyse(selected_data,y,CI_model,modeltype=modeltype,record=record,plotname = plotname)"
   ]
  },
  {
   "cell_type": "code",
   "execution_count": null,
   "id": "8949537f",
   "metadata": {},
   "outputs": [],
   "source": [
    "selecter_model = selecter_basemodel\n",
    "selected_data = selecter(data,y,selecter_model,n_features_to_select=10)\n",
    "CI_model = CI_basemodel\n",
    "CI_analyse(selected_data,y,CI_model,modeltype=modeltype,record=record,plotname = plotname)"
   ]
  },
  {
   "cell_type": "markdown",
   "id": "7529ef30",
   "metadata": {},
   "source": [
    "## F+S"
   ]
  },
  {
   "cell_type": "code",
   "execution_count": null,
   "id": "a3a02faf",
   "metadata": {
    "scrolled": true
   },
   "outputs": [],
   "source": [
    "plotname = folder_path+modeltype+\"_mRS_backward_F+S\"\n",
    "target = [0,target_num]\n",
    "data,y = get_data(clinical,target_ls=target,target_num=target_num,fuse=selected_fuse,semantic=selected_semantic)\n",
    "y = (y>2)*1"
   ]
  },
  {
   "cell_type": "code",
   "execution_count": null,
   "id": "9f5be835",
   "metadata": {},
   "outputs": [],
   "source": [
    "selecter_model = selecter_basemodel\n",
    "selected_data = selecter(data,y,selecter_model,n_features_to_select=50)\n",
    "CI_model = CI_basemodel\n",
    "CI_analyse(selected_data,y,CI_model,modeltype=modeltype,record=record,plotname = plotname)"
   ]
  },
  {
   "cell_type": "code",
   "execution_count": null,
   "id": "c5e4bd02",
   "metadata": {},
   "outputs": [],
   "source": [
    "selecter_model = selecter_basemodel\n",
    "selected_data = selecter(data,y,selecter_model,n_features_to_select=45)\n",
    "CI_model = CI_basemodel\n",
    "CI_analyse(selected_data,y,CI_model,modeltype=modeltype,record=record,plotname = plotname)"
   ]
  },
  {
   "cell_type": "code",
   "execution_count": null,
   "id": "cd7521c9",
   "metadata": {},
   "outputs": [],
   "source": [
    "selecter_model = selecter_basemodel\n",
    "selected_data = selecter(data,y,selecter_model,n_features_to_select=40)\n",
    "CI_model = CI_basemodel\n",
    "CI_analyse(selected_data,y,CI_model,modeltype=modeltype,record=record,plotname = plotname)"
   ]
  },
  {
   "cell_type": "code",
   "execution_count": null,
   "id": "df0fb12a",
   "metadata": {},
   "outputs": [],
   "source": [
    "selecter_model = selecter_basemodel\n",
    "selected_data = selecter(data,y,selecter_model,n_features_to_select=35)\n",
    "CI_model = CI_basemodel\n",
    "CI_analyse(selected_data,y,CI_model,modeltype=modeltype,record=record,plotname = plotname)"
   ]
  },
  {
   "cell_type": "code",
   "execution_count": null,
   "id": "370c0b2e",
   "metadata": {},
   "outputs": [],
   "source": [
    "selecter_model = selecter_basemodel\n",
    "selected_data = selecter(data,y,selecter_model,n_features_to_select=30)\n",
    "CI_model = CI_basemodel\n",
    "CI_analyse(selected_data,y,CI_model,modeltype=modeltype,record=record,plotname = plotname)"
   ]
  },
  {
   "cell_type": "code",
   "execution_count": null,
   "id": "211c6fed",
   "metadata": {},
   "outputs": [],
   "source": [
    "selecter_model = selecter_basemodel\n",
    "selected_data = selecter(data,y,selecter_model,n_features_to_select=25)\n",
    "CI_model = CI_basemodel\n",
    "CI_analyse(selected_data,y,CI_model,modeltype=modeltype,record=record,plotname = plotname)"
   ]
  },
  {
   "cell_type": "code",
   "execution_count": null,
   "id": "79d85752",
   "metadata": {},
   "outputs": [],
   "source": [
    "selecter_model = selecter_basemodel\n",
    "selected_data = selecter(data,y,selecter_model,n_features_to_select=20)\n",
    "CI_model = CI_basemodel\n",
    "CI_analyse(selected_data,y,CI_model,modeltype=modeltype,record=record,plotname = plotname)"
   ]
  },
  {
   "cell_type": "code",
   "execution_count": null,
   "id": "f69b534a",
   "metadata": {},
   "outputs": [],
   "source": [
    "selecter_model = selecter_basemodel\n",
    "selected_data = selecter(data,y,selecter_model,n_features_to_select=15)\n",
    "CI_model = CI_basemodel\n",
    "CI_analyse(selected_data,y,CI_model,modeltype=modeltype,record=record,plotname = plotname)"
   ]
  },
  {
   "cell_type": "code",
   "execution_count": null,
   "id": "e9a8eaf4",
   "metadata": {},
   "outputs": [],
   "source": [
    "selecter_model = selecter_basemodel\n",
    "selected_data = selecter(data,y,selecter_model,n_features_to_select=10)\n",
    "CI_model = CI_basemodel\n",
    "CI_analyse(selected_data,y,CI_model,modeltype=modeltype,record=record,plotname = plotname)"
   ]
  },
  {
   "cell_type": "markdown",
   "id": "847e5d20",
   "metadata": {},
   "source": [
    "### F+C+R"
   ]
  },
  {
   "cell_type": "code",
   "execution_count": null,
   "id": "b71b2f78",
   "metadata": {
    "scrolled": true
   },
   "outputs": [],
   "source": [
    "plotname = folder_path+modeltype+\"_mRS_backward_F+C+R\"\n",
    "target = clinical_after_selection\n",
    "data,y = get_data(clinical,target_ls=target,target_num=target_num,radiomics=selected_radiomics,fuse=selected_fuse)\n",
    "y = (y>2)*1"
   ]
  },
  {
   "cell_type": "code",
   "execution_count": null,
   "id": "6f9c69b8",
   "metadata": {},
   "outputs": [],
   "source": [
    "selecter_model = selecter_basemodel\n",
    "selected_data = selecter(data,y,selecter_model,n_features_to_select=50)\n",
    "CI_model = CI_basemodel\n",
    "CI_analyse(selected_data,y,CI_model,modeltype=modeltype,record=record,plotname = plotname)"
   ]
  },
  {
   "cell_type": "code",
   "execution_count": null,
   "id": "957e66a9",
   "metadata": {},
   "outputs": [],
   "source": [
    "selecter_model = selecter_basemodel\n",
    "selected_data = selecter(data,y,selecter_model,n_features_to_select=45)\n",
    "CI_model = CI_basemodel\n",
    "CI_analyse(selected_data,y,CI_model,modeltype=modeltype,record=record,plotname = plotname)"
   ]
  },
  {
   "cell_type": "code",
   "execution_count": null,
   "id": "5c114920",
   "metadata": {},
   "outputs": [],
   "source": [
    "selecter_model = selecter_basemodel\n",
    "selected_data = selecter(data,y,selecter_model,n_features_to_select=40)\n",
    "CI_model = CI_basemodel\n",
    "CI_analyse(selected_data,y,CI_model,modeltype=modeltype,record=record,plotname = plotname)"
   ]
  },
  {
   "cell_type": "code",
   "execution_count": null,
   "id": "72bd615a",
   "metadata": {},
   "outputs": [],
   "source": [
    "selecter_model = selecter_basemodel\n",
    "selected_data = selecter(data,y,selecter_model,n_features_to_select=35)\n",
    "CI_model = CI_basemodel\n",
    "CI_analyse(selected_data,y,CI_model,modeltype=modeltype,record=record,plotname = plotname)"
   ]
  },
  {
   "cell_type": "code",
   "execution_count": null,
   "id": "d20606b0",
   "metadata": {},
   "outputs": [],
   "source": [
    "selecter_model = selecter_basemodel\n",
    "selected_data = selecter(data,y,selecter_model,n_features_to_select=30)\n",
    "CI_model = CI_basemodel\n",
    "CI_analyse(selected_data,y,CI_model,modeltype=modeltype,record=record,plotname = plotname)"
   ]
  },
  {
   "cell_type": "code",
   "execution_count": null,
   "id": "dff3aa9c",
   "metadata": {},
   "outputs": [],
   "source": [
    "selecter_model = selecter_basemodel\n",
    "selected_data = selecter(data,y,selecter_model,n_features_to_select=25)\n",
    "CI_model = CI_basemodel\n",
    "CI_analyse(selected_data,y,CI_model,modeltype=modeltype,record=record,plotname = plotname)"
   ]
  },
  {
   "cell_type": "code",
   "execution_count": null,
   "id": "ea342988",
   "metadata": {},
   "outputs": [],
   "source": [
    "selecter_model = selecter_basemodel\n",
    "selected_data = selecter(data,y,selecter_model,n_features_to_select=20)\n",
    "CI_model = CI_basemodel\n",
    "CI_analyse(selected_data,y,CI_model,modeltype=modeltype,record=record,plotname = plotname)"
   ]
  },
  {
   "cell_type": "code",
   "execution_count": null,
   "id": "86bf977b",
   "metadata": {},
   "outputs": [],
   "source": [
    "selecter_model = selecter_basemodel\n",
    "selected_data = selecter(data,y,selecter_model,n_features_to_select=15)\n",
    "CI_model = CI_basemodel\n",
    "CI_analyse(selected_data,y,CI_model,modeltype=modeltype,record=record,plotname = plotname)"
   ]
  },
  {
   "cell_type": "code",
   "execution_count": null,
   "id": "ed4ed5c7",
   "metadata": {},
   "outputs": [],
   "source": [
    "selecter_model = selecter_basemodel\n",
    "selected_data = selecter(data,y,selecter_model,n_features_to_select=10)\n",
    "CI_model = CI_basemodel\n",
    "CI_analyse(selected_data,y,CI_model,modeltype=modeltype,record=record,plotname = plotname)"
   ]
  },
  {
   "cell_type": "markdown",
   "id": "9693cf52",
   "metadata": {},
   "source": [
    "### F+C+R+S"
   ]
  },
  {
   "cell_type": "code",
   "execution_count": null,
   "id": "83316b73",
   "metadata": {},
   "outputs": [],
   "source": [
    "plotname = folder_path+modeltype+\"_mRS_backward_F+C+R+S\"\n",
    "target = clinical_after_selection\n",
    "data,y = get_data(clinical,target_ls=target,target_num=target_num,radiomics=selected_radiomics,semantic=selected_semantic,fuse=selected_fuse)\n",
    "y = (y>2)*1"
   ]
  },
  {
   "cell_type": "code",
   "execution_count": null,
   "id": "9962bf79",
   "metadata": {},
   "outputs": [],
   "source": [
    "selecter_model = selecter_basemodel\n",
    "selected_data = selecter(data,y,selecter_model,n_features_to_select=50)\n",
    "CI_model = CI_basemodel\n",
    "CI_analyse(selected_data,y,CI_model,modeltype=modeltype,record=record,plotname = plotname)"
   ]
  },
  {
   "cell_type": "code",
   "execution_count": null,
   "id": "a1381aa9",
   "metadata": {},
   "outputs": [],
   "source": [
    "selecter_model = selecter_basemodel\n",
    "selected_data = selecter(data,y,selecter_model,n_features_to_select=45)\n",
    "CI_model = CI_basemodel\n",
    "CI_analyse(selected_data,y,CI_model,modeltype=modeltype,record=record,plotname = plotname)"
   ]
  },
  {
   "cell_type": "code",
   "execution_count": null,
   "id": "9409caf5",
   "metadata": {},
   "outputs": [],
   "source": [
    "selecter_model = selecter_basemodel\n",
    "selected_data = selecter(data,y,selecter_model,n_features_to_select=40)\n",
    "CI_model = CI_basemodel\n",
    "CI_analyse(selected_data,y,CI_model,modeltype=modeltype,record=record,plotname = plotname)"
   ]
  },
  {
   "cell_type": "code",
   "execution_count": null,
   "id": "a21c2656",
   "metadata": {},
   "outputs": [],
   "source": [
    "selecter_model = selecter_basemodel\n",
    "selected_data = selecter(data,y,selecter_model,n_features_to_select=35)\n",
    "CI_model = CI_basemodel\n",
    "CI_analyse(selected_data,y,CI_model,modeltype=modeltype,record=record,plotname = plotname)"
   ]
  },
  {
   "cell_type": "code",
   "execution_count": null,
   "id": "503772ae",
   "metadata": {},
   "outputs": [],
   "source": [
    "selecter_model = selecter_basemodel\n",
    "selected_data = selecter(data,y,selecter_model,n_features_to_select=30)\n",
    "CI_model = CI_basemodel\n",
    "CI_analyse(selected_data,y,CI_model,modeltype=modeltype,record=record,plotname = plotname)"
   ]
  },
  {
   "cell_type": "code",
   "execution_count": null,
   "id": "a3c71c76",
   "metadata": {},
   "outputs": [],
   "source": [
    "selecter_model = selecter_basemodel\n",
    "selected_data = selecter(data,y,selecter_model,n_features_to_select=25)\n",
    "CI_model = CI_basemodel\n",
    "CI_analyse(selected_data,y,CI_model,modeltype=modeltype,record=record,plotname = plotname)"
   ]
  },
  {
   "cell_type": "code",
   "execution_count": null,
   "id": "c203ecbf",
   "metadata": {},
   "outputs": [],
   "source": [
    "selecter_model = selecter_basemodel\n",
    "selected_data = selecter(data,y,selecter_model,n_features_to_select=20)\n",
    "CI_model = CI_basemodel\n",
    "CI_analyse(selected_data,y,CI_model,modeltype=modeltype,record=record,plotname = plotname)"
   ]
  },
  {
   "cell_type": "code",
   "execution_count": null,
   "id": "cc7228c8",
   "metadata": {},
   "outputs": [],
   "source": [
    "selecter_model = selecter_basemodel\n",
    "selected_data = selecter(data,y,selecter_model,n_features_to_select=15)\n",
    "CI_model = CI_basemodel\n",
    "CI_analyse(selected_data,y,CI_model,modeltype=modeltype,record=record,plotname = plotname)"
   ]
  },
  {
   "cell_type": "code",
   "execution_count": null,
   "id": "e213fe14",
   "metadata": {},
   "outputs": [],
   "source": [
    "selecter_model = selecter_basemodel\n",
    "selected_data = selecter(data,y,selecter_model,n_features_to_select=10)\n",
    "CI_model = CI_basemodel\n",
    "CI_analyse(selected_data,y,CI_model,modeltype=modeltype,record=record,plotname = plotname)"
   ]
  },
  {
   "cell_type": "markdown",
   "id": "a9901ae7",
   "metadata": {},
   "source": [
    "## NIHSS"
   ]
  },
  {
   "cell_type": "code",
   "execution_count": null,
   "id": "31b01099",
   "metadata": {},
   "outputs": [],
   "source": [
    "clinical_target2 = [0,1,2,3,7,11,12,13,14,15,16,17,18,19,20,21,22,23,24,25,26,27,28,29,30,31,32,33,34,35,36,37,38,39,40,41,42,43,44,45,46,47,48]\n",
    "target_num = 7"
   ]
  },
  {
   "cell_type": "markdown",
   "id": "d1ab8026",
   "metadata": {},
   "source": [
    "### only C"
   ]
  },
  {
   "cell_type": "code",
   "execution_count": null,
   "id": "e9c9547f",
   "metadata": {},
   "outputs": [],
   "source": [
    "plotname = folder_path+modeltype+\"_NIHSS_backward_C\"\n",
    "target = clinical_target2\n",
    "data,y = get_data(clinical,target_ls=target,target_num=target_num)\n",
    "y = (y>4)*1"
   ]
  },
  {
   "cell_type": "code",
   "execution_count": null,
   "id": "bdc1a295",
   "metadata": {},
   "outputs": [],
   "source": [
    "selecter_model = selecter_basemodel\n",
    "selected_data = selecter(data,y,selecter_model,n_features_to_select=40)\n",
    "CI_model = CI_basemodel\n",
    "CI_analyse(selected_data,y,CI_model,modeltype=modeltype,record=record,plotname = plotname)"
   ]
  },
  {
   "cell_type": "code",
   "execution_count": null,
   "id": "2bd9cb03",
   "metadata": {},
   "outputs": [],
   "source": [
    "selecter_model = selecter_basemodel\n",
    "selected_data = selecter(data,y,selecter_model,n_features_to_select=35)\n",
    "CI_model = CI_basemodel\n",
    "CI_analyse(selected_data,y,CI_model,modeltype=modeltype,record=record,plotname = plotname)"
   ]
  },
  {
   "cell_type": "code",
   "execution_count": null,
   "id": "a96e731f",
   "metadata": {},
   "outputs": [],
   "source": [
    "selecter_model = selecter_basemodel\n",
    "selected_data = selecter(data,y,selecter_model,n_features_to_select=30)\n",
    "CI_model = CI_basemodel\n",
    "CI_analyse(selected_data,y,CI_model,modeltype=modeltype,record=record,plotname = plotname)"
   ]
  },
  {
   "cell_type": "code",
   "execution_count": null,
   "id": "81cef6bf",
   "metadata": {},
   "outputs": [],
   "source": [
    "selecter_model = selecter_basemodel\n",
    "selected_data = selecter(data,y,selecter_model,n_features_to_select=25)\n",
    "CI_model = CI_basemodel\n",
    "CI_analyse(selected_data,y,CI_model,modeltype=modeltype,record=record,plotname = plotname)"
   ]
  },
  {
   "cell_type": "code",
   "execution_count": null,
   "id": "4fe6c72e",
   "metadata": {},
   "outputs": [],
   "source": [
    "selecter_model = selecter_basemodel\n",
    "selected_data = selecter(data,y,selecter_model,n_features_to_select=20)\n",
    "CI_model = CI_basemodel\n",
    "CI_analyse(selected_data,y,CI_model,modeltype=modeltype,record=record,plotname = plotname)"
   ]
  },
  {
   "cell_type": "code",
   "execution_count": null,
   "id": "9b008ef2",
   "metadata": {},
   "outputs": [],
   "source": [
    "selecter_model = selecter_basemodel\n",
    "selected_data = selecter(data,y,selecter_model,n_features_to_select=15)\n",
    "CI_model = CI_basemodel\n",
    "CI_analyse(selected_data,y,CI_model,modeltype=modeltype,record=record,plotname = plotname)"
   ]
  },
  {
   "cell_type": "code",
   "execution_count": null,
   "id": "bc3f87fd",
   "metadata": {},
   "outputs": [],
   "source": [
    "selecter_model = selecter_basemodel\n",
    "selected_data = selecter(data,y,selecter_model,n_features_to_select=10)\n",
    "CI_model = CI_basemodel\n",
    "CI_analyse(selected_data,y,CI_model,modeltype=modeltype,record=record,plotname = plotname)"
   ]
  },
  {
   "cell_type": "code",
   "execution_count": null,
   "id": "a99a3a2d",
   "metadata": {},
   "outputs": [],
   "source": [
    "imp_feature = pd.concat([pd.Series([\"ID\",\"NIHSS_discharge\"]), pd.Series(selected_data.columns.values)])\n",
    "clinical_after_selection = [clinical.columns.get_loc(label) for label in imp_feature]"
   ]
  },
  {
   "cell_type": "markdown",
   "id": "a63525d2",
   "metadata": {},
   "source": [
    "### only R"
   ]
  },
  {
   "cell_type": "code",
   "execution_count": null,
   "id": "c74c8835",
   "metadata": {},
   "outputs": [],
   "source": [
    "plotname = folder_path+modeltype+\"_NIHSS_backward_R\"\n",
    "target = [0,target_num]\n",
    "data,y = get_data(clinical,target_ls=target,target_num=target_num,radiomics=radiomics)\n",
    "y = (y>4)*1"
   ]
  },
  {
   "cell_type": "code",
   "execution_count": null,
   "id": "ad2a64a2",
   "metadata": {},
   "outputs": [],
   "source": [
    "selecter_model = selecter_basemodel\n",
    "selected_data = selecter(data,y,selecter_model,n_features_to_select=50)\n",
    "CI_model = CI_basemodel\n",
    "CI_analyse(selected_data,y,CI_model,modeltype=modeltype,record=record,plotname = plotname)"
   ]
  },
  {
   "cell_type": "code",
   "execution_count": null,
   "id": "af0127c5",
   "metadata": {},
   "outputs": [],
   "source": [
    "selecter_model = selecter_basemodel\n",
    "selected_data = selecter(data,y,selecter_model,n_features_to_select=45)\n",
    "CI_model = CI_basemodel\n",
    "CI_analyse(selected_data,y,CI_model,modeltype=modeltype,record=record,plotname = plotname)"
   ]
  },
  {
   "cell_type": "code",
   "execution_count": null,
   "id": "634403f3",
   "metadata": {},
   "outputs": [],
   "source": [
    "selecter_model = selecter_basemodel\n",
    "selected_data = selecter(data,y,selecter_model,n_features_to_select=40)\n",
    "CI_model = CI_basemodel\n",
    "CI_analyse(selected_data,y,CI_model,modeltype=modeltype,record=record,plotname = plotname)"
   ]
  },
  {
   "cell_type": "code",
   "execution_count": null,
   "id": "3fb31b1f",
   "metadata": {},
   "outputs": [],
   "source": [
    "selecter_model = selecter_basemodel\n",
    "selected_data = selecter(data,y,selecter_model,n_features_to_select=35)\n",
    "CI_model = CI_basemodel\n",
    "CI_analyse(selected_data,y,CI_model,modeltype=modeltype,record=record,plotname = plotname)"
   ]
  },
  {
   "cell_type": "code",
   "execution_count": null,
   "id": "7e5cb060",
   "metadata": {},
   "outputs": [],
   "source": [
    "selecter_model = selecter_basemodel\n",
    "selected_data = selecter(data,y,selecter_model,n_features_to_select=30)\n",
    "CI_model = CI_basemodel\n",
    "CI_analyse(selected_data,y,CI_model,modeltype=modeltype,record=record,plotname = plotname)"
   ]
  },
  {
   "cell_type": "code",
   "execution_count": null,
   "id": "c50e282f",
   "metadata": {},
   "outputs": [],
   "source": [
    "selecter_model = selecter_basemodel\n",
    "selected_data = selecter(data,y,selecter_model,n_features_to_select=25)\n",
    "CI_model = CI_basemodel\n",
    "CI_analyse(selected_data,y,CI_model,modeltype=modeltype,record=record,plotname = plotname)"
   ]
  },
  {
   "cell_type": "code",
   "execution_count": null,
   "id": "48605ee4",
   "metadata": {},
   "outputs": [],
   "source": [
    "selecter_model = selecter_basemodel\n",
    "selected_data = selecter(data,y,selecter_model,n_features_to_select=20)\n",
    "CI_model = CI_basemodel\n",
    "CI_analyse(selected_data,y,CI_model,modeltype=modeltype,record=record,plotname = plotname)"
   ]
  },
  {
   "cell_type": "code",
   "execution_count": null,
   "id": "ffb32c66",
   "metadata": {},
   "outputs": [],
   "source": [
    "selecter_model = selecter_basemodel\n",
    "selected_data = selecter(data,y,selecter_model,n_features_to_select=15)\n",
    "CI_model = CI_basemodel\n",
    "CI_analyse(selected_data,y,CI_model,modeltype=modeltype,record=record,plotname = plotname)"
   ]
  },
  {
   "cell_type": "code",
   "execution_count": null,
   "id": "7ccfe42a",
   "metadata": {},
   "outputs": [],
   "source": [
    "selecter_model = selecter_basemodel\n",
    "selected_data = selecter(data,y,selecter_model,n_features_to_select=10)\n",
    "CI_model = CI_basemodel\n",
    "CI_analyse(selected_data,y,CI_model,modeltype=modeltype,record=record,plotname = plotname)"
   ]
  },
  {
   "cell_type": "code",
   "execution_count": null,
   "id": "07a84186",
   "metadata": {},
   "outputs": [],
   "source": [
    "imp_feature = pd.concat([pd.Series([\"ID\"]), pd.Series(selected_data.columns.values)])\n",
    "selected_radiomics = radiomics[imp_feature]"
   ]
  },
  {
   "cell_type": "markdown",
   "id": "99f2711b",
   "metadata": {},
   "source": [
    "### only S"
   ]
  },
  {
   "cell_type": "code",
   "execution_count": null,
   "id": "360ac9d7",
   "metadata": {},
   "outputs": [],
   "source": [
    "plotname = folder_path+modeltype+\"_NIHSS_backward_S\"\n",
    "target = [0,target_num]\n",
    "data,y = get_data(clinical,target_ls=target,target_num=target_num,semantic=semantic)\n",
    "y = (y>4)*1"
   ]
  },
  {
   "cell_type": "code",
   "execution_count": null,
   "id": "b1f23e72",
   "metadata": {},
   "outputs": [],
   "source": [
    "selecter_model = selecter_basemodel\n",
    "selected_data = selecter(data,y,selecter_model,n_features_to_select=50)\n",
    "CI_model = CI_basemodel\n",
    "CI_analyse(selected_data,y,CI_model,modeltype=modeltype,record=record,plotname = plotname)"
   ]
  },
  {
   "cell_type": "code",
   "execution_count": null,
   "id": "1770a57f",
   "metadata": {},
   "outputs": [],
   "source": [
    "selecter_model = selecter_basemodel\n",
    "selected_data = selecter(data,y,selecter_model,n_features_to_select=45)\n",
    "CI_model = CI_basemodel\n",
    "CI_analyse(selected_data,y,CI_model,modeltype=modeltype,record=record,plotname = plotname)"
   ]
  },
  {
   "cell_type": "code",
   "execution_count": null,
   "id": "a9226536",
   "metadata": {},
   "outputs": [],
   "source": [
    "selecter_model = selecter_basemodel\n",
    "selected_data = selecter(data,y,selecter_model,n_features_to_select=40)\n",
    "CI_model = CI_basemodel\n",
    "CI_analyse(selected_data,y,CI_model,modeltype=modeltype,record=record,plotname = plotname)"
   ]
  },
  {
   "cell_type": "code",
   "execution_count": null,
   "id": "978eccc5",
   "metadata": {},
   "outputs": [],
   "source": [
    "selecter_model = selecter_basemodel\n",
    "selected_data = selecter(data,y,selecter_model,n_features_to_select=35)\n",
    "CI_model = CI_basemodel\n",
    "CI_analyse(selected_data,y,CI_model,modeltype=modeltype,record=record,plotname = plotname)"
   ]
  },
  {
   "cell_type": "code",
   "execution_count": null,
   "id": "b4a1fa20",
   "metadata": {},
   "outputs": [],
   "source": [
    "selecter_model = selecter_basemodel\n",
    "selected_data = selecter(data,y,selecter_model,n_features_to_select=30)\n",
    "CI_model = CI_basemodel\n",
    "CI_analyse(selected_data,y,CI_model,modeltype=modeltype,record=record,plotname = plotname)"
   ]
  },
  {
   "cell_type": "code",
   "execution_count": null,
   "id": "01577811",
   "metadata": {},
   "outputs": [],
   "source": [
    "selecter_model = selecter_basemodel\n",
    "selected_data = selecter(data,y,selecter_model,n_features_to_select=25)\n",
    "CI_model = CI_basemodel\n",
    "CI_analyse(selected_data,y,CI_model,modeltype=modeltype,record=record,plotname = plotname)"
   ]
  },
  {
   "cell_type": "code",
   "execution_count": null,
   "id": "fb1a2df8",
   "metadata": {},
   "outputs": [],
   "source": [
    "selecter_model = selecter_basemodel\n",
    "selected_data = selecter(data,y,selecter_model,n_features_to_select=20)\n",
    "CI_model = CI_basemodel\n",
    "CI_analyse(selected_data,y,CI_model,modeltype=modeltype,record=record,plotname = plotname)"
   ]
  },
  {
   "cell_type": "code",
   "execution_count": null,
   "id": "52b523d9",
   "metadata": {},
   "outputs": [],
   "source": [
    "selecter_model = selecter_basemodel\n",
    "selected_data = selecter(data,y,selecter_model,n_features_to_select=15)\n",
    "CI_model = CI_basemodel\n",
    "CI_analyse(selected_data,y,CI_model,modeltype=modeltype,record=record,plotname = plotname)"
   ]
  },
  {
   "cell_type": "code",
   "execution_count": null,
   "id": "9b7e39c3",
   "metadata": {},
   "outputs": [],
   "source": [
    "selecter_model = selecter_basemodel\n",
    "selected_data = selecter(data,y,selecter_model,n_features_to_select=10)\n",
    "CI_model = CI_basemodel\n",
    "CI_analyse(selected_data,y,CI_model,modeltype=modeltype,record=record,plotname = plotname)"
   ]
  },
  {
   "cell_type": "code",
   "execution_count": null,
   "id": "5e1f0e51",
   "metadata": {},
   "outputs": [],
   "source": [
    "imp_feature = pd.concat([pd.Series([\"ID\"]), pd.Series(selected_data.columns.values)])\n",
    "selected_semantic = semantic[imp_feature]"
   ]
  },
  {
   "cell_type": "markdown",
   "id": "5501a5aa",
   "metadata": {},
   "source": [
    "### only F"
   ]
  },
  {
   "cell_type": "code",
   "execution_count": null,
   "id": "eedf0b07",
   "metadata": {
    "scrolled": true
   },
   "outputs": [],
   "source": [
    "plotname = folder_path+modeltype+\"_NIHSS_backward_F\"\n",
    "target = [0,target_num]\n",
    "data,y = get_data(clinical,target_ls=target,target_num=target_num,fuse=fuse)\n",
    "y = (y>4)*1"
   ]
  },
  {
   "cell_type": "code",
   "execution_count": null,
   "id": "6173b6f2",
   "metadata": {},
   "outputs": [],
   "source": [
    "selecter_model = selecter_basemodel\n",
    "selected_data = selecter(data,y,selecter_model,n_features_to_select=50)\n",
    "CI_model = CI_basemodel\n",
    "CI_analyse(selected_data,y,CI_model,modeltype=modeltype,record=record,plotname = plotname)"
   ]
  },
  {
   "cell_type": "code",
   "execution_count": null,
   "id": "7c55016d",
   "metadata": {},
   "outputs": [],
   "source": [
    "selecter_model = selecter_basemodel\n",
    "selected_data = selecter(data,y,selecter_model,n_features_to_select=45)\n",
    "CI_model = CI_basemodel\n",
    "CI_analyse(selected_data,y,CI_model,modeltype=modeltype,record=record,plotname = plotname)"
   ]
  },
  {
   "cell_type": "code",
   "execution_count": null,
   "id": "6d253567",
   "metadata": {},
   "outputs": [],
   "source": [
    "selecter_model = selecter_basemodel\n",
    "selected_data = selecter(data,y,selecter_model,n_features_to_select=40)\n",
    "CI_model = CI_basemodel\n",
    "CI_analyse(selected_data,y,CI_model,modeltype=modeltype,record=record,plotname = plotname)"
   ]
  },
  {
   "cell_type": "code",
   "execution_count": null,
   "id": "967f55ff",
   "metadata": {},
   "outputs": [],
   "source": [
    "selecter_model = selecter_basemodel\n",
    "selected_data = selecter(data,y,selecter_model,n_features_to_select=35)\n",
    "CI_model = CI_basemodel\n",
    "CI_analyse(selected_data,y,CI_model,modeltype=modeltype,record=record,plotname = plotname)"
   ]
  },
  {
   "cell_type": "code",
   "execution_count": null,
   "id": "201ab17f",
   "metadata": {},
   "outputs": [],
   "source": [
    "selecter_model = selecter_basemodel\n",
    "selected_data = selecter(data,y,selecter_model,n_features_to_select=30)\n",
    "CI_model = CI_basemodel\n",
    "CI_analyse(selected_data,y,CI_model,modeltype=modeltype,record=record,plotname = plotname)"
   ]
  },
  {
   "cell_type": "code",
   "execution_count": null,
   "id": "a61467de",
   "metadata": {},
   "outputs": [],
   "source": [
    "selecter_model = selecter_basemodel\n",
    "selected_data = selecter(data,y,selecter_model,n_features_to_select=25)\n",
    "CI_model = CI_basemodel\n",
    "CI_analyse(selected_data,y,CI_model,modeltype=modeltype,record=record,plotname = plotname)"
   ]
  },
  {
   "cell_type": "code",
   "execution_count": null,
   "id": "0986ddb0",
   "metadata": {},
   "outputs": [],
   "source": [
    "selecter_model = selecter_basemodel\n",
    "selected_data = selecter(data,y,selecter_model,n_features_to_select=20)\n",
    "CI_model = CI_basemodel\n",
    "CI_analyse(selected_data,y,CI_model,modeltype=modeltype,record=record,plotname = plotname)"
   ]
  },
  {
   "cell_type": "code",
   "execution_count": null,
   "id": "511551e1",
   "metadata": {},
   "outputs": [],
   "source": [
    "selecter_model = selecter_basemodel\n",
    "selected_data = selecter(data,y,selecter_model,n_features_to_select=15)\n",
    "CI_model = CI_basemodel\n",
    "CI_analyse(selected_data,y,CI_model,modeltype=modeltype,record=record,plotname = plotname)"
   ]
  },
  {
   "cell_type": "code",
   "execution_count": null,
   "id": "949a8f3f",
   "metadata": {},
   "outputs": [],
   "source": [
    "selecter_model = selecter_basemodel\n",
    "selected_data = selecter(data,y,selecter_model,n_features_to_select=10)\n",
    "CI_model = CI_basemodel\n",
    "CI_analyse(selected_data,y,CI_model,modeltype=modeltype,record=record,plotname = plotname)"
   ]
  },
  {
   "cell_type": "code",
   "execution_count": null,
   "id": "b0ff048d",
   "metadata": {},
   "outputs": [],
   "source": [
    "imp_feature = pd.concat([pd.Series([\"ID\"]), pd.Series(selected_data.columns.values)])\n",
    "selected_fuse = fuse[imp_feature]"
   ]
  },
  {
   "cell_type": "markdown",
   "id": "a96752e8",
   "metadata": {},
   "source": [
    "### F+C"
   ]
  },
  {
   "cell_type": "code",
   "execution_count": null,
   "id": "0d220e78",
   "metadata": {},
   "outputs": [],
   "source": [
    "plotname = folder_path+modeltype+\"_NIHSS_backward_F+C\"\n",
    "target = clinical_after_selection\n",
    "data,y = get_data(clinical,target_ls=target,target_num=target_num,fuse=selected_fuse)\n",
    "y = (y>4)*1"
   ]
  },
  {
   "cell_type": "code",
   "execution_count": null,
   "id": "2fe69ff1",
   "metadata": {},
   "outputs": [],
   "source": [
    "selecter_model = selecter_basemodel\n",
    "selected_data = selecter(data,y,selecter_model,n_features_to_select=50)\n",
    "CI_model = CI_basemodel\n",
    "CI_analyse(selected_data,y,CI_model,modeltype=modeltype,record=record,plotname = plotname)"
   ]
  },
  {
   "cell_type": "code",
   "execution_count": null,
   "id": "ea3ae716",
   "metadata": {},
   "outputs": [],
   "source": [
    "selecter_model = selecter_basemodel\n",
    "selected_data = selecter(data,y,selecter_model,n_features_to_select=45)\n",
    "CI_model = CI_basemodel\n",
    "CI_analyse(selected_data,y,CI_model,modeltype=modeltype,record=record,plotname = plotname)"
   ]
  },
  {
   "cell_type": "code",
   "execution_count": null,
   "id": "9933a155",
   "metadata": {},
   "outputs": [],
   "source": [
    "selecter_model = selecter_basemodel\n",
    "selected_data = selecter(data,y,selecter_model,n_features_to_select=40)\n",
    "CI_model = CI_basemodel\n",
    "CI_analyse(selected_data,y,CI_model,modeltype=modeltype,record=record,plotname = plotname)"
   ]
  },
  {
   "cell_type": "code",
   "execution_count": null,
   "id": "534243d3",
   "metadata": {},
   "outputs": [],
   "source": [
    "selecter_model = selecter_basemodel\n",
    "selected_data = selecter(data,y,selecter_model,n_features_to_select=35)\n",
    "CI_model = CI_basemodel\n",
    "CI_analyse(selected_data,y,CI_model,modeltype=modeltype,record=record,plotname = plotname)"
   ]
  },
  {
   "cell_type": "code",
   "execution_count": null,
   "id": "c0d70e89",
   "metadata": {},
   "outputs": [],
   "source": [
    "selecter_model = selecter_basemodel\n",
    "selected_data = selecter(data,y,selecter_model,n_features_to_select=30)\n",
    "CI_model = CI_basemodel\n",
    "CI_analyse(selected_data,y,CI_model,modeltype=modeltype,record=record,plotname = plotname)"
   ]
  },
  {
   "cell_type": "code",
   "execution_count": null,
   "id": "f47cf848",
   "metadata": {},
   "outputs": [],
   "source": [
    "selecter_model = selecter_basemodel\n",
    "selected_data = selecter(data,y,selecter_model,n_features_to_select=25)\n",
    "CI_model = CI_basemodel\n",
    "CI_analyse(selected_data,y,CI_model,modeltype=modeltype,record=record,plotname = plotname)"
   ]
  },
  {
   "cell_type": "code",
   "execution_count": null,
   "id": "629c991c",
   "metadata": {},
   "outputs": [],
   "source": [
    "selecter_model = selecter_basemodel\n",
    "selected_data = selecter(data,y,selecter_model,n_features_to_select=20)\n",
    "CI_model = CI_basemodel\n",
    "CI_analyse(selected_data,y,CI_model,modeltype=modeltype,record=record,plotname = plotname)"
   ]
  },
  {
   "cell_type": "code",
   "execution_count": null,
   "id": "52dfac68",
   "metadata": {},
   "outputs": [],
   "source": [
    "selecter_model = selecter_basemodel\n",
    "selected_data = selecter(data,y,selecter_model,n_features_to_select=15)\n",
    "CI_model = CI_basemodel\n",
    "CI_analyse(selected_data,y,CI_model,modeltype=modeltype,record=record,plotname = plotname)"
   ]
  },
  {
   "cell_type": "code",
   "execution_count": null,
   "id": "23ef4ee8",
   "metadata": {},
   "outputs": [],
   "source": [
    "selecter_model = selecter_basemodel\n",
    "selected_data = selecter(data,y,selecter_model,n_features_to_select=10)\n",
    "CI_model = CI_basemodel\n",
    "CI_analyse(selected_data,y,CI_model,modeltype=modeltype,record=record,plotname = plotname)"
   ]
  },
  {
   "cell_type": "markdown",
   "id": "22d75fe9",
   "metadata": {},
   "source": [
    "### F+R"
   ]
  },
  {
   "cell_type": "code",
   "execution_count": null,
   "id": "66140c18",
   "metadata": {},
   "outputs": [],
   "source": [
    "plotname = folder_path+modeltype+\"_NIHSS_backward_F+R\"\n",
    "target = [0,target_num]\n",
    "data,y = get_data(clinical,target_ls=target,target_num=target_num,radiomics=selected_radiomics,fuse=selected_fuse)\n",
    "y = (y>4)*1"
   ]
  },
  {
   "cell_type": "code",
   "execution_count": null,
   "id": "912a64e8",
   "metadata": {},
   "outputs": [],
   "source": [
    "selecter_model = selecter_basemodel\n",
    "selected_data = selecter(data,y,selecter_model,n_features_to_select=50)\n",
    "CI_model = CI_basemodel\n",
    "CI_analyse(selected_data,y,CI_model,modeltype=modeltype,record=record,plotname = plotname)"
   ]
  },
  {
   "cell_type": "code",
   "execution_count": null,
   "id": "646812c8",
   "metadata": {},
   "outputs": [],
   "source": [
    "selecter_model = selecter_basemodel\n",
    "selected_data = selecter(data,y,selecter_model,n_features_to_select=45)\n",
    "CI_model = CI_basemodel\n",
    "CI_analyse(selected_data,y,CI_model,modeltype=modeltype,record=record,plotname = plotname)"
   ]
  },
  {
   "cell_type": "code",
   "execution_count": null,
   "id": "172dfd59",
   "metadata": {},
   "outputs": [],
   "source": [
    "selecter_model = selecter_basemodel\n",
    "selected_data = selecter(data,y,selecter_model,n_features_to_select=40)\n",
    "CI_model = CI_basemodel\n",
    "CI_analyse(selected_data,y,CI_model,modeltype=modeltype,record=record,plotname = plotname)"
   ]
  },
  {
   "cell_type": "code",
   "execution_count": null,
   "id": "e9e25da6",
   "metadata": {},
   "outputs": [],
   "source": [
    "selecter_model = selecter_basemodel\n",
    "selected_data = selecter(data,y,selecter_model,n_features_to_select=35)\n",
    "CI_model = CI_basemodel\n",
    "CI_analyse(selected_data,y,CI_model,modeltype=modeltype,record=record,plotname = plotname)"
   ]
  },
  {
   "cell_type": "code",
   "execution_count": null,
   "id": "48d6b848",
   "metadata": {},
   "outputs": [],
   "source": [
    "selecter_model = selecter_basemodel\n",
    "selected_data = selecter(data,y,selecter_model,n_features_to_select=30)\n",
    "CI_model = CI_basemodel\n",
    "CI_analyse(selected_data,y,CI_model,modeltype=modeltype,record=record,plotname = plotname)"
   ]
  },
  {
   "cell_type": "code",
   "execution_count": null,
   "id": "08c674e9",
   "metadata": {},
   "outputs": [],
   "source": [
    "selecter_model = selecter_basemodel\n",
    "selected_data = selecter(data,y,selecter_model,n_features_to_select=25)\n",
    "CI_model = CI_basemodel\n",
    "CI_analyse(selected_data,y,CI_model,modeltype=modeltype,record=record,plotname = plotname)"
   ]
  },
  {
   "cell_type": "code",
   "execution_count": null,
   "id": "c46d6eb8",
   "metadata": {},
   "outputs": [],
   "source": [
    "selecter_model = selecter_basemodel\n",
    "selected_data = selecter(data,y,selecter_model,n_features_to_select=20)\n",
    "CI_model = CI_basemodel\n",
    "CI_analyse(selected_data,y,CI_model,modeltype=modeltype,record=record,plotname = plotname)"
   ]
  },
  {
   "cell_type": "code",
   "execution_count": null,
   "id": "717a291f",
   "metadata": {},
   "outputs": [],
   "source": [
    "selecter_model = selecter_basemodel\n",
    "selected_data = selecter(data,y,selecter_model,n_features_to_select=15)\n",
    "CI_model = CI_basemodel\n",
    "CI_analyse(selected_data,y,CI_model,modeltype=modeltype,record=record,plotname = plotname)"
   ]
  },
  {
   "cell_type": "code",
   "execution_count": null,
   "id": "3b39c72f",
   "metadata": {},
   "outputs": [],
   "source": [
    "selecter_model = selecter_basemodel\n",
    "selected_data = selecter(data,y,selecter_model,n_features_to_select=10)\n",
    "CI_model = CI_basemodel\n",
    "CI_analyse(selected_data,y,CI_model,modeltype=modeltype,record=record,plotname = plotname)"
   ]
  },
  {
   "cell_type": "markdown",
   "id": "cecef126",
   "metadata": {},
   "source": [
    "## F+S"
   ]
  },
  {
   "cell_type": "code",
   "execution_count": null,
   "id": "212666c5",
   "metadata": {},
   "outputs": [],
   "source": [
    "plotname = folder_path+modeltype+\"_NIHSS_backward_F+S\"\n",
    "target = [0,target_num]\n",
    "data,y = get_data(clinical,target_ls=target,target_num=target_num,fuse=selected_fuse,semantic=selected_semantic)\n",
    "y = (y>4)*1"
   ]
  },
  {
   "cell_type": "code",
   "execution_count": null,
   "id": "329d394f",
   "metadata": {},
   "outputs": [],
   "source": [
    "selecter_model = selecter_basemodel\n",
    "selected_data = selecter(data,y,selecter_model,n_features_to_select=50)\n",
    "CI_model = CI_basemodel\n",
    "CI_analyse(selected_data,y,CI_model,modeltype=modeltype,record=record,plotname = plotname)"
   ]
  },
  {
   "cell_type": "code",
   "execution_count": null,
   "id": "8f54ee84",
   "metadata": {},
   "outputs": [],
   "source": [
    "selecter_model = selecter_basemodel\n",
    "selected_data = selecter(data,y,selecter_model,n_features_to_select=45)\n",
    "CI_model = CI_basemodel\n",
    "CI_analyse(selected_data,y,CI_model,modeltype=modeltype,record=record,plotname = plotname)"
   ]
  },
  {
   "cell_type": "code",
   "execution_count": null,
   "id": "9cdd167a",
   "metadata": {},
   "outputs": [],
   "source": [
    "selecter_model = selecter_basemodel\n",
    "selected_data = selecter(data,y,selecter_model,n_features_to_select=40)\n",
    "CI_model = CI_basemodel\n",
    "CI_analyse(selected_data,y,CI_model,modeltype=modeltype,record=record,plotname = plotname)"
   ]
  },
  {
   "cell_type": "code",
   "execution_count": null,
   "id": "07731719",
   "metadata": {},
   "outputs": [],
   "source": [
    "selecter_model = selecter_basemodel\n",
    "selected_data = selecter(data,y,selecter_model,n_features_to_select=35)\n",
    "CI_model = CI_basemodel\n",
    "CI_analyse(selected_data,y,CI_model,modeltype=modeltype,record=record,plotname = plotname)"
   ]
  },
  {
   "cell_type": "code",
   "execution_count": null,
   "id": "ce88452f",
   "metadata": {},
   "outputs": [],
   "source": [
    "selecter_model = selecter_basemodel\n",
    "selected_data = selecter(data,y,selecter_model,n_features_to_select=30)\n",
    "CI_model = CI_basemodel\n",
    "CI_analyse(selected_data,y,CI_model,modeltype=modeltype,record=record,plotname = plotname)"
   ]
  },
  {
   "cell_type": "code",
   "execution_count": null,
   "id": "65382ee4",
   "metadata": {},
   "outputs": [],
   "source": [
    "selecter_model = selecter_basemodel\n",
    "selected_data = selecter(data,y,selecter_model,n_features_to_select=25)\n",
    "CI_model = CI_basemodel\n",
    "CI_analyse(selected_data,y,CI_model,modeltype=modeltype,record=record,plotname = plotname)"
   ]
  },
  {
   "cell_type": "code",
   "execution_count": null,
   "id": "40eba50a",
   "metadata": {},
   "outputs": [],
   "source": [
    "selecter_model = selecter_basemodel\n",
    "selected_data = selecter(data,y,selecter_model,n_features_to_select=20)\n",
    "CI_model = CI_basemodel\n",
    "CI_analyse(selected_data,y,CI_model,modeltype=modeltype,record=record,plotname = plotname)"
   ]
  },
  {
   "cell_type": "code",
   "execution_count": null,
   "id": "106a5d40",
   "metadata": {},
   "outputs": [],
   "source": [
    "selecter_model = selecter_basemodel\n",
    "selected_data = selecter(data,y,selecter_model,n_features_to_select=15)\n",
    "CI_model = CI_basemodel\n",
    "CI_analyse(selected_data,y,CI_model,modeltype=modeltype,record=record,plotname = plotname)"
   ]
  },
  {
   "cell_type": "code",
   "execution_count": null,
   "id": "40345c28",
   "metadata": {},
   "outputs": [],
   "source": [
    "selecter_model = selecter_basemodel\n",
    "selected_data = selecter(data,y,selecter_model,n_features_to_select=10)\n",
    "CI_model = CI_basemodel\n",
    "CI_analyse(selected_data,y,CI_model,modeltype=modeltype,record=record,plotname = plotname)"
   ]
  },
  {
   "cell_type": "markdown",
   "id": "2a023fec",
   "metadata": {},
   "source": [
    "### F+C+R"
   ]
  },
  {
   "cell_type": "code",
   "execution_count": null,
   "id": "30bb5026",
   "metadata": {
    "scrolled": true
   },
   "outputs": [],
   "source": [
    "plotname = folder_path+modeltype+\"_NIHSS_backward_F+C+R\"\n",
    "target = clinical_after_selection\n",
    "data,y = get_data(clinical,target_ls=target,target_num=target_num,radiomics=selected_radiomics,fuse=selected_fuse)\n",
    "y = (y>4)*1"
   ]
  },
  {
   "cell_type": "code",
   "execution_count": null,
   "id": "b9f1f06a",
   "metadata": {},
   "outputs": [],
   "source": [
    "selecter_model = selecter_basemodel\n",
    "selected_data = selecter(data,y,selecter_model,n_features_to_select=50)\n",
    "CI_model = CI_basemodel\n",
    "CI_analyse(selected_data,y,CI_model,modeltype=modeltype,record=record,plotname = plotname)"
   ]
  },
  {
   "cell_type": "code",
   "execution_count": null,
   "id": "0e8955a3",
   "metadata": {},
   "outputs": [],
   "source": [
    "selecter_model = selecter_basemodel\n",
    "selected_data = selecter(data,y,selecter_model,n_features_to_select=45)\n",
    "CI_model = CI_basemodel\n",
    "CI_analyse(selected_data,y,CI_model,modeltype=modeltype,record=record,plotname = plotname)"
   ]
  },
  {
   "cell_type": "code",
   "execution_count": null,
   "id": "b788930b",
   "metadata": {},
   "outputs": [],
   "source": [
    "selecter_model = selecter_basemodel\n",
    "selected_data = selecter(data,y,selecter_model,n_features_to_select=40)\n",
    "CI_model = CI_basemodel\n",
    "CI_analyse(selected_data,y,CI_model,modeltype=modeltype,record=record,plotname = plotname)"
   ]
  },
  {
   "cell_type": "code",
   "execution_count": null,
   "id": "3f3bcda7",
   "metadata": {},
   "outputs": [],
   "source": [
    "selecter_model = selecter_basemodel\n",
    "selected_data = selecter(data,y,selecter_model,n_features_to_select=35)\n",
    "CI_model = CI_basemodel\n",
    "CI_analyse(selected_data,y,CI_model,modeltype=modeltype,record=record,plotname = plotname)"
   ]
  },
  {
   "cell_type": "code",
   "execution_count": null,
   "id": "79b505bc",
   "metadata": {},
   "outputs": [],
   "source": [
    "selecter_model = selecter_basemodel\n",
    "selected_data = selecter(data,y,selecter_model,n_features_to_select=30)\n",
    "CI_model = CI_basemodel\n",
    "CI_analyse(selected_data,y,CI_model,modeltype=modeltype,record=record,plotname = plotname)"
   ]
  },
  {
   "cell_type": "code",
   "execution_count": null,
   "id": "b5f60ec6",
   "metadata": {},
   "outputs": [],
   "source": [
    "selecter_model = selecter_basemodel\n",
    "selected_data = selecter(data,y,selecter_model,n_features_to_select=25)\n",
    "CI_model = CI_basemodel\n",
    "CI_analyse(selected_data,y,CI_model,modeltype=modeltype,record=record,plotname = plotname)"
   ]
  },
  {
   "cell_type": "code",
   "execution_count": null,
   "id": "f0aee474",
   "metadata": {},
   "outputs": [],
   "source": [
    "selecter_model = selecter_basemodel\n",
    "selected_data = selecter(data,y,selecter_model,n_features_to_select=20)\n",
    "CI_model = CI_basemodel\n",
    "CI_analyse(selected_data,y,CI_model,modeltype=modeltype,record=record,plotname = plotname)"
   ]
  },
  {
   "cell_type": "code",
   "execution_count": null,
   "id": "dce68219",
   "metadata": {},
   "outputs": [],
   "source": [
    "selecter_model = selecter_basemodel\n",
    "selected_data = selecter(data,y,selecter_model,n_features_to_select=15)\n",
    "CI_model = CI_basemodel\n",
    "CI_analyse(selected_data,y,CI_model,modeltype=modeltype,record=record,plotname = plotname)"
   ]
  },
  {
   "cell_type": "code",
   "execution_count": null,
   "id": "56ed6c70",
   "metadata": {},
   "outputs": [],
   "source": [
    "selecter_model = selecter_basemodel\n",
    "selected_data = selecter(data,y,selecter_model,n_features_to_select=10)\n",
    "CI_model = CI_basemodel\n",
    "CI_analyse(selected_data,y,CI_model,modeltype=modeltype,record=record,plotname = plotname)"
   ]
  },
  {
   "cell_type": "markdown",
   "id": "c2afac0b",
   "metadata": {},
   "source": [
    "### F+C+R+S"
   ]
  },
  {
   "cell_type": "code",
   "execution_count": null,
   "id": "fad99d55",
   "metadata": {},
   "outputs": [],
   "source": [
    "plotname = folder_path+modeltype+\"_NIHSS_backward_F+C+R+S\"\n",
    "target = clinical_after_selection\n",
    "data,y = get_data(clinical,target_ls=target,target_num=target_num,radiomics=selected_radiomics,semantic=selected_semantic,fuse=selected_fuse)\n",
    "y = (y>4)*1"
   ]
  },
  {
   "cell_type": "code",
   "execution_count": null,
   "id": "123287d3",
   "metadata": {},
   "outputs": [],
   "source": [
    "selecter_model = selecter_basemodel\n",
    "selected_data = selecter(data,y,selecter_model,n_features_to_select=50)\n",
    "CI_model = CI_basemodel\n",
    "CI_analyse(selected_data,y,CI_model,modeltype=modeltype,record=record,plotname = plotname)"
   ]
  },
  {
   "cell_type": "code",
   "execution_count": null,
   "id": "87f42c99",
   "metadata": {},
   "outputs": [],
   "source": [
    "selecter_model = selecter_basemodel\n",
    "selected_data = selecter(data,y,selecter_model,n_features_to_select=45)\n",
    "CI_model = CI_basemodel\n",
    "CI_analyse(selected_data,y,CI_model,modeltype=modeltype,record=record,plotname = plotname)"
   ]
  },
  {
   "cell_type": "code",
   "execution_count": null,
   "id": "44169df2",
   "metadata": {},
   "outputs": [],
   "source": [
    "selecter_model = selecter_basemodel\n",
    "selected_data = selecter(data,y,selecter_model,n_features_to_select=40)\n",
    "CI_model = CI_basemodel\n",
    "CI_analyse(selected_data,y,CI_model,modeltype=modeltype,record=record,plotname = plotname)"
   ]
  },
  {
   "cell_type": "code",
   "execution_count": null,
   "id": "dc7904c9",
   "metadata": {},
   "outputs": [],
   "source": [
    "selecter_model = selecter_basemodel\n",
    "selected_data = selecter(data,y,selecter_model,n_features_to_select=35)\n",
    "CI_model = CI_basemodel\n",
    "CI_analyse(selected_data,y,CI_model,modeltype=modeltype,record=record,plotname = plotname)"
   ]
  },
  {
   "cell_type": "code",
   "execution_count": null,
   "id": "649c269f",
   "metadata": {},
   "outputs": [],
   "source": [
    "selecter_model = selecter_basemodel\n",
    "selected_data = selecter(data,y,selecter_model,n_features_to_select=30)\n",
    "CI_model = CI_basemodel\n",
    "CI_analyse(selected_data,y,CI_model,modeltype=modeltype,record=record,plotname = plotname)"
   ]
  },
  {
   "cell_type": "code",
   "execution_count": null,
   "id": "491e3587",
   "metadata": {},
   "outputs": [],
   "source": [
    "selecter_model = selecter_basemodel\n",
    "selected_data = selecter(data,y,selecter_model,n_features_to_select=25)\n",
    "CI_model = CI_basemodel\n",
    "CI_analyse(selected_data,y,CI_model,modeltype=modeltype,record=record,plotname = plotname)"
   ]
  },
  {
   "cell_type": "code",
   "execution_count": null,
   "id": "546e5eac",
   "metadata": {},
   "outputs": [],
   "source": [
    "selecter_model = selecter_basemodel\n",
    "selected_data = selecter(data,y,selecter_model,n_features_to_select=20)\n",
    "CI_model = CI_basemodel\n",
    "CI_analyse(selected_data,y,CI_model,modeltype=modeltype,record=record,plotname = plotname)"
   ]
  },
  {
   "cell_type": "code",
   "execution_count": null,
   "id": "873e7491",
   "metadata": {},
   "outputs": [],
   "source": [
    "selecter_model = selecter_basemodel\n",
    "selected_data = selecter(data,y,selecter_model,n_features_to_select=15)\n",
    "CI_model = CI_basemodel\n",
    "CI_analyse(selected_data,y,CI_model,modeltype=modeltype,record=record,plotname = plotname)"
   ]
  },
  {
   "cell_type": "code",
   "execution_count": null,
   "id": "71c70e37",
   "metadata": {},
   "outputs": [],
   "source": [
    "selecter_model = selecter_basemodel\n",
    "selected_data = selecter(data,y,selecter_model,n_features_to_select=10)\n",
    "CI_model = CI_basemodel\n",
    "CI_analyse(selected_data,y,CI_model,modeltype=modeltype,record=record,plotname = plotname)"
   ]
  },
  {
   "cell_type": "markdown",
   "id": "b0c28cc8",
   "metadata": {},
   "source": [
    "## LVO"
   ]
  },
  {
   "cell_type": "code",
   "execution_count": null,
   "id": "c1bfb1e2",
   "metadata": {},
   "outputs": [],
   "source": [
    "clinical_target3 = [0,1,2,3,9,11,12,13,14,15,16,17,18,19,20,21,22,23,24,25,26,27,28,29,30,31,32,33,34,35,36,37,38,39,40,41,42,43,44,45,46,47,48]\n",
    "target_num = 9"
   ]
  },
  {
   "cell_type": "markdown",
   "id": "4ef5470b",
   "metadata": {},
   "source": [
    "### only C"
   ]
  },
  {
   "cell_type": "code",
   "execution_count": null,
   "id": "e448cc6e",
   "metadata": {},
   "outputs": [],
   "source": [
    "plotname = folder_path+modeltype+\"_LVO_backward_C\"\n",
    "target = clinical_target3\n",
    "data,y = get_data(clinical,target_ls=target,target_num=target_num)"
   ]
  },
  {
   "cell_type": "code",
   "execution_count": null,
   "id": "2e022f0b",
   "metadata": {},
   "outputs": [],
   "source": [
    "selecter_model = selecter_basemodel\n",
    "selected_data = selecter(data,y,selecter_model,n_features_to_select=40)\n",
    "CI_model = CI_basemodel\n",
    "CI_analyse(selected_data,y,CI_model,modeltype=modeltype,record=record,plotname = plotname)"
   ]
  },
  {
   "cell_type": "code",
   "execution_count": null,
   "id": "c510f96d",
   "metadata": {},
   "outputs": [],
   "source": [
    "selecter_model = selecter_basemodel\n",
    "selected_data = selecter(data,y,selecter_model,n_features_to_select=35)\n",
    "CI_model = CI_basemodel\n",
    "CI_analyse(selected_data,y,CI_model,modeltype=modeltype,record=record,plotname = plotname)"
   ]
  },
  {
   "cell_type": "code",
   "execution_count": null,
   "id": "b4f32852",
   "metadata": {},
   "outputs": [],
   "source": [
    "selecter_model = selecter_basemodel\n",
    "selected_data = selecter(data,y,selecter_model,n_features_to_select=30)\n",
    "CI_model = CI_basemodel\n",
    "CI_analyse(selected_data,y,CI_model,modeltype=modeltype,record=record,plotname = plotname)"
   ]
  },
  {
   "cell_type": "code",
   "execution_count": null,
   "id": "8c3af99c",
   "metadata": {},
   "outputs": [],
   "source": [
    "selecter_model = selecter_basemodel\n",
    "selected_data = selecter(data,y,selecter_model,n_features_to_select=25)\n",
    "CI_model = CI_basemodel\n",
    "CI_analyse(selected_data,y,CI_model,modeltype=modeltype,record=record,plotname = plotname)"
   ]
  },
  {
   "cell_type": "code",
   "execution_count": null,
   "id": "ac14f10f",
   "metadata": {},
   "outputs": [],
   "source": [
    "selecter_model = selecter_basemodel\n",
    "selected_data = selecter(data,y,selecter_model,n_features_to_select=20)\n",
    "CI_model = CI_basemodel\n",
    "CI_analyse(selected_data,y,CI_model,modeltype=modeltype,record=record,plotname = plotname)"
   ]
  },
  {
   "cell_type": "code",
   "execution_count": null,
   "id": "0c705da4",
   "metadata": {},
   "outputs": [],
   "source": [
    "selecter_model = selecter_basemodel\n",
    "selected_data = selecter(data,y,selecter_model,n_features_to_select=15)\n",
    "CI_model = CI_basemodel\n",
    "CI_analyse(selected_data,y,CI_model,modeltype=modeltype,record=record,plotname = plotname)"
   ]
  },
  {
   "cell_type": "code",
   "execution_count": null,
   "id": "27f9b6ed",
   "metadata": {},
   "outputs": [],
   "source": [
    "selecter_model = selecter_basemodel\n",
    "selected_data = selecter(data,y,selecter_model,n_features_to_select=10)\n",
    "CI_model = CI_basemodel\n",
    "CI_analyse(selected_data,y,CI_model,modeltype=modeltype,record=record,plotname = plotname)"
   ]
  },
  {
   "cell_type": "code",
   "execution_count": null,
   "id": "d7d32703",
   "metadata": {},
   "outputs": [],
   "source": [
    "imp_feature = pd.concat([pd.Series([\"ID\",\"LVO-index\"]), pd.Series(selected_data.columns.values)])\n",
    "clinical_after_selection = [clinical.columns.get_loc(label) for label in imp_feature]"
   ]
  },
  {
   "cell_type": "markdown",
   "id": "696aecb3",
   "metadata": {},
   "source": [
    "### only R"
   ]
  },
  {
   "cell_type": "code",
   "execution_count": null,
   "id": "a25ceb14",
   "metadata": {},
   "outputs": [],
   "source": [
    "plotname = folder_path+modeltype+\"_LVO_backward_R\"\n",
    "target = [0,target_num]\n",
    "data,y = get_data(clinical,target_ls=target,target_num=target_num,radiomics=radiomics)"
   ]
  },
  {
   "cell_type": "code",
   "execution_count": null,
   "id": "dc6a73b0",
   "metadata": {},
   "outputs": [],
   "source": [
    "selecter_model = selecter_basemodel\n",
    "selected_data = selecter(data,y,selecter_model,n_features_to_select=50)\n",
    "CI_model = CI_basemodel\n",
    "CI_analyse(selected_data,y,CI_model,modeltype=modeltype,record=record,plotname = plotname)"
   ]
  },
  {
   "cell_type": "code",
   "execution_count": null,
   "id": "359d4679",
   "metadata": {},
   "outputs": [],
   "source": [
    "selecter_model = selecter_basemodel\n",
    "selected_data = selecter(data,y,selecter_model,n_features_to_select=45)\n",
    "CI_model = CI_basemodel\n",
    "CI_analyse(selected_data,y,CI_model,modeltype=modeltype,record=record,plotname = plotname)"
   ]
  },
  {
   "cell_type": "code",
   "execution_count": null,
   "id": "7c975d1f",
   "metadata": {},
   "outputs": [],
   "source": [
    "selecter_model = selecter_basemodel\n",
    "selected_data = selecter(data,y,selecter_model,n_features_to_select=40)\n",
    "CI_model = CI_basemodel\n",
    "CI_analyse(selected_data,y,CI_model,modeltype=modeltype,record=record,plotname = plotname)"
   ]
  },
  {
   "cell_type": "code",
   "execution_count": null,
   "id": "ae7a76a7",
   "metadata": {},
   "outputs": [],
   "source": [
    "selecter_model = selecter_basemodel\n",
    "selected_data = selecter(data,y,selecter_model,n_features_to_select=35)\n",
    "CI_model = CI_basemodel\n",
    "CI_analyse(selected_data,y,CI_model,modeltype=modeltype,record=record,plotname = plotname)"
   ]
  },
  {
   "cell_type": "code",
   "execution_count": null,
   "id": "f46333b4",
   "metadata": {},
   "outputs": [],
   "source": [
    "selecter_model = selecter_basemodel\n",
    "selected_data = selecter(data,y,selecter_model,n_features_to_select=30)\n",
    "CI_model = CI_basemodel\n",
    "CI_analyse(selected_data,y,CI_model,modeltype=modeltype,record=record,plotname = plotname)"
   ]
  },
  {
   "cell_type": "code",
   "execution_count": null,
   "id": "9cbdb0df",
   "metadata": {},
   "outputs": [],
   "source": [
    "selecter_model = selecter_basemodel\n",
    "selected_data = selecter(data,y,selecter_model,n_features_to_select=25)\n",
    "CI_model = CI_basemodel\n",
    "CI_analyse(selected_data,y,CI_model,modeltype=modeltype,record=record,plotname = plotname)"
   ]
  },
  {
   "cell_type": "code",
   "execution_count": null,
   "id": "5fad1fc7",
   "metadata": {},
   "outputs": [],
   "source": [
    "selecter_model = selecter_basemodel\n",
    "selected_data = selecter(data,y,selecter_model,n_features_to_select=20)\n",
    "CI_model = CI_basemodel\n",
    "CI_analyse(selected_data,y,CI_model,modeltype=modeltype,record=record,plotname = plotname)"
   ]
  },
  {
   "cell_type": "code",
   "execution_count": null,
   "id": "e9cfd3eb",
   "metadata": {},
   "outputs": [],
   "source": [
    "selecter_model = selecter_basemodel\n",
    "selected_data = selecter(data,y,selecter_model,n_features_to_select=15)\n",
    "CI_model = CI_basemodel\n",
    "CI_analyse(selected_data,y,CI_model,modeltype=modeltype,record=record,plotname = plotname)"
   ]
  },
  {
   "cell_type": "code",
   "execution_count": null,
   "id": "d663fe60",
   "metadata": {},
   "outputs": [],
   "source": [
    "selecter_model = selecter_basemodel\n",
    "selected_data = selecter(data,y,selecter_model,n_features_to_select=10)\n",
    "CI_model = CI_basemodel\n",
    "CI_analyse(selected_data,y,CI_model,modeltype=modeltype,record=record,plotname = plotname)"
   ]
  },
  {
   "cell_type": "code",
   "execution_count": null,
   "id": "ac78cac3",
   "metadata": {},
   "outputs": [],
   "source": [
    "imp_feature = pd.concat([pd.Series([\"ID\"]), pd.Series(selected_data.columns.values)])\n",
    "selected_radiomics = radiomics[imp_feature]"
   ]
  },
  {
   "cell_type": "markdown",
   "id": "27d8ace5",
   "metadata": {},
   "source": [
    "### only S"
   ]
  },
  {
   "cell_type": "code",
   "execution_count": null,
   "id": "64fa80d7",
   "metadata": {},
   "outputs": [],
   "source": [
    "plotname = folder_path+modeltype+\"_LVO_backward_S\"\n",
    "target = [0,target_num]\n",
    "data,y = get_data(clinical,target_ls=target,target_num=target_num,semantic=semantic)"
   ]
  },
  {
   "cell_type": "code",
   "execution_count": null,
   "id": "fdd9e42f",
   "metadata": {},
   "outputs": [],
   "source": [
    "selecter_model = selecter_basemodel\n",
    "selected_data = selecter(data,y,selecter_model,n_features_to_select=50)\n",
    "CI_model = CI_basemodel\n",
    "CI_analyse(selected_data,y,CI_model,modeltype=modeltype,record=record,plotname = plotname)"
   ]
  },
  {
   "cell_type": "code",
   "execution_count": null,
   "id": "c80566ff",
   "metadata": {},
   "outputs": [],
   "source": [
    "selecter_model = selecter_basemodel\n",
    "selected_data = selecter(data,y,selecter_model,n_features_to_select=45)\n",
    "CI_model = CI_basemodel\n",
    "CI_analyse(selected_data,y,CI_model,modeltype=modeltype,record=record,plotname = plotname)"
   ]
  },
  {
   "cell_type": "code",
   "execution_count": null,
   "id": "4cdb73e9",
   "metadata": {},
   "outputs": [],
   "source": [
    "selecter_model = selecter_basemodel\n",
    "selected_data = selecter(data,y,selecter_model,n_features_to_select=40)\n",
    "CI_model = CI_basemodel\n",
    "CI_analyse(selected_data,y,CI_model,modeltype=modeltype,record=record,plotname = plotname)"
   ]
  },
  {
   "cell_type": "code",
   "execution_count": null,
   "id": "f5390c70",
   "metadata": {},
   "outputs": [],
   "source": [
    "selecter_model = selecter_basemodel\n",
    "selected_data = selecter(data,y,selecter_model,n_features_to_select=35)\n",
    "CI_model = CI_basemodel\n",
    "CI_analyse(selected_data,y,CI_model,modeltype=modeltype,record=record,plotname = plotname)"
   ]
  },
  {
   "cell_type": "code",
   "execution_count": null,
   "id": "bbe4245e",
   "metadata": {},
   "outputs": [],
   "source": [
    "selecter_model = selecter_basemodel\n",
    "selected_data = selecter(data,y,selecter_model,n_features_to_select=30)\n",
    "CI_model = CI_basemodel\n",
    "CI_analyse(selected_data,y,CI_model,modeltype=modeltype,record=record,plotname = plotname)"
   ]
  },
  {
   "cell_type": "code",
   "execution_count": null,
   "id": "f183a4d7",
   "metadata": {},
   "outputs": [],
   "source": [
    "selecter_model = selecter_basemodel\n",
    "selected_data = selecter(data,y,selecter_model,n_features_to_select=25)\n",
    "CI_model = CI_basemodel\n",
    "CI_analyse(selected_data,y,CI_model,modeltype=modeltype,record=record,plotname = plotname)"
   ]
  },
  {
   "cell_type": "code",
   "execution_count": null,
   "id": "0c609820",
   "metadata": {},
   "outputs": [],
   "source": [
    "selecter_model = selecter_basemodel\n",
    "selected_data = selecter(data,y,selecter_model,n_features_to_select=20)\n",
    "CI_model = CI_basemodel\n",
    "CI_analyse(selected_data,y,CI_model,modeltype=modeltype,record=record,plotname = plotname)"
   ]
  },
  {
   "cell_type": "code",
   "execution_count": null,
   "id": "efd37547",
   "metadata": {},
   "outputs": [],
   "source": [
    "selecter_model = selecter_basemodel\n",
    "selected_data = selecter(data,y,selecter_model,n_features_to_select=15)\n",
    "CI_model = CI_basemodel\n",
    "CI_analyse(selected_data,y,CI_model,modeltype=modeltype,record=record,plotname = plotname)"
   ]
  },
  {
   "cell_type": "code",
   "execution_count": null,
   "id": "55f35721",
   "metadata": {},
   "outputs": [],
   "source": [
    "selecter_model = selecter_basemodel\n",
    "selected_data = selecter(data,y,selecter_model,n_features_to_select=10)\n",
    "CI_model = CI_basemodel\n",
    "CI_analyse(selected_data,y,CI_model,modeltype=modeltype,record=record,plotname = plotname)"
   ]
  },
  {
   "cell_type": "code",
   "execution_count": null,
   "id": "a309e51f",
   "metadata": {},
   "outputs": [],
   "source": [
    "imp_feature = pd.concat([pd.Series([\"ID\"]), pd.Series(selected_data.columns.values)])\n",
    "selected_semantic = semantic[imp_feature]"
   ]
  },
  {
   "cell_type": "markdown",
   "id": "23dda091",
   "metadata": {},
   "source": [
    "### only F"
   ]
  },
  {
   "cell_type": "code",
   "execution_count": null,
   "id": "ed77f53b",
   "metadata": {},
   "outputs": [],
   "source": [
    "plotname = folder_path+modeltype+\"_LVO_backward_F\"\n",
    "target = [0,target_num]\n",
    "data,y = get_data(clinical,target_ls=target,target_num=target_num,fuse=fuse)"
   ]
  },
  {
   "cell_type": "code",
   "execution_count": null,
   "id": "120d8e48",
   "metadata": {},
   "outputs": [],
   "source": [
    "selecter_model = selecter_basemodel\n",
    "selected_data = selecter(data,y,selecter_model,n_features_to_select=50)\n",
    "CI_model = CI_basemodel\n",
    "CI_analyse(selected_data,y,CI_model,modeltype=modeltype,record=record,plotname = plotname)"
   ]
  },
  {
   "cell_type": "code",
   "execution_count": null,
   "id": "e843543b",
   "metadata": {},
   "outputs": [],
   "source": [
    "selecter_model = selecter_basemodel\n",
    "selected_data = selecter(data,y,selecter_model,n_features_to_select=45)\n",
    "CI_model = CI_basemodel\n",
    "CI_analyse(selected_data,y,CI_model,modeltype=modeltype,record=record,plotname = plotname)"
   ]
  },
  {
   "cell_type": "code",
   "execution_count": null,
   "id": "83e9b38b",
   "metadata": {},
   "outputs": [],
   "source": [
    "selecter_model = selecter_basemodel\n",
    "selected_data = selecter(data,y,selecter_model,n_features_to_select=40)\n",
    "CI_model = CI_basemodel\n",
    "CI_analyse(selected_data,y,CI_model,modeltype=modeltype,record=record,plotname = plotname)"
   ]
  },
  {
   "cell_type": "code",
   "execution_count": null,
   "id": "66f18f26",
   "metadata": {},
   "outputs": [],
   "source": [
    "selecter_model = selecter_basemodel\n",
    "selected_data = selecter(data,y,selecter_model,n_features_to_select=35)\n",
    "CI_model = CI_basemodel\n",
    "CI_analyse(selected_data,y,CI_model,modeltype=modeltype,record=record,plotname = plotname)"
   ]
  },
  {
   "cell_type": "code",
   "execution_count": null,
   "id": "e35c1f71",
   "metadata": {},
   "outputs": [],
   "source": [
    "selecter_model = selecter_basemodel\n",
    "selected_data = selecter(data,y,selecter_model,n_features_to_select=30)\n",
    "CI_model = CI_basemodel\n",
    "CI_analyse(selected_data,y,CI_model,modeltype=modeltype,record=record,plotname = plotname)"
   ]
  },
  {
   "cell_type": "code",
   "execution_count": null,
   "id": "ccec289c",
   "metadata": {},
   "outputs": [],
   "source": [
    "selecter_model = selecter_basemodel\n",
    "selected_data = selecter(data,y,selecter_model,n_features_to_select=25)\n",
    "CI_model = CI_basemodel\n",
    "CI_analyse(selected_data,y,CI_model,modeltype=modeltype,record=record,plotname = plotname)"
   ]
  },
  {
   "cell_type": "code",
   "execution_count": null,
   "id": "a333b793",
   "metadata": {},
   "outputs": [],
   "source": [
    "selecter_model = selecter_basemodel\n",
    "selected_data = selecter(data,y,selecter_model,n_features_to_select=20)\n",
    "CI_model = CI_basemodel\n",
    "CI_analyse(selected_data,y,CI_model,modeltype=modeltype,record=record,plotname = plotname)"
   ]
  },
  {
   "cell_type": "code",
   "execution_count": null,
   "id": "85f9a881",
   "metadata": {},
   "outputs": [],
   "source": [
    "selecter_model = selecter_basemodel\n",
    "selected_data = selecter(data,y,selecter_model,n_features_to_select=15)\n",
    "CI_model = CI_basemodel\n",
    "CI_analyse(selected_data,y,CI_model,modeltype=modeltype,record=record,plotname = plotname)"
   ]
  },
  {
   "cell_type": "code",
   "execution_count": null,
   "id": "a3c7f62d",
   "metadata": {},
   "outputs": [],
   "source": [
    "selecter_model = selecter_basemodel\n",
    "selected_data = selecter(data,y,selecter_model,n_features_to_select=10)\n",
    "CI_model = CI_basemodel\n",
    "CI_analyse(selected_data,y,CI_model,modeltype=modeltype,record=record,plotname = plotname)"
   ]
  },
  {
   "cell_type": "code",
   "execution_count": null,
   "id": "2c1f11d9",
   "metadata": {},
   "outputs": [],
   "source": [
    "imp_feature = pd.concat([pd.Series([\"ID\"]), pd.Series(selected_data.columns.values)])\n",
    "selected_fuse = fuse[imp_feature]"
   ]
  },
  {
   "cell_type": "markdown",
   "id": "b9321410",
   "metadata": {},
   "source": [
    "### F+C"
   ]
  },
  {
   "cell_type": "code",
   "execution_count": null,
   "id": "519aba91",
   "metadata": {},
   "outputs": [],
   "source": [
    "plotname = folder_path+modeltype+\"_LVO_backward_F+C\"\n",
    "target = clinical_after_selection\n",
    "data,y = get_data(clinical,target_ls=target,target_num=target_num,fuse=selected_fuse)"
   ]
  },
  {
   "cell_type": "code",
   "execution_count": null,
   "id": "00b2de8a",
   "metadata": {},
   "outputs": [],
   "source": [
    "selecter_model = selecter_basemodel\n",
    "selected_data = selecter(data,y,selecter_model,n_features_to_select=50)\n",
    "CI_model = CI_basemodel\n",
    "CI_analyse(selected_data,y,CI_model,modeltype=modeltype,record=record,plotname = plotname)"
   ]
  },
  {
   "cell_type": "code",
   "execution_count": null,
   "id": "7a83549f",
   "metadata": {},
   "outputs": [],
   "source": [
    "selecter_model = selecter_basemodel\n",
    "selected_data = selecter(data,y,selecter_model,n_features_to_select=45)\n",
    "CI_model = CI_basemodel\n",
    "CI_analyse(selected_data,y,CI_model,modeltype=modeltype,record=record,plotname = plotname)"
   ]
  },
  {
   "cell_type": "code",
   "execution_count": null,
   "id": "0e6d3112",
   "metadata": {},
   "outputs": [],
   "source": [
    "selecter_model = selecter_basemodel\n",
    "selected_data = selecter(data,y,selecter_model,n_features_to_select=40)\n",
    "CI_model = CI_basemodel\n",
    "CI_analyse(selected_data,y,CI_model,modeltype=modeltype,record=record,plotname = plotname)"
   ]
  },
  {
   "cell_type": "code",
   "execution_count": null,
   "id": "e16a3392",
   "metadata": {},
   "outputs": [],
   "source": [
    "selecter_model = selecter_basemodel\n",
    "selected_data = selecter(data,y,selecter_model,n_features_to_select=35)\n",
    "CI_model = CI_basemodel\n",
    "CI_analyse(selected_data,y,CI_model,modeltype=modeltype,record=record,plotname = plotname)"
   ]
  },
  {
   "cell_type": "code",
   "execution_count": null,
   "id": "ff46ef02",
   "metadata": {},
   "outputs": [],
   "source": [
    "selecter_model = selecter_basemodel\n",
    "selected_data = selecter(data,y,selecter_model,n_features_to_select=30)\n",
    "CI_model = CI_basemodel\n",
    "CI_analyse(selected_data,y,CI_model,modeltype=modeltype,record=record,plotname = plotname)"
   ]
  },
  {
   "cell_type": "code",
   "execution_count": null,
   "id": "1797f8f3",
   "metadata": {},
   "outputs": [],
   "source": [
    "selecter_model = selecter_basemodel\n",
    "selected_data = selecter(data,y,selecter_model,n_features_to_select=25)\n",
    "CI_model = CI_basemodel\n",
    "CI_analyse(selected_data,y,CI_model,modeltype=modeltype,record=record,plotname = plotname)"
   ]
  },
  {
   "cell_type": "code",
   "execution_count": null,
   "id": "7826869d",
   "metadata": {},
   "outputs": [],
   "source": [
    "selecter_model = selecter_basemodel\n",
    "selected_data = selecter(data,y,selecter_model,n_features_to_select=20)\n",
    "CI_model = CI_basemodel\n",
    "CI_analyse(selected_data,y,CI_model,modeltype=modeltype,record=record,plotname = plotname)"
   ]
  },
  {
   "cell_type": "code",
   "execution_count": null,
   "id": "8db08b05",
   "metadata": {},
   "outputs": [],
   "source": [
    "selecter_model = selecter_basemodel\n",
    "selected_data = selecter(data,y,selecter_model,n_features_to_select=15)\n",
    "CI_model = CI_basemodel\n",
    "CI_analyse(selected_data,y,CI_model,modeltype=modeltype,record=record,plotname = plotname)"
   ]
  },
  {
   "cell_type": "code",
   "execution_count": null,
   "id": "ee2d9238",
   "metadata": {},
   "outputs": [],
   "source": [
    "selecter_model = selecter_basemodel\n",
    "selected_data = selecter(data,y,selecter_model,n_features_to_select=10)\n",
    "CI_model = CI_basemodel\n",
    "CI_analyse(selected_data,y,CI_model,modeltype=modeltype,record=record,plotname = plotname)"
   ]
  },
  {
   "cell_type": "markdown",
   "id": "3fa55f56",
   "metadata": {},
   "source": [
    "### F+R"
   ]
  },
  {
   "cell_type": "code",
   "execution_count": null,
   "id": "ac08120c",
   "metadata": {},
   "outputs": [],
   "source": [
    "plotname = folder_path+modeltype+\"_LVO_backward_F+R\"\n",
    "target = [0,target_num]\n",
    "data,y = get_data(clinical,target_ls=target,target_num=target_num,radiomics=selected_radiomics,fuse=selected_fuse)"
   ]
  },
  {
   "cell_type": "code",
   "execution_count": null,
   "id": "fa11d40b",
   "metadata": {},
   "outputs": [],
   "source": [
    "selecter_model = selecter_basemodel\n",
    "selected_data = selecter(data,y,selecter_model,n_features_to_select=50)\n",
    "CI_model = CI_basemodel\n",
    "CI_analyse(selected_data,y,CI_model,modeltype=modeltype,record=record,plotname = plotname)"
   ]
  },
  {
   "cell_type": "code",
   "execution_count": null,
   "id": "6f92a771",
   "metadata": {},
   "outputs": [],
   "source": [
    "selecter_model = selecter_basemodel\n",
    "selected_data = selecter(data,y,selecter_model,n_features_to_select=45)\n",
    "CI_model = CI_basemodel\n",
    "CI_analyse(selected_data,y,CI_model,modeltype=modeltype,record=record,plotname = plotname)"
   ]
  },
  {
   "cell_type": "code",
   "execution_count": null,
   "id": "14565590",
   "metadata": {},
   "outputs": [],
   "source": [
    "selecter_model = selecter_basemodel\n",
    "selected_data = selecter(data,y,selecter_model,n_features_to_select=40)\n",
    "CI_model = CI_basemodel\n",
    "CI_analyse(selected_data,y,CI_model,modeltype=modeltype,record=record,plotname = plotname)"
   ]
  },
  {
   "cell_type": "code",
   "execution_count": null,
   "id": "256e6eab",
   "metadata": {},
   "outputs": [],
   "source": [
    "selecter_model = selecter_basemodel\n",
    "selected_data = selecter(data,y,selecter_model,n_features_to_select=35)\n",
    "CI_model = CI_basemodel\n",
    "CI_analyse(selected_data,y,CI_model,modeltype=modeltype,record=record,plotname = plotname)"
   ]
  },
  {
   "cell_type": "code",
   "execution_count": null,
   "id": "bb5e7d0a",
   "metadata": {},
   "outputs": [],
   "source": [
    "selecter_model = selecter_basemodel\n",
    "selected_data = selecter(data,y,selecter_model,n_features_to_select=30)\n",
    "CI_model = CI_basemodel\n",
    "CI_analyse(selected_data,y,CI_model,modeltype=modeltype,record=record,plotname = plotname)"
   ]
  },
  {
   "cell_type": "code",
   "execution_count": null,
   "id": "ac61cefe",
   "metadata": {},
   "outputs": [],
   "source": [
    "selecter_model = selecter_basemodel\n",
    "selected_data = selecter(data,y,selecter_model,n_features_to_select=25)\n",
    "CI_model = CI_basemodel\n",
    "CI_analyse(selected_data,y,CI_model,modeltype=modeltype,record=record,plotname = plotname)"
   ]
  },
  {
   "cell_type": "code",
   "execution_count": null,
   "id": "d0481d6c",
   "metadata": {},
   "outputs": [],
   "source": [
    "selecter_model = selecter_basemodel\n",
    "selected_data = selecter(data,y,selecter_model,n_features_to_select=20)\n",
    "CI_model = CI_basemodel\n",
    "CI_analyse(selected_data,y,CI_model,modeltype=modeltype,record=record,plotname = plotname)"
   ]
  },
  {
   "cell_type": "code",
   "execution_count": null,
   "id": "9005f183",
   "metadata": {},
   "outputs": [],
   "source": [
    "selecter_model = selecter_basemodel\n",
    "selected_data = selecter(data,y,selecter_model,n_features_to_select=15)\n",
    "CI_model = CI_basemodel\n",
    "CI_analyse(selected_data,y,CI_model,modeltype=modeltype,record=record,plotname = plotname)"
   ]
  },
  {
   "cell_type": "code",
   "execution_count": null,
   "id": "f994d3fc",
   "metadata": {},
   "outputs": [],
   "source": [
    "selecter_model = selecter_basemodel\n",
    "selected_data = selecter(data,y,selecter_model,n_features_to_select=10)\n",
    "CI_model = CI_basemodel\n",
    "CI_analyse(selected_data,y,CI_model,modeltype=modeltype,record=record,plotname = plotname)"
   ]
  },
  {
   "cell_type": "markdown",
   "id": "d79d7eba",
   "metadata": {},
   "source": [
    "## F+S"
   ]
  },
  {
   "cell_type": "code",
   "execution_count": null,
   "id": "85e5655a",
   "metadata": {},
   "outputs": [],
   "source": [
    "plotname = folder_path+modeltype+\"_LVO_backward_F+S\"\n",
    "target = [0,target_num]\n",
    "data,y = get_data(clinical,target_ls=target,target_num=target_num,fuse=selected_fuse,semantic=selected_semantic)"
   ]
  },
  {
   "cell_type": "code",
   "execution_count": null,
   "id": "0365c3f5",
   "metadata": {},
   "outputs": [],
   "source": [
    "selecter_model = selecter_basemodel\n",
    "selected_data = selecter(data,y,selecter_model,n_features_to_select=50)\n",
    "CI_model = CI_basemodel\n",
    "CI_analyse(selected_data,y,CI_model,modeltype=modeltype,record=record,plotname = plotname)"
   ]
  },
  {
   "cell_type": "code",
   "execution_count": null,
   "id": "7a764745",
   "metadata": {},
   "outputs": [],
   "source": [
    "selecter_model = selecter_basemodel\n",
    "selected_data = selecter(data,y,selecter_model,n_features_to_select=45)\n",
    "CI_model = CI_basemodel\n",
    "CI_analyse(selected_data,y,CI_model,modeltype=modeltype,record=record,plotname = plotname)"
   ]
  },
  {
   "cell_type": "code",
   "execution_count": null,
   "id": "023b191a",
   "metadata": {},
   "outputs": [],
   "source": [
    "selecter_model = selecter_basemodel\n",
    "selected_data = selecter(data,y,selecter_model,n_features_to_select=40)\n",
    "CI_model = CI_basemodel\n",
    "CI_analyse(selected_data,y,CI_model,modeltype=modeltype,record=record,plotname = plotname)"
   ]
  },
  {
   "cell_type": "code",
   "execution_count": null,
   "id": "22850b55",
   "metadata": {},
   "outputs": [],
   "source": [
    "selecter_model = selecter_basemodel\n",
    "selected_data = selecter(data,y,selecter_model,n_features_to_select=35)\n",
    "CI_model = CI_basemodel\n",
    "CI_analyse(selected_data,y,CI_model,modeltype=modeltype,record=record,plotname = plotname)"
   ]
  },
  {
   "cell_type": "code",
   "execution_count": null,
   "id": "2fb627ab",
   "metadata": {},
   "outputs": [],
   "source": [
    "selecter_model = selecter_basemodel\n",
    "selected_data = selecter(data,y,selecter_model,n_features_to_select=30)\n",
    "CI_model = CI_basemodel\n",
    "CI_analyse(selected_data,y,CI_model,modeltype=modeltype,record=record,plotname = plotname)"
   ]
  },
  {
   "cell_type": "code",
   "execution_count": null,
   "id": "4d6237f7",
   "metadata": {},
   "outputs": [],
   "source": [
    "selecter_model = selecter_basemodel\n",
    "selected_data = selecter(data,y,selecter_model,n_features_to_select=25)\n",
    "CI_model = CI_basemodel\n",
    "CI_analyse(selected_data,y,CI_model,modeltype=modeltype,record=record,plotname = plotname)"
   ]
  },
  {
   "cell_type": "code",
   "execution_count": null,
   "id": "10a24b53",
   "metadata": {},
   "outputs": [],
   "source": [
    "selecter_model = selecter_basemodel\n",
    "selected_data = selecter(data,y,selecter_model,n_features_to_select=20)\n",
    "CI_model = CI_basemodel\n",
    "CI_analyse(selected_data,y,CI_model,modeltype=modeltype,record=record,plotname = plotname)"
   ]
  },
  {
   "cell_type": "code",
   "execution_count": null,
   "id": "d24970b3",
   "metadata": {},
   "outputs": [],
   "source": [
    "selecter_model = selecter_basemodel\n",
    "selected_data = selecter(data,y,selecter_model,n_features_to_select=15)\n",
    "CI_model = CI_basemodel\n",
    "CI_analyse(selected_data,y,CI_model,modeltype=modeltype,record=record,plotname = plotname)"
   ]
  },
  {
   "cell_type": "code",
   "execution_count": null,
   "id": "25ef207a",
   "metadata": {},
   "outputs": [],
   "source": [
    "selecter_model = selecter_basemodel\n",
    "selected_data = selecter(data,y,selecter_model,n_features_to_select=10)\n",
    "CI_model = CI_basemodel\n",
    "CI_analyse(selected_data,y,CI_model,modeltype=modeltype,record=record,plotname = plotname)"
   ]
  },
  {
   "cell_type": "markdown",
   "id": "a92ca67c",
   "metadata": {},
   "source": [
    "### F+C+R"
   ]
  },
  {
   "cell_type": "code",
   "execution_count": null,
   "id": "4c6a7325",
   "metadata": {},
   "outputs": [],
   "source": [
    "plotname = folder_path+modeltype+\"_LVO_backward_F+C+R\"\n",
    "target = clinical_after_selection\n",
    "data,y = get_data(clinical,target_ls=target,target_num=target_num,radiomics=selected_radiomics,fuse=selected_fuse)"
   ]
  },
  {
   "cell_type": "code",
   "execution_count": null,
   "id": "7f4f82df",
   "metadata": {},
   "outputs": [],
   "source": [
    "selecter_model = selecter_basemodel\n",
    "selected_data = selecter(data,y,selecter_model,n_features_to_select=50)\n",
    "CI_model = CI_basemodel\n",
    "CI_analyse(selected_data,y,CI_model,modeltype=modeltype,record=record,plotname = plotname)"
   ]
  },
  {
   "cell_type": "code",
   "execution_count": null,
   "id": "a767f831",
   "metadata": {},
   "outputs": [],
   "source": [
    "selecter_model = selecter_basemodel\n",
    "selected_data = selecter(data,y,selecter_model,n_features_to_select=45)\n",
    "CI_model = CI_basemodel\n",
    "CI_analyse(selected_data,y,CI_model,modeltype=modeltype,record=record,plotname = plotname)"
   ]
  },
  {
   "cell_type": "code",
   "execution_count": null,
   "id": "1146406f",
   "metadata": {},
   "outputs": [],
   "source": [
    "selecter_model = selecter_basemodel\n",
    "selected_data = selecter(data,y,selecter_model,n_features_to_select=40)\n",
    "CI_model = CI_basemodel\n",
    "CI_analyse(selected_data,y,CI_model,modeltype=modeltype,record=record,plotname = plotname)"
   ]
  },
  {
   "cell_type": "code",
   "execution_count": null,
   "id": "8efef7a3",
   "metadata": {},
   "outputs": [],
   "source": [
    "selecter_model = selecter_basemodel\n",
    "selected_data = selecter(data,y,selecter_model,n_features_to_select=35)\n",
    "CI_model = CI_basemodel\n",
    "CI_analyse(selected_data,y,CI_model,modeltype=modeltype,record=record,plotname = plotname)"
   ]
  },
  {
   "cell_type": "code",
   "execution_count": null,
   "id": "8f0e23c7",
   "metadata": {},
   "outputs": [],
   "source": [
    "selecter_model = selecter_basemodel\n",
    "selected_data = selecter(data,y,selecter_model,n_features_to_select=30)\n",
    "CI_model = CI_basemodel\n",
    "CI_analyse(selected_data,y,CI_model,modeltype=modeltype,record=record,plotname = plotname)"
   ]
  },
  {
   "cell_type": "code",
   "execution_count": null,
   "id": "6e44383e",
   "metadata": {},
   "outputs": [],
   "source": [
    "selecter_model = selecter_basemodel\n",
    "selected_data = selecter(data,y,selecter_model,n_features_to_select=25)\n",
    "CI_model = CI_basemodel\n",
    "CI_analyse(selected_data,y,CI_model,modeltype=modeltype,record=record,plotname = plotname)"
   ]
  },
  {
   "cell_type": "code",
   "execution_count": null,
   "id": "10e7b904",
   "metadata": {},
   "outputs": [],
   "source": [
    "selecter_model = selecter_basemodel\n",
    "selected_data = selecter(data,y,selecter_model,n_features_to_select=20)\n",
    "CI_model = CI_basemodel\n",
    "CI_analyse(selected_data,y,CI_model,modeltype=modeltype,record=record,plotname = plotname)"
   ]
  },
  {
   "cell_type": "code",
   "execution_count": null,
   "id": "8323c0fd",
   "metadata": {},
   "outputs": [],
   "source": [
    "selecter_model = selecter_basemodel\n",
    "selected_data = selecter(data,y,selecter_model,n_features_to_select=15)\n",
    "CI_model = CI_basemodel\n",
    "CI_analyse(selected_data,y,CI_model,modeltype=modeltype,record=record,plotname = plotname)"
   ]
  },
  {
   "cell_type": "code",
   "execution_count": null,
   "id": "4cac6ebc",
   "metadata": {},
   "outputs": [],
   "source": [
    "selecter_model = selecter_basemodel\n",
    "selected_data = selecter(data,y,selecter_model,n_features_to_select=10)\n",
    "CI_model = CI_basemodel\n",
    "CI_analyse(selected_data,y,CI_model,modeltype=modeltype,record=record,plotname = plotname)"
   ]
  },
  {
   "cell_type": "markdown",
   "id": "c6050ca4",
   "metadata": {},
   "source": [
    "### F+C+R+S"
   ]
  },
  {
   "cell_type": "code",
   "execution_count": null,
   "id": "2b4c7d14",
   "metadata": {},
   "outputs": [],
   "source": [
    "plotname = folder_path+modeltype+\"_LVO_backward_F+C+R+S\"\n",
    "target = clinical_after_selection\n",
    "data,y = get_data(clinical,target_ls=target,target_num=target_num,radiomics=selected_radiomics,semantic=selected_semantic,fuse=selected_fuse)"
   ]
  },
  {
   "cell_type": "code",
   "execution_count": null,
   "id": "d46c387e",
   "metadata": {},
   "outputs": [],
   "source": [
    "selecter_model = selecter_basemodel\n",
    "selected_data = selecter(data,y,selecter_model,n_features_to_select=50)\n",
    "CI_model = CI_basemodel\n",
    "CI_analyse(selected_data,y,CI_model,modeltype=modeltype,record=record,plotname = plotname)"
   ]
  },
  {
   "cell_type": "code",
   "execution_count": null,
   "id": "af15d0e1",
   "metadata": {},
   "outputs": [],
   "source": [
    "selecter_model = selecter_basemodel\n",
    "selected_data = selecter(data,y,selecter_model,n_features_to_select=45)\n",
    "CI_model = CI_basemodel\n",
    "CI_analyse(selected_data,y,CI_model,modeltype=modeltype,record=record,plotname = plotname)"
   ]
  },
  {
   "cell_type": "code",
   "execution_count": null,
   "id": "385003d5",
   "metadata": {},
   "outputs": [],
   "source": [
    "selecter_model = selecter_basemodel\n",
    "selected_data = selecter(data,y,selecter_model,n_features_to_select=40)\n",
    "CI_model = CI_basemodel\n",
    "CI_analyse(selected_data,y,CI_model,modeltype=modeltype,record=record,plotname = plotname)"
   ]
  },
  {
   "cell_type": "code",
   "execution_count": null,
   "id": "56f1fa81",
   "metadata": {},
   "outputs": [],
   "source": [
    "selecter_model = selecter_basemodel\n",
    "selected_data = selecter(data,y,selecter_model,n_features_to_select=35)\n",
    "CI_model = CI_basemodel\n",
    "CI_analyse(selected_data,y,CI_model,modeltype=modeltype,record=record,plotname = plotname)"
   ]
  },
  {
   "cell_type": "code",
   "execution_count": null,
   "id": "77d56c91",
   "metadata": {},
   "outputs": [],
   "source": [
    "selecter_model = selecter_basemodel\n",
    "selected_data = selecter(data,y,selecter_model,n_features_to_select=30)\n",
    "CI_model = CI_basemodel\n",
    "CI_analyse(selected_data,y,CI_model,modeltype=modeltype,record=record,plotname = plotname)"
   ]
  },
  {
   "cell_type": "code",
   "execution_count": null,
   "id": "42791492",
   "metadata": {},
   "outputs": [],
   "source": [
    "selecter_model = selecter_basemodel\n",
    "selected_data = selecter(data,y,selecter_model,n_features_to_select=25)\n",
    "CI_model = CI_basemodel\n",
    "CI_analyse(selected_data,y,CI_model,modeltype=modeltype,record=record,plotname = plotname)"
   ]
  },
  {
   "cell_type": "code",
   "execution_count": null,
   "id": "a94d98ef",
   "metadata": {},
   "outputs": [],
   "source": [
    "selecter_model = selecter_basemodel\n",
    "selected_data = selecter(data,y,selecter_model,n_features_to_select=20)\n",
    "CI_model = CI_basemodel\n",
    "CI_analyse(selected_data,y,CI_model,modeltype=modeltype,record=record,plotname = plotname)"
   ]
  },
  {
   "cell_type": "code",
   "execution_count": null,
   "id": "ca7861f7",
   "metadata": {},
   "outputs": [],
   "source": [
    "selecter_model = selecter_basemodel\n",
    "selected_data = selecter(data,y,selecter_model,n_features_to_select=15)\n",
    "CI_model = CI_basemodel\n",
    "CI_analyse(selected_data,y,CI_model,modeltype=modeltype,record=record,plotname = plotname)"
   ]
  },
  {
   "cell_type": "code",
   "execution_count": null,
   "id": "ecbaa2ee",
   "metadata": {},
   "outputs": [],
   "source": [
    "selecter_model = selecter_basemodel\n",
    "selected_data = selecter(data,y,selecter_model,n_features_to_select=10)\n",
    "CI_model = CI_basemodel\n",
    "CI_analyse(selected_data,y,CI_model,modeltype=modeltype,record=record,plotname = plotname)"
   ]
  },
  {
   "cell_type": "markdown",
   "id": "e8171e06",
   "metadata": {},
   "source": [
    "## T/E"
   ]
  },
  {
   "cell_type": "code",
   "execution_count": null,
   "id": "3be9e397",
   "metadata": {},
   "outputs": [],
   "source": [
    "clinical_target4 = [0,1,2,3,8,11,13,14,15,16,17,18,19,20,21,22,23,24,25,26,27,28,29,30,31,32,33,34,35,36,37,38,39,40,41,42,43,44,45,46,47,48]\n",
    "target_num = 8"
   ]
  },
  {
   "cell_type": "markdown",
   "id": "e1dab2a3",
   "metadata": {},
   "source": [
    "### only C"
   ]
  },
  {
   "cell_type": "code",
   "execution_count": null,
   "id": "55c4cc6b",
   "metadata": {},
   "outputs": [],
   "source": [
    "plotname = folder_path+modeltype+\"_TE_backward_C\"\n",
    "target = clinical_target4\n",
    "data,y = get_data(clinical,target_ls=target,target_num=target_num)\n",
    "y = (y==\"E\")*1"
   ]
  },
  {
   "cell_type": "code",
   "execution_count": null,
   "id": "33ee24fc",
   "metadata": {},
   "outputs": [],
   "source": [
    "selecter_model = selecter_basemodel\n",
    "selected_data = selecter(data,y,selecter_model,n_features_to_select=40)\n",
    "CI_model = CI_basemodel\n",
    "CI_analyse(selected_data,y,CI_model,modeltype=modeltype,record=record,plotname = plotname)"
   ]
  },
  {
   "cell_type": "code",
   "execution_count": null,
   "id": "c0809cdc",
   "metadata": {},
   "outputs": [],
   "source": [
    "selecter_model = selecter_basemodel\n",
    "selected_data = selecter(data,y,selecter_model,n_features_to_select=35)\n",
    "CI_model = CI_basemodel\n",
    "CI_analyse(selected_data,y,CI_model,modeltype=modeltype,record=record,plotname = plotname)"
   ]
  },
  {
   "cell_type": "code",
   "execution_count": null,
   "id": "d83aa17e",
   "metadata": {},
   "outputs": [],
   "source": [
    "selecter_model = selecter_basemodel\n",
    "selected_data = selecter(data,y,selecter_model,n_features_to_select=30)\n",
    "CI_model = CI_basemodel\n",
    "CI_analyse(selected_data,y,CI_model,modeltype=modeltype,record=record,plotname = plotname)"
   ]
  },
  {
   "cell_type": "code",
   "execution_count": null,
   "id": "eb671717",
   "metadata": {},
   "outputs": [],
   "source": [
    "selecter_model = selecter_basemodel\n",
    "selected_data = selecter(data,y,selecter_model,n_features_to_select=25)\n",
    "CI_model = CI_basemodel\n",
    "CI_analyse(selected_data,y,CI_model,modeltype=modeltype,record=record,plotname = plotname)"
   ]
  },
  {
   "cell_type": "code",
   "execution_count": null,
   "id": "7478a06c",
   "metadata": {},
   "outputs": [],
   "source": [
    "selecter_model = selecter_basemodel\n",
    "selected_data = selecter(data,y,selecter_model,n_features_to_select=20)\n",
    "CI_model = CI_basemodel\n",
    "CI_analyse(selected_data,y,CI_model,modeltype=modeltype,record=record,plotname = plotname)"
   ]
  },
  {
   "cell_type": "code",
   "execution_count": null,
   "id": "4b47ba09",
   "metadata": {},
   "outputs": [],
   "source": [
    "selecter_model = selecter_basemodel\n",
    "selected_data = selecter(data,y,selecter_model,n_features_to_select=15)\n",
    "CI_model = CI_basemodel\n",
    "CI_analyse(selected_data,y,CI_model,modeltype=modeltype,record=record,plotname = plotname)"
   ]
  },
  {
   "cell_type": "code",
   "execution_count": null,
   "id": "fac4fb97",
   "metadata": {},
   "outputs": [],
   "source": [
    "selecter_model = selecter_basemodel\n",
    "selected_data = selecter(data,y,selecter_model,n_features_to_select=10)\n",
    "CI_model = CI_basemodel\n",
    "CI_analyse(selected_data,y,CI_model,modeltype=modeltype,record=record,plotname = plotname)"
   ]
  },
  {
   "cell_type": "code",
   "execution_count": null,
   "id": "6d3de9e6",
   "metadata": {},
   "outputs": [],
   "source": [
    "imp_feature = pd.concat([pd.Series([\"ID\",\"T/E\"]), pd.Series(selected_data.columns.values)])\n",
    "clinical_after_selection = [clinical.columns.get_loc(label) for label in imp_feature]"
   ]
  },
  {
   "cell_type": "markdown",
   "id": "3446c1c4",
   "metadata": {},
   "source": [
    "### only R"
   ]
  },
  {
   "cell_type": "code",
   "execution_count": null,
   "id": "543b4372",
   "metadata": {},
   "outputs": [],
   "source": [
    "plotname = folder_path+modeltype+\"_TE_backward_R\"\n",
    "target = [0,target_num]\n",
    "data,y = get_data(clinical,target_ls=target,target_num=target_num,radiomics=radiomics)\n",
    "y = (y==\"E\")*1"
   ]
  },
  {
   "cell_type": "code",
   "execution_count": null,
   "id": "7f8c5565",
   "metadata": {},
   "outputs": [],
   "source": [
    "selecter_model = selecter_basemodel\n",
    "selected_data = selecter(data,y,selecter_model,n_features_to_select=50)\n",
    "CI_model = CI_basemodel\n",
    "CI_analyse(selected_data,y,CI_model,modeltype=modeltype,record=record,plotname = plotname)"
   ]
  },
  {
   "cell_type": "code",
   "execution_count": null,
   "id": "0ee021d3",
   "metadata": {},
   "outputs": [],
   "source": [
    "selecter_model = selecter_basemodel\n",
    "selected_data = selecter(data,y,selecter_model,n_features_to_select=45)\n",
    "CI_model = CI_basemodel\n",
    "CI_analyse(selected_data,y,CI_model,modeltype=modeltype,record=record,plotname = plotname)"
   ]
  },
  {
   "cell_type": "code",
   "execution_count": null,
   "id": "1e4f5c40",
   "metadata": {},
   "outputs": [],
   "source": [
    "selecter_model = selecter_basemodel\n",
    "selected_data = selecter(data,y,selecter_model,n_features_to_select=40)\n",
    "CI_model = CI_basemodel\n",
    "CI_analyse(selected_data,y,CI_model,modeltype=modeltype,record=record,plotname = plotname)"
   ]
  },
  {
   "cell_type": "code",
   "execution_count": null,
   "id": "203a8a3c",
   "metadata": {},
   "outputs": [],
   "source": [
    "selecter_model = selecter_basemodel\n",
    "selected_data = selecter(data,y,selecter_model,n_features_to_select=35)\n",
    "CI_model = CI_basemodel\n",
    "CI_analyse(selected_data,y,CI_model,modeltype=modeltype,record=record,plotname = plotname)"
   ]
  },
  {
   "cell_type": "code",
   "execution_count": null,
   "id": "7dd9d4b2",
   "metadata": {},
   "outputs": [],
   "source": [
    "selecter_model = selecter_basemodel\n",
    "selected_data = selecter(data,y,selecter_model,n_features_to_select=30)\n",
    "CI_model = CI_basemodel\n",
    "CI_analyse(selected_data,y,CI_model,modeltype=modeltype,record=record,plotname = plotname)"
   ]
  },
  {
   "cell_type": "code",
   "execution_count": null,
   "id": "91a93484",
   "metadata": {},
   "outputs": [],
   "source": [
    "selecter_model = selecter_basemodel\n",
    "selected_data = selecter(data,y,selecter_model,n_features_to_select=25)\n",
    "CI_model = CI_basemodel\n",
    "CI_analyse(selected_data,y,CI_model,modeltype=modeltype,record=record,plotname = plotname)"
   ]
  },
  {
   "cell_type": "code",
   "execution_count": null,
   "id": "13d05e31",
   "metadata": {},
   "outputs": [],
   "source": [
    "selecter_model = selecter_basemodel\n",
    "selected_data = selecter(data,y,selecter_model,n_features_to_select=20)\n",
    "CI_model = CI_basemodel\n",
    "CI_analyse(selected_data,y,CI_model,modeltype=modeltype,record=record,plotname = plotname)"
   ]
  },
  {
   "cell_type": "code",
   "execution_count": null,
   "id": "0979ff07",
   "metadata": {},
   "outputs": [],
   "source": [
    "selecter_model = selecter_basemodel\n",
    "selected_data = selecter(data,y,selecter_model,n_features_to_select=15)\n",
    "CI_model = CI_basemodel\n",
    "CI_analyse(selected_data,y,CI_model,modeltype=modeltype,record=record,plotname = plotname)"
   ]
  },
  {
   "cell_type": "code",
   "execution_count": null,
   "id": "566b76ec",
   "metadata": {},
   "outputs": [],
   "source": [
    "selecter_model = selecter_basemodel\n",
    "selected_data = selecter(data,y,selecter_model,n_features_to_select=10)\n",
    "CI_model = CI_basemodel\n",
    "CI_analyse(selected_data,y,CI_model,modeltype=modeltype,record=record,plotname = plotname)"
   ]
  },
  {
   "cell_type": "code",
   "execution_count": null,
   "id": "244b18eb",
   "metadata": {},
   "outputs": [],
   "source": [
    "imp_feature = pd.concat([pd.Series([\"ID\"]), pd.Series(selected_data.columns.values)])\n",
    "selected_radiomics = radiomics[imp_feature]"
   ]
  },
  {
   "cell_type": "markdown",
   "id": "bee19b6a",
   "metadata": {},
   "source": [
    "### only S"
   ]
  },
  {
   "cell_type": "code",
   "execution_count": null,
   "id": "8277a533",
   "metadata": {},
   "outputs": [],
   "source": [
    "plotname = folder_path+modeltype+\"_TE_backward_S\"\n",
    "target = [0,target_num]\n",
    "data,y = get_data(clinical,target_ls=target,target_num=target_num,semantic=semantic)\n",
    "y = (y==\"E\")*1"
   ]
  },
  {
   "cell_type": "code",
   "execution_count": null,
   "id": "0609fcf6",
   "metadata": {},
   "outputs": [],
   "source": [
    "selecter_model = selecter_basemodel\n",
    "selected_data = selecter(data,y,selecter_model,n_features_to_select=50)\n",
    "CI_model = CI_basemodel\n",
    "CI_analyse(selected_data,y,CI_model,modeltype=modeltype,record=record,plotname = plotname)"
   ]
  },
  {
   "cell_type": "code",
   "execution_count": null,
   "id": "2e789598",
   "metadata": {},
   "outputs": [],
   "source": [
    "selecter_model = selecter_basemodel\n",
    "selected_data = selecter(data,y,selecter_model,n_features_to_select=45)\n",
    "CI_model = CI_basemodel\n",
    "CI_analyse(selected_data,y,CI_model,modeltype=modeltype,record=record,plotname = plotname)"
   ]
  },
  {
   "cell_type": "code",
   "execution_count": null,
   "id": "1e09adc5",
   "metadata": {},
   "outputs": [],
   "source": [
    "selecter_model = selecter_basemodel\n",
    "selected_data = selecter(data,y,selecter_model,n_features_to_select=40)\n",
    "CI_model = CI_basemodel\n",
    "CI_analyse(selected_data,y,CI_model,modeltype=modeltype,record=record,plotname = plotname)"
   ]
  },
  {
   "cell_type": "code",
   "execution_count": null,
   "id": "6c8ce296",
   "metadata": {},
   "outputs": [],
   "source": [
    "selecter_model = selecter_basemodel\n",
    "selected_data = selecter(data,y,selecter_model,n_features_to_select=35)\n",
    "CI_model = CI_basemodel\n",
    "CI_analyse(selected_data,y,CI_model,modeltype=modeltype,record=record,plotname = plotname)"
   ]
  },
  {
   "cell_type": "code",
   "execution_count": null,
   "id": "6707f47d",
   "metadata": {},
   "outputs": [],
   "source": [
    "selecter_model = selecter_basemodel\n",
    "selected_data = selecter(data,y,selecter_model,n_features_to_select=30)\n",
    "CI_model = CI_basemodel\n",
    "CI_analyse(selected_data,y,CI_model,modeltype=modeltype,record=record,plotname = plotname)"
   ]
  },
  {
   "cell_type": "code",
   "execution_count": null,
   "id": "f0e95df0",
   "metadata": {},
   "outputs": [],
   "source": [
    "selecter_model = selecter_basemodel\n",
    "selected_data = selecter(data,y,selecter_model,n_features_to_select=25)\n",
    "CI_model = CI_basemodel\n",
    "CI_analyse(selected_data,y,CI_model,modeltype=modeltype,record=record,plotname = plotname)"
   ]
  },
  {
   "cell_type": "code",
   "execution_count": null,
   "id": "69bdfc29",
   "metadata": {},
   "outputs": [],
   "source": [
    "selecter_model = selecter_basemodel\n",
    "selected_data = selecter(data,y,selecter_model,n_features_to_select=20)\n",
    "CI_model = CI_basemodel\n",
    "CI_analyse(selected_data,y,CI_model,modeltype=modeltype,record=record,plotname = plotname)"
   ]
  },
  {
   "cell_type": "code",
   "execution_count": null,
   "id": "f0bf7328",
   "metadata": {},
   "outputs": [],
   "source": [
    "selecter_model = selecter_basemodel\n",
    "selected_data = selecter(data,y,selecter_model,n_features_to_select=15)\n",
    "CI_model = CI_basemodel\n",
    "CI_analyse(selected_data,y,CI_model,modeltype=modeltype,record=record,plotname = plotname)"
   ]
  },
  {
   "cell_type": "code",
   "execution_count": null,
   "id": "d2051333",
   "metadata": {},
   "outputs": [],
   "source": [
    "selecter_model = selecter_basemodel\n",
    "selected_data = selecter(data,y,selecter_model,n_features_to_select=10)\n",
    "CI_model = CI_basemodel\n",
    "CI_analyse(selected_data,y,CI_model,modeltype=modeltype,record=record,plotname = plotname)"
   ]
  },
  {
   "cell_type": "code",
   "execution_count": null,
   "id": "f9c678e2",
   "metadata": {},
   "outputs": [],
   "source": [
    "imp_feature = pd.concat([pd.Series([\"ID\"]), pd.Series(selected_data.columns.values)])\n",
    "selected_semantic = semantic[imp_feature]"
   ]
  },
  {
   "cell_type": "markdown",
   "id": "9ece354b",
   "metadata": {},
   "source": [
    "### only F"
   ]
  },
  {
   "cell_type": "code",
   "execution_count": null,
   "id": "abf01fbd",
   "metadata": {},
   "outputs": [],
   "source": [
    "plotname = folder_path+modeltype+\"_TE_backward_F\"\n",
    "target = [0,target_num]\n",
    "data,y = get_data(clinical,target_ls=target,target_num=target_num,fuse=fuse)\n",
    "y = (y==\"E\")*1"
   ]
  },
  {
   "cell_type": "code",
   "execution_count": null,
   "id": "c02eb62f",
   "metadata": {},
   "outputs": [],
   "source": [
    "selecter_model = selecter_basemodel\n",
    "selected_data = selecter(data,y,selecter_model,n_features_to_select=50)\n",
    "CI_model = CI_basemodel\n",
    "CI_analyse(selected_data,y,CI_model,modeltype=modeltype,record=record,plotname = plotname)"
   ]
  },
  {
   "cell_type": "code",
   "execution_count": null,
   "id": "10a9a0c3",
   "metadata": {},
   "outputs": [],
   "source": [
    "selecter_model = selecter_basemodel\n",
    "selected_data = selecter(data,y,selecter_model,n_features_to_select=45)\n",
    "CI_model = CI_basemodel\n",
    "CI_analyse(selected_data,y,CI_model,modeltype=modeltype,record=record,plotname = plotname)"
   ]
  },
  {
   "cell_type": "code",
   "execution_count": null,
   "id": "d465e4bd",
   "metadata": {},
   "outputs": [],
   "source": [
    "selecter_model = selecter_basemodel\n",
    "selected_data = selecter(data,y,selecter_model,n_features_to_select=40)\n",
    "CI_model = CI_basemodel\n",
    "CI_analyse(selected_data,y,CI_model,modeltype=modeltype,record=record,plotname = plotname)"
   ]
  },
  {
   "cell_type": "code",
   "execution_count": null,
   "id": "99ed5296",
   "metadata": {},
   "outputs": [],
   "source": [
    "selecter_model = selecter_basemodel\n",
    "selected_data = selecter(data,y,selecter_model,n_features_to_select=35)\n",
    "CI_model = CI_basemodel\n",
    "CI_analyse(selected_data,y,CI_model,modeltype=modeltype,record=record,plotname = plotname)"
   ]
  },
  {
   "cell_type": "code",
   "execution_count": null,
   "id": "e7447661",
   "metadata": {},
   "outputs": [],
   "source": [
    "selecter_model = selecter_basemodel\n",
    "selected_data = selecter(data,y,selecter_model,n_features_to_select=30)\n",
    "CI_model = CI_basemodel\n",
    "CI_analyse(selected_data,y,CI_model,modeltype=modeltype,record=record,plotname = plotname)"
   ]
  },
  {
   "cell_type": "code",
   "execution_count": null,
   "id": "c6d85764",
   "metadata": {},
   "outputs": [],
   "source": [
    "selecter_model = selecter_basemodel\n",
    "selected_data = selecter(data,y,selecter_model,n_features_to_select=25)\n",
    "CI_model = CI_basemodel\n",
    "CI_analyse(selected_data,y,CI_model,modeltype=modeltype,record=record,plotname = plotname)"
   ]
  },
  {
   "cell_type": "code",
   "execution_count": null,
   "id": "6be9ae72",
   "metadata": {},
   "outputs": [],
   "source": [
    "selecter_model = selecter_basemodel\n",
    "selected_data = selecter(data,y,selecter_model,n_features_to_select=20)\n",
    "CI_model = CI_basemodel\n",
    "CI_analyse(selected_data,y,CI_model,modeltype=modeltype,record=record,plotname = plotname)"
   ]
  },
  {
   "cell_type": "code",
   "execution_count": null,
   "id": "b531dff4",
   "metadata": {},
   "outputs": [],
   "source": [
    "selecter_model = selecter_basemodel\n",
    "selected_data = selecter(data,y,selecter_model,n_features_to_select=15)\n",
    "CI_model = CI_basemodel\n",
    "CI_analyse(selected_data,y,CI_model,modeltype=modeltype,record=record,plotname = plotname)"
   ]
  },
  {
   "cell_type": "code",
   "execution_count": null,
   "id": "4859ccaf",
   "metadata": {},
   "outputs": [],
   "source": [
    "selecter_model = selecter_basemodel\n",
    "selected_data = selecter(data,y,selecter_model,n_features_to_select=10)\n",
    "CI_model = CI_basemodel\n",
    "CI_analyse(selected_data,y,CI_model,modeltype=modeltype,record=record,plotname = plotname)"
   ]
  },
  {
   "cell_type": "code",
   "execution_count": null,
   "id": "2d4f9c13",
   "metadata": {},
   "outputs": [],
   "source": [
    "imp_feature = pd.concat([pd.Series([\"ID\"]), pd.Series(selected_data.columns.values)])\n",
    "selected_fuse = fuse[imp_feature]"
   ]
  },
  {
   "cell_type": "markdown",
   "id": "fd1caa5f",
   "metadata": {},
   "source": [
    "### F+C"
   ]
  },
  {
   "cell_type": "code",
   "execution_count": null,
   "id": "ba0287a5",
   "metadata": {
    "scrolled": true
   },
   "outputs": [],
   "source": [
    "plotname = folder_path+modeltype+\"_TE_backward_F+C\"\n",
    "target = clinical_after_selection\n",
    "data,y = get_data(clinical,target_ls=target,target_num=target_num,fuse=selected_fuse)\n",
    "y = (y==\"E\")*1"
   ]
  },
  {
   "cell_type": "code",
   "execution_count": null,
   "id": "8a32fb4f",
   "metadata": {},
   "outputs": [],
   "source": [
    "selecter_model = selecter_basemodel\n",
    "selected_data = selecter(data,y,selecter_model,n_features_to_select=50)\n",
    "CI_model = CI_basemodel\n",
    "CI_analyse(selected_data,y,CI_model,modeltype=modeltype,record=record,plotname = plotname)"
   ]
  },
  {
   "cell_type": "code",
   "execution_count": null,
   "id": "4661dca9",
   "metadata": {},
   "outputs": [],
   "source": [
    "selecter_model = selecter_basemodel\n",
    "selected_data = selecter(data,y,selecter_model,n_features_to_select=45)\n",
    "CI_model = CI_basemodel\n",
    "CI_analyse(selected_data,y,CI_model,modeltype=modeltype,record=record,plotname = plotname)"
   ]
  },
  {
   "cell_type": "code",
   "execution_count": null,
   "id": "6a5d1e15",
   "metadata": {},
   "outputs": [],
   "source": [
    "selecter_model = selecter_basemodel\n",
    "selected_data = selecter(data,y,selecter_model,n_features_to_select=40)\n",
    "CI_model = CI_basemodel\n",
    "CI_analyse(selected_data,y,CI_model,modeltype=modeltype,record=record,plotname = plotname)"
   ]
  },
  {
   "cell_type": "code",
   "execution_count": null,
   "id": "d2e1abd2",
   "metadata": {},
   "outputs": [],
   "source": [
    "selecter_model = selecter_basemodel\n",
    "selected_data = selecter(data,y,selecter_model,n_features_to_select=35)\n",
    "CI_model = CI_basemodel\n",
    "CI_analyse(selected_data,y,CI_model,modeltype=modeltype,record=record,plotname = plotname)"
   ]
  },
  {
   "cell_type": "code",
   "execution_count": null,
   "id": "d0688382",
   "metadata": {},
   "outputs": [],
   "source": [
    "selecter_model = selecter_basemodel\n",
    "selected_data = selecter(data,y,selecter_model,n_features_to_select=30)\n",
    "CI_model = CI_basemodel\n",
    "CI_analyse(selected_data,y,CI_model,modeltype=modeltype,record=record,plotname = plotname)"
   ]
  },
  {
   "cell_type": "code",
   "execution_count": null,
   "id": "b3212834",
   "metadata": {},
   "outputs": [],
   "source": [
    "selecter_model = selecter_basemodel\n",
    "selected_data = selecter(data,y,selecter_model,n_features_to_select=25)\n",
    "CI_model = CI_basemodel\n",
    "CI_analyse(selected_data,y,CI_model,modeltype=modeltype,record=record,plotname = plotname)"
   ]
  },
  {
   "cell_type": "code",
   "execution_count": null,
   "id": "402bf5f6",
   "metadata": {},
   "outputs": [],
   "source": [
    "selecter_model = selecter_basemodel\n",
    "selected_data = selecter(data,y,selecter_model,n_features_to_select=20)\n",
    "CI_model = CI_basemodel\n",
    "CI_analyse(selected_data,y,CI_model,modeltype=modeltype,record=record,plotname = plotname)"
   ]
  },
  {
   "cell_type": "code",
   "execution_count": null,
   "id": "a8dd769f",
   "metadata": {},
   "outputs": [],
   "source": [
    "selecter_model = selecter_basemodel\n",
    "selected_data = selecter(data,y,selecter_model,n_features_to_select=15)\n",
    "CI_model = CI_basemodel\n",
    "CI_analyse(selected_data,y,CI_model,modeltype=modeltype,record=record,plotname = plotname)"
   ]
  },
  {
   "cell_type": "code",
   "execution_count": null,
   "id": "a17b159f",
   "metadata": {},
   "outputs": [],
   "source": [
    "selecter_model = selecter_basemodel\n",
    "selected_data = selecter(data,y,selecter_model,n_features_to_select=10)\n",
    "CI_model = CI_basemodel\n",
    "CI_analyse(selected_data,y,CI_model,modeltype=modeltype,record=record,plotname = plotname)"
   ]
  },
  {
   "cell_type": "markdown",
   "id": "78e96c50",
   "metadata": {},
   "source": [
    "### F+R"
   ]
  },
  {
   "cell_type": "code",
   "execution_count": null,
   "id": "d8b8bd38",
   "metadata": {
    "scrolled": true
   },
   "outputs": [],
   "source": [
    "plotname = folder_path+modeltype+\"_TE_backward_F+R\"\n",
    "target = [0,target_num]\n",
    "data,y = get_data(clinical,target_ls=target,target_num=target_num,radiomics=selected_radiomics,fuse=selected_fuse)\n",
    "y = (y==\"E\")*1"
   ]
  },
  {
   "cell_type": "code",
   "execution_count": null,
   "id": "199e74a0",
   "metadata": {},
   "outputs": [],
   "source": [
    "selecter_model = selecter_basemodel\n",
    "selected_data = selecter(data,y,selecter_model,n_features_to_select=50)\n",
    "CI_model = CI_basemodel\n",
    "CI_analyse(selected_data,y,CI_model,modeltype=modeltype,record=record,plotname = plotname)"
   ]
  },
  {
   "cell_type": "code",
   "execution_count": null,
   "id": "b3cca46a",
   "metadata": {},
   "outputs": [],
   "source": [
    "selecter_model = selecter_basemodel\n",
    "selected_data = selecter(data,y,selecter_model,n_features_to_select=45)\n",
    "CI_model = CI_basemodel\n",
    "CI_analyse(selected_data,y,CI_model,modeltype=modeltype,record=record,plotname = plotname)"
   ]
  },
  {
   "cell_type": "code",
   "execution_count": null,
   "id": "94a41596",
   "metadata": {},
   "outputs": [],
   "source": [
    "selecter_model = selecter_basemodel\n",
    "selected_data = selecter(data,y,selecter_model,n_features_to_select=40)\n",
    "CI_model = CI_basemodel\n",
    "CI_analyse(selected_data,y,CI_model,modeltype=modeltype,record=record,plotname = plotname)"
   ]
  },
  {
   "cell_type": "code",
   "execution_count": null,
   "id": "b23cc9a1",
   "metadata": {},
   "outputs": [],
   "source": [
    "selecter_model = selecter_basemodel\n",
    "selected_data = selecter(data,y,selecter_model,n_features_to_select=35)\n",
    "CI_model = CI_basemodel\n",
    "CI_analyse(selected_data,y,CI_model,modeltype=modeltype,record=record,plotname = plotname)"
   ]
  },
  {
   "cell_type": "code",
   "execution_count": null,
   "id": "144e71fc",
   "metadata": {},
   "outputs": [],
   "source": [
    "selecter_model = selecter_basemodel\n",
    "selected_data = selecter(data,y,selecter_model,n_features_to_select=30)\n",
    "CI_model = CI_basemodel\n",
    "CI_analyse(selected_data,y,CI_model,modeltype=modeltype,record=record,plotname = plotname)"
   ]
  },
  {
   "cell_type": "code",
   "execution_count": null,
   "id": "b044aeb0",
   "metadata": {},
   "outputs": [],
   "source": [
    "selecter_model = selecter_basemodel\n",
    "selected_data = selecter(data,y,selecter_model,n_features_to_select=25)\n",
    "CI_model = CI_basemodel\n",
    "CI_analyse(selected_data,y,CI_model,modeltype=modeltype,record=record,plotname = plotname)"
   ]
  },
  {
   "cell_type": "code",
   "execution_count": null,
   "id": "8fb5b466",
   "metadata": {},
   "outputs": [],
   "source": [
    "selecter_model = selecter_basemodel\n",
    "selected_data = selecter(data,y,selecter_model,n_features_to_select=20)\n",
    "CI_model = CI_basemodel\n",
    "CI_analyse(selected_data,y,CI_model,modeltype=modeltype,record=record,plotname = plotname)"
   ]
  },
  {
   "cell_type": "code",
   "execution_count": null,
   "id": "ecc93178",
   "metadata": {},
   "outputs": [],
   "source": [
    "selecter_model = selecter_basemodel\n",
    "selected_data = selecter(data,y,selecter_model,n_features_to_select=15)\n",
    "CI_model = CI_basemodel\n",
    "CI_analyse(selected_data,y,CI_model,modeltype=modeltype,record=record,plotname = plotname)"
   ]
  },
  {
   "cell_type": "code",
   "execution_count": null,
   "id": "81a45ba7",
   "metadata": {},
   "outputs": [],
   "source": [
    "selecter_model = selecter_basemodel\n",
    "selected_data = selecter(data,y,selecter_model,n_features_to_select=10)\n",
    "CI_model = CI_basemodel\n",
    "CI_analyse(selected_data,y,CI_model,modeltype=modeltype,record=record,plotname = plotname)"
   ]
  },
  {
   "cell_type": "markdown",
   "id": "c4664d1e",
   "metadata": {},
   "source": [
    "## F+S"
   ]
  },
  {
   "cell_type": "code",
   "execution_count": null,
   "id": "94f4cb52",
   "metadata": {
    "scrolled": true
   },
   "outputs": [],
   "source": [
    "plotname = folder_path+modeltype+\"_TE_backward_F+S\"\n",
    "target = [0,target_num]\n",
    "data,y = get_data(clinical,target_ls=target,target_num=target_num,fuse=selected_fuse,semantic=selected_semantic)\n",
    "y = (y==\"E\")*1"
   ]
  },
  {
   "cell_type": "code",
   "execution_count": null,
   "id": "f5bc349d",
   "metadata": {},
   "outputs": [],
   "source": [
    "selecter_model = selecter_basemodel\n",
    "selected_data = selecter(data,y,selecter_model,n_features_to_select=50)\n",
    "CI_model = CI_basemodel\n",
    "CI_analyse(selected_data,y,CI_model,modeltype=modeltype,record=record,plotname = plotname)"
   ]
  },
  {
   "cell_type": "code",
   "execution_count": null,
   "id": "1f465ee2",
   "metadata": {},
   "outputs": [],
   "source": [
    "selecter_model = selecter_basemodel\n",
    "selected_data = selecter(data,y,selecter_model,n_features_to_select=45)\n",
    "CI_model = CI_basemodel\n",
    "CI_analyse(selected_data,y,CI_model,modeltype=modeltype,record=record,plotname = plotname)"
   ]
  },
  {
   "cell_type": "code",
   "execution_count": null,
   "id": "84459dd1",
   "metadata": {},
   "outputs": [],
   "source": [
    "selecter_model = selecter_basemodel\n",
    "selected_data = selecter(data,y,selecter_model,n_features_to_select=40)\n",
    "CI_model = CI_basemodel\n",
    "CI_analyse(selected_data,y,CI_model,modeltype=modeltype,record=record,plotname = plotname)"
   ]
  },
  {
   "cell_type": "code",
   "execution_count": null,
   "id": "91fb185d",
   "metadata": {},
   "outputs": [],
   "source": [
    "selecter_model = selecter_basemodel\n",
    "selected_data = selecter(data,y,selecter_model,n_features_to_select=35)\n",
    "CI_model = CI_basemodel\n",
    "CI_analyse(selected_data,y,CI_model,modeltype=modeltype,record=record,plotname = plotname)"
   ]
  },
  {
   "cell_type": "code",
   "execution_count": null,
   "id": "2e00441c",
   "metadata": {},
   "outputs": [],
   "source": [
    "selecter_model = selecter_basemodel\n",
    "selected_data = selecter(data,y,selecter_model,n_features_to_select=30)\n",
    "CI_model = CI_basemodel\n",
    "CI_analyse(selected_data,y,CI_model,modeltype=modeltype,record=record,plotname = plotname)"
   ]
  },
  {
   "cell_type": "code",
   "execution_count": null,
   "id": "30537ebb",
   "metadata": {},
   "outputs": [],
   "source": [
    "selecter_model = selecter_basemodel\n",
    "selected_data = selecter(data,y,selecter_model,n_features_to_select=25)\n",
    "CI_model = CI_basemodel\n",
    "CI_analyse(selected_data,y,CI_model,modeltype=modeltype,record=record,plotname = plotname)"
   ]
  },
  {
   "cell_type": "code",
   "execution_count": null,
   "id": "50a26af3",
   "metadata": {},
   "outputs": [],
   "source": [
    "selecter_model = selecter_basemodel\n",
    "selected_data = selecter(data,y,selecter_model,n_features_to_select=20)\n",
    "CI_model = CI_basemodel\n",
    "CI_analyse(selected_data,y,CI_model,modeltype=modeltype,record=record,plotname = plotname)"
   ]
  },
  {
   "cell_type": "code",
   "execution_count": null,
   "id": "5dd14e9d",
   "metadata": {},
   "outputs": [],
   "source": [
    "selecter_model = selecter_basemodel\n",
    "selected_data = selecter(data,y,selecter_model,n_features_to_select=15)\n",
    "CI_model = CI_basemodel\n",
    "CI_analyse(selected_data,y,CI_model,modeltype=modeltype,record=record,plotname = plotname)"
   ]
  },
  {
   "cell_type": "code",
   "execution_count": null,
   "id": "6820ddd6",
   "metadata": {},
   "outputs": [],
   "source": [
    "selecter_model = selecter_basemodel\n",
    "selected_data = selecter(data,y,selecter_model,n_features_to_select=10)\n",
    "CI_model = CI_basemodel\n",
    "CI_analyse(selected_data,y,CI_model,modeltype=modeltype,record=record,plotname = plotname)"
   ]
  },
  {
   "cell_type": "markdown",
   "id": "b163cb2d",
   "metadata": {},
   "source": [
    "### F+C+R"
   ]
  },
  {
   "cell_type": "code",
   "execution_count": null,
   "id": "5bb48561",
   "metadata": {},
   "outputs": [],
   "source": [
    "plotname = folder_path+modeltype+\"_TE_backward_F+C+R\"\n",
    "target = clinical_after_selection\n",
    "data,y = get_data(clinical,target_ls=target,target_num=target_num,radiomics=selected_radiomics,fuse=selected_fuse)\n",
    "y = (y==\"E\")*1"
   ]
  },
  {
   "cell_type": "code",
   "execution_count": null,
   "id": "cb6543f9",
   "metadata": {},
   "outputs": [],
   "source": [
    "selecter_model = selecter_basemodel\n",
    "selected_data = selecter(data,y,selecter_model,n_features_to_select=50)\n",
    "CI_model = CI_basemodel\n",
    "CI_analyse(selected_data,y,CI_model,modeltype=modeltype,record=record,plotname = plotname)"
   ]
  },
  {
   "cell_type": "code",
   "execution_count": null,
   "id": "86715ba2",
   "metadata": {},
   "outputs": [],
   "source": [
    "selecter_model = selecter_basemodel\n",
    "selected_data = selecter(data,y,selecter_model,n_features_to_select=45)\n",
    "CI_model = CI_basemodel\n",
    "CI_analyse(selected_data,y,CI_model,modeltype=modeltype,record=record,plotname = plotname)"
   ]
  },
  {
   "cell_type": "code",
   "execution_count": null,
   "id": "a97a4dbf",
   "metadata": {},
   "outputs": [],
   "source": [
    "selecter_model = selecter_basemodel\n",
    "selected_data = selecter(data,y,selecter_model,n_features_to_select=40)\n",
    "CI_model = CI_basemodel\n",
    "CI_analyse(selected_data,y,CI_model,modeltype=modeltype,record=record,plotname = plotname)"
   ]
  },
  {
   "cell_type": "code",
   "execution_count": null,
   "id": "913c6d6a",
   "metadata": {},
   "outputs": [],
   "source": [
    "selecter_model = selecter_basemodel\n",
    "selected_data = selecter(data,y,selecter_model,n_features_to_select=35)\n",
    "CI_model = CI_basemodel\n",
    "CI_analyse(selected_data,y,CI_model,modeltype=modeltype,record=record,plotname = plotname)"
   ]
  },
  {
   "cell_type": "code",
   "execution_count": null,
   "id": "ea6af988",
   "metadata": {},
   "outputs": [],
   "source": [
    "selecter_model = selecter_basemodel\n",
    "selected_data = selecter(data,y,selecter_model,n_features_to_select=30)\n",
    "CI_model = CI_basemodel\n",
    "CI_analyse(selected_data,y,CI_model,modeltype=modeltype,record=record,plotname = plotname)"
   ]
  },
  {
   "cell_type": "code",
   "execution_count": null,
   "id": "eae85f18",
   "metadata": {},
   "outputs": [],
   "source": [
    "selecter_model = selecter_basemodel\n",
    "selected_data = selecter(data,y,selecter_model,n_features_to_select=25)\n",
    "CI_model = CI_basemodel\n",
    "CI_analyse(selected_data,y,CI_model,modeltype=modeltype,record=record,plotname = plotname)"
   ]
  },
  {
   "cell_type": "code",
   "execution_count": null,
   "id": "552d1a64",
   "metadata": {},
   "outputs": [],
   "source": [
    "selecter_model = selecter_basemodel\n",
    "selected_data = selecter(data,y,selecter_model,n_features_to_select=20)\n",
    "CI_model = CI_basemodel\n",
    "CI_analyse(selected_data,y,CI_model,modeltype=modeltype,record=record,plotname = plotname)"
   ]
  },
  {
   "cell_type": "code",
   "execution_count": null,
   "id": "6ebc0798",
   "metadata": {},
   "outputs": [],
   "source": [
    "selecter_model = selecter_basemodel\n",
    "selected_data = selecter(data,y,selecter_model,n_features_to_select=15)\n",
    "CI_model = CI_basemodel\n",
    "CI_analyse(selected_data,y,CI_model,modeltype=modeltype,record=record,plotname = plotname)"
   ]
  },
  {
   "cell_type": "code",
   "execution_count": null,
   "id": "a606ec07",
   "metadata": {},
   "outputs": [],
   "source": [
    "selecter_model = selecter_basemodel\n",
    "selected_data = selecter(data,y,selecter_model,n_features_to_select=10)\n",
    "CI_model = CI_basemodel\n",
    "CI_analyse(selected_data,y,CI_model,modeltype=modeltype,record=record,plotname = plotname)"
   ]
  },
  {
   "cell_type": "markdown",
   "id": "43c1677d",
   "metadata": {},
   "source": [
    "### F+C+R+S"
   ]
  },
  {
   "cell_type": "code",
   "execution_count": null,
   "id": "8b145c62",
   "metadata": {},
   "outputs": [],
   "source": [
    "plotname = folder_path+modeltype+\"_TE_backward_F+C+R+S\"\n",
    "target = clinical_after_selection\n",
    "data,y = get_data(clinical,target_ls=target,target_num=target_num,radiomics=selected_radiomics,semantic=selected_semantic,fuse=selected_fuse)\n",
    "y = (y==\"E\")*1"
   ]
  },
  {
   "cell_type": "code",
   "execution_count": null,
   "id": "08b9d208",
   "metadata": {},
   "outputs": [],
   "source": [
    "selecter_model = selecter_basemodel\n",
    "selected_data = selecter(data,y,selecter_model,n_features_to_select=50)\n",
    "CI_model = CI_basemodel\n",
    "CI_analyse(selected_data,y,CI_model,modeltype=modeltype,record=record,plotname = plotname)"
   ]
  },
  {
   "cell_type": "code",
   "execution_count": null,
   "id": "641d4ba5",
   "metadata": {},
   "outputs": [],
   "source": [
    "selecter_model = selecter_basemodel\n",
    "selected_data = selecter(data,y,selecter_model,n_features_to_select=45)\n",
    "CI_model = CI_basemodel\n",
    "CI_analyse(selected_data,y,CI_model,modeltype=modeltype,record=record,plotname = plotname)"
   ]
  },
  {
   "cell_type": "code",
   "execution_count": null,
   "id": "42121f7d",
   "metadata": {},
   "outputs": [],
   "source": [
    "selecter_model = selecter_basemodel\n",
    "selected_data = selecter(data,y,selecter_model,n_features_to_select=40)\n",
    "CI_model = CI_basemodel\n",
    "CI_analyse(selected_data,y,CI_model,modeltype=modeltype,record=record,plotname = plotname)"
   ]
  },
  {
   "cell_type": "code",
   "execution_count": null,
   "id": "1d569c3e",
   "metadata": {},
   "outputs": [],
   "source": [
    "selecter_model = selecter_basemodel\n",
    "selected_data = selecter(data,y,selecter_model,n_features_to_select=35)\n",
    "CI_model = CI_basemodel\n",
    "CI_analyse(selected_data,y,CI_model,modeltype=modeltype,record=record,plotname = plotname)"
   ]
  },
  {
   "cell_type": "code",
   "execution_count": null,
   "id": "74ad8a8b",
   "metadata": {},
   "outputs": [],
   "source": [
    "selecter_model = selecter_basemodel\n",
    "selected_data = selecter(data,y,selecter_model,n_features_to_select=30)\n",
    "CI_model = CI_basemodel\n",
    "CI_analyse(selected_data,y,CI_model,modeltype=modeltype,record=record,plotname = plotname)"
   ]
  },
  {
   "cell_type": "code",
   "execution_count": null,
   "id": "9cac81f9",
   "metadata": {},
   "outputs": [],
   "source": [
    "selecter_model = selecter_basemodel\n",
    "selected_data = selecter(data,y,selecter_model,n_features_to_select=25)\n",
    "CI_model = CI_basemodel\n",
    "CI_analyse(selected_data,y,CI_model,modeltype=modeltype,record=record,plotname = plotname)"
   ]
  },
  {
   "cell_type": "code",
   "execution_count": null,
   "id": "3520a289",
   "metadata": {},
   "outputs": [],
   "source": [
    "selecter_model = selecter_basemodel\n",
    "selected_data = selecter(data,y,selecter_model,n_features_to_select=20)\n",
    "CI_model = CI_basemodel\n",
    "CI_analyse(selected_data,y,CI_model,modeltype=modeltype,record=record,plotname = plotname)"
   ]
  },
  {
   "cell_type": "code",
   "execution_count": null,
   "id": "528a5a53",
   "metadata": {},
   "outputs": [],
   "source": [
    "selecter_model = selecter_basemodel\n",
    "selected_data = selecter(data,y,selecter_model,n_features_to_select=15)\n",
    "CI_model = CI_basemodel\n",
    "CI_analyse(selected_data,y,CI_model,modeltype=modeltype,record=record,plotname = plotname)"
   ]
  },
  {
   "cell_type": "code",
   "execution_count": null,
   "id": "2d11fcd8",
   "metadata": {},
   "outputs": [],
   "source": [
    "selecter_model = selecter_basemodel\n",
    "selected_data = selecter(data,y,selecter_model,n_features_to_select=10)\n",
    "CI_model = CI_basemodel\n",
    "CI_analyse(selected_data,y,CI_model,modeltype=modeltype,record=record,plotname = plotname)"
   ]
  },
  {
   "cell_type": "code",
   "execution_count": null,
   "id": "e242c06b",
   "metadata": {},
   "outputs": [],
   "source": [
    "if record:\n",
    "    record_table.to_csv(csv_folder_path+modeltype+\"_backward.csv\",index=False)\n",
    "record_table"
   ]
  }
 ],
 "metadata": {
  "kernelspec": {
   "display_name": "Python 3 (ipykernel)",
   "language": "python",
   "name": "python3"
  },
  "language_info": {
   "codemirror_mode": {
    "name": "ipython",
    "version": 3
   },
   "file_extension": ".py",
   "mimetype": "text/x-python",
   "name": "python",
   "nbconvert_exporter": "python",
   "pygments_lexer": "ipython3",
   "version": "3.7.16"
  }
 },
 "nbformat": 4,
 "nbformat_minor": 5
}
