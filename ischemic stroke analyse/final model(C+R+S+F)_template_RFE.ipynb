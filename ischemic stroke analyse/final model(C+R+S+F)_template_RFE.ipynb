{
 "cells": [
  {
   "cell_type": "code",
   "execution_count": null,
   "id": "39797b90",
   "metadata": {},
   "outputs": [],
   "source": [
    "#https://github.com/dreamquark-ai/tabnet\n",
    "#pip install pytorch-tabnet\n",
    "\n",
    "#https://github.com/automl/TabPFN\n",
    "#pip install tabpfn\n",
    "\n",
    "#pip install lightgbm"
   ]
  },
  {
   "cell_type": "code",
   "execution_count": null,
   "id": "78e6c0df",
   "metadata": {},
   "outputs": [],
   "source": [
    "import os\n",
    "import numpy as np\n",
    "import pandas as pd\n",
    "import matplotlib.pyplot as plt\n",
    "import random\n",
    "from sklearn.decomposition import PCA\n",
    "import seaborn as sns\n",
    "import matplotlib.pyplot as plt"
   ]
  },
  {
   "cell_type": "code",
   "execution_count": null,
   "id": "fe723b48",
   "metadata": {},
   "outputs": [],
   "source": [
    "clinical = pd.read_excel(\"../data/20231124is0155-500NIHSSfinal.xlsx\",sheet_name=0)\n",
    "clinical.rename(columns = {'Unnamed: 0':\"ID\"}, inplace = True)\n",
    "\n",
    "clinical = clinical.iloc[:,:-33]\n",
    "#2D-EF 、 BUN 、iFS 、 HbA1c \n",
    "del_ls = [1,2,3,11,12,13,14,15,16,17]\n",
    "print(\"delete\",clinical.columns[del_ls])\n",
    "clinical = clinical.drop(clinical.columns[del_ls],axis = 1)\n",
    "clinical = clinical.rename(columns={\"LVO-index>50%\": \"LVO-index\", \"Tx (1tPA, 2IA)\": \"Tx\"})\n",
    "clinical.iloc[[5,155,171],35]  = np.NaN\n",
    "clinical.iloc[86,19] = 1\n",
    "clinical.iloc[89,23] = 1\n",
    "clinical.iloc[:,12:] = clinical.iloc[:,12:].apply(pd.to_numeric)\n",
    "\n",
    "\n",
    "clinical.iloc[:,11:12] = clinical.iloc[:,11:12].fillna(clinical.iloc[:,11:12].quantile(0.5))\n",
    "clinical.iloc[:,7:8] = clinical.iloc[:,7:8].fillna(clinical.iloc[:,7:8].quantile(0.5))\n",
    "clinical.iloc[:,23:] = clinical.iloc[:,23:].fillna(clinical.iloc[:,23:].quantile(0.5))\n",
    "\n",
    "clinical = clinical.drop(157,axis=0)\n",
    "clinical"
   ]
  },
  {
   "cell_type": "code",
   "execution_count": null,
   "id": "dac11e78",
   "metadata": {},
   "outputs": [],
   "source": [
    "#1441\n",
    "radiomics = pd.read_csv(\"../data/1107_radiomics_output.csv\")\n",
    "#1424\n",
    "del_ls = [1,2,3,4,5,6,7,8,9,10,11,15,16,17,18,21,22]\n",
    "print(\"delete\",radiomics.columns[del_ls])\n",
    "radiomics = radiomics.drop(radiomics.columns[del_ls],axis = 1)\n",
    "#1414+\n",
    "radiomics = radiomics.dropna(axis=1)\n",
    "radiomics\n",
    "#1375\n",
    "target = list(radiomics.var().index[radiomics.var()!=0])\n",
    "target.insert(0,\"ID\")\n",
    "radiomics = radiomics[target]\n",
    "radiomics"
   ]
  },
  {
   "cell_type": "code",
   "execution_count": null,
   "id": "b88f9586",
   "metadata": {},
   "outputs": [],
   "source": [
    "semantic = pd.read_csv(\"../data/0918_semantic_output.csv\")\n",
    "semantic"
   ]
  },
  {
   "cell_type": "code",
   "execution_count": null,
   "id": "70b110a0",
   "metadata": {},
   "outputs": [],
   "source": [
    "fuse = pd.read_csv(\"../data/0416_fuse_radiomics_output.csv\")\n",
    "fuse = fuse.dropna(axis=1)\n",
    "target = list(fuse.var().index[fuse.var()!=0])\n",
    "target.insert(0,\"ID\")\n",
    "fuse = fuse[target]\n",
    "fuse"
   ]
  },
  {
   "cell_type": "code",
   "execution_count": null,
   "id": "3298002a",
   "metadata": {},
   "outputs": [],
   "source": [
    "from sklearn.utils import shuffle\n",
    "from catboost import CatBoostRegressor\n",
    "from catboost import CatBoostClassifier\n",
    "from sklearn.ensemble import RandomForestClassifier\n",
    "from sklearn.ensemble import RandomForestRegressor\n",
    "\n",
    "from sklearn.model_selection import train_test_split\n",
    "from sklearn.metrics import classification_report\n",
    "from sklearn.metrics import confusion_matrix\n",
    "from imblearn.over_sampling import SMOTE\n",
    "\n",
    "\n",
    "from sklearn.linear_model import LinearRegression\n",
    "from xgboost import XGBClassifier\n",
    "\n",
    "import shap"
   ]
  },
  {
   "cell_type": "code",
   "execution_count": null,
   "id": "42626bcd",
   "metadata": {},
   "outputs": [],
   "source": [
    "def get_data(clinical,target_ls,target_num,info_ls=[],radiomics=None,semantic=None,fuse=None):\n",
    "    y_name = clinical.columns[target_num]\n",
    "    \n",
    "    print(\"target is\",list(clinical.columns[target_ls]))\n",
    "    if radiomics is not None:\n",
    "        merge = pd.merge(clinical[clinical.columns[target_ls+info_ls]], radiomics, left_on=\"ID\", right_on=\"ID\", how=\"inner\")\n",
    "    else:\n",
    "        merge = clinical[clinical.columns[target_ls+info_ls]]\n",
    "    if semantic is not None:\n",
    "        merge = pd.merge(merge, semantic, left_on=\"ID\", right_on=\"ID\", how=\"inner\")\n",
    "    if fuse is not None:\n",
    "        merge = pd.merge(merge, fuse, left_on=\"ID\", right_on=\"ID\", how=\"inner\")\n",
    "    print(merge.shape)\n",
    "    merge = merge.dropna(axis=0)\n",
    "    print(merge.shape)\n",
    "    merge = merge.drop(clinical.columns[info_ls], axis=1)\n",
    "    ylab = merge[y_name]\n",
    "    data = merge.drop([\"ID\",y_name],axis = 1)\n",
    "    data = data.astype('float64')\n",
    "    print(\"shape of data is :\",data.shape)\n",
    "    return(data,ylab)\n",
    "def featureIMP(data,model,modeltype=\"forest\"):\n",
    "    featureimp = pd.DataFrame()\n",
    "    featureimp[\"feature\"] = data.columns\n",
    "    if modeltype in [\"forest\",\"lgbm\",\"TabPFN\",\"xgb\"]:\n",
    "        featureimp[\"imp\"] = model.feature_importances_\n",
    "    elif modeltype in [\"catboost\"]:\n",
    "        featureimp[\"imp\"] = model.get_feature_importance()\n",
    "    featureimp = featureimp.sort_values(by='imp', ascending=False)\n",
    "    featureimp = featureimp.reset_index(drop=True)\n",
    "    return(featureimp)"
   ]
  },
  {
   "cell_type": "code",
   "execution_count": null,
   "id": "7f00ecca",
   "metadata": {},
   "outputs": [],
   "source": [
    "from sklearn import metrics\n",
    "def where(df,l):\n",
    "    return_list = []\n",
    "    for i in range(len(df.columns)):\n",
    "        if df.columns[i] in l:\n",
    "            return_list.append(i)\n",
    "    return(return_list)\n",
    "def listgenerate(k,catnum,catremain):\n",
    "    temp = []\n",
    "    for i in range(k):\n",
    "        for j in range(catnum):\n",
    "            temp.append(i)\n",
    "    for i in range(catremain):\n",
    "        temp.append(i)\n",
    "    temp = np.array(temp)\n",
    "    random.shuffle(temp)\n",
    "    return(temp)\n",
    "        \n",
    "        \n",
    "def cv(data,y,k=5,cate=True):\n",
    "    if(cate):\n",
    "        datat = data[y==0]\n",
    "        yt = y[y==0]\n",
    "        catnum = sum(y==0)// k\n",
    "        catremain = sum(y==0) % k\n",
    "        listt = listgenerate(k,catnum,catremain)\n",
    "       \n",
    "        \n",
    "        dataf = data[y==1]\n",
    "        yf = y[y==1]        \n",
    "        catnum = sum(y==1)// k\n",
    "        catremain = sum(y==1) % k\n",
    "        listf = listgenerate(k,catnum,catremain)\n",
    "        \n",
    "        outputdata = []\n",
    "        outputy = []\n",
    "        for i in range(k):\n",
    "            kdata = pd.concat([datat[listt==i],dataf[listf==i]])\n",
    "            outputdata.append(kdata)\n",
    "            ky = pd.concat([yt[listt==i],yf[listf==i]])\n",
    "            outputy.append(ky)\n",
    "\n",
    "    else:\n",
    "        catnum = len(y)// k\n",
    "        catremain = len(y) % k\n",
    "        lista = listgenerate(k,catnum,catremain)\n",
    "        outputdata = []\n",
    "        outputy = []\n",
    "        for i in range(k):\n",
    "            outputdata.append(data[lista==i])\n",
    "            outputy.append(y[lista==i])\n",
    "        \n",
    "    return(outputdata,outputy)\n",
    "def analyse(kdata,ky,model,smote=False,cat=False,sampling_strategy=0.56,modeltype=\"forest\"):\n",
    "\n",
    "    \n",
    "    reshape_k_y = np.array([])\n",
    "    reshape_k_predict = np.array([])\n",
    "    reshape_k_prob = np.array([])\n",
    "    shape = kdata[0].shape\n",
    "    \n",
    "    reshape_k_data = pd.DataFrame(columns = kdata[0].columns)\n",
    "    reshape_k_shap = np.zeros((0, shape[1]))\n",
    "    featureimp = pd.DataFrame({\"feature\":kdata[0].columns})\n",
    "\n",
    "        \n",
    "    for i in range(len(kdata)):\n",
    "        traindata = pd.DataFrame([],columns = kdata[0].columns)\n",
    "        trainy = pd.Series([],dtype=float)\n",
    "        for j in range(len(kdata)):\n",
    "            if i!=j:\n",
    "                traindata = pd.concat([traindata,kdata[j]])\n",
    "                trainy = pd.concat([trainy,ky[j]])\n",
    "            else:\n",
    "                testdata = kdata[j]\n",
    "                testy = ky[j]\n",
    "        \n",
    "        if smote:\n",
    "            cat=True\n",
    "            sm = SMOTE(random_state=42,sampling_strategy=sampling_strategy,k_neighbors=3)\n",
    "            traindata, trainy = sm.fit_resample(traindata, trainy)\n",
    "            traindata = traindata.astype('float64')\n",
    "\n",
    "        tempmodel = model\n",
    "        if modeltype in [\"forest\",\"xgb\",\"lgbm\",\"TabPFN\"]:\n",
    "            tempmodel.fit(traindata, trainy)\n",
    "            predict = tempmodel.predict(testdata)\n",
    "            predict_porb = tempmodel.predict_proba(testdata)[:,1]\n",
    "            \n",
    "            #predict_train = tempmodel.predict(traindata)\n",
    "        elif modeltype in [\"catboost\"]:\n",
    "            tempmodel.fit(traindata, trainy, eval_set=(testdata, testy), verbose=0, plot=False)\n",
    "            predict = tempmodel.predict(testdata)\n",
    "            predict_porb = tempmodel.predict_proba(testdata)[:,1]\n",
    "            \n",
    "            #predict_train = tempmodel.predict(traindata)\n",
    "        elif modeltype in [\"TabNet\"]:\n",
    "            tempmodel.fit(traindata.values, trainy,eval_set=[(testdata.values, testy)])\n",
    "            predict = tempmodel.predict(testdata.values)\n",
    "            predict_porb = tempmodel.predict_proba(testdata)[:,1]\n",
    "            #predict_train = tempmodel.predict(traindata.values)\n",
    "        else:\n",
    "            print(\"warning,modeltype error.\")\n",
    "\n",
    "        explainer = shap.Explainer(tempmodel)\n",
    "        shap_values = explainer.shap_values(testdata)\n",
    "        reshape_k_data = pd.concat((reshape_k_data,kdata[i]))\n",
    "        \n",
    "        if modeltype in [\"forest\",\"lgbm\"]:\n",
    "            reshape_k_shap = np.concatenate((reshape_k_shap,shap_values[1]))\n",
    "        elif modeltype in [\"xgb\",\"catboost\"]:\n",
    "            reshape_k_shap = np.concatenate((reshape_k_shap,shap_values))\n",
    "        \n",
    "        temp_featureimp = featureIMP(testdata,tempmodel,modeltype=modeltype)\n",
    "        reshape_k_y = np.concatenate((reshape_k_y,testy))\n",
    "        reshape_k_predict = np.concatenate((reshape_k_predict,predict))\n",
    "        reshape_k_prob = np.concatenate((reshape_k_prob,predict_porb))\n",
    "        featureimp = featureimp.merge(temp_featureimp, how='inner', on='feature')\n",
    "\n",
    "    return(reshape_k_y,reshape_k_predict,reshape_k_prob,featureimp,reshape_k_data,reshape_k_shap)\n",
    "\n",
    "\n",
    "def CI_analyse(data,y,model,modeltype,k=3,cate=True,time=21,smote=True,record=False,plotname=\"\"):\n",
    "\n",
    "    all_data = pd.DataFrame(columns = data.columns)\n",
    "    shape = data.shape\n",
    "    all_shap = np.zeros((0, shape[1]))\n",
    "    \n",
    "    acc = []\n",
    "    sen = []\n",
    "    spe = []\n",
    "    auc = []\n",
    "    auprc = []\n",
    "    l_fpr = []\n",
    "    l_tpr = []\n",
    "    l_precision = []\n",
    "    l_recall = []\n",
    "    CI_featureimp = pd.DataFrame({\"feature\":data.columns})\n",
    "    for i in range(21):\n",
    "        \n",
    "        kdata,ky = cv(data,y,k=k,cate=cate)\n",
    "        model_temp = model\n",
    "        \n",
    "        reshape_k_y,reshape_k_predict,reshape_k_prob,featureimp,reshape_k_data,reshape_k_shap = analyse(kdata,ky,model_temp,smote=smote,cat=True,sampling_strategy=1,modeltype=modeltype)\n",
    "        \n",
    "        all_data = pd.concat((all_data,reshape_k_data))\n",
    "        all_shap = np.concatenate((all_shap,reshape_k_shap))\n",
    "        \n",
    "        \n",
    "        CI_featureimp = CI_featureimp.merge(featureimp, how='inner', on='feature')\n",
    "        ans_test=confusion_matrix(reshape_k_y, reshape_k_predict)\n",
    "        fpr, tpr, thresholds = metrics.roc_curve(reshape_k_y, reshape_k_prob)\n",
    "        precision , recall, thresholds = metrics.precision_recall_curve(reshape_k_y, reshape_k_prob , pos_label=1)\n",
    "        \n",
    "        acc.append(round((ans_test[0,0]+ans_test[1,1])/(ans_test[0,0]+ans_test[0,1]+ans_test[1,0]+ans_test[1,1]),3))\n",
    "        sen.append(round(ans_test[1,1]/(ans_test[1,0]+ans_test[1,1]),3))\n",
    "        spe.append(round(ans_test[0,0]/(ans_test[0,0]+ans_test[0,1]),3))\n",
    "        auc.append(round(metrics.auc(fpr, tpr),3))\n",
    "        auprc.append(round(metrics.auc(recall , precision),3))\n",
    "        l_fpr.append(fpr)\n",
    "        l_tpr.append(tpr)\n",
    "        l_precision.append(precision)\n",
    "        l_recall.append(recall)\n",
    "\n",
    "    CI_featureimp[\"avg of imp\"] = CI_featureimp.sum(axis=1, numeric_only=True)/63\n",
    "    CI_featureimp = CI_featureimp[[\"feature\",\"avg of imp\"]]\n",
    "    CI_featureimp = CI_featureimp.sort_values(by=['avg of imp'],ascending=False)\n",
    "    CI_featureimp = CI_featureimp.reset_index(drop=True)\n",
    "    CI_featureimp = CI_featureimp[:min(20,len(CI_featureimp))]\n",
    "    print(CI_featureimp)    \n",
    "    \n",
    "    print(\"#=============all===============\")\n",
    "    shap.summary_plot(all_shap, all_data)\n",
    "    print(\"#=============all===============\")\n",
    "    \n",
    "    index_list = where(all_data,CI_featureimp[\"feature\"].values)\n",
    "\n",
    "    \n",
    "    print(\"#=============part===============\")\n",
    "    plt.figure()\n",
    "    shap.summary_plot(all_shap[:,index_list], all_data.iloc[:,index_list], show=False)\n",
    "    if record:\n",
    "        plt.savefig(plotname+'_shap_summary_plot.jpg', format='jpg', dpi=300, bbox_inches='tight')\n",
    "    plt.show()\n",
    "    print(\"#=============part===============\")    \n",
    "    \n",
    "    if record:\n",
    "        condition = record_table.iloc[:, 2:].isnull().all(axis=1)\n",
    "        condition = record_table.iloc[:, 2:].isnull().all(axis=1)\n",
    "        if condition.any():\n",
    "            empty_row_index = record_table[condition].index[0]\n",
    "            record_table.iloc[empty_row_index, 2:] = [len(data.columns), \n",
    "                                      str(np.quantile(acc,0.5))+\" ( \"+str(np.quantile(acc,0.05))+\" ~ \"+str(np.quantile(acc,0.95))+\" )\",\n",
    "                                      str(np.quantile(sen,0.5))+\" ( \"+str(np.quantile(sen,0.05))+\" ~ \"+str(np.quantile(sen,0.95))+\" )\",\n",
    "                                      str(np.quantile(spe,0.5))+\" ( \"+str(np.quantile(spe,0.05))+\" ~ \"+str(np.quantile(spe,0.95))+\" )\",\n",
    "                                      str(np.quantile(auc,0.5))+\" ( \"+str(np.quantile(auc,0.05))+\" ~ \"+str(np.quantile(auc,0.95))+\" )\",\n",
    "                                      str(np.quantile(auprc,0.5))+\" ( \"+str(np.quantile(auprc,0.05))+\" ~ \"+str(np.quantile(auprc,0.95))+\" )\"]\n",
    "    \n",
    "    n = np.where(auc == np.quantile(auc,0.05))\n",
    "    \n",
    "    m_fpr = l_fpr[n[0][0]]\n",
    "    m_tpr = l_tpr[n[0][0]]\n",
    "    plt.plot(m_fpr,m_tpr)\n",
    "    #plt.legend(loc=4)\n",
    "    plt.xlabel(\"false positive rate\")\n",
    "    plt.ylabel(\"true positive rate\")\n",
    "    \n",
    "    if record:\n",
    "        plt.savefig(plotname+'_auroc.jpg', format='jpg', dpi=300, bbox_inches='tight')\n",
    "    \n",
    "    plt.show()\n",
    "        \n",
    "        \n",
    "    m_precision = l_fpr[n[0][0]]\n",
    "    m_recall = l_tpr[n[0][0]]\n",
    "    plt.plot(m_precision,m_recall)\n",
    "    #plt.legend(loc=4)\n",
    "    plt.xlabel(\"precision\")\n",
    "    plt.ylabel(\"recall\")\n",
    "    \n",
    "    if record:\n",
    "        plt.savefig(plotname+'_auprc.jpg', format='jpg', dpi=300, bbox_inches='tight')\n",
    "    plt.show()\n",
    "    \n",
    "    print(\"sen:\",np.quantile(sen,0.5),\"(\",np.quantile(sen,0.05),\"~\",np.quantile(sen,0.95),\")\")\n",
    "    print(\"spe:\",np.quantile(spe,0.5),\"(\",np.quantile(spe,0.05),\"~\",np.quantile(spe,0.95),\")\")\n",
    "    print(\"auprc:\",np.quantile(auprc,0.5),\"(\",np.quantile(auprc,0.05),\"~\",np.quantile(auprc,0.95),\")\")\n",
    "    print(\"acc:\",np.quantile(acc,0.5),\"(\",np.quantile(acc,0.05),\"~\",np.quantile(acc,0.95),\")\")\n",
    "    print(\"auc:\",np.quantile(auc,0.5),\"(\",np.quantile(auc,0.05),\"~\",np.quantile(auc,0.95),\")\")\n",
    "    "
   ]
  },
  {
   "cell_type": "code",
   "execution_count": null,
   "id": "dfc10f51",
   "metadata": {},
   "outputs": [],
   "source": [
    "def RFE(data,y,model,n_features_to_select,step):\n",
    "    while True:\n",
    "        if len(data.columns)>n_features_to_select:\n",
    "            model.fit(data, y)\n",
    "            table = featureIMP(data,model,modeltype=modeltype)\n",
    "            num = max(n_features_to_select,len(data.columns)-step)\n",
    "            imp_feature = table[\"feature\"][0:num]\n",
    "            data = data[imp_feature]\n",
    "            print(\"RFE select \",len(data.columns),\" features.\")\n",
    "        else:\n",
    "            break\n",
    "    return(data)\n",
    "\n",
    "def backward(data,y,model,n_features_to_select):\n",
    "    model.fit(data, y)\n",
    "    table = featureIMP(data,model,modeltype=modeltype)\n",
    "    imp_feature = table[\"feature\"][0:n_features_to_select]\n",
    "    data = data[imp_feature]\n",
    "    print(\"Backward select \",len(data.columns),\" features.\")\n",
    "    return(data)"
   ]
  },
  {
   "cell_type": "code",
   "execution_count": null,
   "id": "0b89fab0",
   "metadata": {},
   "outputs": [],
   "source": [
    "from sklearn.utils import shuffle\n",
    "from catboost import CatBoostRegressor\n",
    "from catboost import CatBoostClassifier\n",
    "from sklearn.ensemble import RandomForestClassifier\n",
    "from sklearn.ensemble import RandomForestRegressor\n",
    "\n",
    "from sklearn.model_selection import train_test_split\n",
    "from sklearn.metrics import classification_report\n",
    "from sklearn.metrics import confusion_matrix\n",
    "from imblearn.over_sampling import SMOTE\n",
    "\n",
    "\n",
    "from sklearn.linear_model import LinearRegression\n",
    "from xgboost import XGBClassifier\n",
    "\n",
    "import lightgbm as lgb\n",
    "\n",
    "import shap"
   ]
  },
  {
   "cell_type": "code",
   "execution_count": null,
   "id": "c37d46fb",
   "metadata": {},
   "outputs": [],
   "source": [
    "#basemodel =RandomForestClassifier(max_depth=4)\n",
    "#modeltype = \"forest\"\n",
    "#\n",
    "#basemodel =XGBClassifier(n_estimators=100, learning_rate= 0.015)\n",
    "#modeltype = \"xgb\"\n",
    "\n",
    "#basemodel = CatBoostClassifier(loss_function=\"Logloss\",\n",
    "#                           eval_metric=\"AUC\",\n",
    "#                           task_type=\"GPU\",\n",
    "#                           learning_rate=0.01,\n",
    "#                           iterations=30,\n",
    "#                           random_seed=42,\n",
    "#                           od_type=\"Iter\",\n",
    "#                           depth=9,\n",
    "#                           early_stopping_rounds=10)\n",
    "#modeltype = \"catboost\"\n",
    "\n",
    "#basemodel = lgb.LGBMClassifier(learning_rate=0.04,max_depth=3,num_leaves=6,reg_alpha=0.1,reg_lambda=1,colsample_bytree=0.5)\n",
    "#modeltype = \"lgbm\""
   ]
  },
  {
   "cell_type": "markdown",
   "id": "f96f142b",
   "metadata": {},
   "source": [
    "## catboost"
   ]
  },
  {
   "cell_type": "code",
   "execution_count": null,
   "id": "b2577765",
   "metadata": {},
   "outputs": [],
   "source": [
    "#catboost會消耗大量記憶體，因此fusion前期需用簡單的模型跑，後期再改回較大的模型\n",
    "#basemodel2 = CatBoostClassifier(loss_function=\"Logloss\",\n",
    "#                           eval_metric=\"AUC\",\n",
    "#                           task_type=\"CPU\",\n",
    "#                           learning_rate=0.01,\n",
    "#                           iterations=30,\n",
    "#                           random_seed=42,\n",
    "#                           od_type=\"Iter\",\n",
    "#                           depth=3,\n",
    "#                           early_stopping_rounds=10,\n",
    "#                            used_ram_limit=\"20gb\",\n",
    "#                            leaf_estimation_method='Newton',\n",
    "#                           thread_count=5,\n",
    "#                            pinned_memory_size=\"20gb\")\n",
    "#modeltype = \"catboost\"\n",
    "#clinical_target = [0,1,2,3,6,11,12,13,14,15,16,17,18,19,20,21,22,23,24,25,26,27,28,29,30,31,32,33,34,35,36,37,38,39,40,41,42,43,44,45,46,47,48]\n",
    "#target_num = 6"
   ]
  },
  {
   "cell_type": "code",
   "execution_count": null,
   "id": "6f4711de",
   "metadata": {},
   "outputs": [],
   "source": [
    "selecter_basemodel =RandomForestClassifier(max_depth=4)\n",
    "CI_basemodel =RandomForestClassifier(max_depth=4)\n",
    "modeltype = \"forest\"\n",
    "clinical_target = [0,1,2,3,6,11,12,13,14,15,16,17,18,19,20,21,22,23,24,25,26,27,28,29,30,31,32,33,34,35,36,37,38,39,40,41,42,43,44,45,46,47,48]\n",
    "target_num = 6\n",
    "selecter = RFE"
   ]
  },
  {
   "cell_type": "code",
   "execution_count": null,
   "id": "5c09ce6a",
   "metadata": {},
   "outputs": [],
   "source": [
    "record = False\n",
    "folder_path = './record/'\n",
    "csv_folder_path = './record table/'\n",
    "if not os.path.exists(folder_path):\n",
    "    os.makedirs(folder_path)\n",
    "if not os.path.exists(folder_path):\n",
    "    os.makedirs(folder_path)\n",
    "#建立空的pandas，自訂欄位並讓後去資料放進去    \n",
    "record_table = pd.DataFrame(columns=['target','combination','feature number', 'accuracy', 'sensitivity', 'specificity', 'auroc' , 'auprc'], index=range(36))\n",
    "record_table['target'] = ['mRS']*9+['NIHSS']*9+['LVO']*9+['T/E']*9\n",
    "record_table['combination'] = [\"C\",\"R\",\"S\",\"F\",\"F+C\",\"F+R\",\"F+S\",\"F+C+R\",\"F+C+R+S\"]*4\n",
    "record_table"
   ]
  },
  {
   "cell_type": "markdown",
   "id": "14494ff7",
   "metadata": {},
   "source": [
    "## mRS"
   ]
  },
  {
   "cell_type": "markdown",
   "id": "1e0b473a",
   "metadata": {},
   "source": [
    "### only C"
   ]
  },
  {
   "cell_type": "code",
   "execution_count": null,
   "id": "b4f90686",
   "metadata": {},
   "outputs": [],
   "source": [
    "plotname = folder_path+modeltype+\"_mRS_RFE_C\"\n",
    "target = clinical_target\n",
    "data,y = get_data(clinical,target_ls=target,target_num=target_num)\n",
    "y = (y>2)*1"
   ]
  },
  {
   "cell_type": "code",
   "execution_count": null,
   "id": "b1d983f5",
   "metadata": {},
   "outputs": [],
   "source": [
    "selecter_model = selecter_basemodel\n",
    "selected_data = selecter(selected_data,y,selecter_model,n_features_to_select=40 , step=1)\n",
    "CI_model = CI_basemodel\n",
    "CI_analyse(selected_data,y,CI_model,modeltype=modeltype,record=record,plotname = plotname)"
   ]
  },
  {
   "cell_type": "code",
   "execution_count": null,
   "id": "7f60b611",
   "metadata": {},
   "outputs": [],
   "source": [
    "selecter_model = selecter_basemodel\n",
    "selected_data = selecter(selected_data,y,selecter_model,n_features_to_select=35 , step=1)\n",
    "CI_model = CI_basemodel\n",
    "CI_analyse(selected_data,y,CI_model,modeltype=modeltype,record=record,plotname = plotname)"
   ]
  },
  {
   "cell_type": "code",
   "execution_count": null,
   "id": "81e5391f",
   "metadata": {},
   "outputs": [],
   "source": [
    "selecter_model = selecter_basemodel\n",
    "selected_data = selecter(selected_data,y,selecter_model,n_features_to_select=30 , step=1)\n",
    "CI_model = CI_basemodel\n",
    "CI_analyse(selected_data,y,CI_model,modeltype=modeltype,record=record,plotname = plotname)"
   ]
  },
  {
   "cell_type": "code",
   "execution_count": null,
   "id": "542b4e25",
   "metadata": {},
   "outputs": [],
   "source": [
    "selecter_model = selecter_basemodel\n",
    "selected_data = selecter(selected_data,y,selecter_model,n_features_to_select=25 , step=1)\n",
    "CI_model = CI_basemodel\n",
    "CI_analyse(selected_data,y,CI_model,modeltype=modeltype,record=record,plotname = plotname)"
   ]
  },
  {
   "cell_type": "code",
   "execution_count": null,
   "id": "f86c14b9",
   "metadata": {},
   "outputs": [],
   "source": [
    "selecter_model = selecter_basemodel\n",
    "selected_data = selecter(selected_data,y,selecter_model,n_features_to_select=20 , step=1)\n",
    "CI_model = CI_basemodel\n",
    "CI_analyse(selected_data,y,CI_model,modeltype=modeltype,record=record,plotname = plotname)"
   ]
  },
  {
   "cell_type": "code",
   "execution_count": null,
   "id": "2c37430c",
   "metadata": {},
   "outputs": [],
   "source": [
    "selecter_model = selecter_basemodel\n",
    "selected_data = selecter(selected_data,y,selecter_model,n_features_to_select=15 , step=1)\n",
    "CI_model = CI_basemodel\n",
    "CI_analyse(selected_data,y,CI_model,modeltype=modeltype,record=record,plotname = plotname)"
   ]
  },
  {
   "cell_type": "code",
   "execution_count": null,
   "id": "43b8a948",
   "metadata": {},
   "outputs": [],
   "source": [
    "selecter_model = selecter_basemodel\n",
    "selected_data = selecter(selected_data,y,selecter_model,n_features_to_select=10 , step=1)\n",
    "CI_model = CI_basemodel\n",
    "CI_analyse(selected_data,y,CI_model,modeltype=modeltype,record=record,plotname = plotname)"
   ]
  },
  {
   "cell_type": "code",
   "execution_count": null,
   "id": "8965d4ed",
   "metadata": {},
   "outputs": [],
   "source": [
    "imp_feature = pd.concat([pd.Series([\"ID\",\"mRS_discharge\"]), pd.Series(selected_data.columns.values)])\n",
    "clinical_after_selection = [clinical.columns.get_loc(label) for label in imp_feature]"
   ]
  },
  {
   "cell_type": "markdown",
   "id": "43d6f7bc",
   "metadata": {},
   "source": [
    "### only R"
   ]
  },
  {
   "cell_type": "code",
   "execution_count": null,
   "id": "47ea048f",
   "metadata": {},
   "outputs": [],
   "source": [
    "plotname = folder_path+modeltype+\"_mRS_RFE_R\"\n",
    "target = [0,target_num]\n",
    "data,y = get_data(clinical,target_ls=target,target_num=target_num,radiomics=radiomics)\n",
    "y = (y>2)*1"
   ]
  },
  {
   "cell_type": "code",
   "execution_count": null,
   "id": "931bb72c",
   "metadata": {},
   "outputs": [],
   "source": [
    "selecter_model = selecter_basemodel\n",
    "selected_data = selecter(data,y,selecter_model,n_features_to_select=950 , step=2000)\n",
    "selecter_model = selecter_basemodel\n",
    "selected_data = selecter(selected_data,y,selecter_model,n_features_to_select=50 , step=150)"
   ]
  },
  {
   "cell_type": "code",
   "execution_count": null,
   "id": "57b3fc5f",
   "metadata": {},
   "outputs": [],
   "source": [
    "selecter_model = selecter_basemodel\n",
    "selected_data = selecter(selected_data,y,selecter_model,n_features_to_select=50 , step=1)\n",
    "CI_model = CI_basemodel\n",
    "CI_analyse(selected_data,y,CI_model,modeltype=modeltype,record=record,plotname = plotname)"
   ]
  },
  {
   "cell_type": "code",
   "execution_count": null,
   "id": "38c5c7bb",
   "metadata": {},
   "outputs": [],
   "source": [
    "selecter_model = selecter_basemodel\n",
    "selected_data = selecter(selected_data,y,selecter_model,n_features_to_select=45 , step=1)\n",
    "CI_model = CI_basemodel\n",
    "CI_analyse(selected_data,y,CI_model,modeltype=modeltype,record=record,plotname = plotname)"
   ]
  },
  {
   "cell_type": "code",
   "execution_count": null,
   "id": "fc7d1e81",
   "metadata": {},
   "outputs": [],
   "source": [
    "selecter_model = selecter_basemodel\n",
    "selected_data = selecter(selected_data,y,selecter_model,n_features_to_select=40 , step=1)\n",
    "CI_model = CI_basemodel\n",
    "CI_analyse(selected_data,y,CI_model,modeltype=modeltype,record=record,plotname = plotname)"
   ]
  },
  {
   "cell_type": "code",
   "execution_count": null,
   "id": "9fb768f0",
   "metadata": {},
   "outputs": [],
   "source": [
    "selecter_model = selecter_basemodel\n",
    "selected_data = selecter(selected_data,y,selecter_model,n_features_to_select=35 , step=1)\n",
    "CI_model = CI_basemodel\n",
    "CI_analyse(selected_data,y,CI_model,modeltype=modeltype,record=record,plotname = plotname)"
   ]
  },
  {
   "cell_type": "code",
   "execution_count": null,
   "id": "66134c60",
   "metadata": {},
   "outputs": [],
   "source": [
    "selecter_model = selecter_basemodel\n",
    "selected_data = selecter(selected_data,y,selecter_model,n_features_to_select=30 , step=1)\n",
    "CI_model = CI_basemodel\n",
    "CI_analyse(selected_data,y,CI_model,modeltype=modeltype,record=record,plotname = plotname)"
   ]
  },
  {
   "cell_type": "code",
   "execution_count": null,
   "id": "d7be6955",
   "metadata": {},
   "outputs": [],
   "source": [
    "selecter_model = selecter_basemodel\n",
    "selected_data = selecter(selected_data,y,selecter_model,n_features_to_select=25 , step=1)\n",
    "CI_model = CI_basemodel\n",
    "CI_analyse(selected_data,y,CI_model,modeltype=modeltype,record=record,plotname = plotname)"
   ]
  },
  {
   "cell_type": "code",
   "execution_count": null,
   "id": "de219146",
   "metadata": {},
   "outputs": [],
   "source": [
    "selecter_model = selecter_basemodel\n",
    "selected_data = selecter(selected_data,y,selecter_model,n_features_to_select=20 , step=1)\n",
    "CI_model = CI_basemodel\n",
    "CI_analyse(selected_data,y,CI_model,modeltype=modeltype,record=record,plotname = plotname)"
   ]
  },
  {
   "cell_type": "code",
   "execution_count": null,
   "id": "545d1fce",
   "metadata": {},
   "outputs": [],
   "source": [
    "selecter_model = selecter_basemodel\n",
    "selected_data = selecter(selected_data,y,selecter_model,n_features_to_select=15 , step=1)\n",
    "CI_model = CI_basemodel\n",
    "CI_analyse(selected_data,y,CI_model,modeltype=modeltype,record=record,plotname = plotname)"
   ]
  },
  {
   "cell_type": "code",
   "execution_count": null,
   "id": "5de86e49",
   "metadata": {},
   "outputs": [],
   "source": [
    "selecter_model = selecter_basemodel\n",
    "selected_data = selecter(selected_data,y,selecter_model,n_features_to_select=10 , step=1)\n",
    "CI_model = CI_basemodel\n",
    "CI_analyse(selected_data,y,CI_model,modeltype=modeltype,record=record,plotname = plotname)"
   ]
  },
  {
   "cell_type": "code",
   "execution_count": null,
   "id": "0e2faea4",
   "metadata": {},
   "outputs": [],
   "source": [
    "imp_feature = pd.concat([pd.Series([\"ID\"]), pd.Series(selected_data.columns.values)])\n",
    "selected_radiomics = radiomics[imp_feature]"
   ]
  },
  {
   "cell_type": "markdown",
   "id": "777d1717",
   "metadata": {},
   "source": [
    "### only S"
   ]
  },
  {
   "cell_type": "code",
   "execution_count": null,
   "id": "514b895b",
   "metadata": {},
   "outputs": [],
   "source": [
    "plotname = folder_path+modeltype+\"_mRS_RFE_S\"\n",
    "target = [0,target_num]\n",
    "data,y = get_data(clinical,target_ls=target,target_num=target_num,semantic=semantic)\n",
    "y = (y>2)*1"
   ]
  },
  {
   "cell_type": "code",
   "execution_count": null,
   "id": "2c171c39",
   "metadata": {},
   "outputs": [],
   "source": [
    "selecter_model = selecter_basemodel\n",
    "selected_data = selecter(data,y,selecter_model,n_features_to_select=950 , step=2000)\n",
    "selecter_model = selecter_basemodel\n",
    "selected_data = selecter(selected_data,y,selecter_model,n_features_to_select=50 , step=150)"
   ]
  },
  {
   "cell_type": "code",
   "execution_count": null,
   "id": "e874d940",
   "metadata": {},
   "outputs": [],
   "source": [
    "selecter_model = selecter_basemodel\n",
    "selected_data = selecter(selected_data,y,selecter_model,n_features_to_select=50 , step=1)\n",
    "CI_model = CI_basemodel\n",
    "CI_analyse(selected_data,y,CI_model,modeltype=modeltype,record=record,plotname = plotname)"
   ]
  },
  {
   "cell_type": "code",
   "execution_count": null,
   "id": "bd8f9153",
   "metadata": {},
   "outputs": [],
   "source": [
    "selecter_model = selecter_basemodel\n",
    "selected_data = selecter(selected_data,y,selecter_model,n_features_to_select=45 , step=1)\n",
    "CI_model = CI_basemodel\n",
    "CI_analyse(selected_data,y,CI_model,modeltype=modeltype,record=record,plotname = plotname)"
   ]
  },
  {
   "cell_type": "code",
   "execution_count": null,
   "id": "5f990ca1",
   "metadata": {},
   "outputs": [],
   "source": [
    "selecter_model = selecter_basemodel\n",
    "selected_data = selecter(selected_data,y,selecter_model,n_features_to_select=40 , step=1)\n",
    "CI_model = CI_basemodel\n",
    "CI_analyse(selected_data,y,CI_model,modeltype=modeltype,record=record,plotname = plotname)"
   ]
  },
  {
   "cell_type": "code",
   "execution_count": null,
   "id": "723786cd",
   "metadata": {},
   "outputs": [],
   "source": [
    "selecter_model = selecter_basemodel\n",
    "selected_data = selecter(selected_data,y,selecter_model,n_features_to_select=35 , step=1)\n",
    "CI_model = CI_basemodel\n",
    "CI_analyse(selected_data,y,CI_model,modeltype=modeltype,record=record,plotname = plotname)"
   ]
  },
  {
   "cell_type": "code",
   "execution_count": null,
   "id": "296972ff",
   "metadata": {},
   "outputs": [],
   "source": [
    "selecter_model = selecter_basemodel\n",
    "selected_data = selecter(selected_data,y,selecter_model,n_features_to_select=30 , step=1)\n",
    "CI_model = CI_basemodel\n",
    "CI_analyse(selected_data,y,CI_model,modeltype=modeltype,record=record,plotname = plotname)"
   ]
  },
  {
   "cell_type": "code",
   "execution_count": null,
   "id": "c5c932fb",
   "metadata": {},
   "outputs": [],
   "source": [
    "selecter_model = selecter_basemodel\n",
    "selected_data = selecter(selected_data,y,selecter_model,n_features_to_select=25 , step=1)\n",
    "CI_model = CI_basemodel\n",
    "CI_analyse(selected_data,y,CI_model,modeltype=modeltype,record=record,plotname = plotname)"
   ]
  },
  {
   "cell_type": "code",
   "execution_count": null,
   "id": "f645e7b5",
   "metadata": {},
   "outputs": [],
   "source": [
    "selecter_model = selecter_basemodel\n",
    "selected_data = selecter(selected_data,y,selecter_model,n_features_to_select=20 , step=1)\n",
    "CI_model = CI_basemodel\n",
    "CI_analyse(selected_data,y,CI_model,modeltype=modeltype,record=record,plotname = plotname)"
   ]
  },
  {
   "cell_type": "code",
   "execution_count": null,
   "id": "60f8d500",
   "metadata": {},
   "outputs": [],
   "source": [
    "selecter_model = selecter_basemodel\n",
    "selected_data = selecter(selected_data,y,selecter_model,n_features_to_select=15 , step=1)\n",
    "CI_model = CI_basemodel\n",
    "CI_analyse(selected_data,y,CI_model,modeltype=modeltype,record=record,plotname = plotname)"
   ]
  },
  {
   "cell_type": "code",
   "execution_count": null,
   "id": "148ee000",
   "metadata": {},
   "outputs": [],
   "source": [
    "selecter_model = selecter_basemodel\n",
    "selected_data = selecter(selected_data,y,selecter_model,n_features_to_select=10 , step=1)\n",
    "CI_model = CI_basemodel\n",
    "CI_analyse(selected_data,y,CI_model,modeltype=modeltype,record=record,plotname = plotname)"
   ]
  },
  {
   "cell_type": "code",
   "execution_count": null,
   "id": "ef69cece",
   "metadata": {},
   "outputs": [],
   "source": [
    "imp_feature = pd.concat([pd.Series([\"ID\"]), pd.Series(selected_data.columns.values)])\n",
    "selected_semantic = semantic[imp_feature]"
   ]
  },
  {
   "cell_type": "markdown",
   "id": "c65fb0cd",
   "metadata": {},
   "source": [
    "### only F"
   ]
  },
  {
   "cell_type": "code",
   "execution_count": null,
   "id": "1cebfcf6",
   "metadata": {},
   "outputs": [],
   "source": [
    "plotname = folder_path+modeltype+\"_mRS_RFE_F\"\n",
    "target = [0,target_num]\n",
    "data,y = get_data(clinical,target_ls=target,target_num=target_num,fuse=fuse)\n",
    "y = (y>2)*1"
   ]
  },
  {
   "cell_type": "code",
   "execution_count": null,
   "id": "4ec90622",
   "metadata": {},
   "outputs": [],
   "source": [
    "selecter_model = selecter_basemodel\n",
    "selected_data = selecter(data,y,selecter_model,n_features_to_select=10000 , step=40000)\n",
    "selecter_model = selecter_basemodel\n",
    "selected_data = selecter(selected_data,y,selecter_model,n_features_to_select=950 , step=2000)\n",
    "selecter_model = selecter_basemodel\n",
    "selected_data = selecter(selected_data,y,selecter_model,n_features_to_select=50 , step=150)"
   ]
  },
  {
   "cell_type": "code",
   "execution_count": null,
   "id": "edf40184",
   "metadata": {},
   "outputs": [],
   "source": [
    "selecter_model = selecter_basemodel\n",
    "selected_data = selecter(selected_data,y,selecter_model,n_features_to_select=50 , step=1)\n",
    "CI_model = CI_basemodel\n",
    "CI_analyse(selected_data,y,CI_model,modeltype=modeltype,record=record,plotname = plotname)"
   ]
  },
  {
   "cell_type": "code",
   "execution_count": null,
   "id": "723a51e0",
   "metadata": {},
   "outputs": [],
   "source": [
    "selecter_model = selecter_basemodel\n",
    "selected_data = selecter(selected_data,y,selecter_model,n_features_to_select=45 , step=1)\n",
    "CI_model = CI_basemodel\n",
    "CI_analyse(selected_data,y,CI_model,modeltype=modeltype,record=record,plotname = plotname)"
   ]
  },
  {
   "cell_type": "code",
   "execution_count": null,
   "id": "e64187ca",
   "metadata": {},
   "outputs": [],
   "source": [
    "selecter_model = selecter_basemodel\n",
    "selected_data = selecter(selected_data,y,selecter_model,n_features_to_select=40 , step=1)\n",
    "CI_model = CI_basemodel\n",
    "CI_analyse(selected_data,y,CI_model,modeltype=modeltype,record=record,plotname = plotname)"
   ]
  },
  {
   "cell_type": "code",
   "execution_count": null,
   "id": "c1a53094",
   "metadata": {},
   "outputs": [],
   "source": [
    "selecter_model = selecter_basemodel\n",
    "selected_data = selecter(selected_data,y,selecter_model,n_features_to_select=35 , step=1)\n",
    "CI_model = CI_basemodel\n",
    "CI_analyse(selected_data,y,CI_model,modeltype=modeltype,record=record,plotname = plotname)"
   ]
  },
  {
   "cell_type": "code",
   "execution_count": null,
   "id": "b2392dda",
   "metadata": {},
   "outputs": [],
   "source": [
    "selecter_model = selecter_basemodel\n",
    "selected_data = selecter(selected_data,y,selecter_model,n_features_to_select=30 , step=1)\n",
    "CI_model = CI_basemodel\n",
    "CI_analyse(selected_data,y,CI_model,modeltype=modeltype,record=record,plotname = plotname)"
   ]
  },
  {
   "cell_type": "code",
   "execution_count": null,
   "id": "f5904c22",
   "metadata": {},
   "outputs": [],
   "source": [
    "selecter_model = selecter_basemodel\n",
    "selected_data = selecter(selected_data,y,selecter_model,n_features_to_select=25 , step=1)\n",
    "CI_model = CI_basemodel\n",
    "CI_analyse(selected_data,y,CI_model,modeltype=modeltype,record=record,plotname = plotname)"
   ]
  },
  {
   "cell_type": "code",
   "execution_count": null,
   "id": "69b3c34f",
   "metadata": {},
   "outputs": [],
   "source": [
    "selecter_model = selecter_basemodel\n",
    "selected_data = selecter(selected_data,y,selecter_model,n_features_to_select=20 , step=1)\n",
    "CI_model = CI_basemodel\n",
    "CI_analyse(selected_data,y,CI_model,modeltype=modeltype,record=record,plotname = plotname)"
   ]
  },
  {
   "cell_type": "code",
   "execution_count": null,
   "id": "628c2c77",
   "metadata": {},
   "outputs": [],
   "source": [
    "selecter_model = selecter_basemodel\n",
    "selected_data = selecter(selected_data,y,selecter_model,n_features_to_select=15 , step=1)\n",
    "CI_model = CI_basemodel\n",
    "CI_analyse(selected_data,y,CI_model,modeltype=modeltype,record=record,plotname = plotname)"
   ]
  },
  {
   "cell_type": "code",
   "execution_count": null,
   "id": "fa98976b",
   "metadata": {},
   "outputs": [],
   "source": [
    "selecter_model = selecter_basemodel\n",
    "selected_data = selecter(selected_data,y,selecter_model,n_features_to_select=10 , step=1)\n",
    "CI_model = CI_basemodel\n",
    "CI_analyse(selected_data,y,CI_model,modeltype=modeltype,record=record,plotname = plotname)"
   ]
  },
  {
   "cell_type": "code",
   "execution_count": null,
   "id": "f37044d7",
   "metadata": {},
   "outputs": [],
   "source": [
    "imp_feature = pd.concat([pd.Series([\"ID\"]), pd.Series(selected_data.columns.values)])\n",
    "selected_fuse = fuse[imp_feature]"
   ]
  },
  {
   "cell_type": "markdown",
   "id": "9b8a26da",
   "metadata": {},
   "source": [
    "### F+C"
   ]
  },
  {
   "cell_type": "code",
   "execution_count": null,
   "id": "890adcd1",
   "metadata": {
    "scrolled": true
   },
   "outputs": [],
   "source": [
    "plotname = folder_path+modeltype+\"_mRS_RFE_F+C\"\n",
    "target = clinical_after_selection\n",
    "data,y = get_data(clinical,target_ls=target,target_num=target_num,fuse=selected_fuse)\n",
    "y = (y>2)*1"
   ]
  },
  {
   "cell_type": "code",
   "execution_count": null,
   "id": "72e5d187",
   "metadata": {},
   "outputs": [],
   "source": [
    "selecter_model = selecter_basemodel\n",
    "selected_data = selecter(data,y,selecter_model,n_features_to_select=50 , step=150)"
   ]
  },
  {
   "cell_type": "code",
   "execution_count": null,
   "id": "5261ca80",
   "metadata": {},
   "outputs": [],
   "source": [
    "selecter_model = selecter_basemodel\n",
    "selected_data = selecter(selected_data,y,selecter_model,n_features_to_select=50 , step=1)\n",
    "CI_model = CI_basemodel\n",
    "CI_analyse(selected_data,y,CI_model,modeltype=modeltype,record=record,plotname = plotname)"
   ]
  },
  {
   "cell_type": "code",
   "execution_count": null,
   "id": "b9c8399e",
   "metadata": {},
   "outputs": [],
   "source": [
    "selecter_model = selecter_basemodel\n",
    "selected_data = selecter(selected_data,y,selecter_model,n_features_to_select=45 , step=1)\n",
    "CI_model = CI_basemodel\n",
    "CI_analyse(selected_data,y,CI_model,modeltype=modeltype,record=record,plotname = plotname)"
   ]
  },
  {
   "cell_type": "code",
   "execution_count": null,
   "id": "7ef962cf",
   "metadata": {},
   "outputs": [],
   "source": [
    "selecter_model = selecter_basemodel\n",
    "selected_data = selecter(selected_data,y,selecter_model,n_features_to_select=40 , step=1)\n",
    "CI_model = CI_basemodel\n",
    "CI_analyse(selected_data,y,CI_model,modeltype=modeltype,record=record,plotname = plotname)"
   ]
  },
  {
   "cell_type": "code",
   "execution_count": null,
   "id": "f93aef2a",
   "metadata": {},
   "outputs": [],
   "source": [
    "selecter_model = selecter_basemodel\n",
    "selected_data = selecter(selected_data,y,selecter_model,n_features_to_select=35 , step=1)\n",
    "CI_model = CI_basemodel\n",
    "CI_analyse(selected_data,y,CI_model,modeltype=modeltype,record=record,plotname = plotname)"
   ]
  },
  {
   "cell_type": "code",
   "execution_count": null,
   "id": "244ea40b",
   "metadata": {},
   "outputs": [],
   "source": [
    "selecter_model = selecter_basemodel\n",
    "selected_data = selecter(selected_data,y,selecter_model,n_features_to_select=30 , step=1)\n",
    "CI_model = CI_basemodel\n",
    "CI_analyse(selected_data,y,CI_model,modeltype=modeltype,record=record,plotname = plotname)"
   ]
  },
  {
   "cell_type": "code",
   "execution_count": null,
   "id": "86e5bbd5",
   "metadata": {},
   "outputs": [],
   "source": [
    "selecter_model = selecter_basemodel\n",
    "selected_data = selecter(selected_data,y,selecter_model,n_features_to_select=25 , step=1)\n",
    "CI_model = CI_basemodel\n",
    "CI_analyse(selected_data,y,CI_model,modeltype=modeltype,record=record,plotname = plotname)"
   ]
  },
  {
   "cell_type": "code",
   "execution_count": null,
   "id": "05ee0537",
   "metadata": {},
   "outputs": [],
   "source": [
    "selecter_model = selecter_basemodel\n",
    "selected_data = selecter(selected_data,y,selecter_model,n_features_to_select=20 , step=1)\n",
    "CI_model = CI_basemodel\n",
    "CI_analyse(selected_data,y,CI_model,modeltype=modeltype,record=record,plotname = plotname)"
   ]
  },
  {
   "cell_type": "code",
   "execution_count": null,
   "id": "611fe045",
   "metadata": {},
   "outputs": [],
   "source": [
    "selecter_model = selecter_basemodel\n",
    "selected_data = selecter(selected_data,y,selecter_model,n_features_to_select=15 , step=1)\n",
    "CI_model = CI_basemodel\n",
    "CI_analyse(selected_data,y,CI_model,modeltype=modeltype,record=record,plotname = plotname)"
   ]
  },
  {
   "cell_type": "code",
   "execution_count": null,
   "id": "ba1cf96e",
   "metadata": {},
   "outputs": [],
   "source": [
    "selecter_model = selecter_basemodel\n",
    "selected_data = selecter(selected_data,y,selecter_model,n_features_to_select=10 , step=1)\n",
    "CI_model = CI_basemodel\n",
    "CI_analyse(selected_data,y,CI_model,modeltype=modeltype,record=record,plotname = plotname)"
   ]
  },
  {
   "cell_type": "markdown",
   "id": "22579a4b",
   "metadata": {},
   "source": [
    "### F+R"
   ]
  },
  {
   "cell_type": "code",
   "execution_count": null,
   "id": "efe23a9b",
   "metadata": {
    "scrolled": true
   },
   "outputs": [],
   "source": [
    "plotname = folder_path+modeltype+\"_mRS_RFE_F+R\"\n",
    "target = [0,target_num]\n",
    "data,y = get_data(clinical,target_ls=target,target_num=target_num,radiomics=selected_radiomics,fuse=selected_fuse)\n",
    "y = (y>2)*1"
   ]
  },
  {
   "cell_type": "code",
   "execution_count": null,
   "id": "9638fc51",
   "metadata": {},
   "outputs": [],
   "source": [
    "selecter_model = selecter_basemodel\n",
    "selected_data = selecter(data,y,selecter_model,n_features_to_select=50 , step=150)"
   ]
  },
  {
   "cell_type": "code",
   "execution_count": null,
   "id": "b7f700ba",
   "metadata": {},
   "outputs": [],
   "source": [
    "selecter_model = selecter_basemodel\n",
    "selected_data = selecter(selected_data,y,selecter_model,n_features_to_select=50 , step=1)\n",
    "CI_model = CI_basemodel\n",
    "CI_analyse(selected_data,y,CI_model,modeltype=modeltype,record=record,plotname = plotname)"
   ]
  },
  {
   "cell_type": "code",
   "execution_count": null,
   "id": "137644f4",
   "metadata": {},
   "outputs": [],
   "source": [
    "selecter_model = selecter_basemodel\n",
    "selected_data = selecter(selected_data,y,selecter_model,n_features_to_select=45 , step=1)\n",
    "CI_model = CI_basemodel\n",
    "CI_analyse(selected_data,y,CI_model,modeltype=modeltype,record=record,plotname = plotname)"
   ]
  },
  {
   "cell_type": "code",
   "execution_count": null,
   "id": "84201ebf",
   "metadata": {},
   "outputs": [],
   "source": [
    "selecter_model = selecter_basemodel\n",
    "selected_data = selecter(selected_data,y,selecter_model,n_features_to_select=40 , step=1)\n",
    "CI_model = CI_basemodel\n",
    "CI_analyse(selected_data,y,CI_model,modeltype=modeltype,record=record,plotname = plotname)"
   ]
  },
  {
   "cell_type": "code",
   "execution_count": null,
   "id": "ebf5abe1",
   "metadata": {},
   "outputs": [],
   "source": [
    "selecter_model = selecter_basemodel\n",
    "selected_data = selecter(selected_data,y,selecter_model,n_features_to_select=35 , step=1)\n",
    "CI_model = CI_basemodel\n",
    "CI_analyse(selected_data,y,CI_model,modeltype=modeltype,record=record,plotname = plotname)"
   ]
  },
  {
   "cell_type": "code",
   "execution_count": null,
   "id": "9d8f7651",
   "metadata": {},
   "outputs": [],
   "source": [
    "selecter_model = selecter_basemodel\n",
    "selected_data = selecter(selected_data,y,selecter_model,n_features_to_select=30 , step=1)\n",
    "CI_model = CI_basemodel\n",
    "CI_analyse(selected_data,y,CI_model,modeltype=modeltype,record=record,plotname = plotname)"
   ]
  },
  {
   "cell_type": "code",
   "execution_count": null,
   "id": "5246eb63",
   "metadata": {},
   "outputs": [],
   "source": [
    "selecter_model = selecter_basemodel\n",
    "selected_data = selecter(selected_data,y,selecter_model,n_features_to_select=25 , step=1)\n",
    "CI_model = CI_basemodel\n",
    "CI_analyse(selected_data,y,CI_model,modeltype=modeltype,record=record,plotname = plotname)"
   ]
  },
  {
   "cell_type": "code",
   "execution_count": null,
   "id": "be6b1f68",
   "metadata": {},
   "outputs": [],
   "source": [
    "selecter_model = selecter_basemodel\n",
    "selected_data = selecter(selected_data,y,selecter_model,n_features_to_select=20 , step=1)\n",
    "CI_model = CI_basemodel\n",
    "CI_analyse(selected_data,y,CI_model,modeltype=modeltype,record=record,plotname = plotname)"
   ]
  },
  {
   "cell_type": "code",
   "execution_count": null,
   "id": "393c147e",
   "metadata": {},
   "outputs": [],
   "source": [
    "selecter_model = selecter_basemodel\n",
    "selected_data = selecter(selected_data,y,selecter_model,n_features_to_select=15 , step=1)\n",
    "CI_model = CI_basemodel\n",
    "CI_analyse(selected_data,y,CI_model,modeltype=modeltype,record=record,plotname = plotname)"
   ]
  },
  {
   "cell_type": "code",
   "execution_count": null,
   "id": "c93dd85d",
   "metadata": {},
   "outputs": [],
   "source": [
    "selecter_model = selecter_basemodel\n",
    "selected_data = selecter(selected_data,y,selecter_model,n_features_to_select=10 , step=1)\n",
    "CI_model = CI_basemodel\n",
    "CI_analyse(selected_data,y,CI_model,modeltype=modeltype,record=record,plotname = plotname)"
   ]
  },
  {
   "cell_type": "markdown",
   "id": "7529ef30",
   "metadata": {},
   "source": [
    "## F+S"
   ]
  },
  {
   "cell_type": "code",
   "execution_count": null,
   "id": "a3a02faf",
   "metadata": {
    "scrolled": true
   },
   "outputs": [],
   "source": [
    "plotname = folder_path+modeltype+\"_mRS_RFE_F+S\"\n",
    "target = [0,target_num]\n",
    "data,y = get_data(clinical,target_ls=target,target_num=target_num,fuse=selected_fuse,semantic=selected_semantic)\n",
    "y = (y>2)*1"
   ]
  },
  {
   "cell_type": "code",
   "execution_count": null,
   "id": "2d1a61ba",
   "metadata": {},
   "outputs": [],
   "source": [
    "selecter_model = selecter_basemodel\n",
    "selected_data = selecter(data,y,selecter_model,n_features_to_select=50 , step=150)"
   ]
  },
  {
   "cell_type": "code",
   "execution_count": null,
   "id": "03244694",
   "metadata": {},
   "outputs": [],
   "source": [
    "selecter_model = selecter_basemodel\n",
    "selected_data = selecter(selected_data,y,selecter_model,n_features_to_select=50 , step=1)\n",
    "CI_model = CI_basemodel\n",
    "CI_analyse(selected_data,y,CI_model,modeltype=modeltype,record=record,plotname = plotname)"
   ]
  },
  {
   "cell_type": "code",
   "execution_count": null,
   "id": "1263e0f2",
   "metadata": {},
   "outputs": [],
   "source": [
    "selecter_model = selecter_basemodel\n",
    "selected_data = selecter(selected_data,y,selecter_model,n_features_to_select=45 , step=1)\n",
    "CI_model = CI_basemodel\n",
    "CI_analyse(selected_data,y,CI_model,modeltype=modeltype,record=record,plotname = plotname)"
   ]
  },
  {
   "cell_type": "code",
   "execution_count": null,
   "id": "b61e3eb8",
   "metadata": {},
   "outputs": [],
   "source": [
    "selecter_model = selecter_basemodel\n",
    "selected_data = selecter(selected_data,y,selecter_model,n_features_to_select=40 , step=1)\n",
    "CI_model = CI_basemodel\n",
    "CI_analyse(selected_data,y,CI_model,modeltype=modeltype,record=record,plotname = plotname)"
   ]
  },
  {
   "cell_type": "code",
   "execution_count": null,
   "id": "62696f72",
   "metadata": {},
   "outputs": [],
   "source": [
    "selecter_model = selecter_basemodel\n",
    "selected_data = selecter(selected_data,y,selecter_model,n_features_to_select=35 , step=1)\n",
    "CI_model = CI_basemodel\n",
    "CI_analyse(selected_data,y,CI_model,modeltype=modeltype,record=record,plotname = plotname)"
   ]
  },
  {
   "cell_type": "code",
   "execution_count": null,
   "id": "edf519a3",
   "metadata": {},
   "outputs": [],
   "source": [
    "selecter_model = selecter_basemodel\n",
    "selected_data = selecter(selected_data,y,selecter_model,n_features_to_select=30 , step=1)\n",
    "CI_model = CI_basemodel\n",
    "CI_analyse(selected_data,y,CI_model,modeltype=modeltype,record=record,plotname = plotname)"
   ]
  },
  {
   "cell_type": "code",
   "execution_count": null,
   "id": "207a554a",
   "metadata": {},
   "outputs": [],
   "source": [
    "selecter_model = selecter_basemodel\n",
    "selected_data = selecter(selected_data,y,selecter_model,n_features_to_select=25 , step=1)\n",
    "CI_model = CI_basemodel\n",
    "CI_analyse(selected_data,y,CI_model,modeltype=modeltype,record=record,plotname = plotname)"
   ]
  },
  {
   "cell_type": "code",
   "execution_count": null,
   "id": "eeb85b5f",
   "metadata": {},
   "outputs": [],
   "source": [
    "selecter_model = selecter_basemodel\n",
    "selected_data = selecter(selected_data,y,selecter_model,n_features_to_select=20 , step=1)\n",
    "CI_model = CI_basemodel\n",
    "CI_analyse(selected_data,y,CI_model,modeltype=modeltype,record=record,plotname = plotname)"
   ]
  },
  {
   "cell_type": "code",
   "execution_count": null,
   "id": "7b778965",
   "metadata": {},
   "outputs": [],
   "source": [
    "selecter_model = selecter_basemodel\n",
    "selected_data = selecter(selected_data,y,selecter_model,n_features_to_select=15 , step=1)\n",
    "CI_model = CI_basemodel\n",
    "CI_analyse(selected_data,y,CI_model,modeltype=modeltype,record=record,plotname = plotname)"
   ]
  },
  {
   "cell_type": "code",
   "execution_count": null,
   "id": "e6659889",
   "metadata": {},
   "outputs": [],
   "source": [
    "selecter_model = selecter_basemodel\n",
    "selected_data = selecter(selected_data,y,selecter_model,n_features_to_select=10 , step=1)\n",
    "CI_model = CI_basemodel\n",
    "CI_analyse(selected_data,y,CI_model,modeltype=modeltype,record=record,plotname = plotname)"
   ]
  },
  {
   "cell_type": "markdown",
   "id": "847e5d20",
   "metadata": {},
   "source": [
    "### F+C+R"
   ]
  },
  {
   "cell_type": "code",
   "execution_count": null,
   "id": "b71b2f78",
   "metadata": {
    "scrolled": true
   },
   "outputs": [],
   "source": [
    "plotname = folder_path+modeltype+\"_mRS_RFE_F+C+R\"\n",
    "target = clinical_after_selection\n",
    "data,y = get_data(clinical,target_ls=target,target_num=target_num,radiomics=selected_radiomics,fuse=selected_fuse)\n",
    "y = (y>2)*1"
   ]
  },
  {
   "cell_type": "code",
   "execution_count": null,
   "id": "5e401c2c",
   "metadata": {},
   "outputs": [],
   "source": [
    "selecter_model = selecter_basemodel\n",
    "selected_data = selecter(data,y,selecter_model,n_features_to_select=50 , step=150)"
   ]
  },
  {
   "cell_type": "code",
   "execution_count": null,
   "id": "8a7973a3",
   "metadata": {},
   "outputs": [],
   "source": [
    "selecter_model = selecter_basemodel\n",
    "selected_data = selecter(selected_data,y,selecter_model,n_features_to_select=50 , step=1)\n",
    "CI_model = CI_basemodel\n",
    "CI_analyse(selected_data,y,CI_model,modeltype=modeltype,record=record,plotname = plotname)"
   ]
  },
  {
   "cell_type": "code",
   "execution_count": null,
   "id": "6f549ef7",
   "metadata": {},
   "outputs": [],
   "source": [
    "selecter_model = selecter_basemodel\n",
    "selected_data = selecter(selected_data,y,selecter_model,n_features_to_select=45 , step=1)\n",
    "CI_model = CI_basemodel\n",
    "CI_analyse(selected_data,y,CI_model,modeltype=modeltype,record=record,plotname = plotname)"
   ]
  },
  {
   "cell_type": "code",
   "execution_count": null,
   "id": "3550ef21",
   "metadata": {},
   "outputs": [],
   "source": [
    "selecter_model = selecter_basemodel\n",
    "selected_data = selecter(selected_data,y,selecter_model,n_features_to_select=40 , step=1)\n",
    "CI_model = CI_basemodel\n",
    "CI_analyse(selected_data,y,CI_model,modeltype=modeltype,record=record,plotname = plotname)"
   ]
  },
  {
   "cell_type": "code",
   "execution_count": null,
   "id": "29633c32",
   "metadata": {},
   "outputs": [],
   "source": [
    "selecter_model = selecter_basemodel\n",
    "selected_data = selecter(selected_data,y,selecter_model,n_features_to_select=35 , step=1)\n",
    "CI_model = CI_basemodel\n",
    "CI_analyse(selected_data,y,CI_model,modeltype=modeltype,record=record,plotname = plotname)"
   ]
  },
  {
   "cell_type": "code",
   "execution_count": null,
   "id": "f17d2f4c",
   "metadata": {},
   "outputs": [],
   "source": [
    "selecter_model = selecter_basemodel\n",
    "selected_data = selecter(selected_data,y,selecter_model,n_features_to_select=30 , step=1)\n",
    "CI_model = CI_basemodel\n",
    "CI_analyse(selected_data,y,CI_model,modeltype=modeltype,record=record,plotname = plotname)"
   ]
  },
  {
   "cell_type": "code",
   "execution_count": null,
   "id": "ce74d392",
   "metadata": {},
   "outputs": [],
   "source": [
    "selecter_model = selecter_basemodel\n",
    "selected_data = selecter(selected_data,y,selecter_model,n_features_to_select=25 , step=1)\n",
    "CI_model = CI_basemodel\n",
    "CI_analyse(selected_data,y,CI_model,modeltype=modeltype,record=record,plotname = plotname)"
   ]
  },
  {
   "cell_type": "code",
   "execution_count": null,
   "id": "9e96dc0a",
   "metadata": {},
   "outputs": [],
   "source": [
    "selecter_model = selecter_basemodel\n",
    "selected_data = selecter(selected_data,y,selecter_model,n_features_to_select=20 , step=1)\n",
    "CI_model = CI_basemodel\n",
    "CI_analyse(selected_data,y,CI_model,modeltype=modeltype,record=record,plotname = plotname)"
   ]
  },
  {
   "cell_type": "code",
   "execution_count": null,
   "id": "3585eb4e",
   "metadata": {},
   "outputs": [],
   "source": [
    "selecter_model = selecter_basemodel\n",
    "selected_data = selecter(selected_data,y,selecter_model,n_features_to_select=15 , step=1)\n",
    "CI_model = CI_basemodel\n",
    "CI_analyse(selected_data,y,CI_model,modeltype=modeltype,record=record,plotname = plotname)"
   ]
  },
  {
   "cell_type": "code",
   "execution_count": null,
   "id": "3d269421",
   "metadata": {},
   "outputs": [],
   "source": [
    "selecter_model = selecter_basemodel\n",
    "selected_data = selecter(selected_data,y,selecter_model,n_features_to_select=10 , step=1)\n",
    "CI_model = CI_basemodel\n",
    "CI_analyse(selected_data,y,CI_model,modeltype=modeltype,record=record,plotname = plotname)"
   ]
  },
  {
   "cell_type": "markdown",
   "id": "9693cf52",
   "metadata": {},
   "source": [
    "### F+C+R+S"
   ]
  },
  {
   "cell_type": "code",
   "execution_count": null,
   "id": "83316b73",
   "metadata": {},
   "outputs": [],
   "source": [
    "plotname = folder_path+modeltype+\"_mRS_RFE_F+C+R+S\"\n",
    "target = clinical_after_selection\n",
    "data,y = get_data(clinical,target_ls=target,target_num=target_num,radiomics=selected_radiomics,semantic=selected_semantic,fuse=selected_fuse)\n",
    "y = (y>2)*1"
   ]
  },
  {
   "cell_type": "code",
   "execution_count": null,
   "id": "70be73fc",
   "metadata": {},
   "outputs": [],
   "source": [
    "selecter_model = selecter_basemodel\n",
    "selected_data = selecter(data,y,selecter_model,n_features_to_select=50 , step=150)"
   ]
  },
  {
   "cell_type": "code",
   "execution_count": null,
   "id": "5f583f65",
   "metadata": {},
   "outputs": [],
   "source": [
    "selecter_model = selecter_basemodel\n",
    "selected_data = selecter(selected_data,y,selecter_model,n_features_to_select=50 , step=1)\n",
    "CI_model = CI_basemodel\n",
    "CI_analyse(selected_data,y,CI_model,modeltype=modeltype,record=record,plotname = plotname)"
   ]
  },
  {
   "cell_type": "code",
   "execution_count": null,
   "id": "05c347e4",
   "metadata": {},
   "outputs": [],
   "source": [
    "selecter_model = selecter_basemodel\n",
    "selected_data = selecter(selected_data,y,selecter_model,n_features_to_select=45 , step=1)\n",
    "CI_model = CI_basemodel\n",
    "CI_analyse(selected_data,y,CI_model,modeltype=modeltype,record=record,plotname = plotname)"
   ]
  },
  {
   "cell_type": "code",
   "execution_count": null,
   "id": "ed30ab4a",
   "metadata": {},
   "outputs": [],
   "source": [
    "selecter_model = selecter_basemodel\n",
    "selected_data = selecter(selected_data,y,selecter_model,n_features_to_select=40 , step=1)\n",
    "CI_model = CI_basemodel\n",
    "CI_analyse(selected_data,y,CI_model,modeltype=modeltype,record=record,plotname = plotname)"
   ]
  },
  {
   "cell_type": "code",
   "execution_count": null,
   "id": "21ba6a4f",
   "metadata": {},
   "outputs": [],
   "source": [
    "selecter_model = selecter_basemodel\n",
    "selected_data = selecter(selected_data,y,selecter_model,n_features_to_select=35 , step=1)\n",
    "CI_model = CI_basemodel\n",
    "CI_analyse(selected_data,y,CI_model,modeltype=modeltype,record=record,plotname = plotname)"
   ]
  },
  {
   "cell_type": "code",
   "execution_count": null,
   "id": "78cf5660",
   "metadata": {},
   "outputs": [],
   "source": [
    "selecter_model = selecter_basemodel\n",
    "selected_data = selecter(selected_data,y,selecter_model,n_features_to_select=30 , step=1)\n",
    "CI_model = CI_basemodel\n",
    "CI_analyse(selected_data,y,CI_model,modeltype=modeltype,record=record,plotname = plotname)"
   ]
  },
  {
   "cell_type": "code",
   "execution_count": null,
   "id": "d7d4410e",
   "metadata": {},
   "outputs": [],
   "source": [
    "selecter_model = selecter_basemodel\n",
    "selected_data = selecter(selected_data,y,selecter_model,n_features_to_select=25 , step=1)\n",
    "CI_model = CI_basemodel\n",
    "CI_analyse(selected_data,y,CI_model,modeltype=modeltype,record=record,plotname = plotname)"
   ]
  },
  {
   "cell_type": "code",
   "execution_count": null,
   "id": "03a90dc6",
   "metadata": {},
   "outputs": [],
   "source": [
    "selecter_model = selecter_basemodel\n",
    "selected_data = selecter(selected_data,y,selecter_model,n_features_to_select=20 , step=1)\n",
    "CI_model = CI_basemodel\n",
    "CI_analyse(selected_data,y,CI_model,modeltype=modeltype,record=record,plotname = plotname)"
   ]
  },
  {
   "cell_type": "code",
   "execution_count": null,
   "id": "03bc8852",
   "metadata": {},
   "outputs": [],
   "source": [
    "selecter_model = selecter_basemodel\n",
    "selected_data = selecter(selected_data,y,selecter_model,n_features_to_select=15 , step=1)\n",
    "CI_model = CI_basemodel\n",
    "CI_analyse(selected_data,y,CI_model,modeltype=modeltype,record=record,plotname = plotname)"
   ]
  },
  {
   "cell_type": "code",
   "execution_count": null,
   "id": "8297fab1",
   "metadata": {},
   "outputs": [],
   "source": [
    "selecter_model = selecter_basemodel\n",
    "selected_data = selecter(selected_data,y,selecter_model,n_features_to_select=10 , step=1)\n",
    "CI_model = CI_basemodel\n",
    "CI_analyse(selected_data,y,CI_model,modeltype=modeltype,record=record,plotname = plotname)"
   ]
  },
  {
   "cell_type": "markdown",
   "id": "a9901ae7",
   "metadata": {},
   "source": [
    "## NIHSS"
   ]
  },
  {
   "cell_type": "code",
   "execution_count": null,
   "id": "31b01099",
   "metadata": {},
   "outputs": [],
   "source": [
    "clinical_target2 = [0,1,2,3,7,11,12,13,14,15,16,17,18,19,20,21,22,23,24,25,26,27,28,29,30,31,32,33,34,35,36,37,38,39,40,41,42,43,44,45,46,47,48]\n",
    "target_num = 7"
   ]
  },
  {
   "cell_type": "markdown",
   "id": "d1ab8026",
   "metadata": {},
   "source": [
    "### only C"
   ]
  },
  {
   "cell_type": "code",
   "execution_count": null,
   "id": "e9c9547f",
   "metadata": {},
   "outputs": [],
   "source": [
    "plotname = folder_path+modeltype+\"_NIHSS_RFE_C\"\n",
    "target = clinical_target2\n",
    "data,y = get_data(clinical,target_ls=target,target_num=target_num)\n",
    "y = (y>4)*1"
   ]
  },
  {
   "cell_type": "code",
   "execution_count": null,
   "id": "862b8a0d",
   "metadata": {},
   "outputs": [],
   "source": [
    "selecter_model = selecter_basemodel\n",
    "selected_data = selecter(selected_data,y,selecter_model,n_features_to_select=40 , step=1)\n",
    "CI_model = CI_basemodel\n",
    "CI_analyse(selected_data,y,CI_model,modeltype=modeltype,record=record,plotname = plotname)"
   ]
  },
  {
   "cell_type": "code",
   "execution_count": null,
   "id": "522b5eaf",
   "metadata": {},
   "outputs": [],
   "source": [
    "selecter_model = selecter_basemodel\n",
    "selected_data = selecter(selected_data,y,selecter_model,n_features_to_select=35 , step=1)\n",
    "CI_model = CI_basemodel\n",
    "CI_analyse(selected_data,y,CI_model,modeltype=modeltype,record=record,plotname = plotname)"
   ]
  },
  {
   "cell_type": "code",
   "execution_count": null,
   "id": "4e425075",
   "metadata": {},
   "outputs": [],
   "source": [
    "selecter_model = selecter_basemodel\n",
    "selected_data = selecter(selected_data,y,selecter_model,n_features_to_select=30 , step=1)\n",
    "CI_model = CI_basemodel\n",
    "CI_analyse(selected_data,y,CI_model,modeltype=modeltype,record=record,plotname = plotname)"
   ]
  },
  {
   "cell_type": "code",
   "execution_count": null,
   "id": "1cbbaaf8",
   "metadata": {},
   "outputs": [],
   "source": [
    "selecter_model = selecter_basemodel\n",
    "selected_data = selecter(selected_data,y,selecter_model,n_features_to_select=25 , step=1)\n",
    "CI_model = CI_basemodel\n",
    "CI_analyse(selected_data,y,CI_model,modeltype=modeltype,record=record,plotname = plotname)"
   ]
  },
  {
   "cell_type": "code",
   "execution_count": null,
   "id": "b44c468e",
   "metadata": {},
   "outputs": [],
   "source": [
    "selecter_model = selecter_basemodel\n",
    "selected_data = selecter(selected_data,y,selecter_model,n_features_to_select=20 , step=1)\n",
    "CI_model = CI_basemodel\n",
    "CI_analyse(selected_data,y,CI_model,modeltype=modeltype,record=record,plotname = plotname)"
   ]
  },
  {
   "cell_type": "code",
   "execution_count": null,
   "id": "ee8bb0e2",
   "metadata": {},
   "outputs": [],
   "source": [
    "selecter_model = selecter_basemodel\n",
    "selected_data = selecter(selected_data,y,selecter_model,n_features_to_select=15 , step=1)\n",
    "CI_model = CI_basemodel\n",
    "CI_analyse(selected_data,y,CI_model,modeltype=modeltype,record=record,plotname = plotname)"
   ]
  },
  {
   "cell_type": "code",
   "execution_count": null,
   "id": "c8df85a2",
   "metadata": {},
   "outputs": [],
   "source": [
    "selecter_model = selecter_basemodel\n",
    "selected_data = selecter(selected_data,y,selecter_model,n_features_to_select=10 , step=1)\n",
    "CI_model = CI_basemodel\n",
    "CI_analyse(selected_data,y,CI_model,modeltype=modeltype,record=record,plotname = plotname)"
   ]
  },
  {
   "cell_type": "code",
   "execution_count": null,
   "id": "6a15d1a2",
   "metadata": {},
   "outputs": [],
   "source": [
    "imp_feature = pd.concat([pd.Series([\"ID\",\"NIHSS_discharge\"]), pd.Series(selected_data.columns.values)])\n",
    "clinical_after_selection = [clinical.columns.get_loc(label) for label in imp_feature]"
   ]
  },
  {
   "cell_type": "markdown",
   "id": "a63525d2",
   "metadata": {},
   "source": [
    "### only R"
   ]
  },
  {
   "cell_type": "code",
   "execution_count": null,
   "id": "c74c8835",
   "metadata": {},
   "outputs": [],
   "source": [
    "plotname = folder_path+modeltype+\"_NIHSS_RFE_R\"\n",
    "target = [0,target_num]\n",
    "data,y = get_data(clinical,target_ls=target,target_num=target_num,radiomics=radiomics)\n",
    "y = (y>4)*1"
   ]
  },
  {
   "cell_type": "code",
   "execution_count": null,
   "id": "cdd6ebf2",
   "metadata": {},
   "outputs": [],
   "source": [
    "selecter_model = selecter_basemodel\n",
    "selected_data = selecter(data,y,selecter_model,n_features_to_select=950 , step=2000)\n",
    "selecter_model = selecter_basemodel\n",
    "selected_data = selecter(selected_data,y,selecter_model,n_features_to_select=50 , step=150)"
   ]
  },
  {
   "cell_type": "code",
   "execution_count": null,
   "id": "fffac51d",
   "metadata": {},
   "outputs": [],
   "source": [
    "selecter_model = selecter_basemodel\n",
    "selected_data = selecter(selected_data,y,selecter_model,n_features_to_select=50 , step=1)\n",
    "CI_model = CI_basemodel\n",
    "CI_analyse(selected_data,y,CI_model,modeltype=modeltype,record=record,plotname = plotname)"
   ]
  },
  {
   "cell_type": "code",
   "execution_count": null,
   "id": "20cf4111",
   "metadata": {},
   "outputs": [],
   "source": [
    "selecter_model = selecter_basemodel\n",
    "selected_data = selecter(selected_data,y,selecter_model,n_features_to_select=45 , step=1)\n",
    "CI_model = CI_basemodel\n",
    "CI_analyse(selected_data,y,CI_model,modeltype=modeltype,record=record,plotname = plotname)"
   ]
  },
  {
   "cell_type": "code",
   "execution_count": null,
   "id": "d90aeebe",
   "metadata": {},
   "outputs": [],
   "source": [
    "selecter_model = selecter_basemodel\n",
    "selected_data = selecter(selected_data,y,selecter_model,n_features_to_select=40 , step=1)\n",
    "CI_model = CI_basemodel\n",
    "CI_analyse(selected_data,y,CI_model,modeltype=modeltype,record=record,plotname = plotname)"
   ]
  },
  {
   "cell_type": "code",
   "execution_count": null,
   "id": "8a198ac3",
   "metadata": {},
   "outputs": [],
   "source": [
    "selecter_model = selecter_basemodel\n",
    "selected_data = selecter(selected_data,y,selecter_model,n_features_to_select=35 , step=1)\n",
    "CI_model = CI_basemodel\n",
    "CI_analyse(selected_data,y,CI_model,modeltype=modeltype,record=record,plotname = plotname)"
   ]
  },
  {
   "cell_type": "code",
   "execution_count": null,
   "id": "1c9d0eac",
   "metadata": {},
   "outputs": [],
   "source": [
    "selecter_model = selecter_basemodel\n",
    "selected_data = selecter(selected_data,y,selecter_model,n_features_to_select=30 , step=1)\n",
    "CI_model = CI_basemodel\n",
    "CI_analyse(selected_data,y,CI_model,modeltype=modeltype,record=record,plotname = plotname)"
   ]
  },
  {
   "cell_type": "code",
   "execution_count": null,
   "id": "59dd1d29",
   "metadata": {},
   "outputs": [],
   "source": [
    "selecter_model = selecter_basemodel\n",
    "selected_data = selecter(selected_data,y,selecter_model,n_features_to_select=25 , step=1)\n",
    "CI_model = CI_basemodel\n",
    "CI_analyse(selected_data,y,CI_model,modeltype=modeltype,record=record,plotname = plotname)"
   ]
  },
  {
   "cell_type": "code",
   "execution_count": null,
   "id": "abfe08a4",
   "metadata": {},
   "outputs": [],
   "source": [
    "selecter_model = selecter_basemodel\n",
    "selected_data = selecter(selected_data,y,selecter_model,n_features_to_select=20 , step=1)\n",
    "CI_model = CI_basemodel\n",
    "CI_analyse(selected_data,y,CI_model,modeltype=modeltype,record=record,plotname = plotname)"
   ]
  },
  {
   "cell_type": "code",
   "execution_count": null,
   "id": "1f417090",
   "metadata": {},
   "outputs": [],
   "source": [
    "selecter_model = selecter_basemodel\n",
    "selected_data = selecter(selected_data,y,selecter_model,n_features_to_select=15 , step=1)\n",
    "CI_model = CI_basemodel\n",
    "CI_analyse(selected_data,y,CI_model,modeltype=modeltype,record=record,plotname = plotname)"
   ]
  },
  {
   "cell_type": "code",
   "execution_count": null,
   "id": "d1d24477",
   "metadata": {},
   "outputs": [],
   "source": [
    "selecter_model = selecter_basemodel\n",
    "selected_data = selecter(selected_data,y,selecter_model,n_features_to_select=10 , step=1)\n",
    "CI_model = CI_basemodel\n",
    "CI_analyse(selected_data,y,CI_model,modeltype=modeltype,record=record,plotname = plotname)"
   ]
  },
  {
   "cell_type": "code",
   "execution_count": null,
   "id": "07a84186",
   "metadata": {},
   "outputs": [],
   "source": [
    "imp_feature = pd.concat([pd.Series([\"ID\"]), pd.Series(selected_data.columns.values)])\n",
    "selected_radiomics = radiomics[imp_feature]"
   ]
  },
  {
   "cell_type": "markdown",
   "id": "99f2711b",
   "metadata": {},
   "source": [
    "### only S"
   ]
  },
  {
   "cell_type": "code",
   "execution_count": null,
   "id": "360ac9d7",
   "metadata": {},
   "outputs": [],
   "source": [
    "plotname = folder_path+modeltype+\"_NIHSS_RFE_S\"\n",
    "target = [0,target_num]\n",
    "data,y = get_data(clinical,target_ls=target,target_num=target_num,semantic=semantic)\n",
    "y = (y>4)*1"
   ]
  },
  {
   "cell_type": "code",
   "execution_count": null,
   "id": "050de890",
   "metadata": {},
   "outputs": [],
   "source": [
    "selecter_model = selecter_basemodel\n",
    "selected_data = selecter(data,y,selecter_model,n_features_to_select=950 , step=2000)\n",
    "selecter_model = selecter_basemodel\n",
    "selected_data = selecter(selected_data,y,selecter_model,n_features_to_select=50 , step=150)"
   ]
  },
  {
   "cell_type": "code",
   "execution_count": null,
   "id": "fe840a53",
   "metadata": {},
   "outputs": [],
   "source": [
    "selecter_model = selecter_basemodel\n",
    "selected_data = selecter(selected_data,y,selecter_model,n_features_to_select=50 , step=1)\n",
    "CI_model = CI_basemodel\n",
    "CI_analyse(selected_data,y,CI_model,modeltype=modeltype,record=record,plotname = plotname)"
   ]
  },
  {
   "cell_type": "code",
   "execution_count": null,
   "id": "f2622201",
   "metadata": {},
   "outputs": [],
   "source": [
    "selecter_model = selecter_basemodel\n",
    "selected_data = selecter(selected_data,y,selecter_model,n_features_to_select=45 , step=1)\n",
    "CI_model = CI_basemodel\n",
    "CI_analyse(selected_data,y,CI_model,modeltype=modeltype,record=record,plotname = plotname)"
   ]
  },
  {
   "cell_type": "code",
   "execution_count": null,
   "id": "acb92802",
   "metadata": {},
   "outputs": [],
   "source": [
    "selecter_model = selecter_basemodel\n",
    "selected_data = selecter(selected_data,y,selecter_model,n_features_to_select=40 , step=1)\n",
    "CI_model = CI_basemodel\n",
    "CI_analyse(selected_data,y,CI_model,modeltype=modeltype,record=record,plotname = plotname)"
   ]
  },
  {
   "cell_type": "code",
   "execution_count": null,
   "id": "15cbe5a5",
   "metadata": {},
   "outputs": [],
   "source": [
    "selecter_model = selecter_basemodel\n",
    "selected_data = selecter(selected_data,y,selecter_model,n_features_to_select=35 , step=1)\n",
    "CI_model = CI_basemodel\n",
    "CI_analyse(selected_data,y,CI_model,modeltype=modeltype,record=record,plotname = plotname)"
   ]
  },
  {
   "cell_type": "code",
   "execution_count": null,
   "id": "2ea36329",
   "metadata": {},
   "outputs": [],
   "source": [
    "selecter_model = selecter_basemodel\n",
    "selected_data = selecter(selected_data,y,selecter_model,n_features_to_select=30 , step=1)\n",
    "CI_model = CI_basemodel\n",
    "CI_analyse(selected_data,y,CI_model,modeltype=modeltype,record=record,plotname = plotname)"
   ]
  },
  {
   "cell_type": "code",
   "execution_count": null,
   "id": "b6002196",
   "metadata": {},
   "outputs": [],
   "source": [
    "selecter_model = selecter_basemodel\n",
    "selected_data = selecter(selected_data,y,selecter_model,n_features_to_select=25 , step=1)\n",
    "CI_model = CI_basemodel\n",
    "CI_analyse(selected_data,y,CI_model,modeltype=modeltype,record=record,plotname = plotname)"
   ]
  },
  {
   "cell_type": "code",
   "execution_count": null,
   "id": "8cc84cc9",
   "metadata": {},
   "outputs": [],
   "source": [
    "selecter_model = selecter_basemodel\n",
    "selected_data = selecter(selected_data,y,selecter_model,n_features_to_select=20 , step=1)\n",
    "CI_model = CI_basemodel\n",
    "CI_analyse(selected_data,y,CI_model,modeltype=modeltype,record=record,plotname = plotname)"
   ]
  },
  {
   "cell_type": "code",
   "execution_count": null,
   "id": "e1a3df07",
   "metadata": {},
   "outputs": [],
   "source": [
    "selecter_model = selecter_basemodel\n",
    "selected_data = selecter(selected_data,y,selecter_model,n_features_to_select=15 , step=1)\n",
    "CI_model = CI_basemodel\n",
    "CI_analyse(selected_data,y,CI_model,modeltype=modeltype,record=record,plotname = plotname)"
   ]
  },
  {
   "cell_type": "code",
   "execution_count": null,
   "id": "fa1adf05",
   "metadata": {},
   "outputs": [],
   "source": [
    "selecter_model = selecter_basemodel\n",
    "selected_data = selecter(selected_data,y,selecter_model,n_features_to_select=10 , step=1)\n",
    "CI_model = CI_basemodel\n",
    "CI_analyse(selected_data,y,CI_model,modeltype=modeltype,record=record,plotname = plotname)"
   ]
  },
  {
   "cell_type": "code",
   "execution_count": null,
   "id": "5e1f0e51",
   "metadata": {},
   "outputs": [],
   "source": [
    "imp_feature = pd.concat([pd.Series([\"ID\"]), pd.Series(selected_data.columns.values)])\n",
    "selected_semantic = semantic[imp_feature]"
   ]
  },
  {
   "cell_type": "markdown",
   "id": "5501a5aa",
   "metadata": {},
   "source": [
    "### only F"
   ]
  },
  {
   "cell_type": "code",
   "execution_count": null,
   "id": "eedf0b07",
   "metadata": {
    "scrolled": true
   },
   "outputs": [],
   "source": [
    "plotname = folder_path+modeltype+\"_NIHSS_RFE_F\"\n",
    "target = [0,target_num]\n",
    "data,y = get_data(clinical,target_ls=target,target_num=target_num,fuse=fuse)\n",
    "y = (y>4)*1"
   ]
  },
  {
   "cell_type": "code",
   "execution_count": null,
   "id": "1622a722",
   "metadata": {},
   "outputs": [],
   "source": [
    "selecter_model = selecter_basemodel\n",
    "selected_data = selecter(data,y,selecter_model,n_features_to_select=10000 , step=40000)\n",
    "selecter_model = selecter_basemodel\n",
    "selected_data = selecter(selected_data,y,selecter_model,n_features_to_select=950 , step=2000)\n",
    "selecter_model = selecter_basemodel\n",
    "selected_data = selecter(selected_data,y,selecter_model,n_features_to_select=50 , step=150)"
   ]
  },
  {
   "cell_type": "code",
   "execution_count": null,
   "id": "08f9130b",
   "metadata": {},
   "outputs": [],
   "source": [
    "selecter_model = selecter_basemodel\n",
    "selected_data = selecter(selected_data,y,selecter_model,n_features_to_select=50 , step=1)\n",
    "CI_model = CI_basemodel\n",
    "CI_analyse(selected_data,y,CI_model,modeltype=modeltype,record=record,plotname = plotname)"
   ]
  },
  {
   "cell_type": "code",
   "execution_count": null,
   "id": "fefc8a75",
   "metadata": {},
   "outputs": [],
   "source": [
    "selecter_model = selecter_basemodel\n",
    "selected_data = selecter(selected_data,y,selecter_model,n_features_to_select=45 , step=1)\n",
    "CI_model = CI_basemodel\n",
    "CI_analyse(selected_data,y,CI_model,modeltype=modeltype,record=record,plotname = plotname)"
   ]
  },
  {
   "cell_type": "code",
   "execution_count": null,
   "id": "f3c3df8d",
   "metadata": {},
   "outputs": [],
   "source": [
    "selecter_model = selecter_basemodel\n",
    "selected_data = selecter(selected_data,y,selecter_model,n_features_to_select=40 , step=1)\n",
    "CI_model = CI_basemodel\n",
    "CI_analyse(selected_data,y,CI_model,modeltype=modeltype,record=record,plotname = plotname)"
   ]
  },
  {
   "cell_type": "code",
   "execution_count": null,
   "id": "14b4272d",
   "metadata": {},
   "outputs": [],
   "source": [
    "selecter_model = selecter_basemodel\n",
    "selected_data = selecter(selected_data,y,selecter_model,n_features_to_select=35 , step=1)\n",
    "CI_model = CI_basemodel\n",
    "CI_analyse(selected_data,y,CI_model,modeltype=modeltype,record=record,plotname = plotname)"
   ]
  },
  {
   "cell_type": "code",
   "execution_count": null,
   "id": "fe9cdb69",
   "metadata": {},
   "outputs": [],
   "source": [
    "selecter_model = selecter_basemodel\n",
    "selected_data = selecter(selected_data,y,selecter_model,n_features_to_select=30 , step=1)\n",
    "CI_model = CI_basemodel\n",
    "CI_analyse(selected_data,y,CI_model,modeltype=modeltype,record=record,plotname = plotname)"
   ]
  },
  {
   "cell_type": "code",
   "execution_count": null,
   "id": "279cbb74",
   "metadata": {},
   "outputs": [],
   "source": [
    "selecter_model = selecter_basemodel\n",
    "selected_data = selecter(selected_data,y,selecter_model,n_features_to_select=25 , step=1)\n",
    "CI_model = CI_basemodel\n",
    "CI_analyse(selected_data,y,CI_model,modeltype=modeltype,record=record,plotname = plotname)"
   ]
  },
  {
   "cell_type": "code",
   "execution_count": null,
   "id": "8ca95eed",
   "metadata": {},
   "outputs": [],
   "source": [
    "selecter_model = selecter_basemodel\n",
    "selected_data = selecter(selected_data,y,selecter_model,n_features_to_select=20 , step=1)\n",
    "CI_model = CI_basemodel\n",
    "CI_analyse(selected_data,y,CI_model,modeltype=modeltype,record=record,plotname = plotname)"
   ]
  },
  {
   "cell_type": "code",
   "execution_count": null,
   "id": "cc4de8e8",
   "metadata": {},
   "outputs": [],
   "source": [
    "selecter_model = selecter_basemodel\n",
    "selected_data = selecter(selected_data,y,selecter_model,n_features_to_select=15 , step=1)\n",
    "CI_model = CI_basemodel\n",
    "CI_analyse(selected_data,y,CI_model,modeltype=modeltype,record=record,plotname = plotname)"
   ]
  },
  {
   "cell_type": "code",
   "execution_count": null,
   "id": "83213ef5",
   "metadata": {},
   "outputs": [],
   "source": [
    "selecter_model = selecter_basemodel\n",
    "selected_data = selecter(selected_data,y,selecter_model,n_features_to_select=10 , step=1)\n",
    "CI_model = CI_basemodel\n",
    "CI_analyse(selected_data,y,CI_model,modeltype=modeltype,record=record,plotname = plotname)"
   ]
  },
  {
   "cell_type": "code",
   "execution_count": null,
   "id": "b0ff048d",
   "metadata": {},
   "outputs": [],
   "source": [
    "imp_feature = pd.concat([pd.Series([\"ID\"]), pd.Series(selected_data.columns.values)])\n",
    "selected_fuse = fuse[imp_feature]"
   ]
  },
  {
   "cell_type": "markdown",
   "id": "a96752e8",
   "metadata": {},
   "source": [
    "### F+C"
   ]
  },
  {
   "cell_type": "code",
   "execution_count": null,
   "id": "0d220e78",
   "metadata": {},
   "outputs": [],
   "source": [
    "plotname = folder_path+modeltype+\"_NIHSS_RFE_F+C\"\n",
    "target = clinical_after_selection\n",
    "data,y = get_data(clinical,target_ls=target,target_num=target_num,fuse=selected_fuse)\n",
    "y = (y>4)*1"
   ]
  },
  {
   "cell_type": "code",
   "execution_count": null,
   "id": "1a801441",
   "metadata": {},
   "outputs": [],
   "source": [
    "selecter_model = selecter_basemodel\n",
    "selected_data = selecter(data,y,selecter_model,n_features_to_select=50 , step=150)"
   ]
  },
  {
   "cell_type": "code",
   "execution_count": null,
   "id": "ef023d05",
   "metadata": {},
   "outputs": [],
   "source": [
    "selecter_model = selecter_basemodel\n",
    "selected_data = selecter(selected_data,y,selecter_model,n_features_to_select=50 , step=1)\n",
    "CI_model = CI_basemodel\n",
    "CI_analyse(selected_data,y,CI_model,modeltype=modeltype,record=record,plotname = plotname)"
   ]
  },
  {
   "cell_type": "code",
   "execution_count": null,
   "id": "f482533c",
   "metadata": {},
   "outputs": [],
   "source": [
    "selecter_model = selecter_basemodel\n",
    "selected_data = selecter(selected_data,y,selecter_model,n_features_to_select=45 , step=1)\n",
    "CI_model = CI_basemodel\n",
    "CI_analyse(selected_data,y,CI_model,modeltype=modeltype,record=record,plotname = plotname)"
   ]
  },
  {
   "cell_type": "code",
   "execution_count": null,
   "id": "ba7467ce",
   "metadata": {},
   "outputs": [],
   "source": [
    "selecter_model = selecter_basemodel\n",
    "selected_data = selecter(selected_data,y,selecter_model,n_features_to_select=40 , step=1)\n",
    "CI_model = CI_basemodel\n",
    "CI_analyse(selected_data,y,CI_model,modeltype=modeltype,record=record,plotname = plotname)"
   ]
  },
  {
   "cell_type": "code",
   "execution_count": null,
   "id": "9a116dab",
   "metadata": {},
   "outputs": [],
   "source": [
    "selecter_model = selecter_basemodel\n",
    "selected_data = selecter(selected_data,y,selecter_model,n_features_to_select=35 , step=1)\n",
    "CI_model = CI_basemodel\n",
    "CI_analyse(selected_data,y,CI_model,modeltype=modeltype,record=record,plotname = plotname)"
   ]
  },
  {
   "cell_type": "code",
   "execution_count": null,
   "id": "4db3fdd6",
   "metadata": {},
   "outputs": [],
   "source": [
    "selecter_model = selecter_basemodel\n",
    "selected_data = selecter(selected_data,y,selecter_model,n_features_to_select=30 , step=1)\n",
    "CI_model = CI_basemodel\n",
    "CI_analyse(selected_data,y,CI_model,modeltype=modeltype,record=record,plotname = plotname)"
   ]
  },
  {
   "cell_type": "code",
   "execution_count": null,
   "id": "787e3733",
   "metadata": {},
   "outputs": [],
   "source": [
    "selecter_model = selecter_basemodel\n",
    "selected_data = selecter(selected_data,y,selecter_model,n_features_to_select=25 , step=1)\n",
    "CI_model = CI_basemodel\n",
    "CI_analyse(selected_data,y,CI_model,modeltype=modeltype,record=record,plotname = plotname)"
   ]
  },
  {
   "cell_type": "code",
   "execution_count": null,
   "id": "41e72602",
   "metadata": {},
   "outputs": [],
   "source": [
    "selecter_model = selecter_basemodel\n",
    "selected_data = selecter(selected_data,y,selecter_model,n_features_to_select=20 , step=1)\n",
    "CI_model = CI_basemodel\n",
    "CI_analyse(selected_data,y,CI_model,modeltype=modeltype,record=record,plotname = plotname)"
   ]
  },
  {
   "cell_type": "code",
   "execution_count": null,
   "id": "2f7e16d1",
   "metadata": {},
   "outputs": [],
   "source": [
    "selecter_model = selecter_basemodel\n",
    "selected_data = selecter(selected_data,y,selecter_model,n_features_to_select=15 , step=1)\n",
    "CI_model = CI_basemodel\n",
    "CI_analyse(selected_data,y,CI_model,modeltype=modeltype,record=record,plotname = plotname)"
   ]
  },
  {
   "cell_type": "code",
   "execution_count": null,
   "id": "7e85f7d7",
   "metadata": {},
   "outputs": [],
   "source": [
    "selecter_model = selecter_basemodel\n",
    "selected_data = selecter(selected_data,y,selecter_model,n_features_to_select=10 , step=1)\n",
    "CI_model = CI_basemodel\n",
    "CI_analyse(selected_data,y,CI_model,modeltype=modeltype,record=record,plotname = plotname)"
   ]
  },
  {
   "cell_type": "markdown",
   "id": "22d75fe9",
   "metadata": {},
   "source": [
    "### F+R"
   ]
  },
  {
   "cell_type": "code",
   "execution_count": null,
   "id": "66140c18",
   "metadata": {},
   "outputs": [],
   "source": [
    "plotname = folder_path+modeltype+\"_NIHSS_RFE_F+R\"\n",
    "target = [0,target_num]\n",
    "data,y = get_data(clinical,target_ls=target,target_num=target_num,radiomics=selected_radiomics,fuse=selected_fuse)\n",
    "y = (y>4)*1"
   ]
  },
  {
   "cell_type": "code",
   "execution_count": null,
   "id": "c8ddf304",
   "metadata": {},
   "outputs": [],
   "source": [
    "selecter_model = selecter_basemodel\n",
    "selected_data = selecter(data,y,selecter_model,n_features_to_select=50 , step=150)"
   ]
  },
  {
   "cell_type": "code",
   "execution_count": null,
   "id": "322b5666",
   "metadata": {},
   "outputs": [],
   "source": [
    "selecter_model = selecter_basemodel\n",
    "selected_data = selecter(selected_data,y,selecter_model,n_features_to_select=50 , step=1)\n",
    "CI_model = CI_basemodel\n",
    "CI_analyse(selected_data,y,CI_model,modeltype=modeltype,record=record,plotname = plotname)"
   ]
  },
  {
   "cell_type": "code",
   "execution_count": null,
   "id": "6310d95c",
   "metadata": {},
   "outputs": [],
   "source": [
    "selecter_model = selecter_basemodel\n",
    "selected_data = selecter(selected_data,y,selecter_model,n_features_to_select=45 , step=1)\n",
    "CI_model = CI_basemodel\n",
    "CI_analyse(selected_data,y,CI_model,modeltype=modeltype,record=record,plotname = plotname)"
   ]
  },
  {
   "cell_type": "code",
   "execution_count": null,
   "id": "0f1f7d37",
   "metadata": {},
   "outputs": [],
   "source": [
    "selecter_model = selecter_basemodel\n",
    "selected_data = selecter(selected_data,y,selecter_model,n_features_to_select=40 , step=1)\n",
    "CI_model = CI_basemodel\n",
    "CI_analyse(selected_data,y,CI_model,modeltype=modeltype,record=record,plotname = plotname)"
   ]
  },
  {
   "cell_type": "code",
   "execution_count": null,
   "id": "8a622498",
   "metadata": {},
   "outputs": [],
   "source": [
    "selecter_model = selecter_basemodel\n",
    "selected_data = selecter(selected_data,y,selecter_model,n_features_to_select=35 , step=1)\n",
    "CI_model = CI_basemodel\n",
    "CI_analyse(selected_data,y,CI_model,modeltype=modeltype,record=record,plotname = plotname)"
   ]
  },
  {
   "cell_type": "code",
   "execution_count": null,
   "id": "875dc6f4",
   "metadata": {},
   "outputs": [],
   "source": [
    "selecter_model = selecter_basemodel\n",
    "selected_data = selecter(selected_data,y,selecter_model,n_features_to_select=30 , step=1)\n",
    "CI_model = CI_basemodel\n",
    "CI_analyse(selected_data,y,CI_model,modeltype=modeltype,record=record,plotname = plotname)"
   ]
  },
  {
   "cell_type": "code",
   "execution_count": null,
   "id": "f86eab28",
   "metadata": {},
   "outputs": [],
   "source": [
    "selecter_model = selecter_basemodel\n",
    "selected_data = selecter(selected_data,y,selecter_model,n_features_to_select=25 , step=1)\n",
    "CI_model = CI_basemodel\n",
    "CI_analyse(selected_data,y,CI_model,modeltype=modeltype,record=record,plotname = plotname)"
   ]
  },
  {
   "cell_type": "code",
   "execution_count": null,
   "id": "6a3ed9ca",
   "metadata": {},
   "outputs": [],
   "source": [
    "selecter_model = selecter_basemodel\n",
    "selected_data = selecter(selected_data,y,selecter_model,n_features_to_select=20 , step=1)\n",
    "CI_model = CI_basemodel\n",
    "CI_analyse(selected_data,y,CI_model,modeltype=modeltype,record=record,plotname = plotname)"
   ]
  },
  {
   "cell_type": "code",
   "execution_count": null,
   "id": "06bb0187",
   "metadata": {},
   "outputs": [],
   "source": [
    "selecter_model = selecter_basemodel\n",
    "selected_data = selecter(selected_data,y,selecter_model,n_features_to_select=15 , step=1)\n",
    "CI_model = CI_basemodel\n",
    "CI_analyse(selected_data,y,CI_model,modeltype=modeltype,record=record,plotname = plotname)"
   ]
  },
  {
   "cell_type": "code",
   "execution_count": null,
   "id": "52f4b3fe",
   "metadata": {},
   "outputs": [],
   "source": [
    "selecter_model = selecter_basemodel\n",
    "selected_data = selecter(selected_data,y,selecter_model,n_features_to_select=10 , step=1)\n",
    "CI_model = CI_basemodel\n",
    "CI_analyse(selected_data,y,CI_model,modeltype=modeltype,record=record,plotname = plotname)"
   ]
  },
  {
   "cell_type": "markdown",
   "id": "cecef126",
   "metadata": {},
   "source": [
    "## F+S"
   ]
  },
  {
   "cell_type": "code",
   "execution_count": null,
   "id": "212666c5",
   "metadata": {},
   "outputs": [],
   "source": [
    "plotname = folder_path+modeltype+\"_NIHSS_RFE_F+S\"\n",
    "target = [0,target_num]\n",
    "data,y = get_data(clinical,target_ls=target,target_num=target_num,fuse=selected_fuse,semantic=selected_semantic)\n",
    "y = (y>4)*1"
   ]
  },
  {
   "cell_type": "code",
   "execution_count": null,
   "id": "8a195e9e",
   "metadata": {},
   "outputs": [],
   "source": [
    "selecter_model = selecter_basemodel\n",
    "selected_data = selecter(data,y,selecter_model,n_features_to_select=50 , step=150)"
   ]
  },
  {
   "cell_type": "code",
   "execution_count": null,
   "id": "01995cae",
   "metadata": {},
   "outputs": [],
   "source": [
    "selecter_model = selecter_basemodel\n",
    "selected_data = selecter(selected_data,y,selecter_model,n_features_to_select=50 , step=1)\n",
    "CI_model = CI_basemodel\n",
    "CI_analyse(selected_data,y,CI_model,modeltype=modeltype,record=record,plotname = plotname)"
   ]
  },
  {
   "cell_type": "code",
   "execution_count": null,
   "id": "a3be4ceb",
   "metadata": {},
   "outputs": [],
   "source": [
    "selecter_model = selecter_basemodel\n",
    "selected_data = selecter(selected_data,y,selecter_model,n_features_to_select=45 , step=1)\n",
    "CI_model = CI_basemodel\n",
    "CI_analyse(selected_data,y,CI_model,modeltype=modeltype,record=record,plotname = plotname)"
   ]
  },
  {
   "cell_type": "code",
   "execution_count": null,
   "id": "feb441c1",
   "metadata": {},
   "outputs": [],
   "source": [
    "selecter_model = selecter_basemodel\n",
    "selected_data = selecter(selected_data,y,selecter_model,n_features_to_select=40 , step=1)\n",
    "CI_model = CI_basemodel\n",
    "CI_analyse(selected_data,y,CI_model,modeltype=modeltype,record=record,plotname = plotname)"
   ]
  },
  {
   "cell_type": "code",
   "execution_count": null,
   "id": "5e115e25",
   "metadata": {},
   "outputs": [],
   "source": [
    "selecter_model = selecter_basemodel\n",
    "selected_data = selecter(selected_data,y,selecter_model,n_features_to_select=35 , step=1)\n",
    "CI_model = CI_basemodel\n",
    "CI_analyse(selected_data,y,CI_model,modeltype=modeltype,record=record,plotname = plotname)"
   ]
  },
  {
   "cell_type": "code",
   "execution_count": null,
   "id": "87213234",
   "metadata": {},
   "outputs": [],
   "source": [
    "selecter_model = selecter_basemodel\n",
    "selected_data = selecter(selected_data,y,selecter_model,n_features_to_select=30 , step=1)\n",
    "CI_model = CI_basemodel\n",
    "CI_analyse(selected_data,y,CI_model,modeltype=modeltype,record=record,plotname = plotname)"
   ]
  },
  {
   "cell_type": "code",
   "execution_count": null,
   "id": "bee99f80",
   "metadata": {},
   "outputs": [],
   "source": [
    "selecter_model = selecter_basemodel\n",
    "selected_data = selecter(selected_data,y,selecter_model,n_features_to_select=25 , step=1)\n",
    "CI_model = CI_basemodel\n",
    "CI_analyse(selected_data,y,CI_model,modeltype=modeltype,record=record,plotname = plotname)"
   ]
  },
  {
   "cell_type": "code",
   "execution_count": null,
   "id": "0252b72f",
   "metadata": {},
   "outputs": [],
   "source": [
    "selecter_model = selecter_basemodel\n",
    "selected_data = selecter(selected_data,y,selecter_model,n_features_to_select=20 , step=1)\n",
    "CI_model = CI_basemodel\n",
    "CI_analyse(selected_data,y,CI_model,modeltype=modeltype,record=record,plotname = plotname)"
   ]
  },
  {
   "cell_type": "code",
   "execution_count": null,
   "id": "35917d64",
   "metadata": {},
   "outputs": [],
   "source": [
    "selecter_model = selecter_basemodel\n",
    "selected_data = selecter(selected_data,y,selecter_model,n_features_to_select=15 , step=1)\n",
    "CI_model = CI_basemodel\n",
    "CI_analyse(selected_data,y,CI_model,modeltype=modeltype,record=record,plotname = plotname)"
   ]
  },
  {
   "cell_type": "code",
   "execution_count": null,
   "id": "f1aed6ea",
   "metadata": {},
   "outputs": [],
   "source": [
    "selecter_model = selecter_basemodel\n",
    "selected_data = selecter(selected_data,y,selecter_model,n_features_to_select=10 , step=1)\n",
    "CI_model = CI_basemodel\n",
    "CI_analyse(selected_data,y,CI_model,modeltype=modeltype,record=record,plotname = plotname)"
   ]
  },
  {
   "cell_type": "markdown",
   "id": "2a023fec",
   "metadata": {},
   "source": [
    "### F+C+R"
   ]
  },
  {
   "cell_type": "code",
   "execution_count": null,
   "id": "30bb5026",
   "metadata": {
    "scrolled": true
   },
   "outputs": [],
   "source": [
    "plotname = folder_path+modeltype+\"_NIHSS_RFE_F+C+R\"\n",
    "target = clinical_after_selection\n",
    "data,y = get_data(clinical,target_ls=target,target_num=target_num,radiomics=selected_radiomics,fuse=selected_fuse)\n",
    "y = (y>4)*1"
   ]
  },
  {
   "cell_type": "code",
   "execution_count": null,
   "id": "fda3d90f",
   "metadata": {},
   "outputs": [],
   "source": [
    "selecter_model = selecter_basemodel\n",
    "selected_data = selecter(data,y,selecter_model,n_features_to_select=50 , step=150)"
   ]
  },
  {
   "cell_type": "code",
   "execution_count": null,
   "id": "09fffeb5",
   "metadata": {},
   "outputs": [],
   "source": [
    "selecter_model = selecter_basemodel\n",
    "selected_data = selecter(selected_data,y,selecter_model,n_features_to_select=50 , step=1)\n",
    "CI_model = CI_basemodel\n",
    "CI_analyse(selected_data,y,CI_model,modeltype=modeltype,record=record,plotname = plotname)"
   ]
  },
  {
   "cell_type": "code",
   "execution_count": null,
   "id": "fbf891a6",
   "metadata": {},
   "outputs": [],
   "source": [
    "selecter_model = selecter_basemodel\n",
    "selected_data = selecter(selected_data,y,selecter_model,n_features_to_select=45 , step=1)\n",
    "CI_model = CI_basemodel\n",
    "CI_analyse(selected_data,y,CI_model,modeltype=modeltype,record=record,plotname = plotname)"
   ]
  },
  {
   "cell_type": "code",
   "execution_count": null,
   "id": "fbf14edf",
   "metadata": {},
   "outputs": [],
   "source": [
    "selecter_model = selecter_basemodel\n",
    "selected_data = selecter(selected_data,y,selecter_model,n_features_to_select=40 , step=1)\n",
    "CI_model = CI_basemodel\n",
    "CI_analyse(selected_data,y,CI_model,modeltype=modeltype,record=record,plotname = plotname)"
   ]
  },
  {
   "cell_type": "code",
   "execution_count": null,
   "id": "0168ea43",
   "metadata": {},
   "outputs": [],
   "source": [
    "selecter_model = selecter_basemodel\n",
    "selected_data = selecter(selected_data,y,selecter_model,n_features_to_select=35 , step=1)\n",
    "CI_model = CI_basemodel\n",
    "CI_analyse(selected_data,y,CI_model,modeltype=modeltype,record=record,plotname = plotname)"
   ]
  },
  {
   "cell_type": "code",
   "execution_count": null,
   "id": "3862009d",
   "metadata": {},
   "outputs": [],
   "source": [
    "selecter_model = selecter_basemodel\n",
    "selected_data = selecter(selected_data,y,selecter_model,n_features_to_select=30 , step=1)\n",
    "CI_model = CI_basemodel\n",
    "CI_analyse(selected_data,y,CI_model,modeltype=modeltype,record=record,plotname = plotname)"
   ]
  },
  {
   "cell_type": "code",
   "execution_count": null,
   "id": "9840d507",
   "metadata": {},
   "outputs": [],
   "source": [
    "selecter_model = selecter_basemodel\n",
    "selected_data = selecter(selected_data,y,selecter_model,n_features_to_select=25 , step=1)\n",
    "CI_model = CI_basemodel\n",
    "CI_analyse(selected_data,y,CI_model,modeltype=modeltype,record=record,plotname = plotname)"
   ]
  },
  {
   "cell_type": "code",
   "execution_count": null,
   "id": "bd7aa221",
   "metadata": {},
   "outputs": [],
   "source": [
    "selecter_model = selecter_basemodel\n",
    "selected_data = selecter(selected_data,y,selecter_model,n_features_to_select=20 , step=1)\n",
    "CI_model = CI_basemodel\n",
    "CI_analyse(selected_data,y,CI_model,modeltype=modeltype,record=record,plotname = plotname)"
   ]
  },
  {
   "cell_type": "code",
   "execution_count": null,
   "id": "e756e708",
   "metadata": {},
   "outputs": [],
   "source": [
    "selecter_model = selecter_basemodel\n",
    "selected_data = selecter(selected_data,y,selecter_model,n_features_to_select=15 , step=1)\n",
    "CI_model = CI_basemodel\n",
    "CI_analyse(selected_data,y,CI_model,modeltype=modeltype,record=record,plotname = plotname)"
   ]
  },
  {
   "cell_type": "code",
   "execution_count": null,
   "id": "b4a900b1",
   "metadata": {},
   "outputs": [],
   "source": [
    "selecter_model = selecter_basemodel\n",
    "selected_data = selecter(selected_data,y,selecter_model,n_features_to_select=10 , step=1)\n",
    "CI_model = CI_basemodel\n",
    "CI_analyse(selected_data,y,CI_model,modeltype=modeltype,record=record,plotname = plotname)"
   ]
  },
  {
   "cell_type": "markdown",
   "id": "c2afac0b",
   "metadata": {},
   "source": [
    "### F+C+R+S"
   ]
  },
  {
   "cell_type": "code",
   "execution_count": null,
   "id": "fad99d55",
   "metadata": {},
   "outputs": [],
   "source": [
    "plotname = folder_path+modeltype+\"_NIHSS_RFE_F+C+R+S\"\n",
    "target = clinical_after_selection\n",
    "data,y = get_data(clinical,target_ls=target,target_num=target_num,radiomics=selected_radiomics,semantic=selected_semantic,fuse=selected_fuse)\n",
    "y = (y>4)*1"
   ]
  },
  {
   "cell_type": "code",
   "execution_count": null,
   "id": "bea1573d",
   "metadata": {},
   "outputs": [],
   "source": [
    "selecter_model = selecter_basemodel\n",
    "selected_data = selecter(data,y,selecter_model,n_features_to_select=50 , step=150)"
   ]
  },
  {
   "cell_type": "code",
   "execution_count": null,
   "id": "caf61355",
   "metadata": {},
   "outputs": [],
   "source": [
    "selecter_model = selecter_basemodel\n",
    "selected_data = selecter(selected_data,y,selecter_model,n_features_to_select=50 , step=1)\n",
    "CI_model = CI_basemodel\n",
    "CI_analyse(selected_data,y,CI_model,modeltype=modeltype,record=record,plotname = plotname)"
   ]
  },
  {
   "cell_type": "code",
   "execution_count": null,
   "id": "a7082517",
   "metadata": {},
   "outputs": [],
   "source": [
    "selecter_model = selecter_basemodel\n",
    "selected_data = selecter(selected_data,y,selecter_model,n_features_to_select=45 , step=1)\n",
    "CI_model = CI_basemodel\n",
    "CI_analyse(selected_data,y,CI_model,modeltype=modeltype,record=record,plotname = plotname)"
   ]
  },
  {
   "cell_type": "code",
   "execution_count": null,
   "id": "f34c5576",
   "metadata": {},
   "outputs": [],
   "source": [
    "selecter_model = selecter_basemodel\n",
    "selected_data = selecter(selected_data,y,selecter_model,n_features_to_select=40 , step=1)\n",
    "CI_model = CI_basemodel\n",
    "CI_analyse(selected_data,y,CI_model,modeltype=modeltype,record=record,plotname = plotname)"
   ]
  },
  {
   "cell_type": "code",
   "execution_count": null,
   "id": "fd266eb5",
   "metadata": {},
   "outputs": [],
   "source": [
    "selecter_model = selecter_basemodel\n",
    "selected_data = selecter(selected_data,y,selecter_model,n_features_to_select=35 , step=1)\n",
    "CI_model = CI_basemodel\n",
    "CI_analyse(selected_data,y,CI_model,modeltype=modeltype,record=record,plotname = plotname)"
   ]
  },
  {
   "cell_type": "code",
   "execution_count": null,
   "id": "0c867ed4",
   "metadata": {},
   "outputs": [],
   "source": [
    "selecter_model = selecter_basemodel\n",
    "selected_data = selecter(selected_data,y,selecter_model,n_features_to_select=30 , step=1)\n",
    "CI_model = CI_basemodel\n",
    "CI_analyse(selected_data,y,CI_model,modeltype=modeltype,record=record,plotname = plotname)"
   ]
  },
  {
   "cell_type": "code",
   "execution_count": null,
   "id": "1a19ea61",
   "metadata": {},
   "outputs": [],
   "source": [
    "selecter_model = selecter_basemodel\n",
    "selected_data = selecter(selected_data,y,selecter_model,n_features_to_select=25 , step=1)\n",
    "CI_model = CI_basemodel\n",
    "CI_analyse(selected_data,y,CI_model,modeltype=modeltype,record=record,plotname = plotname)"
   ]
  },
  {
   "cell_type": "code",
   "execution_count": null,
   "id": "61ea7740",
   "metadata": {},
   "outputs": [],
   "source": [
    "selecter_model = selecter_basemodel\n",
    "selected_data = selecter(selected_data,y,selecter_model,n_features_to_select=20 , step=1)\n",
    "CI_model = CI_basemodel\n",
    "CI_analyse(selected_data,y,CI_model,modeltype=modeltype,record=record,plotname = plotname)"
   ]
  },
  {
   "cell_type": "code",
   "execution_count": null,
   "id": "ba7c66c6",
   "metadata": {},
   "outputs": [],
   "source": [
    "selecter_model = selecter_basemodel\n",
    "selected_data = selecter(selected_data,y,selecter_model,n_features_to_select=15 , step=1)\n",
    "CI_model = CI_basemodel\n",
    "CI_analyse(selected_data,y,CI_model,modeltype=modeltype,record=record,plotname = plotname)"
   ]
  },
  {
   "cell_type": "code",
   "execution_count": null,
   "id": "4a9695ab",
   "metadata": {},
   "outputs": [],
   "source": [
    "selecter_model = selecter_basemodel\n",
    "selected_data = selecter(selected_data,y,selecter_model,n_features_to_select=10 , step=1)\n",
    "CI_model = CI_basemodel\n",
    "CI_analyse(selected_data,y,CI_model,modeltype=modeltype,record=record,plotname = plotname)"
   ]
  },
  {
   "cell_type": "markdown",
   "id": "b0c28cc8",
   "metadata": {},
   "source": [
    "## LVO"
   ]
  },
  {
   "cell_type": "code",
   "execution_count": null,
   "id": "c1bfb1e2",
   "metadata": {},
   "outputs": [],
   "source": [
    "clinical_target3 = [0,1,2,3,9,11,12,13,14,15,16,17,18,19,20,21,22,23,24,25,26,27,28,29,30,31,32,33,34,35,36,37,38,39,40,41,42,43,44,45,46,47,48]\n",
    "target_num = 9"
   ]
  },
  {
   "cell_type": "markdown",
   "id": "4ef5470b",
   "metadata": {},
   "source": [
    "### only C"
   ]
  },
  {
   "cell_type": "code",
   "execution_count": null,
   "id": "e448cc6e",
   "metadata": {},
   "outputs": [],
   "source": [
    "plotname = folder_path+modeltype+\"_LVO_RFE_C\"\n",
    "target = clinical_target3\n",
    "data,y = get_data(clinical,target_ls=target,target_num=target_num)"
   ]
  },
  {
   "cell_type": "code",
   "execution_count": null,
   "id": "ed06e79e",
   "metadata": {},
   "outputs": [],
   "source": [
    "selecter_model = selecter_basemodel\n",
    "selected_data = selecter(selected_data,y,selecter_model,n_features_to_select=40 , step=1)\n",
    "CI_model = CI_basemodel\n",
    "CI_analyse(selected_data,y,CI_model,modeltype=modeltype,record=record,plotname = plotname)"
   ]
  },
  {
   "cell_type": "code",
   "execution_count": null,
   "id": "5e69b1c5",
   "metadata": {},
   "outputs": [],
   "source": [
    "selecter_model = selecter_basemodel\n",
    "selected_data = selecter(selected_data,y,selecter_model,n_features_to_select=35 , step=1)\n",
    "CI_model = CI_basemodel\n",
    "CI_analyse(selected_data,y,CI_model,modeltype=modeltype,record=record,plotname = plotname)"
   ]
  },
  {
   "cell_type": "code",
   "execution_count": null,
   "id": "4cc28744",
   "metadata": {},
   "outputs": [],
   "source": [
    "selecter_model = selecter_basemodel\n",
    "selected_data = selecter(selected_data,y,selecter_model,n_features_to_select=30 , step=1)\n",
    "CI_model = CI_basemodel\n",
    "CI_analyse(selected_data,y,CI_model,modeltype=modeltype,record=record,plotname = plotname)"
   ]
  },
  {
   "cell_type": "code",
   "execution_count": null,
   "id": "af8a2c1e",
   "metadata": {},
   "outputs": [],
   "source": [
    "selecter_model = selecter_basemodel\n",
    "selected_data = selecter(selected_data,y,selecter_model,n_features_to_select=25 , step=1)\n",
    "CI_model = CI_basemodel\n",
    "CI_analyse(selected_data,y,CI_model,modeltype=modeltype,record=record,plotname = plotname)"
   ]
  },
  {
   "cell_type": "code",
   "execution_count": null,
   "id": "27a8bce0",
   "metadata": {},
   "outputs": [],
   "source": [
    "selecter_model = selecter_basemodel\n",
    "selected_data = selecter(selected_data,y,selecter_model,n_features_to_select=20 , step=1)\n",
    "CI_model = CI_basemodel\n",
    "CI_analyse(selected_data,y,CI_model,modeltype=modeltype,record=record,plotname = plotname)"
   ]
  },
  {
   "cell_type": "code",
   "execution_count": null,
   "id": "8283f3de",
   "metadata": {},
   "outputs": [],
   "source": [
    "selecter_model = selecter_basemodel\n",
    "selected_data = selecter(selected_data,y,selecter_model,n_features_to_select=15 , step=1)\n",
    "CI_model = CI_basemodel\n",
    "CI_analyse(selected_data,y,CI_model,modeltype=modeltype,record=record,plotname = plotname)"
   ]
  },
  {
   "cell_type": "code",
   "execution_count": null,
   "id": "09531594",
   "metadata": {},
   "outputs": [],
   "source": [
    "selecter_model = selecter_basemodel\n",
    "selected_data = selecter(selected_data,y,selecter_model,n_features_to_select=10 , step=1)\n",
    "CI_model = CI_basemodel\n",
    "CI_analyse(selected_data,y,CI_model,modeltype=modeltype,record=record,plotname = plotname)"
   ]
  },
  {
   "cell_type": "code",
   "execution_count": null,
   "id": "d7d32703",
   "metadata": {},
   "outputs": [],
   "source": [
    "imp_feature = pd.concat([pd.Series([\"ID\",\"LVO-index\"]), pd.Series(selected_data.columns.values)])\n",
    "clinical_after_selection = [clinical.columns.get_loc(label) for label in imp_feature]"
   ]
  },
  {
   "cell_type": "markdown",
   "id": "696aecb3",
   "metadata": {},
   "source": [
    "### only R"
   ]
  },
  {
   "cell_type": "code",
   "execution_count": null,
   "id": "a25ceb14",
   "metadata": {},
   "outputs": [],
   "source": [
    "plotname = folder_path+modeltype+\"_LVO_RFE_R\"\n",
    "target = [0,target_num]\n",
    "data,y = get_data(clinical,target_ls=target,target_num=target_num,radiomics=radiomics)"
   ]
  },
  {
   "cell_type": "code",
   "execution_count": null,
   "id": "6b5f782a",
   "metadata": {},
   "outputs": [],
   "source": [
    "selecter_model = selecter_basemodel\n",
    "selected_data = selecter(data,y,selecter_model,n_features_to_select=950 , step=2000)\n",
    "selecter_model = selecter_basemodel\n",
    "selected_data = selecter(selected_data,y,selecter_model,n_features_to_select=50 , step=150)"
   ]
  },
  {
   "cell_type": "code",
   "execution_count": null,
   "id": "254d8d2b",
   "metadata": {},
   "outputs": [],
   "source": [
    "selecter_model = selecter_basemodel\n",
    "selected_data = selecter(selected_data,y,selecter_model,n_features_to_select=50 , step=1)\n",
    "CI_model = CI_basemodel\n",
    "CI_analyse(selected_data,y,CI_model,modeltype=modeltype,record=record,plotname = plotname)"
   ]
  },
  {
   "cell_type": "code",
   "execution_count": null,
   "id": "0f7536a9",
   "metadata": {},
   "outputs": [],
   "source": [
    "selecter_model = selecter_basemodel\n",
    "selected_data = selecter(selected_data,y,selecter_model,n_features_to_select=45 , step=1)\n",
    "CI_model = CI_basemodel\n",
    "CI_analyse(selected_data,y,CI_model,modeltype=modeltype,record=record,plotname = plotname)"
   ]
  },
  {
   "cell_type": "code",
   "execution_count": null,
   "id": "9f54437c",
   "metadata": {},
   "outputs": [],
   "source": [
    "selecter_model = selecter_basemodel\n",
    "selected_data = selecter(selected_data,y,selecter_model,n_features_to_select=40 , step=1)\n",
    "CI_model = CI_basemodel\n",
    "CI_analyse(selected_data,y,CI_model,modeltype=modeltype,record=record,plotname = plotname)"
   ]
  },
  {
   "cell_type": "code",
   "execution_count": null,
   "id": "4104c729",
   "metadata": {},
   "outputs": [],
   "source": [
    "selecter_model = selecter_basemodel\n",
    "selected_data = selecter(selected_data,y,selecter_model,n_features_to_select=35 , step=1)\n",
    "CI_model = CI_basemodel\n",
    "CI_analyse(selected_data,y,CI_model,modeltype=modeltype,record=record,plotname = plotname)"
   ]
  },
  {
   "cell_type": "code",
   "execution_count": null,
   "id": "f67e86bc",
   "metadata": {},
   "outputs": [],
   "source": [
    "selecter_model = selecter_basemodel\n",
    "selected_data = selecter(selected_data,y,selecter_model,n_features_to_select=30 , step=1)\n",
    "CI_model = CI_basemodel\n",
    "CI_analyse(selected_data,y,CI_model,modeltype=modeltype,record=record,plotname = plotname)"
   ]
  },
  {
   "cell_type": "code",
   "execution_count": null,
   "id": "f03eea51",
   "metadata": {},
   "outputs": [],
   "source": [
    "selecter_model = selecter_basemodel\n",
    "selected_data = selecter(selected_data,y,selecter_model,n_features_to_select=25 , step=1)\n",
    "CI_model = CI_basemodel\n",
    "CI_analyse(selected_data,y,CI_model,modeltype=modeltype,record=record,plotname = plotname)"
   ]
  },
  {
   "cell_type": "code",
   "execution_count": null,
   "id": "5bf1e783",
   "metadata": {},
   "outputs": [],
   "source": [
    "selecter_model = selecter_basemodel\n",
    "selected_data = selecter(selected_data,y,selecter_model,n_features_to_select=20 , step=1)\n",
    "CI_model = CI_basemodel\n",
    "CI_analyse(selected_data,y,CI_model,modeltype=modeltype,record=record,plotname = plotname)"
   ]
  },
  {
   "cell_type": "code",
   "execution_count": null,
   "id": "8e3b646e",
   "metadata": {},
   "outputs": [],
   "source": [
    "selecter_model = selecter_basemodel\n",
    "selected_data = selecter(selected_data,y,selecter_model,n_features_to_select=15 , step=1)\n",
    "CI_model = CI_basemodel\n",
    "CI_analyse(selected_data,y,CI_model,modeltype=modeltype,record=record,plotname = plotname)"
   ]
  },
  {
   "cell_type": "code",
   "execution_count": null,
   "id": "846b6766",
   "metadata": {},
   "outputs": [],
   "source": [
    "selecter_model = selecter_basemodel\n",
    "selected_data = selecter(selected_data,y,selecter_model,n_features_to_select=10 , step=1)\n",
    "CI_model = CI_basemodel\n",
    "CI_analyse(selected_data,y,CI_model,modeltype=modeltype,record=record,plotname = plotname)"
   ]
  },
  {
   "cell_type": "code",
   "execution_count": null,
   "id": "ac78cac3",
   "metadata": {},
   "outputs": [],
   "source": [
    "imp_feature = pd.concat([pd.Series([\"ID\"]), pd.Series(selected_data.columns.values)])\n",
    "selected_radiomics = radiomics[imp_feature]"
   ]
  },
  {
   "cell_type": "markdown",
   "id": "27d8ace5",
   "metadata": {},
   "source": [
    "### only S"
   ]
  },
  {
   "cell_type": "code",
   "execution_count": null,
   "id": "64fa80d7",
   "metadata": {},
   "outputs": [],
   "source": [
    "plotname = folder_path+modeltype+\"_LVO_RFE_S\"\n",
    "target = [0,target_num]\n",
    "data,y = get_data(clinical,target_ls=target,target_num=target_num,semantic=semantic)"
   ]
  },
  {
   "cell_type": "code",
   "execution_count": null,
   "id": "0f78ea57",
   "metadata": {},
   "outputs": [],
   "source": [
    "selecter_model = selecter_basemodel\n",
    "selected_data = selecter(data,y,selecter_model,n_features_to_select=950 , step=2000)\n",
    "selecter_model = selecter_basemodel\n",
    "selected_data = selecter(selected_data,y,selecter_model,n_features_to_select=50 , step=150)"
   ]
  },
  {
   "cell_type": "code",
   "execution_count": null,
   "id": "c9aa3ceb",
   "metadata": {},
   "outputs": [],
   "source": [
    "selecter_model = selecter_basemodel\n",
    "selected_data = selecter(selected_data,y,selecter_model,n_features_to_select=50 , step=1)\n",
    "CI_model = CI_basemodel\n",
    "CI_analyse(selected_data,y,CI_model,modeltype=modeltype,record=record,plotname = plotname)"
   ]
  },
  {
   "cell_type": "code",
   "execution_count": null,
   "id": "918c96ca",
   "metadata": {},
   "outputs": [],
   "source": [
    "selecter_model = selecter_basemodel\n",
    "selected_data = selecter(selected_data,y,selecter_model,n_features_to_select=45 , step=1)\n",
    "CI_model = CI_basemodel\n",
    "CI_analyse(selected_data,y,CI_model,modeltype=modeltype,record=record,plotname = plotname)"
   ]
  },
  {
   "cell_type": "code",
   "execution_count": null,
   "id": "a5982dba",
   "metadata": {},
   "outputs": [],
   "source": [
    "selecter_model = selecter_basemodel\n",
    "selected_data = selecter(selected_data,y,selecter_model,n_features_to_select=40 , step=1)\n",
    "CI_model = CI_basemodel\n",
    "CI_analyse(selected_data,y,CI_model,modeltype=modeltype,record=record,plotname = plotname)"
   ]
  },
  {
   "cell_type": "code",
   "execution_count": null,
   "id": "67697cdb",
   "metadata": {},
   "outputs": [],
   "source": [
    "selecter_model = selecter_basemodel\n",
    "selected_data = selecter(selected_data,y,selecter_model,n_features_to_select=35 , step=1)\n",
    "CI_model = CI_basemodel\n",
    "CI_analyse(selected_data,y,CI_model,modeltype=modeltype,record=record,plotname = plotname)"
   ]
  },
  {
   "cell_type": "code",
   "execution_count": null,
   "id": "feb57795",
   "metadata": {},
   "outputs": [],
   "source": [
    "selecter_model = selecter_basemodel\n",
    "selected_data = selecter(selected_data,y,selecter_model,n_features_to_select=30 , step=1)\n",
    "CI_model = CI_basemodel\n",
    "CI_analyse(selected_data,y,CI_model,modeltype=modeltype,record=record,plotname = plotname)"
   ]
  },
  {
   "cell_type": "code",
   "execution_count": null,
   "id": "4bcfb615",
   "metadata": {},
   "outputs": [],
   "source": [
    "selecter_model = selecter_basemodel\n",
    "selected_data = selecter(selected_data,y,selecter_model,n_features_to_select=25 , step=1)\n",
    "CI_model = CI_basemodel\n",
    "CI_analyse(selected_data,y,CI_model,modeltype=modeltype,record=record,plotname = plotname)"
   ]
  },
  {
   "cell_type": "code",
   "execution_count": null,
   "id": "fac5a393",
   "metadata": {},
   "outputs": [],
   "source": [
    "selecter_model = selecter_basemodel\n",
    "selected_data = selecter(selected_data,y,selecter_model,n_features_to_select=20 , step=1)\n",
    "CI_model = CI_basemodel\n",
    "CI_analyse(selected_data,y,CI_model,modeltype=modeltype,record=record,plotname = plotname)"
   ]
  },
  {
   "cell_type": "code",
   "execution_count": null,
   "id": "4b46c54d",
   "metadata": {},
   "outputs": [],
   "source": [
    "selecter_model = selecter_basemodel\n",
    "selected_data = selecter(selected_data,y,selecter_model,n_features_to_select=15 , step=1)\n",
    "CI_model = CI_basemodel\n",
    "CI_analyse(selected_data,y,CI_model,modeltype=modeltype,record=record,plotname = plotname)"
   ]
  },
  {
   "cell_type": "code",
   "execution_count": null,
   "id": "b0fb2e81",
   "metadata": {},
   "outputs": [],
   "source": [
    "selecter_model = selecter_basemodel\n",
    "selected_data = selecter(selected_data,y,selecter_model,n_features_to_select=10 , step=1)\n",
    "CI_model = CI_basemodel\n",
    "CI_analyse(selected_data,y,CI_model,modeltype=modeltype,record=record,plotname = plotname)"
   ]
  },
  {
   "cell_type": "code",
   "execution_count": null,
   "id": "a309e51f",
   "metadata": {},
   "outputs": [],
   "source": [
    "imp_feature = pd.concat([pd.Series([\"ID\"]), pd.Series(selected_data.columns.values)])\n",
    "selected_semantic = semantic[imp_feature]"
   ]
  },
  {
   "cell_type": "markdown",
   "id": "23dda091",
   "metadata": {},
   "source": [
    "### only F"
   ]
  },
  {
   "cell_type": "code",
   "execution_count": null,
   "id": "ed77f53b",
   "metadata": {},
   "outputs": [],
   "source": [
    "plotname = folder_path+modeltype+\"_LVO_RFE_F\"\n",
    "target = [0,target_num]\n",
    "data,y = get_data(clinical,target_ls=target,target_num=target_num,fuse=fuse)"
   ]
  },
  {
   "cell_type": "code",
   "execution_count": null,
   "id": "dac6a7d8",
   "metadata": {},
   "outputs": [],
   "source": [
    "selecter_model = selecter_basemodel\n",
    "selected_data = selecter(data,y,selecter_model,n_features_to_select=10000 , step=40000)\n",
    "selecter_model = selecter_basemodel\n",
    "selected_data = selecter(selected_data,y,selecter_model,n_features_to_select=950 , step=2000)\n",
    "selecter_model = selecter_basemodel\n",
    "selected_data = selecter(selected_data,y,selecter_model,n_features_to_select=50 , step=150)"
   ]
  },
  {
   "cell_type": "code",
   "execution_count": null,
   "id": "2f64b528",
   "metadata": {},
   "outputs": [],
   "source": [
    "selecter_model = selecter_basemodel\n",
    "selected_data = selecter(selected_data,y,selecter_model,n_features_to_select=50 , step=1)\n",
    "CI_model = CI_basemodel\n",
    "CI_analyse(selected_data,y,CI_model,modeltype=modeltype,record=record,plotname = plotname)"
   ]
  },
  {
   "cell_type": "code",
   "execution_count": null,
   "id": "1d9a67a3",
   "metadata": {},
   "outputs": [],
   "source": [
    "selecter_model = selecter_basemodel\n",
    "selected_data = selecter(selected_data,y,selecter_model,n_features_to_select=45 , step=1)\n",
    "CI_model = CI_basemodel\n",
    "CI_analyse(selected_data,y,CI_model,modeltype=modeltype,record=record,plotname = plotname)"
   ]
  },
  {
   "cell_type": "code",
   "execution_count": null,
   "id": "40a0eb1d",
   "metadata": {},
   "outputs": [],
   "source": [
    "selecter_model = selecter_basemodel\n",
    "selected_data = selecter(selected_data,y,selecter_model,n_features_to_select=40 , step=1)\n",
    "CI_model = CI_basemodel\n",
    "CI_analyse(selected_data,y,CI_model,modeltype=modeltype,record=record,plotname = plotname)"
   ]
  },
  {
   "cell_type": "code",
   "execution_count": null,
   "id": "34d38f4a",
   "metadata": {},
   "outputs": [],
   "source": [
    "selecter_model = selecter_basemodel\n",
    "selected_data = selecter(selected_data,y,selecter_model,n_features_to_select=35 , step=1)\n",
    "CI_model = CI_basemodel\n",
    "CI_analyse(selected_data,y,CI_model,modeltype=modeltype,record=record,plotname = plotname)"
   ]
  },
  {
   "cell_type": "code",
   "execution_count": null,
   "id": "6adf6d5f",
   "metadata": {},
   "outputs": [],
   "source": [
    "selecter_model = selecter_basemodel\n",
    "selected_data = selecter(selected_data,y,selecter_model,n_features_to_select=30 , step=1)\n",
    "CI_model = CI_basemodel\n",
    "CI_analyse(selected_data,y,CI_model,modeltype=modeltype,record=record,plotname = plotname)"
   ]
  },
  {
   "cell_type": "code",
   "execution_count": null,
   "id": "45293d47",
   "metadata": {},
   "outputs": [],
   "source": [
    "selecter_model = selecter_basemodel\n",
    "selected_data = selecter(selected_data,y,selecter_model,n_features_to_select=25 , step=1)\n",
    "CI_model = CI_basemodel\n",
    "CI_analyse(selected_data,y,CI_model,modeltype=modeltype,record=record,plotname = plotname)"
   ]
  },
  {
   "cell_type": "code",
   "execution_count": null,
   "id": "b152f0e7",
   "metadata": {},
   "outputs": [],
   "source": [
    "selecter_model = selecter_basemodel\n",
    "selected_data = selecter(selected_data,y,selecter_model,n_features_to_select=20 , step=1)\n",
    "CI_model = CI_basemodel\n",
    "CI_analyse(selected_data,y,CI_model,modeltype=modeltype,record=record,plotname = plotname)"
   ]
  },
  {
   "cell_type": "code",
   "execution_count": null,
   "id": "d5857b90",
   "metadata": {},
   "outputs": [],
   "source": [
    "selecter_model = selecter_basemodel\n",
    "selected_data = selecter(selected_data,y,selecter_model,n_features_to_select=15 , step=1)\n",
    "CI_model = CI_basemodel\n",
    "CI_analyse(selected_data,y,CI_model,modeltype=modeltype,record=record,plotname = plotname)"
   ]
  },
  {
   "cell_type": "code",
   "execution_count": null,
   "id": "30391c74",
   "metadata": {},
   "outputs": [],
   "source": [
    "selecter_model = selecter_basemodel\n",
    "selected_data = selecter(selected_data,y,selecter_model,n_features_to_select=10 , step=1)\n",
    "CI_model = CI_basemodel\n",
    "CI_analyse(selected_data,y,CI_model,modeltype=modeltype,record=record,plotname = plotname)"
   ]
  },
  {
   "cell_type": "code",
   "execution_count": null,
   "id": "2c1f11d9",
   "metadata": {},
   "outputs": [],
   "source": [
    "imp_feature = pd.concat([pd.Series([\"ID\"]), pd.Series(selected_data.columns.values)])\n",
    "selected_fuse = fuse[imp_feature]"
   ]
  },
  {
   "cell_type": "markdown",
   "id": "b9321410",
   "metadata": {},
   "source": [
    "### F+C"
   ]
  },
  {
   "cell_type": "code",
   "execution_count": null,
   "id": "519aba91",
   "metadata": {},
   "outputs": [],
   "source": [
    "plotname = folder_path+modeltype+\"_LVO_RFE_F+C\"\n",
    "target = clinical_after_selection\n",
    "data,y = get_data(clinical,target_ls=target,target_num=target_num,fuse=selected_fuse)"
   ]
  },
  {
   "cell_type": "code",
   "execution_count": null,
   "id": "8ffdf1cd",
   "metadata": {},
   "outputs": [],
   "source": [
    "selecter_model = selecter_basemodel\n",
    "selected_data = selecter(data,y,selecter_model,n_features_to_select=50 , step=150)"
   ]
  },
  {
   "cell_type": "code",
   "execution_count": null,
   "id": "734f8879",
   "metadata": {},
   "outputs": [],
   "source": [
    "selecter_model = selecter_basemodel\n",
    "selected_data = selecter(selected_data,y,selecter_model,n_features_to_select=50 , step=1)\n",
    "CI_model = CI_basemodel\n",
    "CI_analyse(selected_data,y,CI_model,modeltype=modeltype,record=record,plotname = plotname)"
   ]
  },
  {
   "cell_type": "code",
   "execution_count": null,
   "id": "5ae7ffd6",
   "metadata": {},
   "outputs": [],
   "source": [
    "selecter_model = selecter_basemodel\n",
    "selected_data = selecter(selected_data,y,selecter_model,n_features_to_select=45 , step=1)\n",
    "CI_model = CI_basemodel\n",
    "CI_analyse(selected_data,y,CI_model,modeltype=modeltype,record=record,plotname = plotname)"
   ]
  },
  {
   "cell_type": "code",
   "execution_count": null,
   "id": "f7b7f9cd",
   "metadata": {},
   "outputs": [],
   "source": [
    "selecter_model = selecter_basemodel\n",
    "selected_data = selecter(selected_data,y,selecter_model,n_features_to_select=40 , step=1)\n",
    "CI_model = CI_basemodel\n",
    "CI_analyse(selected_data,y,CI_model,modeltype=modeltype,record=record,plotname = plotname)"
   ]
  },
  {
   "cell_type": "code",
   "execution_count": null,
   "id": "a665deb5",
   "metadata": {},
   "outputs": [],
   "source": [
    "selecter_model = selecter_basemodel\n",
    "selected_data = selecter(selected_data,y,selecter_model,n_features_to_select=35 , step=1)\n",
    "CI_model = CI_basemodel\n",
    "CI_analyse(selected_data,y,CI_model,modeltype=modeltype,record=record,plotname = plotname)"
   ]
  },
  {
   "cell_type": "code",
   "execution_count": null,
   "id": "c10bb461",
   "metadata": {},
   "outputs": [],
   "source": [
    "selecter_model = selecter_basemodel\n",
    "selected_data = selecter(selected_data,y,selecter_model,n_features_to_select=30 , step=1)\n",
    "CI_model = CI_basemodel\n",
    "CI_analyse(selected_data,y,CI_model,modeltype=modeltype,record=record,plotname = plotname)"
   ]
  },
  {
   "cell_type": "code",
   "execution_count": null,
   "id": "277f8f69",
   "metadata": {},
   "outputs": [],
   "source": [
    "selecter_model = selecter_basemodel\n",
    "selected_data = selecter(selected_data,y,selecter_model,n_features_to_select=25 , step=1)\n",
    "CI_model = CI_basemodel\n",
    "CI_analyse(selected_data,y,CI_model,modeltype=modeltype,record=record,plotname = plotname)"
   ]
  },
  {
   "cell_type": "code",
   "execution_count": null,
   "id": "bcaf82a4",
   "metadata": {},
   "outputs": [],
   "source": [
    "selecter_model = selecter_basemodel\n",
    "selected_data = selecter(selected_data,y,selecter_model,n_features_to_select=20 , step=1)\n",
    "CI_model = CI_basemodel\n",
    "CI_analyse(selected_data,y,CI_model,modeltype=modeltype,record=record,plotname = plotname)"
   ]
  },
  {
   "cell_type": "code",
   "execution_count": null,
   "id": "cf24002b",
   "metadata": {},
   "outputs": [],
   "source": [
    "selecter_model = selecter_basemodel\n",
    "selected_data = selecter(selected_data,y,selecter_model,n_features_to_select=15 , step=1)\n",
    "CI_model = CI_basemodel\n",
    "CI_analyse(selected_data,y,CI_model,modeltype=modeltype,record=record,plotname = plotname)"
   ]
  },
  {
   "cell_type": "code",
   "execution_count": null,
   "id": "efbd2928",
   "metadata": {},
   "outputs": [],
   "source": [
    "selecter_model = selecter_basemodel\n",
    "selected_data = selecter(selected_data,y,selecter_model,n_features_to_select=10 , step=1)\n",
    "CI_model = CI_basemodel\n",
    "CI_analyse(selected_data,y,CI_model,modeltype=modeltype,record=record,plotname = plotname)"
   ]
  },
  {
   "cell_type": "markdown",
   "id": "3fa55f56",
   "metadata": {},
   "source": [
    "### F+R"
   ]
  },
  {
   "cell_type": "code",
   "execution_count": null,
   "id": "ac08120c",
   "metadata": {},
   "outputs": [],
   "source": [
    "plotname = folder_path+modeltype+\"_LVO_RFE_F+R\"\n",
    "target = [0,target_num]\n",
    "data,y = get_data(clinical,target_ls=target,target_num=target_num,radiomics=selected_radiomics,fuse=selected_fuse)"
   ]
  },
  {
   "cell_type": "code",
   "execution_count": null,
   "id": "45d60562",
   "metadata": {},
   "outputs": [],
   "source": [
    "selecter_model = selecter_basemodel\n",
    "selected_data = selecter(data,y,selecter_model,n_features_to_select=50 , step=150)"
   ]
  },
  {
   "cell_type": "code",
   "execution_count": null,
   "id": "b5a50c2e",
   "metadata": {},
   "outputs": [],
   "source": [
    "selecter_model = selecter_basemodel\n",
    "selected_data = selecter(selected_data,y,selecter_model,n_features_to_select=50 , step=1)\n",
    "CI_model = CI_basemodel\n",
    "CI_analyse(selected_data,y,CI_model,modeltype=modeltype,record=record,plotname = plotname)"
   ]
  },
  {
   "cell_type": "code",
   "execution_count": null,
   "id": "2114a00e",
   "metadata": {},
   "outputs": [],
   "source": [
    "selecter_model = selecter_basemodel\n",
    "selected_data = selecter(selected_data,y,selecter_model,n_features_to_select=45 , step=1)\n",
    "CI_model = CI_basemodel\n",
    "CI_analyse(selected_data,y,CI_model,modeltype=modeltype,record=record,plotname = plotname)"
   ]
  },
  {
   "cell_type": "code",
   "execution_count": null,
   "id": "92493ae1",
   "metadata": {},
   "outputs": [],
   "source": [
    "selecter_model = selecter_basemodel\n",
    "selected_data = selecter(selected_data,y,selecter_model,n_features_to_select=40 , step=1)\n",
    "CI_model = CI_basemodel\n",
    "CI_analyse(selected_data,y,CI_model,modeltype=modeltype,record=record,plotname = plotname)"
   ]
  },
  {
   "cell_type": "code",
   "execution_count": null,
   "id": "b51ef512",
   "metadata": {},
   "outputs": [],
   "source": [
    "selecter_model = selecter_basemodel\n",
    "selected_data = selecter(selected_data,y,selecter_model,n_features_to_select=35 , step=1)\n",
    "CI_model = CI_basemodel\n",
    "CI_analyse(selected_data,y,CI_model,modeltype=modeltype,record=record,plotname = plotname)"
   ]
  },
  {
   "cell_type": "code",
   "execution_count": null,
   "id": "958face3",
   "metadata": {},
   "outputs": [],
   "source": [
    "selecter_model = selecter_basemodel\n",
    "selected_data = selecter(selected_data,y,selecter_model,n_features_to_select=30 , step=1)\n",
    "CI_model = CI_basemodel\n",
    "CI_analyse(selected_data,y,CI_model,modeltype=modeltype,record=record,plotname = plotname)"
   ]
  },
  {
   "cell_type": "code",
   "execution_count": null,
   "id": "24ef0b20",
   "metadata": {},
   "outputs": [],
   "source": [
    "selecter_model = selecter_basemodel\n",
    "selected_data = selecter(selected_data,y,selecter_model,n_features_to_select=25 , step=1)\n",
    "CI_model = CI_basemodel\n",
    "CI_analyse(selected_data,y,CI_model,modeltype=modeltype,record=record,plotname = plotname)"
   ]
  },
  {
   "cell_type": "code",
   "execution_count": null,
   "id": "be50f5a8",
   "metadata": {},
   "outputs": [],
   "source": [
    "selecter_model = selecter_basemodel\n",
    "selected_data = selecter(selected_data,y,selecter_model,n_features_to_select=20 , step=1)\n",
    "CI_model = CI_basemodel\n",
    "CI_analyse(selected_data,y,CI_model,modeltype=modeltype,record=record,plotname = plotname)"
   ]
  },
  {
   "cell_type": "code",
   "execution_count": null,
   "id": "0ec296dd",
   "metadata": {},
   "outputs": [],
   "source": [
    "selecter_model = selecter_basemodel\n",
    "selected_data = selecter(selected_data,y,selecter_model,n_features_to_select=15 , step=1)\n",
    "CI_model = CI_basemodel\n",
    "CI_analyse(selected_data,y,CI_model,modeltype=modeltype,record=record,plotname = plotname)"
   ]
  },
  {
   "cell_type": "code",
   "execution_count": null,
   "id": "4649c423",
   "metadata": {},
   "outputs": [],
   "source": [
    "selecter_model = selecter_basemodel\n",
    "selected_data = selecter(selected_data,y,selecter_model,n_features_to_select=10 , step=1)\n",
    "CI_model = CI_basemodel\n",
    "CI_analyse(selected_data,y,CI_model,modeltype=modeltype,record=record,plotname = plotname)"
   ]
  },
  {
   "cell_type": "markdown",
   "id": "d79d7eba",
   "metadata": {},
   "source": [
    "## F+S"
   ]
  },
  {
   "cell_type": "code",
   "execution_count": null,
   "id": "85e5655a",
   "metadata": {},
   "outputs": [],
   "source": [
    "plotname = folder_path+modeltype+\"_LVO_RFE_F+S\"\n",
    "target = [0,target_num]\n",
    "data,y = get_data(clinical,target_ls=target,target_num=target_num,fuse=selected_fuse,semantic=selected_semantic)"
   ]
  },
  {
   "cell_type": "code",
   "execution_count": null,
   "id": "2bb49e5f",
   "metadata": {},
   "outputs": [],
   "source": [
    "selecter_model = selecter_basemodel\n",
    "selected_data = selecter(data,y,selecter_model,n_features_to_select=50 , step=150)"
   ]
  },
  {
   "cell_type": "code",
   "execution_count": null,
   "id": "8958b740",
   "metadata": {},
   "outputs": [],
   "source": [
    "selecter_model = selecter_basemodel\n",
    "selected_data = selecter(selected_data,y,selecter_model,n_features_to_select=50 , step=1)\n",
    "CI_model = CI_basemodel\n",
    "CI_analyse(selected_data,y,CI_model,modeltype=modeltype,record=record,plotname = plotname)"
   ]
  },
  {
   "cell_type": "code",
   "execution_count": null,
   "id": "68bda042",
   "metadata": {},
   "outputs": [],
   "source": [
    "selecter_model = selecter_basemodel\n",
    "selected_data = selecter(selected_data,y,selecter_model,n_features_to_select=45 , step=1)\n",
    "CI_model = CI_basemodel\n",
    "CI_analyse(selected_data,y,CI_model,modeltype=modeltype,record=record,plotname = plotname)"
   ]
  },
  {
   "cell_type": "code",
   "execution_count": null,
   "id": "4ab1bcfd",
   "metadata": {},
   "outputs": [],
   "source": [
    "selecter_model = selecter_basemodel\n",
    "selected_data = selecter(selected_data,y,selecter_model,n_features_to_select=40 , step=1)\n",
    "CI_model = CI_basemodel\n",
    "CI_analyse(selected_data,y,CI_model,modeltype=modeltype,record=record,plotname = plotname)"
   ]
  },
  {
   "cell_type": "code",
   "execution_count": null,
   "id": "7d3d7ab0",
   "metadata": {},
   "outputs": [],
   "source": [
    "selecter_model = selecter_basemodel\n",
    "selected_data = selecter(selected_data,y,selecter_model,n_features_to_select=35 , step=1)\n",
    "CI_model = CI_basemodel\n",
    "CI_analyse(selected_data,y,CI_model,modeltype=modeltype,record=record,plotname = plotname)"
   ]
  },
  {
   "cell_type": "code",
   "execution_count": null,
   "id": "27e4f86b",
   "metadata": {},
   "outputs": [],
   "source": [
    "selecter_model = selecter_basemodel\n",
    "selected_data = selecter(selected_data,y,selecter_model,n_features_to_select=30 , step=1)\n",
    "CI_model = CI_basemodel\n",
    "CI_analyse(selected_data,y,CI_model,modeltype=modeltype,record=record,plotname = plotname)"
   ]
  },
  {
   "cell_type": "code",
   "execution_count": null,
   "id": "a172c04c",
   "metadata": {},
   "outputs": [],
   "source": [
    "selecter_model = selecter_basemodel\n",
    "selected_data = selecter(selected_data,y,selecter_model,n_features_to_select=25 , step=1)\n",
    "CI_model = CI_basemodel\n",
    "CI_analyse(selected_data,y,CI_model,modeltype=modeltype,record=record,plotname = plotname)"
   ]
  },
  {
   "cell_type": "code",
   "execution_count": null,
   "id": "6d84e704",
   "metadata": {},
   "outputs": [],
   "source": [
    "selecter_model = selecter_basemodel\n",
    "selected_data = selecter(selected_data,y,selecter_model,n_features_to_select=20 , step=1)\n",
    "CI_model = CI_basemodel\n",
    "CI_analyse(selected_data,y,CI_model,modeltype=modeltype,record=record,plotname = plotname)"
   ]
  },
  {
   "cell_type": "code",
   "execution_count": null,
   "id": "d0c45ae0",
   "metadata": {},
   "outputs": [],
   "source": [
    "selecter_model = selecter_basemodel\n",
    "selected_data = selecter(selected_data,y,selecter_model,n_features_to_select=15 , step=1)\n",
    "CI_model = CI_basemodel\n",
    "CI_analyse(selected_data,y,CI_model,modeltype=modeltype,record=record,plotname = plotname)"
   ]
  },
  {
   "cell_type": "code",
   "execution_count": null,
   "id": "bced0658",
   "metadata": {},
   "outputs": [],
   "source": [
    "selecter_model = selecter_basemodel\n",
    "selected_data = selecter(selected_data,y,selecter_model,n_features_to_select=10 , step=1)\n",
    "CI_model = CI_basemodel\n",
    "CI_analyse(selected_data,y,CI_model,modeltype=modeltype,record=record,plotname = plotname)"
   ]
  },
  {
   "cell_type": "markdown",
   "id": "a92ca67c",
   "metadata": {},
   "source": [
    "### F+C+R"
   ]
  },
  {
   "cell_type": "code",
   "execution_count": null,
   "id": "4c6a7325",
   "metadata": {},
   "outputs": [],
   "source": [
    "plotname = folder_path+modeltype+\"_LVO_RFE_F+C+R\"\n",
    "target = clinical_after_selection\n",
    "data,y = get_data(clinical,target_ls=target,target_num=target_num,radiomics=selected_radiomics,fuse=selected_fuse)"
   ]
  },
  {
   "cell_type": "code",
   "execution_count": null,
   "id": "e41b7510",
   "metadata": {},
   "outputs": [],
   "source": [
    "selecter_model = selecter_basemodel\n",
    "selected_data = selecter(data,y,selecter_model,n_features_to_select=50 , step=150)"
   ]
  },
  {
   "cell_type": "code",
   "execution_count": null,
   "id": "45399d91",
   "metadata": {},
   "outputs": [],
   "source": [
    "selecter_model = selecter_basemodel\n",
    "selected_data = selecter(selected_data,y,selecter_model,n_features_to_select=50 , step=1)\n",
    "CI_model = CI_basemodel\n",
    "CI_analyse(selected_data,y,CI_model,modeltype=modeltype,record=record,plotname = plotname)"
   ]
  },
  {
   "cell_type": "code",
   "execution_count": null,
   "id": "da01a563",
   "metadata": {},
   "outputs": [],
   "source": [
    "selecter_model = selecter_basemodel\n",
    "selected_data = selecter(selected_data,y,selecter_model,n_features_to_select=45 , step=1)\n",
    "CI_model = CI_basemodel\n",
    "CI_analyse(selected_data,y,CI_model,modeltype=modeltype,record=record,plotname = plotname)"
   ]
  },
  {
   "cell_type": "code",
   "execution_count": null,
   "id": "e1c9748a",
   "metadata": {},
   "outputs": [],
   "source": [
    "selecter_model = selecter_basemodel\n",
    "selected_data = selecter(selected_data,y,selecter_model,n_features_to_select=40 , step=1)\n",
    "CI_model = CI_basemodel\n",
    "CI_analyse(selected_data,y,CI_model,modeltype=modeltype,record=record,plotname = plotname)"
   ]
  },
  {
   "cell_type": "code",
   "execution_count": null,
   "id": "7ed3b17c",
   "metadata": {},
   "outputs": [],
   "source": [
    "selecter_model = selecter_basemodel\n",
    "selected_data = selecter(selected_data,y,selecter_model,n_features_to_select=35 , step=1)\n",
    "CI_model = CI_basemodel\n",
    "CI_analyse(selected_data,y,CI_model,modeltype=modeltype,record=record,plotname = plotname)"
   ]
  },
  {
   "cell_type": "code",
   "execution_count": null,
   "id": "16109247",
   "metadata": {},
   "outputs": [],
   "source": [
    "selecter_model = selecter_basemodel\n",
    "selected_data = selecter(selected_data,y,selecter_model,n_features_to_select=30 , step=1)\n",
    "CI_model = CI_basemodel\n",
    "CI_analyse(selected_data,y,CI_model,modeltype=modeltype,record=record,plotname = plotname)"
   ]
  },
  {
   "cell_type": "code",
   "execution_count": null,
   "id": "81b2dec8",
   "metadata": {},
   "outputs": [],
   "source": [
    "selecter_model = selecter_basemodel\n",
    "selected_data = selecter(selected_data,y,selecter_model,n_features_to_select=25 , step=1)\n",
    "CI_model = CI_basemodel\n",
    "CI_analyse(selected_data,y,CI_model,modeltype=modeltype,record=record,plotname = plotname)"
   ]
  },
  {
   "cell_type": "code",
   "execution_count": null,
   "id": "7fafd3db",
   "metadata": {},
   "outputs": [],
   "source": [
    "selecter_model = selecter_basemodel\n",
    "selected_data = selecter(selected_data,y,selecter_model,n_features_to_select=20 , step=1)\n",
    "CI_model = CI_basemodel\n",
    "CI_analyse(selected_data,y,CI_model,modeltype=modeltype,record=record,plotname = plotname)"
   ]
  },
  {
   "cell_type": "code",
   "execution_count": null,
   "id": "04bc8017",
   "metadata": {},
   "outputs": [],
   "source": [
    "selecter_model = selecter_basemodel\n",
    "selected_data = selecter(selected_data,y,selecter_model,n_features_to_select=15 , step=1)\n",
    "CI_model = CI_basemodel\n",
    "CI_analyse(selected_data,y,CI_model,modeltype=modeltype,record=record,plotname = plotname)"
   ]
  },
  {
   "cell_type": "code",
   "execution_count": null,
   "id": "d9d6fbbd",
   "metadata": {},
   "outputs": [],
   "source": [
    "selecter_model = selecter_basemodel\n",
    "selected_data = selecter(selected_data,y,selecter_model,n_features_to_select=10 , step=1)\n",
    "CI_model = CI_basemodel\n",
    "CI_analyse(selected_data,y,CI_model,modeltype=modeltype,record=record,plotname = plotname)"
   ]
  },
  {
   "cell_type": "markdown",
   "id": "c6050ca4",
   "metadata": {},
   "source": [
    "### F+C+R+S"
   ]
  },
  {
   "cell_type": "code",
   "execution_count": null,
   "id": "2b4c7d14",
   "metadata": {},
   "outputs": [],
   "source": [
    "plotname = folder_path+modeltype+\"_LVO_RFE_F+C+R+S\"\n",
    "target = clinical_after_selection\n",
    "data,y = get_data(clinical,target_ls=target,target_num=target_num,radiomics=selected_radiomics,semantic=selected_semantic,fuse=selected_fuse)"
   ]
  },
  {
   "cell_type": "code",
   "execution_count": null,
   "id": "e9c96327",
   "metadata": {},
   "outputs": [],
   "source": [
    "selecter_model = selecter_basemodel\n",
    "selected_data = selecter(data,y,selecter_model,n_features_to_select=50 , step=150)"
   ]
  },
  {
   "cell_type": "code",
   "execution_count": null,
   "id": "88aab834",
   "metadata": {},
   "outputs": [],
   "source": [
    "selecter_model = selecter_basemodel\n",
    "selected_data = selecter(selected_data,y,selecter_model,n_features_to_select=50 , step=1)\n",
    "CI_model = CI_basemodel\n",
    "CI_analyse(selected_data,y,CI_model,modeltype=modeltype,record=record,plotname = plotname)"
   ]
  },
  {
   "cell_type": "code",
   "execution_count": null,
   "id": "545964fe",
   "metadata": {},
   "outputs": [],
   "source": [
    "selecter_model = selecter_basemodel\n",
    "selected_data = selecter(selected_data,y,selecter_model,n_features_to_select=45 , step=1)\n",
    "CI_model = CI_basemodel\n",
    "CI_analyse(selected_data,y,CI_model,modeltype=modeltype,record=record,plotname = plotname)"
   ]
  },
  {
   "cell_type": "code",
   "execution_count": null,
   "id": "36955c46",
   "metadata": {},
   "outputs": [],
   "source": [
    "selecter_model = selecter_basemodel\n",
    "selected_data = selecter(selected_data,y,selecter_model,n_features_to_select=40 , step=1)\n",
    "CI_model = CI_basemodel\n",
    "CI_analyse(selected_data,y,CI_model,modeltype=modeltype,record=record,plotname = plotname)"
   ]
  },
  {
   "cell_type": "code",
   "execution_count": null,
   "id": "063bf0d1",
   "metadata": {},
   "outputs": [],
   "source": [
    "selecter_model = selecter_basemodel\n",
    "selected_data = selecter(selected_data,y,selecter_model,n_features_to_select=35 , step=1)\n",
    "CI_model = CI_basemodel\n",
    "CI_analyse(selected_data,y,CI_model,modeltype=modeltype,record=record,plotname = plotname)"
   ]
  },
  {
   "cell_type": "code",
   "execution_count": null,
   "id": "2df95c54",
   "metadata": {},
   "outputs": [],
   "source": [
    "selecter_model = selecter_basemodel\n",
    "selected_data = selecter(selected_data,y,selecter_model,n_features_to_select=30 , step=1)\n",
    "CI_model = CI_basemodel\n",
    "CI_analyse(selected_data,y,CI_model,modeltype=modeltype,record=record,plotname = plotname)"
   ]
  },
  {
   "cell_type": "code",
   "execution_count": null,
   "id": "84d41d71",
   "metadata": {},
   "outputs": [],
   "source": [
    "selecter_model = selecter_basemodel\n",
    "selected_data = selecter(selected_data,y,selecter_model,n_features_to_select=25 , step=1)\n",
    "CI_model = CI_basemodel\n",
    "CI_analyse(selected_data,y,CI_model,modeltype=modeltype,record=record,plotname = plotname)"
   ]
  },
  {
   "cell_type": "code",
   "execution_count": null,
   "id": "590bff91",
   "metadata": {},
   "outputs": [],
   "source": [
    "selecter_model = selecter_basemodel\n",
    "selected_data = selecter(selected_data,y,selecter_model,n_features_to_select=20 , step=1)\n",
    "CI_model = CI_basemodel\n",
    "CI_analyse(selected_data,y,CI_model,modeltype=modeltype,record=record,plotname = plotname)"
   ]
  },
  {
   "cell_type": "code",
   "execution_count": null,
   "id": "1316006b",
   "metadata": {},
   "outputs": [],
   "source": [
    "selecter_model = selecter_basemodel\n",
    "selected_data = selecter(selected_data,y,selecter_model,n_features_to_select=15 , step=1)\n",
    "CI_model = CI_basemodel\n",
    "CI_analyse(selected_data,y,CI_model,modeltype=modeltype,record=record,plotname = plotname)"
   ]
  },
  {
   "cell_type": "code",
   "execution_count": null,
   "id": "41117887",
   "metadata": {},
   "outputs": [],
   "source": [
    "selecter_model = selecter_basemodel\n",
    "selected_data = selecter(selected_data,y,selecter_model,n_features_to_select=10 , step=1)\n",
    "CI_model = CI_basemodel\n",
    "CI_analyse(selected_data,y,CI_model,modeltype=modeltype,record=record,plotname = plotname)"
   ]
  },
  {
   "cell_type": "markdown",
   "id": "e8171e06",
   "metadata": {},
   "source": [
    "## T/E"
   ]
  },
  {
   "cell_type": "code",
   "execution_count": null,
   "id": "3be9e397",
   "metadata": {},
   "outputs": [],
   "source": [
    "clinical_target4 = [0,1,2,3,8,11,13,14,15,16,17,18,19,20,21,22,23,24,25,26,27,28,29,30,31,32,33,34,35,36,37,38,39,40,41,42,43,44,45,46,47,48]\n",
    "target_num = 8"
   ]
  },
  {
   "cell_type": "markdown",
   "id": "e1dab2a3",
   "metadata": {},
   "source": [
    "### only C"
   ]
  },
  {
   "cell_type": "code",
   "execution_count": null,
   "id": "55c4cc6b",
   "metadata": {},
   "outputs": [],
   "source": [
    "plotname = folder_path+modeltype+\"_TE_RFE_C\"\n",
    "target = clinical_target4\n",
    "data,y = get_data(clinical,target_ls=target,target_num=target_num)\n",
    "y = (y==\"E\")*1"
   ]
  },
  {
   "cell_type": "code",
   "execution_count": null,
   "id": "5fef86f9",
   "metadata": {},
   "outputs": [],
   "source": [
    "selecter_model = selecter_basemodel\n",
    "selected_data = selecter(selected_data,y,selecter_model,n_features_to_select=40 , step=1)\n",
    "CI_model = CI_basemodel\n",
    "CI_analyse(selected_data,y,CI_model,modeltype=modeltype,record=record,plotname = plotname)"
   ]
  },
  {
   "cell_type": "code",
   "execution_count": null,
   "id": "2977ee6d",
   "metadata": {},
   "outputs": [],
   "source": [
    "selecter_model = selecter_basemodel\n",
    "selected_data = selecter(selected_data,y,selecter_model,n_features_to_select=35 , step=1)\n",
    "CI_model = CI_basemodel\n",
    "CI_analyse(selected_data,y,CI_model,modeltype=modeltype,record=record,plotname = plotname)"
   ]
  },
  {
   "cell_type": "code",
   "execution_count": null,
   "id": "484db829",
   "metadata": {},
   "outputs": [],
   "source": [
    "selecter_model = selecter_basemodel\n",
    "selected_data = selecter(selected_data,y,selecter_model,n_features_to_select=30 , step=1)\n",
    "CI_model = CI_basemodel\n",
    "CI_analyse(selected_data,y,CI_model,modeltype=modeltype,record=record,plotname = plotname)"
   ]
  },
  {
   "cell_type": "code",
   "execution_count": null,
   "id": "2812e150",
   "metadata": {},
   "outputs": [],
   "source": [
    "selecter_model = selecter_basemodel\n",
    "selected_data = selecter(selected_data,y,selecter_model,n_features_to_select=25 , step=1)\n",
    "CI_model = CI_basemodel\n",
    "CI_analyse(selected_data,y,CI_model,modeltype=modeltype,record=record,plotname = plotname)"
   ]
  },
  {
   "cell_type": "code",
   "execution_count": null,
   "id": "99243b0f",
   "metadata": {},
   "outputs": [],
   "source": [
    "selecter_model = selecter_basemodel\n",
    "selected_data = selecter(selected_data,y,selecter_model,n_features_to_select=20 , step=1)\n",
    "CI_model = CI_basemodel\n",
    "CI_analyse(selected_data,y,CI_model,modeltype=modeltype,record=record,plotname = plotname)"
   ]
  },
  {
   "cell_type": "code",
   "execution_count": null,
   "id": "427c4fcd",
   "metadata": {},
   "outputs": [],
   "source": [
    "selecter_model = selecter_basemodel\n",
    "selected_data = selecter(selected_data,y,selecter_model,n_features_to_select=15 , step=1)\n",
    "CI_model = CI_basemodel\n",
    "CI_analyse(selected_data,y,CI_model,modeltype=modeltype,record=record,plotname = plotname)"
   ]
  },
  {
   "cell_type": "code",
   "execution_count": null,
   "id": "713d26cf",
   "metadata": {},
   "outputs": [],
   "source": [
    "selecter_model = selecter_basemodel\n",
    "selected_data = selecter(selected_data,y,selecter_model,n_features_to_select=10 , step=1)\n",
    "CI_model = CI_basemodel\n",
    "CI_analyse(selected_data,y,CI_model,modeltype=modeltype,record=record,plotname = plotname)"
   ]
  },
  {
   "cell_type": "code",
   "execution_count": null,
   "id": "6d3de9e6",
   "metadata": {},
   "outputs": [],
   "source": [
    "imp_feature = pd.concat([pd.Series([\"ID\",\"T/E\"]), pd.Series(selected_data.columns.values)])\n",
    "clinical_after_selection = [clinical.columns.get_loc(label) for label in imp_feature]"
   ]
  },
  {
   "cell_type": "markdown",
   "id": "3446c1c4",
   "metadata": {},
   "source": [
    "### only R"
   ]
  },
  {
   "cell_type": "code",
   "execution_count": null,
   "id": "543b4372",
   "metadata": {},
   "outputs": [],
   "source": [
    "plotname = folder_path+modeltype+\"_TE_RFE_R\"\n",
    "target = [0,target_num]\n",
    "data,y = get_data(clinical,target_ls=target,target_num=target_num,radiomics=radiomics)\n",
    "y = (y==\"E\")*1"
   ]
  },
  {
   "cell_type": "code",
   "execution_count": null,
   "id": "b6281e03",
   "metadata": {},
   "outputs": [],
   "source": [
    "selecter_model = selecter_basemodel\n",
    "selected_data = selecter(data,y,selecter_model,n_features_to_select=950 , step=2000)\n",
    "selecter_model = selecter_basemodel\n",
    "selected_data = selecter(selected_data,y,selecter_model,n_features_to_select=50 , step=150)"
   ]
  },
  {
   "cell_type": "code",
   "execution_count": null,
   "id": "99671640",
   "metadata": {},
   "outputs": [],
   "source": [
    "selecter_model = selecter_basemodel\n",
    "selected_data = selecter(selected_data,y,selecter_model,n_features_to_select=50 , step=1)\n",
    "CI_model = CI_basemodel\n",
    "CI_analyse(selected_data,y,CI_model,modeltype=modeltype,record=record,plotname = plotname)"
   ]
  },
  {
   "cell_type": "code",
   "execution_count": null,
   "id": "0ee2110a",
   "metadata": {},
   "outputs": [],
   "source": [
    "selecter_model = selecter_basemodel\n",
    "selected_data = selecter(selected_data,y,selecter_model,n_features_to_select=45 , step=1)\n",
    "CI_model = CI_basemodel\n",
    "CI_analyse(selected_data,y,CI_model,modeltype=modeltype,record=record,plotname = plotname)"
   ]
  },
  {
   "cell_type": "code",
   "execution_count": null,
   "id": "ae6284c2",
   "metadata": {},
   "outputs": [],
   "source": [
    "selecter_model = selecter_basemodel\n",
    "selected_data = selecter(selected_data,y,selecter_model,n_features_to_select=40 , step=1)\n",
    "CI_model = CI_basemodel\n",
    "CI_analyse(selected_data,y,CI_model,modeltype=modeltype,record=record,plotname = plotname)"
   ]
  },
  {
   "cell_type": "code",
   "execution_count": null,
   "id": "09b0c8e0",
   "metadata": {},
   "outputs": [],
   "source": [
    "selecter_model = selecter_basemodel\n",
    "selected_data = selecter(selected_data,y,selecter_model,n_features_to_select=35 , step=1)\n",
    "CI_model = CI_basemodel\n",
    "CI_analyse(selected_data,y,CI_model,modeltype=modeltype,record=record,plotname = plotname)"
   ]
  },
  {
   "cell_type": "code",
   "execution_count": null,
   "id": "cb25d966",
   "metadata": {},
   "outputs": [],
   "source": [
    "selecter_model = selecter_basemodel\n",
    "selected_data = selecter(selected_data,y,selecter_model,n_features_to_select=30 , step=1)\n",
    "CI_model = CI_basemodel\n",
    "CI_analyse(selected_data,y,CI_model,modeltype=modeltype,record=record,plotname = plotname)"
   ]
  },
  {
   "cell_type": "code",
   "execution_count": null,
   "id": "e5a6bec9",
   "metadata": {},
   "outputs": [],
   "source": [
    "selecter_model = selecter_basemodel\n",
    "selected_data = selecter(selected_data,y,selecter_model,n_features_to_select=25 , step=1)\n",
    "CI_model = CI_basemodel\n",
    "CI_analyse(selected_data,y,CI_model,modeltype=modeltype,record=record,plotname = plotname)"
   ]
  },
  {
   "cell_type": "code",
   "execution_count": null,
   "id": "756f0a9b",
   "metadata": {},
   "outputs": [],
   "source": [
    "selecter_model = selecter_basemodel\n",
    "selected_data = selecter(selected_data,y,selecter_model,n_features_to_select=20 , step=1)\n",
    "CI_model = CI_basemodel\n",
    "CI_analyse(selected_data,y,CI_model,modeltype=modeltype,record=record,plotname = plotname)"
   ]
  },
  {
   "cell_type": "code",
   "execution_count": null,
   "id": "75e26b11",
   "metadata": {},
   "outputs": [],
   "source": [
    "selecter_model = selecter_basemodel\n",
    "selected_data = selecter(selected_data,y,selecter_model,n_features_to_select=15 , step=1)\n",
    "CI_model = CI_basemodel\n",
    "CI_analyse(selected_data,y,CI_model,modeltype=modeltype,record=record,plotname = plotname)"
   ]
  },
  {
   "cell_type": "code",
   "execution_count": null,
   "id": "17a32f48",
   "metadata": {},
   "outputs": [],
   "source": [
    "selecter_model = selecter_basemodel\n",
    "selected_data = selecter(selected_data,y,selecter_model,n_features_to_select=10 , step=1)\n",
    "CI_model = CI_basemodel\n",
    "CI_analyse(selected_data,y,CI_model,modeltype=modeltype,record=record,plotname = plotname)"
   ]
  },
  {
   "cell_type": "code",
   "execution_count": null,
   "id": "244b18eb",
   "metadata": {},
   "outputs": [],
   "source": [
    "imp_feature = pd.concat([pd.Series([\"ID\"]), pd.Series(selected_data.columns.values)])\n",
    "selected_radiomics = radiomics[imp_feature]"
   ]
  },
  {
   "cell_type": "markdown",
   "id": "bee19b6a",
   "metadata": {},
   "source": [
    "### only S"
   ]
  },
  {
   "cell_type": "code",
   "execution_count": null,
   "id": "8277a533",
   "metadata": {},
   "outputs": [],
   "source": [
    "plotname = folder_path+modeltype+\"_TE_RFE_S\"\n",
    "target = [0,target_num]\n",
    "data,y = get_data(clinical,target_ls=target,target_num=target_num,semantic=semantic)\n",
    "y = (y==\"E\")*1"
   ]
  },
  {
   "cell_type": "code",
   "execution_count": null,
   "id": "2a58b65b",
   "metadata": {},
   "outputs": [],
   "source": [
    "selecter_model = selecter_basemodel\n",
    "selected_data = selecter(data,y,selecter_model,n_features_to_select=950 , step=2000)\n",
    "selecter_model = selecter_basemodel\n",
    "selected_data = selecter(selected_data,y,selecter_model,n_features_to_select=50 , step=150)"
   ]
  },
  {
   "cell_type": "code",
   "execution_count": null,
   "id": "6f8c9cc3",
   "metadata": {},
   "outputs": [],
   "source": [
    "selecter_model = selecter_basemodel\n",
    "selected_data = selecter(selected_data,y,selecter_model,n_features_to_select=50 , step=1)\n",
    "CI_model = CI_basemodel\n",
    "CI_analyse(selected_data,y,CI_model,modeltype=modeltype,record=record,plotname = plotname)"
   ]
  },
  {
   "cell_type": "code",
   "execution_count": null,
   "id": "807794c0",
   "metadata": {},
   "outputs": [],
   "source": [
    "selecter_model = selecter_basemodel\n",
    "selected_data = selecter(selected_data,y,selecter_model,n_features_to_select=45 , step=1)\n",
    "CI_model = CI_basemodel\n",
    "CI_analyse(selected_data,y,CI_model,modeltype=modeltype,record=record,plotname = plotname)"
   ]
  },
  {
   "cell_type": "code",
   "execution_count": null,
   "id": "5cf0e77c",
   "metadata": {},
   "outputs": [],
   "source": [
    "selecter_model = selecter_basemodel\n",
    "selected_data = selecter(selected_data,y,selecter_model,n_features_to_select=40 , step=1)\n",
    "CI_model = CI_basemodel\n",
    "CI_analyse(selected_data,y,CI_model,modeltype=modeltype,record=record,plotname = plotname)"
   ]
  },
  {
   "cell_type": "code",
   "execution_count": null,
   "id": "9cf85cc6",
   "metadata": {},
   "outputs": [],
   "source": [
    "selecter_model = selecter_basemodel\n",
    "selected_data = selecter(selected_data,y,selecter_model,n_features_to_select=35 , step=1)\n",
    "CI_model = CI_basemodel\n",
    "CI_analyse(selected_data,y,CI_model,modeltype=modeltype,record=record,plotname = plotname)"
   ]
  },
  {
   "cell_type": "code",
   "execution_count": null,
   "id": "a27555fb",
   "metadata": {},
   "outputs": [],
   "source": [
    "selecter_model = selecter_basemodel\n",
    "selected_data = selecter(selected_data,y,selecter_model,n_features_to_select=30 , step=1)\n",
    "CI_model = CI_basemodel\n",
    "CI_analyse(selected_data,y,CI_model,modeltype=modeltype,record=record,plotname = plotname)"
   ]
  },
  {
   "cell_type": "code",
   "execution_count": null,
   "id": "8c047190",
   "metadata": {},
   "outputs": [],
   "source": [
    "selecter_model = selecter_basemodel\n",
    "selected_data = selecter(selected_data,y,selecter_model,n_features_to_select=25 , step=1)\n",
    "CI_model = CI_basemodel\n",
    "CI_analyse(selected_data,y,CI_model,modeltype=modeltype,record=record,plotname = plotname)"
   ]
  },
  {
   "cell_type": "code",
   "execution_count": null,
   "id": "0e687878",
   "metadata": {},
   "outputs": [],
   "source": [
    "selecter_model = selecter_basemodel\n",
    "selected_data = selecter(selected_data,y,selecter_model,n_features_to_select=20 , step=1)\n",
    "CI_model = CI_basemodel\n",
    "CI_analyse(selected_data,y,CI_model,modeltype=modeltype,record=record,plotname = plotname)"
   ]
  },
  {
   "cell_type": "code",
   "execution_count": null,
   "id": "b2360bd5",
   "metadata": {},
   "outputs": [],
   "source": [
    "selecter_model = selecter_basemodel\n",
    "selected_data = selecter(selected_data,y,selecter_model,n_features_to_select=15 , step=1)\n",
    "CI_model = CI_basemodel\n",
    "CI_analyse(selected_data,y,CI_model,modeltype=modeltype,record=record,plotname = plotname)"
   ]
  },
  {
   "cell_type": "code",
   "execution_count": null,
   "id": "f8dcf938",
   "metadata": {},
   "outputs": [],
   "source": [
    "selecter_model = selecter_basemodel\n",
    "selected_data = selecter(selected_data,y,selecter_model,n_features_to_select=10 , step=1)\n",
    "CI_model = CI_basemodel\n",
    "CI_analyse(selected_data,y,CI_model,modeltype=modeltype,record=record,plotname = plotname)"
   ]
  },
  {
   "cell_type": "code",
   "execution_count": null,
   "id": "f9c678e2",
   "metadata": {},
   "outputs": [],
   "source": [
    "imp_feature = pd.concat([pd.Series([\"ID\"]), pd.Series(selected_data.columns.values)])\n",
    "selected_semantic = semantic[imp_feature]"
   ]
  },
  {
   "cell_type": "markdown",
   "id": "9ece354b",
   "metadata": {},
   "source": [
    "### only F"
   ]
  },
  {
   "cell_type": "code",
   "execution_count": null,
   "id": "abf01fbd",
   "metadata": {},
   "outputs": [],
   "source": [
    "plotname = folder_path+modeltype+\"_TE_RFE_F\"\n",
    "target = [0,target_num]\n",
    "data,y = get_data(clinical,target_ls=target,target_num=target_num,fuse=fuse)\n",
    "y = (y==\"E\")*1"
   ]
  },
  {
   "cell_type": "code",
   "execution_count": null,
   "id": "094c508f",
   "metadata": {},
   "outputs": [],
   "source": [
    "selecter_model = selecter_basemodel\n",
    "selected_data = selecter(data,y,selecter_model,n_features_to_select=10000 , step=40000)\n",
    "selecter_model = selecter_basemodel\n",
    "selected_data = selecter(selected_data,y,selecter_model,n_features_to_select=950 , step=2000)\n",
    "selecter_model = selecter_basemodel\n",
    "selected_data = selecter(selected_data,y,selecter_model,n_features_to_select=50 , step=150)"
   ]
  },
  {
   "cell_type": "code",
   "execution_count": null,
   "id": "f6d5e7f6",
   "metadata": {},
   "outputs": [],
   "source": [
    "selecter_model = selecter_basemodel\n",
    "selected_data = selecter(selected_data,y,selecter_model,n_features_to_select=50 , step=1)\n",
    "CI_model = CI_basemodel\n",
    "CI_analyse(selected_data,y,CI_model,modeltype=modeltype,record=record,plotname = plotname)"
   ]
  },
  {
   "cell_type": "code",
   "execution_count": null,
   "id": "a1fe82bb",
   "metadata": {},
   "outputs": [],
   "source": [
    "selecter_model = selecter_basemodel\n",
    "selected_data = selecter(selected_data,y,selecter_model,n_features_to_select=45 , step=1)\n",
    "CI_model = CI_basemodel\n",
    "CI_analyse(selected_data,y,CI_model,modeltype=modeltype,record=record,plotname = plotname)"
   ]
  },
  {
   "cell_type": "code",
   "execution_count": null,
   "id": "1c1b5062",
   "metadata": {},
   "outputs": [],
   "source": [
    "selecter_model = selecter_basemodel\n",
    "selected_data = selecter(selected_data,y,selecter_model,n_features_to_select=40 , step=1)\n",
    "CI_model = CI_basemodel\n",
    "CI_analyse(selected_data,y,CI_model,modeltype=modeltype,record=record,plotname = plotname)"
   ]
  },
  {
   "cell_type": "code",
   "execution_count": null,
   "id": "dd342e48",
   "metadata": {},
   "outputs": [],
   "source": [
    "selecter_model = selecter_basemodel\n",
    "selected_data = selecter(selected_data,y,selecter_model,n_features_to_select=35 , step=1)\n",
    "CI_model = CI_basemodel\n",
    "CI_analyse(selected_data,y,CI_model,modeltype=modeltype,record=record,plotname = plotname)"
   ]
  },
  {
   "cell_type": "code",
   "execution_count": null,
   "id": "e23dc0de",
   "metadata": {},
   "outputs": [],
   "source": [
    "selecter_model = selecter_basemodel\n",
    "selected_data = selecter(selected_data,y,selecter_model,n_features_to_select=30 , step=1)\n",
    "CI_model = CI_basemodel\n",
    "CI_analyse(selected_data,y,CI_model,modeltype=modeltype,record=record,plotname = plotname)"
   ]
  },
  {
   "cell_type": "code",
   "execution_count": null,
   "id": "1bb78cd7",
   "metadata": {},
   "outputs": [],
   "source": [
    "selecter_model = selecter_basemodel\n",
    "selected_data = selecter(selected_data,y,selecter_model,n_features_to_select=25 , step=1)\n",
    "CI_model = CI_basemodel\n",
    "CI_analyse(selected_data,y,CI_model,modeltype=modeltype,record=record,plotname = plotname)"
   ]
  },
  {
   "cell_type": "code",
   "execution_count": null,
   "id": "c7d07fe7",
   "metadata": {},
   "outputs": [],
   "source": [
    "selecter_model = selecter_basemodel\n",
    "selected_data = selecter(selected_data,y,selecter_model,n_features_to_select=20 , step=1)\n",
    "CI_model = CI_basemodel\n",
    "CI_analyse(selected_data,y,CI_model,modeltype=modeltype,record=record,plotname = plotname)"
   ]
  },
  {
   "cell_type": "code",
   "execution_count": null,
   "id": "b495abd7",
   "metadata": {},
   "outputs": [],
   "source": [
    "selecter_model = selecter_basemodel\n",
    "selected_data = selecter(selected_data,y,selecter_model,n_features_to_select=15 , step=1)\n",
    "CI_model = CI_basemodel\n",
    "CI_analyse(selected_data,y,CI_model,modeltype=modeltype,record=record,plotname = plotname)"
   ]
  },
  {
   "cell_type": "code",
   "execution_count": null,
   "id": "e181df1a",
   "metadata": {},
   "outputs": [],
   "source": [
    "selecter_model = selecter_basemodel\n",
    "selected_data = selecter(selected_data,y,selecter_model,n_features_to_select=10 , step=1)\n",
    "CI_model = CI_basemodel\n",
    "CI_analyse(selected_data,y,CI_model,modeltype=modeltype,record=record,plotname = plotname)"
   ]
  },
  {
   "cell_type": "code",
   "execution_count": null,
   "id": "2d4f9c13",
   "metadata": {},
   "outputs": [],
   "source": [
    "imp_feature = pd.concat([pd.Series([\"ID\"]), pd.Series(selected_data.columns.values)])\n",
    "selected_fuse = fuse[imp_feature]"
   ]
  },
  {
   "cell_type": "markdown",
   "id": "fd1caa5f",
   "metadata": {},
   "source": [
    "### F+C"
   ]
  },
  {
   "cell_type": "code",
   "execution_count": null,
   "id": "ba0287a5",
   "metadata": {
    "scrolled": true
   },
   "outputs": [],
   "source": [
    "plotname = folder_path+modeltype+\"_TE_RFE_F+C\"\n",
    "target = clinical_after_selection\n",
    "data,y = get_data(clinical,target_ls=target,target_num=target_num,fuse=selected_fuse)\n",
    "y = (y==\"E\")*1"
   ]
  },
  {
   "cell_type": "code",
   "execution_count": null,
   "id": "694278d3",
   "metadata": {},
   "outputs": [],
   "source": [
    "selecter_model = selecter_basemodel\n",
    "selected_data = selecter(data,y,selecter_model,n_features_to_select=50 , step=150)"
   ]
  },
  {
   "cell_type": "code",
   "execution_count": null,
   "id": "ed7ecb51",
   "metadata": {},
   "outputs": [],
   "source": [
    "selecter_model = selecter_basemodel\n",
    "selected_data = selecter(selected_data,y,selecter_model,n_features_to_select=50 , step=1)\n",
    "CI_model = CI_basemodel\n",
    "CI_analyse(selected_data,y,CI_model,modeltype=modeltype,record=record,plotname = plotname)"
   ]
  },
  {
   "cell_type": "code",
   "execution_count": null,
   "id": "bdc160cf",
   "metadata": {},
   "outputs": [],
   "source": [
    "selecter_model = selecter_basemodel\n",
    "selected_data = selecter(selected_data,y,selecter_model,n_features_to_select=45 , step=1)\n",
    "CI_model = CI_basemodel\n",
    "CI_analyse(selected_data,y,CI_model,modeltype=modeltype,record=record,plotname = plotname)"
   ]
  },
  {
   "cell_type": "code",
   "execution_count": null,
   "id": "1229f97a",
   "metadata": {},
   "outputs": [],
   "source": [
    "selecter_model = selecter_basemodel\n",
    "selected_data = selecter(selected_data,y,selecter_model,n_features_to_select=40 , step=1)\n",
    "CI_model = CI_basemodel\n",
    "CI_analyse(selected_data,y,CI_model,modeltype=modeltype,record=record,plotname = plotname)"
   ]
  },
  {
   "cell_type": "code",
   "execution_count": null,
   "id": "a969a479",
   "metadata": {},
   "outputs": [],
   "source": [
    "selecter_model = selecter_basemodel\n",
    "selected_data = selecter(selected_data,y,selecter_model,n_features_to_select=35 , step=1)\n",
    "CI_model = CI_basemodel\n",
    "CI_analyse(selected_data,y,CI_model,modeltype=modeltype,record=record,plotname = plotname)"
   ]
  },
  {
   "cell_type": "code",
   "execution_count": null,
   "id": "8d193c6c",
   "metadata": {},
   "outputs": [],
   "source": [
    "selecter_model = selecter_basemodel\n",
    "selected_data = selecter(selected_data,y,selecter_model,n_features_to_select=30 , step=1)\n",
    "CI_model = CI_basemodel\n",
    "CI_analyse(selected_data,y,CI_model,modeltype=modeltype,record=record,plotname = plotname)"
   ]
  },
  {
   "cell_type": "code",
   "execution_count": null,
   "id": "d3c1b0da",
   "metadata": {},
   "outputs": [],
   "source": [
    "selecter_model = selecter_basemodel\n",
    "selected_data = selecter(selected_data,y,selecter_model,n_features_to_select=25 , step=1)\n",
    "CI_model = CI_basemodel\n",
    "CI_analyse(selected_data,y,CI_model,modeltype=modeltype,record=record,plotname = plotname)"
   ]
  },
  {
   "cell_type": "code",
   "execution_count": null,
   "id": "0fc19dd5",
   "metadata": {},
   "outputs": [],
   "source": [
    "selecter_model = selecter_basemodel\n",
    "selected_data = selecter(selected_data,y,selecter_model,n_features_to_select=20 , step=1)\n",
    "CI_model = CI_basemodel\n",
    "CI_analyse(selected_data,y,CI_model,modeltype=modeltype,record=record,plotname = plotname)"
   ]
  },
  {
   "cell_type": "code",
   "execution_count": null,
   "id": "eb119982",
   "metadata": {},
   "outputs": [],
   "source": [
    "selecter_model = selecter_basemodel\n",
    "selected_data = selecter(selected_data,y,selecter_model,n_features_to_select=15 , step=1)\n",
    "CI_model = CI_basemodel\n",
    "CI_analyse(selected_data,y,CI_model,modeltype=modeltype,record=record,plotname = plotname)"
   ]
  },
  {
   "cell_type": "code",
   "execution_count": null,
   "id": "5f3c232b",
   "metadata": {},
   "outputs": [],
   "source": [
    "selecter_model = selecter_basemodel\n",
    "selected_data = selecter(selected_data,y,selecter_model,n_features_to_select=10 , step=1)\n",
    "CI_model = CI_basemodel\n",
    "CI_analyse(selected_data,y,CI_model,modeltype=modeltype,record=record,plotname = plotname)"
   ]
  },
  {
   "cell_type": "markdown",
   "id": "78e96c50",
   "metadata": {},
   "source": [
    "### F+R"
   ]
  },
  {
   "cell_type": "code",
   "execution_count": null,
   "id": "d8b8bd38",
   "metadata": {
    "scrolled": true
   },
   "outputs": [],
   "source": [
    "plotname = folder_path+modeltype+\"_TE_RFE_F+R\"\n",
    "target = [0,target_num]\n",
    "data,y = get_data(clinical,target_ls=target,target_num=target_num,radiomics=selected_radiomics,fuse=selected_fuse)\n",
    "y = (y==\"E\")*1"
   ]
  },
  {
   "cell_type": "code",
   "execution_count": null,
   "id": "cfa1112a",
   "metadata": {},
   "outputs": [],
   "source": [
    "selecter_model = selecter_basemodel\n",
    "selected_data = selecter(data,y,selecter_model,n_features_to_select=50 , step=150)"
   ]
  },
  {
   "cell_type": "code",
   "execution_count": null,
   "id": "da0106a9",
   "metadata": {},
   "outputs": [],
   "source": [
    "selecter_model = selecter_basemodel\n",
    "selected_data = selecter(selected_data,y,selecter_model,n_features_to_select=50 , step=1)\n",
    "CI_model = CI_basemodel\n",
    "CI_analyse(selected_data,y,CI_model,modeltype=modeltype,record=record,plotname = plotname)"
   ]
  },
  {
   "cell_type": "code",
   "execution_count": null,
   "id": "974acb56",
   "metadata": {},
   "outputs": [],
   "source": [
    "selecter_model = selecter_basemodel\n",
    "selected_data = selecter(selected_data,y,selecter_model,n_features_to_select=45 , step=1)\n",
    "CI_model = CI_basemodel\n",
    "CI_analyse(selected_data,y,CI_model,modeltype=modeltype,record=record,plotname = plotname)"
   ]
  },
  {
   "cell_type": "code",
   "execution_count": null,
   "id": "ec377a10",
   "metadata": {},
   "outputs": [],
   "source": [
    "selecter_model = selecter_basemodel\n",
    "selected_data = selecter(selected_data,y,selecter_model,n_features_to_select=40 , step=1)\n",
    "CI_model = CI_basemodel\n",
    "CI_analyse(selected_data,y,CI_model,modeltype=modeltype,record=record,plotname = plotname)"
   ]
  },
  {
   "cell_type": "code",
   "execution_count": null,
   "id": "1ff8f529",
   "metadata": {},
   "outputs": [],
   "source": [
    "selecter_model = selecter_basemodel\n",
    "selected_data = selecter(selected_data,y,selecter_model,n_features_to_select=35 , step=1)\n",
    "CI_model = CI_basemodel\n",
    "CI_analyse(selected_data,y,CI_model,modeltype=modeltype,record=record,plotname = plotname)"
   ]
  },
  {
   "cell_type": "code",
   "execution_count": null,
   "id": "fd01d240",
   "metadata": {},
   "outputs": [],
   "source": [
    "selecter_model = selecter_basemodel\n",
    "selected_data = selecter(selected_data,y,selecter_model,n_features_to_select=30 , step=1)\n",
    "CI_model = CI_basemodel\n",
    "CI_analyse(selected_data,y,CI_model,modeltype=modeltype,record=record,plotname = plotname)"
   ]
  },
  {
   "cell_type": "code",
   "execution_count": null,
   "id": "4ed79250",
   "metadata": {},
   "outputs": [],
   "source": [
    "selecter_model = selecter_basemodel\n",
    "selected_data = selecter(selected_data,y,selecter_model,n_features_to_select=25 , step=1)\n",
    "CI_model = CI_basemodel\n",
    "CI_analyse(selected_data,y,CI_model,modeltype=modeltype,record=record,plotname = plotname)"
   ]
  },
  {
   "cell_type": "code",
   "execution_count": null,
   "id": "23f01e19",
   "metadata": {},
   "outputs": [],
   "source": [
    "selecter_model = selecter_basemodel\n",
    "selected_data = selecter(selected_data,y,selecter_model,n_features_to_select=20 , step=1)\n",
    "CI_model = CI_basemodel\n",
    "CI_analyse(selected_data,y,CI_model,modeltype=modeltype,record=record,plotname = plotname)"
   ]
  },
  {
   "cell_type": "code",
   "execution_count": null,
   "id": "69a8293d",
   "metadata": {},
   "outputs": [],
   "source": [
    "selecter_model = selecter_basemodel\n",
    "selected_data = selecter(selected_data,y,selecter_model,n_features_to_select=15 , step=1)\n",
    "CI_model = CI_basemodel\n",
    "CI_analyse(selected_data,y,CI_model,modeltype=modeltype,record=record,plotname = plotname)"
   ]
  },
  {
   "cell_type": "code",
   "execution_count": null,
   "id": "47a573be",
   "metadata": {},
   "outputs": [],
   "source": [
    "selecter_model = selecter_basemodel\n",
    "selected_data = selecter(selected_data,y,selecter_model,n_features_to_select=10 , step=1)\n",
    "CI_model = CI_basemodel\n",
    "CI_analyse(selected_data,y,CI_model,modeltype=modeltype,record=record,plotname = plotname)"
   ]
  },
  {
   "cell_type": "markdown",
   "id": "c4664d1e",
   "metadata": {},
   "source": [
    "## F+S"
   ]
  },
  {
   "cell_type": "code",
   "execution_count": null,
   "id": "94f4cb52",
   "metadata": {
    "scrolled": true
   },
   "outputs": [],
   "source": [
    "plotname = folder_path+modeltype+\"_TE_RFE_F+S\"\n",
    "target = [0,target_num]\n",
    "data,y = get_data(clinical,target_ls=target,target_num=target_num,fuse=selected_fuse,semantic=selected_semantic)\n",
    "y = (y==\"E\")*1"
   ]
  },
  {
   "cell_type": "code",
   "execution_count": null,
   "id": "34152704",
   "metadata": {},
   "outputs": [],
   "source": [
    "selecter_model = selecter_basemodel\n",
    "selected_data = selecter(data,y,selecter_model,n_features_to_select=50 , step=150)"
   ]
  },
  {
   "cell_type": "code",
   "execution_count": null,
   "id": "453e5a09",
   "metadata": {},
   "outputs": [],
   "source": [
    "selecter_model = selecter_basemodel\n",
    "selected_data = selecter(selected_data,y,selecter_model,n_features_to_select=50 , step=1)\n",
    "CI_model = CI_basemodel\n",
    "CI_analyse(selected_data,y,CI_model,modeltype=modeltype,record=record,plotname = plotname)"
   ]
  },
  {
   "cell_type": "code",
   "execution_count": null,
   "id": "dddefe58",
   "metadata": {},
   "outputs": [],
   "source": [
    "selecter_model = selecter_basemodel\n",
    "selected_data = selecter(selected_data,y,selecter_model,n_features_to_select=45 , step=1)\n",
    "CI_model = CI_basemodel\n",
    "CI_analyse(selected_data,y,CI_model,modeltype=modeltype,record=record,plotname = plotname)"
   ]
  },
  {
   "cell_type": "code",
   "execution_count": null,
   "id": "9286c9b8",
   "metadata": {},
   "outputs": [],
   "source": [
    "selecter_model = selecter_basemodel\n",
    "selected_data = selecter(selected_data,y,selecter_model,n_features_to_select=40 , step=1)\n",
    "CI_model = CI_basemodel\n",
    "CI_analyse(selected_data,y,CI_model,modeltype=modeltype,record=record,plotname = plotname)"
   ]
  },
  {
   "cell_type": "code",
   "execution_count": null,
   "id": "9ebae1f6",
   "metadata": {},
   "outputs": [],
   "source": [
    "selecter_model = selecter_basemodel\n",
    "selected_data = selecter(selected_data,y,selecter_model,n_features_to_select=35 , step=1)\n",
    "CI_model = CI_basemodel\n",
    "CI_analyse(selected_data,y,CI_model,modeltype=modeltype,record=record,plotname = plotname)"
   ]
  },
  {
   "cell_type": "code",
   "execution_count": null,
   "id": "756fd69b",
   "metadata": {},
   "outputs": [],
   "source": [
    "selecter_model = selecter_basemodel\n",
    "selected_data = selecter(selected_data,y,selecter_model,n_features_to_select=30 , step=1)\n",
    "CI_model = CI_basemodel\n",
    "CI_analyse(selected_data,y,CI_model,modeltype=modeltype,record=record,plotname = plotname)"
   ]
  },
  {
   "cell_type": "code",
   "execution_count": null,
   "id": "9c0e5bf7",
   "metadata": {},
   "outputs": [],
   "source": [
    "selecter_model = selecter_basemodel\n",
    "selected_data = selecter(selected_data,y,selecter_model,n_features_to_select=25 , step=1)\n",
    "CI_model = CI_basemodel\n",
    "CI_analyse(selected_data,y,CI_model,modeltype=modeltype,record=record,plotname = plotname)"
   ]
  },
  {
   "cell_type": "code",
   "execution_count": null,
   "id": "7ea8dc30",
   "metadata": {},
   "outputs": [],
   "source": [
    "selecter_model = selecter_basemodel\n",
    "selected_data = selecter(selected_data,y,selecter_model,n_features_to_select=20 , step=1)\n",
    "CI_model = CI_basemodel\n",
    "CI_analyse(selected_data,y,CI_model,modeltype=modeltype,record=record,plotname = plotname)"
   ]
  },
  {
   "cell_type": "code",
   "execution_count": null,
   "id": "770e96f5",
   "metadata": {},
   "outputs": [],
   "source": [
    "selecter_model = selecter_basemodel\n",
    "selected_data = selecter(selected_data,y,selecter_model,n_features_to_select=15 , step=1)\n",
    "CI_model = CI_basemodel\n",
    "CI_analyse(selected_data,y,CI_model,modeltype=modeltype,record=record,plotname = plotname)"
   ]
  },
  {
   "cell_type": "code",
   "execution_count": null,
   "id": "5576ef7c",
   "metadata": {},
   "outputs": [],
   "source": [
    "selecter_model = selecter_basemodel\n",
    "selected_data = selecter(selected_data,y,selecter_model,n_features_to_select=10 , step=1)\n",
    "CI_model = CI_basemodel\n",
    "CI_analyse(selected_data,y,CI_model,modeltype=modeltype,record=record,plotname = plotname)"
   ]
  },
  {
   "cell_type": "markdown",
   "id": "b163cb2d",
   "metadata": {},
   "source": [
    "### F+C+R"
   ]
  },
  {
   "cell_type": "code",
   "execution_count": null,
   "id": "5bb48561",
   "metadata": {},
   "outputs": [],
   "source": [
    "plotname = folder_path+modeltype+\"_TE_RFE_F+C+R\"\n",
    "target = clinical_after_selection\n",
    "data,y = get_data(clinical,target_ls=target,target_num=target_num,radiomics=selected_radiomics,fuse=selected_fuse)\n",
    "y = (y==\"E\")*1"
   ]
  },
  {
   "cell_type": "code",
   "execution_count": null,
   "id": "7ee5d7c5",
   "metadata": {},
   "outputs": [],
   "source": [
    "selecter_model = selecter_basemodel\n",
    "selected_data = selecter(data,y,selecter_model,n_features_to_select=50 , step=150)"
   ]
  },
  {
   "cell_type": "code",
   "execution_count": null,
   "id": "8dbee96c",
   "metadata": {},
   "outputs": [],
   "source": [
    "selecter_model = selecter_basemodel\n",
    "selected_data = selecter(selected_data,y,selecter_model,n_features_to_select=50 , step=1)\n",
    "CI_model = CI_basemodel\n",
    "CI_analyse(selected_data,y,CI_model,modeltype=modeltype,record=record,plotname = plotname)"
   ]
  },
  {
   "cell_type": "code",
   "execution_count": null,
   "id": "30898694",
   "metadata": {},
   "outputs": [],
   "source": [
    "selecter_model = selecter_basemodel\n",
    "selected_data = selecter(selected_data,y,selecter_model,n_features_to_select=45 , step=1)\n",
    "CI_model = CI_basemodel\n",
    "CI_analyse(selected_data,y,CI_model,modeltype=modeltype,record=record,plotname = plotname)"
   ]
  },
  {
   "cell_type": "code",
   "execution_count": null,
   "id": "4e980750",
   "metadata": {},
   "outputs": [],
   "source": [
    "selecter_model = selecter_basemodel\n",
    "selected_data = selecter(selected_data,y,selecter_model,n_features_to_select=40 , step=1)\n",
    "CI_model = CI_basemodel\n",
    "CI_analyse(selected_data,y,CI_model,modeltype=modeltype,record=record,plotname = plotname)"
   ]
  },
  {
   "cell_type": "code",
   "execution_count": null,
   "id": "c9f38943",
   "metadata": {},
   "outputs": [],
   "source": [
    "selecter_model = selecter_basemodel\n",
    "selected_data = selecter(selected_data,y,selecter_model,n_features_to_select=35 , step=1)\n",
    "CI_model = CI_basemodel\n",
    "CI_analyse(selected_data,y,CI_model,modeltype=modeltype,record=record,plotname = plotname)"
   ]
  },
  {
   "cell_type": "code",
   "execution_count": null,
   "id": "db96d14f",
   "metadata": {},
   "outputs": [],
   "source": [
    "selecter_model = selecter_basemodel\n",
    "selected_data = selecter(selected_data,y,selecter_model,n_features_to_select=30 , step=1)\n",
    "CI_model = CI_basemodel\n",
    "CI_analyse(selected_data,y,CI_model,modeltype=modeltype,record=record,plotname = plotname)"
   ]
  },
  {
   "cell_type": "code",
   "execution_count": null,
   "id": "5ec33e6c",
   "metadata": {},
   "outputs": [],
   "source": [
    "selecter_model = selecter_basemodel\n",
    "selected_data = selecter(selected_data,y,selecter_model,n_features_to_select=25 , step=1)\n",
    "CI_model = CI_basemodel\n",
    "CI_analyse(selected_data,y,CI_model,modeltype=modeltype,record=record,plotname = plotname)"
   ]
  },
  {
   "cell_type": "code",
   "execution_count": null,
   "id": "2a6cefda",
   "metadata": {},
   "outputs": [],
   "source": [
    "selecter_model = selecter_basemodel\n",
    "selected_data = selecter(selected_data,y,selecter_model,n_features_to_select=20 , step=1)\n",
    "CI_model = CI_basemodel\n",
    "CI_analyse(selected_data,y,CI_model,modeltype=modeltype,record=record,plotname = plotname)"
   ]
  },
  {
   "cell_type": "code",
   "execution_count": null,
   "id": "a899ca8b",
   "metadata": {},
   "outputs": [],
   "source": [
    "selecter_model = selecter_basemodel\n",
    "selected_data = selecter(selected_data,y,selecter_model,n_features_to_select=15 , step=1)\n",
    "CI_model = CI_basemodel\n",
    "CI_analyse(selected_data,y,CI_model,modeltype=modeltype,record=record,plotname = plotname)"
   ]
  },
  {
   "cell_type": "code",
   "execution_count": null,
   "id": "c1a8ff67",
   "metadata": {},
   "outputs": [],
   "source": [
    "selecter_model = selecter_basemodel\n",
    "selected_data = selecter(selected_data,y,selecter_model,n_features_to_select=10 , step=1)\n",
    "CI_model = CI_basemodel\n",
    "CI_analyse(selected_data,y,CI_model,modeltype=modeltype,record=record,plotname = plotname)"
   ]
  },
  {
   "cell_type": "markdown",
   "id": "43c1677d",
   "metadata": {},
   "source": [
    "### F+C+R+S"
   ]
  },
  {
   "cell_type": "code",
   "execution_count": null,
   "id": "8b145c62",
   "metadata": {},
   "outputs": [],
   "source": [
    "plotname = folder_path+modeltype+\"_TE_RFE_F+C+R+S\"\n",
    "target = clinical_after_selection\n",
    "data,y = get_data(clinical,target_ls=target,target_num=target_num,radiomics=selected_radiomics,semantic=selected_semantic,fuse=selected_fuse)\n",
    "y = (y==\"E\")*1"
   ]
  },
  {
   "cell_type": "code",
   "execution_count": null,
   "id": "22ca1e83",
   "metadata": {},
   "outputs": [],
   "source": [
    "selecter_model = selecter_basemodel\n",
    "selected_data = selecter(data,y,selecter_model,n_features_to_select=50 , step=150)"
   ]
  },
  {
   "cell_type": "code",
   "execution_count": null,
   "id": "f05c7158",
   "metadata": {},
   "outputs": [],
   "source": [
    "selecter_model = selecter_basemodel\n",
    "selected_data = selecter(selected_data,y,selecter_model,n_features_to_select=50 , step=1)\n",
    "CI_model = CI_basemodel\n",
    "CI_analyse(selected_data,y,CI_model,modeltype=modeltype,record=record,plotname = plotname)"
   ]
  },
  {
   "cell_type": "code",
   "execution_count": null,
   "id": "e84fad4f",
   "metadata": {},
   "outputs": [],
   "source": [
    "selecter_model = selecter_basemodel\n",
    "selected_data = selecter(selected_data,y,selecter_model,n_features_to_select=45 , step=1)\n",
    "CI_model = CI_basemodel\n",
    "CI_analyse(selected_data,y,CI_model,modeltype=modeltype,record=record,plotname = plotname)"
   ]
  },
  {
   "cell_type": "code",
   "execution_count": null,
   "id": "5044e8fe",
   "metadata": {},
   "outputs": [],
   "source": [
    "selecter_model = selecter_basemodel\n",
    "selected_data = selecter(selected_data,y,selecter_model,n_features_to_select=40 , step=1)\n",
    "CI_model = CI_basemodel\n",
    "CI_analyse(selected_data,y,CI_model,modeltype=modeltype,record=record,plotname = plotname)"
   ]
  },
  {
   "cell_type": "code",
   "execution_count": null,
   "id": "f8ae0faa",
   "metadata": {},
   "outputs": [],
   "source": [
    "selecter_model = selecter_basemodel\n",
    "selected_data = selecter(selected_data,y,selecter_model,n_features_to_select=35 , step=1)\n",
    "CI_model = CI_basemodel\n",
    "CI_analyse(selected_data,y,CI_model,modeltype=modeltype,record=record,plotname = plotname)"
   ]
  },
  {
   "cell_type": "code",
   "execution_count": null,
   "id": "635cf1e3",
   "metadata": {},
   "outputs": [],
   "source": [
    "selecter_model = selecter_basemodel\n",
    "selected_data = selecter(selected_data,y,selecter_model,n_features_to_select=30 , step=1)\n",
    "CI_model = CI_basemodel\n",
    "CI_analyse(selected_data,y,CI_model,modeltype=modeltype,record=record,plotname = plotname)"
   ]
  },
  {
   "cell_type": "code",
   "execution_count": null,
   "id": "3e7e6230",
   "metadata": {},
   "outputs": [],
   "source": [
    "selecter_model = selecter_basemodel\n",
    "selected_data = selecter(selected_data,y,selecter_model,n_features_to_select=25 , step=1)\n",
    "CI_model = CI_basemodel\n",
    "CI_analyse(selected_data,y,CI_model,modeltype=modeltype,record=record,plotname = plotname)"
   ]
  },
  {
   "cell_type": "code",
   "execution_count": null,
   "id": "8bf6b604",
   "metadata": {},
   "outputs": [],
   "source": [
    "selecter_model = selecter_basemodel\n",
    "selected_data = selecter(selected_data,y,selecter_model,n_features_to_select=20 , step=1)\n",
    "CI_model = CI_basemodel\n",
    "CI_analyse(selected_data,y,CI_model,modeltype=modeltype,record=record,plotname = plotname)"
   ]
  },
  {
   "cell_type": "code",
   "execution_count": null,
   "id": "ac872f4e",
   "metadata": {},
   "outputs": [],
   "source": [
    "selecter_model = selecter_basemodel\n",
    "selected_data = selecter(selected_data,y,selecter_model,n_features_to_select=15 , step=1)\n",
    "CI_model = CI_basemodel\n",
    "CI_analyse(selected_data,y,CI_model,modeltype=modeltype,record=record,plotname = plotname)"
   ]
  },
  {
   "cell_type": "code",
   "execution_count": null,
   "id": "79110b1c",
   "metadata": {},
   "outputs": [],
   "source": [
    "selecter_model = selecter_basemodel\n",
    "selected_data = selecter(selected_data,y,selecter_model,n_features_to_select=10 , step=1)\n",
    "CI_model = CI_basemodel\n",
    "CI_analyse(selected_data,y,CI_model,modeltype=modeltype,record=record,plotname = plotname)"
   ]
  },
  {
   "cell_type": "code",
   "execution_count": null,
   "id": "98095ecb",
   "metadata": {},
   "outputs": [],
   "source": [
    "if record:\n",
    "    record_table.to_csv(csv_folder_path+modeltype+\"_RFE.csv\",index=False)\n",
    "    record_table"
   ]
  }
 ],
 "metadata": {
  "kernelspec": {
   "display_name": "Python 3 (ipykernel)",
   "language": "python",
   "name": "python3"
  },
  "language_info": {
   "codemirror_mode": {
    "name": "ipython",
    "version": 3
   },
   "file_extension": ".py",
   "mimetype": "text/x-python",
   "name": "python",
   "nbconvert_exporter": "python",
   "pygments_lexer": "ipython3",
   "version": "3.7.16"
  }
 },
 "nbformat": 4,
 "nbformat_minor": 5
}
