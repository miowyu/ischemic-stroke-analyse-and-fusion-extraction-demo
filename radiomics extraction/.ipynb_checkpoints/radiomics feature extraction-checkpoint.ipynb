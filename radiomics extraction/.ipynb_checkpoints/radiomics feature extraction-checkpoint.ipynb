{
 "cells": [
  {
   "cell_type": "markdown",
   "id": "dfd49a73",
   "metadata": {},
   "source": [
    "# radiomics feature extration"
   ]
  },
  {
   "cell_type": "code",
   "execution_count": null,
   "id": "872a54fe",
   "metadata": {},
   "outputs": [],
   "source": [
    "import radiomics\n",
    "from radiomics import featureextractor\n",
    "import os\n",
    "import nibabel as nib\n",
    "import numpy as np\n",
    "import pandas as pd"
   ]
  },
  {
   "cell_type": "code",
   "execution_count": null,
   "id": "97abc65a",
   "metadata": {},
   "outputs": [],
   "source": [
    "import logging\n",
    "# close waring from radiomics(it will imporve speed)\n",
    "logger = logging.getLogger(\"radiomics\")\n",
    "logger.setLevel(logging.ERROR)"
   ]
  },
  {
   "cell_type": "code",
   "execution_count": null,
   "id": "14dc931a",
   "metadata": {},
   "outputs": [],
   "source": [
    "file_name = \"./data_final/origin data/\"\n",
    "datalist = os.listdir(file_name)\n",
    "skip = [157]\n",
    "len(datalist)"
   ]
  },
  {
   "cell_type": "code",
   "execution_count": null,
   "id": "7b091a47",
   "metadata": {},
   "outputs": [],
   "source": [
    "extractor = featureextractor.RadiomicsFeatureExtractor(correctMask=True)\n",
    "extractor.enableImageTypeByName(imageType=\"Wavelet\")\n",
    "extractor.enableImageTypeByName(imageType=\"LoG\")\n",
    "extractor.enableImageTypeByName(imageType=\"Square\")\n",
    "extractor.enableImageTypeByName(imageType=\"SquareRoot\")\n",
    "extractor.enableImageTypeByName(imageType=\"Logarithm\")\n",
    "extractor.enableImageTypeByName(imageType=\"Exponential\")\n",
    "extractor.enableImageTypeByName(imageType=\"Gradient\")\n",
    "extractor.enableImageTypeByName(imageType=\"LBP2D\")"
   ]
  },
  {
   "cell_type": "code",
   "execution_count": null,
   "id": "e67bd383",
   "metadata": {
    "scrolled": true
   },
   "outputs": [],
   "source": [
    "imgname = []\n",
    "df = pd.DataFrame()\n",
    "for i in range(len(datalist)):\n",
    "    print(\"now dealing i=\",i,\", name is\",datalist[i])\n",
    "    DWI_name = file_name+datalist[i]+'/DWI.nii.gz'\n",
    "    label_name = file_name+datalist[i]+'/lesion_reorient.nii.gz'\n",
    "    \n",
    "\n",
    "    DWI_nii = nib.load(DWI_name)\n",
    "    DWI_img = np.asarray(DWI_nii.dataobj)\n",
    "    label_nii = nib.load(label_name)\n",
    "    label_img = np.asarray(label_nii.dataobj)\n",
    "    \n",
    "    if(i not in skip):\n",
    "        imgname.append(datalist[i])\n",
    "        features = extractor.execute(DWI_name,label_name)\n",
    "        df_new = pd.DataFrame.from_dict(features.values()).T\n",
    "        df_new.columns = features.keys()\n",
    "        df = pd.concat([df,df_new])\n",
    "    else:\n",
    "        print(datalist[i],\" is skiped.\")\n",
    "df.insert(0, \"ID\", imgname)\n",
    "df"
   ]
  },
  {
   "cell_type": "code",
   "execution_count": null,
   "id": "65c2478d",
   "metadata": {
    "scrolled": false
   },
   "outputs": [],
   "source": [
    "#save features to csv file\n",
    "df.to_csv(\"data_final/0423_radiomic_MNI.csv\",index=False)"
   ]
  }
 ],
 "metadata": {
  "kernelspec": {
   "display_name": "Python 3 (ipykernel)",
   "language": "python",
   "name": "python3"
  },
  "language_info": {
   "codemirror_mode": {
    "name": "ipython",
    "version": 3
   },
   "file_extension": ".py",
   "mimetype": "text/x-python",
   "name": "python",
   "nbconvert_exporter": "python",
   "pygments_lexer": "ipython3",
   "version": "3.7.16"
  }
 },
 "nbformat": 4,
 "nbformat_minor": 5
}
