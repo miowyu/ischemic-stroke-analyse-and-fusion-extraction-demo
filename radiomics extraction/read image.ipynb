{
 "cells": [
  {
   "cell_type": "code",
   "execution_count": 1,
   "id": "9016f642",
   "metadata": {
    "scrolled": true
   },
   "outputs": [],
   "source": [
    "import nibabel as nib\n",
    "import os\n",
    "import numpy as np\n",
    "import pandas as pd"
   ]
  },
  {
   "cell_type": "code",
   "execution_count": 2,
   "id": "7301d665",
   "metadata": {},
   "outputs": [],
   "source": [
    "import matplotlib.pyplot as plt\n",
    "import scipy.ndimage"
   ]
  },
  {
   "cell_type": "code",
   "execution_count": 3,
   "id": "ee27febd",
   "metadata": {},
   "outputs": [],
   "source": [
    "import itk\n",
    "from itkwidgets import view\n",
    "import itkwidgets"
   ]
  },
  {
   "cell_type": "code",
   "execution_count": 11,
   "id": "5d016b7a",
   "metadata": {},
   "outputs": [
    {
     "name": "stdout",
     "output_type": "stream",
     "text": [
      "0 has 2090.0 voxel.\n",
      "1 has 2416.0 voxel.\n",
      "2 has 359.0 voxel.\n",
      "3 has 958.0 voxel.\n",
      "4 has 2343.0 voxel.\n",
      "5 has 367.0 voxel.\n",
      "6 has 23145.0 voxel.\n",
      "7 has 2038.0 voxel.\n",
      "8 has 16.0 voxel.\n",
      "9 has 5053.0 voxel.\n",
      "10 has 3294.0 voxel.\n",
      "11 has 31.0 voxel.\n",
      "12 has 5729.0 voxel.\n",
      "13 has 334.0 voxel.\n",
      "14 has 81.0 voxel.\n",
      "15 has 109.0 voxel.\n",
      "16 has 997.0 voxel.\n",
      "17 has 83.0 voxel.\n",
      "18 has 16322.0 voxel.\n",
      "19 has 86.0 voxel.\n",
      "20 has 4059.0 voxel.\n",
      "21 has 3162.0 voxel.\n",
      "22 has 3612.0 voxel.\n",
      "23 has 4766.0 voxel.\n",
      "24 has 2876.0 voxel.\n",
      "25 has 85.0 voxel.\n",
      "26 has 383.0 voxel.\n",
      "27 has 12065.0 voxel.\n",
      "28 has 92.0 voxel.\n",
      "29 has 166.0 voxel.\n",
      "30 has 64.0 voxel.\n",
      "31 has 37.0 voxel.\n",
      "32 has 157.0 voxel.\n",
      "33 has 277.0 voxel.\n",
      "34 has 2827.0 voxel.\n",
      "35 has 1630.0 voxel.\n",
      "36 has 15604.0 voxel.\n",
      "37 has 400.0 voxel.\n",
      "38 has 44688.0 voxel.\n",
      "39 has 563.0 voxel.\n",
      "40 has 395.0 voxel.\n",
      "41 has 44385.0 voxel.\n",
      "42 has 111.0 voxel.\n",
      "43 has 130.0 voxel.\n",
      "44 has 186.0 voxel.\n",
      "45 has 20305.0 voxel.\n",
      "46 has 1135.0 voxel.\n",
      "47 has 457.0 voxel.\n",
      "48 has 21537.0 voxel.\n",
      "49 has 312.0 voxel.\n",
      "50 has 1075.0 voxel.\n",
      "51 has 766.0 voxel.\n",
      "52 has 116.0 voxel.\n",
      "53 has 37.0 voxel.\n",
      "54 has 170.0 voxel.\n",
      "55 has 2629.0 voxel.\n",
      "56 has 1596.0 voxel.\n",
      "57 has 13092.0 voxel.\n",
      "58 has 169.0 voxel.\n",
      "59 has 3333.0 voxel.\n",
      "60 has 261.0 voxel.\n",
      "61 has 586.0 voxel.\n",
      "62 has 88.0 voxel.\n",
      "63 has 155.0 voxel.\n",
      "64 has 2224.0 voxel.\n",
      "65 has 14.0 voxel.\n",
      "66 has 1533.0 voxel.\n",
      "67 has 2522.0 voxel.\n",
      "68 has 8127.0 voxel.\n",
      "69 has 861.0 voxel.\n",
      "70 has 432.0 voxel.\n",
      "71 has 4628.0 voxel.\n",
      "72 has 6210.0 voxel.\n",
      "73 has 470.0 voxel.\n",
      "74 has 79.0 voxel.\n",
      "75 has 4841.0 voxel.\n",
      "76 has 2764.0 voxel.\n",
      "77 has 245.0 voxel.\n",
      "78 has 3215.0 voxel.\n",
      "79 has 63.0 voxel.\n",
      "80 has 5643.0 voxel.\n",
      "81 has 748.0 voxel.\n",
      "82 has 87.0 voxel.\n",
      "83 has 2211.0 voxel.\n",
      "84 has 116.0 voxel.\n",
      "85 has 75.0 voxel.\n",
      "86 has 147.0 voxel.\n",
      "87 has 657.0 voxel.\n",
      "88 has 2494.0 voxel.\n",
      "89 has 314.0 voxel.\n",
      "90 has 663.0 voxel.\n",
      "91 has 125.0 voxel.\n",
      "92 has 993.0 voxel.\n",
      "93 has 179.0 voxel.\n",
      "94 has 12240.0 voxel.\n",
      "95 has 112.0 voxel.\n",
      "96 has 2106.0 voxel.\n",
      "97 has 6108.0 voxel.\n",
      "98 has 69.0 voxel.\n",
      "99 has 2346.0 voxel.\n",
      "100 has 81.0 voxel.\n",
      "101 has 126.0 voxel.\n",
      "102 has 2481.0 voxel.\n",
      "103 has 364.0 voxel.\n",
      "104 has 2211.0 voxel.\n",
      "105 has 23.0 voxel.\n",
      "106 has 169.0 voxel.\n",
      "107 has 2017.0 voxel.\n",
      "108 has 221.0 voxel.\n",
      "109 has 126.0 voxel.\n",
      "110 has 981.0 voxel.\n",
      "111 has 378.0 voxel.\n",
      "112 has 214.0 voxel.\n",
      "113 has 115.0 voxel.\n",
      "114 has 488.0 voxel.\n"
     ]
    },
    {
     "ename": "FileNotFoundError",
     "evalue": "No such file or no access: './data_final/origin data/note/lesion2MNI.nii.gz'",
     "output_type": "error",
     "traceback": [
      "\u001b[1;31m---------------------------------------------------------------------------\u001b[0m",
      "\u001b[1;31mFileNotFoundError\u001b[0m                         Traceback (most recent call last)",
      "\u001b[1;32m~\\anaconda3\\lib\\site-packages\\nibabel\\loadsave.py\u001b[0m in \u001b[0;36mload\u001b[1;34m(filename, **kwargs)\u001b[0m\n\u001b[0;32m     41\u001b[0m     \u001b[1;32mtry\u001b[0m\u001b[1;33m:\u001b[0m\u001b[1;33m\u001b[0m\u001b[1;33m\u001b[0m\u001b[0m\n\u001b[1;32m---> 42\u001b[1;33m         \u001b[0mstat_result\u001b[0m \u001b[1;33m=\u001b[0m \u001b[0mos\u001b[0m\u001b[1;33m.\u001b[0m\u001b[0mstat\u001b[0m\u001b[1;33m(\u001b[0m\u001b[0mfilename\u001b[0m\u001b[1;33m)\u001b[0m\u001b[1;33m\u001b[0m\u001b[1;33m\u001b[0m\u001b[0m\n\u001b[0m\u001b[0;32m     43\u001b[0m     \u001b[1;32mexcept\u001b[0m \u001b[0mOSError\u001b[0m\u001b[1;33m:\u001b[0m\u001b[1;33m\u001b[0m\u001b[1;33m\u001b[0m\u001b[0m\n",
      "\u001b[1;31mFileNotFoundError\u001b[0m: [WinError 2] 系統找不到指定的檔案。: './data_final/origin data/note/lesion2MNI.nii.gz'",
      "\nDuring handling of the above exception, another exception occurred:\n",
      "\u001b[1;31mFileNotFoundError\u001b[0m                         Traceback (most recent call last)",
      "\u001b[1;32m<ipython-input-11-7862d7934e25>\u001b[0m in \u001b[0;36m<module>\u001b[1;34m\u001b[0m\n\u001b[0;32m      8\u001b[0m \u001b[1;33m\u001b[0m\u001b[0m\n\u001b[0;32m      9\u001b[0m \u001b[1;33m\u001b[0m\u001b[0m\n\u001b[1;32m---> 10\u001b[1;33m     \u001b[0mDWI_nii\u001b[0m \u001b[1;33m=\u001b[0m \u001b[0mnib\u001b[0m\u001b[1;33m.\u001b[0m\u001b[0mload\u001b[0m\u001b[1;33m(\u001b[0m\u001b[0mDWI_name\u001b[0m\u001b[1;33m)\u001b[0m\u001b[1;33m\u001b[0m\u001b[1;33m\u001b[0m\u001b[0m\n\u001b[0m\u001b[0;32m     11\u001b[0m     \u001b[0mDWI_img\u001b[0m \u001b[1;33m=\u001b[0m \u001b[0mnp\u001b[0m\u001b[1;33m.\u001b[0m\u001b[0masarray\u001b[0m\u001b[1;33m(\u001b[0m\u001b[0mDWI_nii\u001b[0m\u001b[1;33m.\u001b[0m\u001b[0mdataobj\u001b[0m\u001b[1;33m)\u001b[0m\u001b[1;33m\u001b[0m\u001b[1;33m\u001b[0m\u001b[0m\n\u001b[0;32m     12\u001b[0m     \u001b[0mprint\u001b[0m\u001b[1;33m(\u001b[0m\u001b[0mi\u001b[0m\u001b[1;33m,\u001b[0m\u001b[1;34m\"has\"\u001b[0m\u001b[1;33m,\u001b[0m\u001b[0mDWI_img\u001b[0m\u001b[1;33m.\u001b[0m\u001b[0msum\u001b[0m\u001b[1;33m(\u001b[0m\u001b[1;33m)\u001b[0m\u001b[1;33m,\u001b[0m\u001b[1;34m\"voxel.\"\u001b[0m\u001b[1;33m)\u001b[0m\u001b[1;33m\u001b[0m\u001b[1;33m\u001b[0m\u001b[0m\n",
      "\u001b[1;32m~\\anaconda3\\lib\\site-packages\\nibabel\\loadsave.py\u001b[0m in \u001b[0;36mload\u001b[1;34m(filename, **kwargs)\u001b[0m\n\u001b[0;32m     42\u001b[0m         \u001b[0mstat_result\u001b[0m \u001b[1;33m=\u001b[0m \u001b[0mos\u001b[0m\u001b[1;33m.\u001b[0m\u001b[0mstat\u001b[0m\u001b[1;33m(\u001b[0m\u001b[0mfilename\u001b[0m\u001b[1;33m)\u001b[0m\u001b[1;33m\u001b[0m\u001b[1;33m\u001b[0m\u001b[0m\n\u001b[0;32m     43\u001b[0m     \u001b[1;32mexcept\u001b[0m \u001b[0mOSError\u001b[0m\u001b[1;33m:\u001b[0m\u001b[1;33m\u001b[0m\u001b[1;33m\u001b[0m\u001b[0m\n\u001b[1;32m---> 44\u001b[1;33m         \u001b[1;32mraise\u001b[0m \u001b[0mFileNotFoundError\u001b[0m\u001b[1;33m(\u001b[0m\u001b[1;34mf\"No such file or no access: '{filename}'\"\u001b[0m\u001b[1;33m)\u001b[0m\u001b[1;33m\u001b[0m\u001b[1;33m\u001b[0m\u001b[0m\n\u001b[0m\u001b[0;32m     45\u001b[0m     \u001b[1;32mif\u001b[0m \u001b[0mstat_result\u001b[0m\u001b[1;33m.\u001b[0m\u001b[0mst_size\u001b[0m \u001b[1;33m<=\u001b[0m \u001b[1;36m0\u001b[0m\u001b[1;33m:\u001b[0m\u001b[1;33m\u001b[0m\u001b[1;33m\u001b[0m\u001b[0m\n\u001b[0;32m     46\u001b[0m         \u001b[1;32mraise\u001b[0m \u001b[0mImageFileError\u001b[0m\u001b[1;33m(\u001b[0m\u001b[1;34mf\"Empty file: '{filename}'\"\u001b[0m\u001b[1;33m)\u001b[0m\u001b[1;33m\u001b[0m\u001b[1;33m\u001b[0m\u001b[0m\n",
      "\u001b[1;31mFileNotFoundError\u001b[0m: No such file or no access: './data_final/origin data/note/lesion2MNI.nii.gz'"
     ]
    }
   ],
   "source": [
    "#讀取患者lesion\n",
    "file_name = \"../data/origin data/\"\n",
    "datalist = os.listdir(file_name)\n",
    "\n",
    "\n",
    "for i in range(len(datalist)):\n",
    "    DWI_name = file_name+datalist[i]+'/lesion2MNI.nii.gz'\n",
    "    \n",
    "\n",
    "    DWI_nii = nib.load(DWI_name)\n",
    "    DWI_img = np.asarray(DWI_nii.dataobj)\n",
    "    print(datalist[i],\"has\",DWI_img.sum(),\"lesion voxel.\")"
   ]
  },
  {
   "cell_type": "code",
   "execution_count": 5,
   "id": "8150a5d9",
   "metadata": {
    "scrolled": false
   },
   "outputs": [
    {
     "name": "stdout",
     "output_type": "stream",
     "text": [
      "(91, 109, 91)\n",
      "170.0\n",
      "1 has 3526 voxel\n",
      "2 has 3381 voxel\n",
      "3 has 4870 voxel\n",
      "4 has 5126 voxel\n",
      "5 has 4507 voxel\n",
      "6 has 4860 voxel\n",
      "7 has 1038 voxel\n",
      "8 has 1399 voxel\n",
      "9 has 2529 voxel\n",
      "10 has 2151 voxel\n",
      "11 has 814 voxel\n",
      "12 has 874 voxel\n",
      "13 has 988 voxel\n",
      "14 has 1331 voxel\n",
      "15 has 2147 voxel\n",
      "16 has 2371 voxel\n",
      "17 has 291 voxel\n",
      "18 has 288 voxel\n",
      "19 has 2992 voxel\n",
      "20 has 2134 voxel\n",
      "21 has 719 voxel\n",
      "22 has 856 voxel\n",
      "23 has 852 voxel\n",
      "24 has 745 voxel\n",
      "25 has 550 voxel\n",
      "26 has 621 voxel\n",
      "27 has 443 voxel\n",
      "28 has 648 voxel\n",
      "29 has 567 voxel\n",
      "30 has 561 voxel\n",
      "31 has 197 voxel\n",
      "32 has 188 voxel\n",
      "33 has 1858 voxel\n",
      "34 has 1770 voxel\n",
      "35 has 0 voxel\n",
      "36 has 0 voxel\n",
      "37 has 1941 voxel\n",
      "38 has 2203 voxel\n",
      "39 has 463 voxel\n",
      "40 has 335 voxel\n",
      "41 has 932 voxel\n",
      "42 has 946 voxel\n",
      "43 has 978 voxel\n",
      "44 has 1132 voxel\n",
      "45 has 220 voxel\n",
      "46 has 248 voxel\n",
      "47 has 2258 voxel\n",
      "48 has 1861 voxel\n",
      "49 has 1521 voxel\n",
      "50 has 1424 voxel\n",
      "51 has 2095 voxel\n",
      "52 has 2300 voxel\n",
      "53 has 1366 voxel\n",
      "54 has 1413 voxel\n",
      "55 has 3265 voxel\n",
      "56 has 2098 voxel\n",
      "57 has 941 voxel\n",
      "58 has 989 voxel\n",
      "59 has 2309 voxel\n",
      "60 has 2518 voxel\n",
      "61 has 3892 voxel\n",
      "62 has 3823 voxel\n",
      "63 has 2065 voxel\n",
      "64 has 2222 voxel\n",
      "65 has 2447 voxel\n",
      "66 has 1345 voxel\n",
      "67 has 1256 voxel\n",
      "68 has 1974 voxel\n",
      "69 has 1173 voxel\n",
      "70 has 1752 voxel\n",
      "71 has 3528 voxel\n",
      "72 has 3265 voxel\n",
      "73 has 1349 voxel\n",
      "74 has 836 voxel\n",
      "75 has 805 voxel\n",
      "76 has 861 voxel\n",
      "77 has 999 voxel\n",
      "78 has 1062 voxel\n",
      "79 has 293 voxel\n",
      "80 has 280 voxel\n",
      "81 has 0 voxel\n",
      "82 has 0 voxel\n",
      "83 has 225 voxel\n",
      "84 has 249 voxel\n",
      "85 has 2296 voxel\n",
      "86 has 3141 voxel\n",
      "87 has 1285 voxel\n",
      "88 has 1338 voxel\n",
      "89 has 4942 voxel\n",
      "90 has 4409 voxel\n",
      "91 has 755 voxel\n",
      "92 has 1187 voxel\n",
      "93 has 3200 voxel\n",
      "94 has 3557 voxel\n",
      "95 has 2603 voxel\n",
      "96 has 2648 voxel\n",
      "97 has 1894 voxel\n",
      "98 has 2117 voxel\n",
      "99 has 136 voxel\n",
      "100 has 207 voxel\n",
      "101 has 1125 voxel\n",
      "102 has 861 voxel\n",
      "103 has 1694 voxel\n",
      "104 has 1795 voxel\n",
      "105 has 585 voxel\n",
      "106 has 534 voxel\n",
      "107 has 1887 voxel\n",
      "108 has 2308 voxel\n",
      "109 has 869 voxel\n",
      "110 has 809 voxel\n",
      "111 has 144 voxel\n",
      "112 has 159 voxel\n",
      "113 has 52 voxel\n",
      "114 has 228 voxel\n",
      "115 has 665 voxel\n",
      "116 has 371 voxel\n",
      "117 has 194 voxel\n",
      "118 has 243 voxel\n",
      "119 has 174 voxel\n",
      "120 has 112 voxel\n",
      "121 has 21 voxel\n",
      "122 has 20 voxel\n",
      "123 has 29 voxel\n",
      "124 has 25 voxel\n",
      "125 has 77 voxel\n",
      "126 has 77 voxel\n",
      "127 has 270 voxel\n",
      "128 has 252 voxel\n",
      "129 has 165 voxel\n",
      "130 has 163 voxel\n",
      "131 has 58 voxel\n",
      "132 has 50 voxel\n",
      "133 has 1 voxel\n",
      "134 has 2 voxel\n",
      "135 has 111 voxel\n",
      "136 has 115 voxel\n",
      "137 has 38 voxel\n",
      "138 has 39 voxel\n",
      "139 has 24 voxel\n",
      "140 has 23 voxel\n",
      "141 has 20 voxel\n",
      "142 has 20 voxel\n",
      "143 has 24 voxel\n",
      "144 has 29 voxel\n",
      "145 has 161 voxel\n",
      "146 has 154 voxel\n",
      "147 has 38 voxel\n",
      "148 has 31 voxel\n",
      "149 has 21 voxel\n",
      "150 has 25 voxel\n",
      "151 has 168 voxel\n",
      "152 has 132 voxel\n",
      "153 has 627 voxel\n",
      "154 has 648 voxel\n",
      "155 has 605 voxel\n",
      "156 has 533 voxel\n",
      "157 has 163 voxel\n",
      "158 has 143 voxel\n",
      "159 has 10 voxel\n",
      "160 has 9 voxel\n",
      "161 has 32 voxel\n",
      "162 has 33 voxel\n",
      "163 has 53 voxel\n",
      "164 has 60 voxel\n",
      "165 has 57 voxel\n",
      "166 has 58 voxel\n",
      "167 has 5 voxel\n",
      "168 has 5 voxel\n",
      "169 has 18 voxel\n",
      "170 has 6 voxel\n",
      "totally 185621 voxel not equal to 0.\n"
     ]
    }
   ],
   "source": [
    "#讀取AAL3腦區圖譜\n",
    "label_name = '../data/MNI/AAL3_MNI.nii.gz'\n",
    "label_nii = nib.load(label_name)\n",
    "label_img = np.asarray(label_nii.dataobj)\n",
    "print(label_img.shape)\n",
    "print(label_img.max())\n",
    "count = 0\n",
    "for i in range(1,int(label_img.max())+1):\n",
    "    modified_img = label_img.copy()\n",
    "    modified_img[modified_img!=i] = 0\n",
    "    modified_img[modified_img==i] = 1\n",
    "    target = int(sum(sum(sum(modified_img))))\n",
    "    count += target\n",
    "    print(i,\"has\",target,\"voxel\")\n",
    "print(\"totally\",count,\"voxel not equal to 0.\")    "
   ]
  },
  {
   "cell_type": "markdown",
   "id": "b5950724",
   "metadata": {},
   "source": [
    "## show image"
   ]
  },
  {
   "cell_type": "code",
   "execution_count": 10,
   "id": "3c6c508a",
   "metadata": {},
   "outputs": [
    {
     "name": "stdout",
     "output_type": "stream",
     "text": [
      "(91, 109, 91)\n",
      "36106804\n"
     ]
    }
   ],
   "source": [
    "#讀取MNI影像\n",
    "MNI_name = '../data/origin data/is0175/diff2MNI.nii.gz'\n",
    "MNI_nii = nib.load(MNI_name)\n",
    "MNI_img = np.asarray(MNI_nii.dataobj,dtype=np.int16)\n",
    "print(MNI_img.shape)\n",
    "print(MNI_img.sum())"
   ]
  },
  {
   "cell_type": "code",
   "execution_count": 17,
   "id": "0c8ab62d",
   "metadata": {
    "scrolled": true
   },
   "outputs": [
    {
     "name": "stdout",
     "output_type": "stream",
     "text": [
      "(91, 109, 91)\n",
      "1399.0\n"
     ]
    }
   ],
   "source": [
    "#查看特定腦區位置\n",
    "\n",
    "label_name = '../data/MNI/AAL3_MNI.nii.gz'\n",
    "label_nii = nib.load(label_name)\n",
    "label_img = np.asarray(label_nii.dataobj)\n",
    "target = 8\n",
    "label_img[label_img!=target] = 0\n",
    "label_img[label_img==target] = 1\n",
    "print(label_img.shape)\n",
    "print(label_img.sum())"
   ]
  },
  {
   "cell_type": "code",
   "execution_count": 19,
   "id": "5a648182",
   "metadata": {},
   "outputs": [],
   "source": [
    "#用來高亮特定腦區並產生nii.gz mask的程式碼\n",
    "label_name = '../data/MNI/AAL3_MNI.nii.gz'\n",
    "label_nii = nib.load(label_name)\n",
    "label_img = np.asarray(label_nii.dataobj)\n",
    "label_affine = label_nii.affine\n",
    "\n",
    "label_img_2 = label_img.copy()\n",
    "mRSimp3 = [8,85,69]\n",
    "used = []\n",
    "rank=1\n",
    "for i in range(len(mRSimp3)):\n",
    "    if mRSimp3[i] not in used:\n",
    "        label_img_2[label_img==mRSimp3[i]] = rank\n",
    "        used.append(mRSimp3[i])\n",
    "        rank+=1\n",
    "for i in range(int(label_img.max())):\n",
    "    if i not in mRSimp3:\n",
    "        label_img_2[label_img==i] = 0\n",
    "        \n",
    "new_img = nib.Nifti1Image(label_nii.get_fdata(), label_nii.affine, label_nii.header)\n",
    "output_file = 'mRSimp_RFE_top3.nii.gz'\n",
    "nib.save(new_img, output_file)"
   ]
  },
  {
   "cell_type": "code",
   "execution_count": 20,
   "id": "e6a3709e",
   "metadata": {},
   "outputs": [
    {
     "name": "stdout",
     "output_type": "stream",
     "text": [
      "(91, 109, 91)\n"
     ]
    },
    {
     "data": {
      "application/vnd.jupyter.widget-view+json": {
       "model_id": "f6402292b1f045629a12c7c077300aa9",
       "version_major": 2,
       "version_minor": 0
      },
      "text/plain": [
       "Viewer(geometries=[], gradient_opacity=0.22, label_image_weights=array([1., 1.], dtype=float32), point_sets=[]…"
      ]
     },
     "execution_count": 20,
     "metadata": {},
     "output_type": "execute_result"
    }
   ],
   "source": [
    "image_view_from_array = itk.image_view_from_array((MNI_img))\n",
    "\n",
    "print(image_view_from_array.shape)\n",
    "\n",
    "viewer = view(image_view_from_array,label_image_weights=(1,1),ui_collapsed=True)\n",
    "viewer"
   ]
  },
  {
   "cell_type": "code",
   "execution_count": 11,
   "id": "383bde74",
   "metadata": {},
   "outputs": [
    {
     "name": "stdout",
     "output_type": "stream",
     "text": [
      "(91, 109, 91)\n"
     ]
    },
    {
     "data": {
      "application/vnd.jupyter.widget-view+json": {
       "model_id": "5aee816edd484b3b83f3585bec611528",
       "version_major": 2,
       "version_minor": 0
      },
      "text/plain": [
       "Viewer(geometries=[], gradient_opacity=0.22, label_image_weights=array([1., 1.], dtype=float32), point_sets=[]…"
      ]
     },
     "metadata": {},
     "output_type": "display_data"
    }
   ],
   "source": [
    "label_view_from_array = itk.image_view_from_array((label_img))\n",
    "\n",
    "print(label_view_from_array.shape)\n",
    "\n",
    "viewer = view(label_view_from_array,label_image_weights=(1,1),ui_collapsed=True)\n",
    "viewer"
   ]
  },
  {
   "cell_type": "code",
   "execution_count": 20,
   "id": "d532b56f",
   "metadata": {
    "scrolled": false
   },
   "outputs": [
    {
     "name": "stdout",
     "output_type": "stream",
     "text": [
      "(91, 109, 91)\n",
      "(91, 109, 91)\n"
     ]
    },
    {
     "data": {
      "application/vnd.jupyter.widget-view+json": {
       "model_id": "f31d73d3148a453f856ee3b9c76a63ef",
       "version_major": 2,
       "version_minor": 0
      },
      "text/plain": [
       "Viewer(geometries=[], gradient_opacity=0.22, interpolation=False, label_image_weights=array([1., 1.], dtype=fl…"
      ]
     },
     "metadata": {},
     "output_type": "display_data"
    }
   ],
   "source": [
    "#overlay\n",
    "data_spacing = (1,1,1)\n",
    "\n",
    "image_from_array = itk.image_from_array(MNI_img)\n",
    "label_from_array = itk.image_from_array(label_img_2)\n",
    "\n",
    "print(image_from_array.shape)\n",
    "print(label_from_array.shape)\n",
    "\n",
    "#image_from_array.SetSpacing(data_spacing)\n",
    "#label_from_array.SetSpacing(data_spacing)\n",
    "\n",
    "viewer = view(image_from_array, label_image=label_from_array,label_image_weights=(1,1),cmp=itkwidgets.cm.grayscale,ui_collapsed=True)\n",
    "viewer"
   ]
  }
 ],
 "metadata": {
  "kernelspec": {
   "display_name": "Python 3 (ipykernel)",
   "language": "python",
   "name": "python3"
  },
  "language_info": {
   "codemirror_mode": {
    "name": "ipython",
    "version": 3
   },
   "file_extension": ".py",
   "mimetype": "text/x-python",
   "name": "python",
   "nbconvert_exporter": "python",
   "pygments_lexer": "ipython3",
   "version": "3.7.16"
  }
 },
 "nbformat": 4,
 "nbformat_minor": 5
}
